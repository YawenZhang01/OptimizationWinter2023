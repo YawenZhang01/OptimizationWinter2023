{
 "cells": [
  {
   "cell_type": "code",
   "execution_count": 1,
   "id": "a949d346-71fc-4100-93f2-6578a0c91b1a",
   "metadata": {},
   "outputs": [],
   "source": [
    "#import Pkg; \n",
    "#Pkg.add(\"CSV\")"
   ]
  },
  {
   "cell_type": "code",
   "execution_count": 2,
   "id": "fabb2588-1a7e-4f33-a371-85d163c0a6df",
   "metadata": {},
   "outputs": [
    {
     "data": {
      "text/html": [
       "<div><div style = \"float: left;\"><span>23×14 DataFrame</span></div><div style = \"clear: both;\"></div></div><div class = \"data-frame\" style = \"overflow-x: scroll;\"><table class = \"data-frame\" style = \"margin-bottom: 6px;\"><thead><tr class = \"header\"><th class = \"rowNumber\" style = \"font-weight: bold; text-align: right;\">Row</th><th style = \"text-align: left;\">Foods</th><th style = \"text-align: left;\">Price/Serving</th><th style = \"text-align: left;\">Serving Size</th><th style = \"text-align: left;\">Calories</th><th style = \"text-align: left;\">Cholesterol (mg)</th><th style = \"text-align: left;\">Total_Fat (g)</th><th style = \"text-align: left;\">Sodium (mg)</th><th style = \"text-align: left;\">Carbohydrates (g)</th><th style = \"text-align: left;\">Dietary_Fiber (g)</th><th style = \"text-align: left;\">Protein (g)</th><th style = \"text-align: left;\">Vit_A (IU)</th><th style = \"text-align: left;\">Vit_C (IU)</th><th style = \"text-align: left;\">Calcium (mg)</th><th style = \"text-align: left;\">Iron (mg)</th></tr><tr class = \"subheader headerLastRow\"><th class = \"rowNumber\" style = \"font-weight: bold; text-align: right;\"></th><th title = \"Union{Missing, String31}\" style = \"text-align: left;\">String31?</th><th title = \"Union{Missing, String7}\" style = \"text-align: left;\">String7?</th><th title = \"Union{Missing, String31}\" style = \"text-align: left;\">String31?</th><th title = \"Union{Missing, Float64}\" style = \"text-align: left;\">Float64?</th><th title = \"Union{Missing, Float64}\" style = \"text-align: left;\">Float64?</th><th title = \"Union{Missing, Float64}\" style = \"text-align: left;\">Float64?</th><th title = \"Union{Missing, Float64}\" style = \"text-align: left;\">Float64?</th><th title = \"Union{Missing, Float64}\" style = \"text-align: left;\">Float64?</th><th title = \"Union{Missing, Float64}\" style = \"text-align: left;\">Float64?</th><th title = \"Union{Missing, Float64}\" style = \"text-align: left;\">Float64?</th><th title = \"Union{Missing, Float64}\" style = \"text-align: left;\">Float64?</th><th title = \"Union{Missing, Float64}\" style = \"text-align: left;\">Float64?</th><th title = \"Union{Missing, Float64}\" style = \"text-align: left;\">Float64?</th><th title = \"Union{Missing, Float64}\" style = \"text-align: left;\">Float64?</th></tr></thead><tbody><tr><td class = \"rowNumber\" style = \"font-weight: bold; text-align: right;\">1</td><td style = \"text-align: left;\">Frozen Broccoli</td><td style = \"text-align: left;\">$0.48 </td><td style = \"text-align: left;\">10 Oz Pkg</td><td style = \"text-align: right;\">73.8</td><td style = \"text-align: right;\">0.0</td><td style = \"text-align: right;\">0.8</td><td style = \"text-align: right;\">68.2</td><td style = \"text-align: right;\">13.6</td><td style = \"text-align: right;\">8.5</td><td style = \"text-align: right;\">8.0</td><td style = \"text-align: right;\">5867.4</td><td style = \"text-align: right;\">160.2</td><td style = \"text-align: right;\">159.0</td><td style = \"text-align: right;\">2.3</td></tr><tr><td class = \"rowNumber\" style = \"font-weight: bold; text-align: right;\">2</td><td style = \"text-align: left;\">Frozen Corn</td><td style = \"text-align: left;\">$0.54 </td><td style = \"text-align: left;\">1/2 Cup</td><td style = \"text-align: right;\">72.2</td><td style = \"text-align: right;\">0.0</td><td style = \"text-align: right;\">0.6</td><td style = \"text-align: right;\">2.5</td><td style = \"text-align: right;\">17.1</td><td style = \"text-align: right;\">2.0</td><td style = \"text-align: right;\">2.5</td><td style = \"text-align: right;\">106.6</td><td style = \"text-align: right;\">5.2</td><td style = \"text-align: right;\">3.3</td><td style = \"text-align: right;\">0.3</td></tr><tr><td class = \"rowNumber\" style = \"font-weight: bold; text-align: right;\">3</td><td style = \"text-align: left;\">Raw Lettuce Iceberg</td><td style = \"text-align: left;\">$0.06 </td><td style = \"text-align: left;\">1 Leaf</td><td style = \"text-align: right;\">2.6</td><td style = \"text-align: right;\">0.0</td><td style = \"text-align: right;\">0.0</td><td style = \"text-align: right;\">1.8</td><td style = \"text-align: right;\">0.4</td><td style = \"text-align: right;\">0.3</td><td style = \"text-align: right;\">0.2</td><td style = \"text-align: right;\">66.0</td><td style = \"text-align: right;\">0.8</td><td style = \"text-align: right;\">3.8</td><td style = \"text-align: right;\">0.1</td></tr><tr><td class = \"rowNumber\" style = \"font-weight: bold; text-align: right;\">4</td><td style = \"text-align: left;\"> Baked Potatoes</td><td style = \"text-align: left;\">$0.18 </td><td style = \"text-align: left;\">1/2 Cup</td><td style = \"text-align: right;\">171.5</td><td style = \"text-align: right;\">0.0</td><td style = \"text-align: right;\">0.2</td><td style = \"text-align: right;\">15.2</td><td style = \"text-align: right;\">39.9</td><td style = \"text-align: right;\">3.2</td><td style = \"text-align: right;\">3.7</td><td style = \"text-align: right;\">0.0</td><td style = \"text-align: right;\">15.6</td><td style = \"text-align: right;\">22.7</td><td style = \"text-align: right;\">4.3</td></tr><tr><td class = \"rowNumber\" style = \"font-weight: bold; text-align: right;\">5</td><td style = \"text-align: left;\">Tofu</td><td style = \"text-align: left;\">$0.93 </td><td style = \"text-align: left;\">1/4 block</td><td style = \"text-align: right;\">88.2</td><td style = \"text-align: right;\">0.0</td><td style = \"text-align: right;\">5.5</td><td style = \"text-align: right;\">8.1</td><td style = \"text-align: right;\">2.2</td><td style = \"text-align: right;\">1.4</td><td style = \"text-align: right;\">9.4</td><td style = \"text-align: right;\">98.6</td><td style = \"text-align: right;\">0.1</td><td style = \"text-align: right;\">121.8</td><td style = \"text-align: right;\">6.2</td></tr><tr><td class = \"rowNumber\" style = \"font-weight: bold; text-align: right;\">6</td><td style = \"text-align: left;\">Roasted Chicken</td><td style = \"text-align: left;\">$2.52 </td><td style = \"text-align: left;\">1 lb chicken</td><td style = \"text-align: right;\">277.4</td><td style = \"text-align: right;\">129.9</td><td style = \"text-align: right;\">10.8</td><td style = \"text-align: right;\">125.6</td><td style = \"text-align: right;\">0.0</td><td style = \"text-align: right;\">0.0</td><td style = \"text-align: right;\">42.2</td><td style = \"text-align: right;\">77.4</td><td style = \"text-align: right;\">0.0</td><td style = \"text-align: right;\">21.9</td><td style = \"text-align: right;\">1.8</td></tr><tr><td class = \"rowNumber\" style = \"font-weight: bold; text-align: right;\">7</td><td style = \"text-align: left;\">Spaghetti W/ Sauce</td><td style = \"text-align: left;\">$2.34 </td><td style = \"text-align: left;\">1 1/2 Cup</td><td style = \"text-align: right;\">358.2</td><td style = \"text-align: right;\">0.0</td><td style = \"text-align: right;\">12.3</td><td style = \"text-align: right;\">1237.1</td><td style = \"text-align: right;\">58.3</td><td style = \"text-align: right;\">11.6</td><td style = \"text-align: right;\">8.2</td><td style = \"text-align: right;\">3055.2</td><td style = \"text-align: right;\">27.9</td><td style = \"text-align: right;\">80.2</td><td style = \"text-align: right;\">2.3</td></tr><tr><td class = \"rowNumber\" style = \"font-weight: bold; text-align: right;\">8</td><td style = \"text-align: left;\">Raw Apple</td><td style = \"text-align: left;\">$0.72 </td><td style = \"text-align: left;\">1 Fruit,3/Lb,Wo/Rf</td><td style = \"text-align: right;\">81.4</td><td style = \"text-align: right;\">0.0</td><td style = \"text-align: right;\">0.5</td><td style = \"text-align: right;\">0.0</td><td style = \"text-align: right;\">21.0</td><td style = \"text-align: right;\">3.7</td><td style = \"text-align: right;\">0.3</td><td style = \"text-align: right;\">73.1</td><td style = \"text-align: right;\">7.9</td><td style = \"text-align: right;\">9.7</td><td style = \"text-align: right;\">0.2</td></tr><tr><td class = \"rowNumber\" style = \"font-weight: bold; text-align: right;\">9</td><td style = \"text-align: left;\">Banana</td><td style = \"text-align: left;\">$0.45 </td><td style = \"text-align: left;\">1 Fruit,Wo/Skn&amp;Seeds</td><td style = \"text-align: right;\">104.9</td><td style = \"text-align: right;\">0.0</td><td style = \"text-align: right;\">0.5</td><td style = \"text-align: right;\">1.1</td><td style = \"text-align: right;\">26.7</td><td style = \"text-align: right;\">2.7</td><td style = \"text-align: right;\">1.2</td><td style = \"text-align: right;\">92.3</td><td style = \"text-align: right;\">10.4</td><td style = \"text-align: right;\">6.8</td><td style = \"text-align: right;\">0.4</td></tr><tr><td class = \"rowNumber\" style = \"font-weight: bold; text-align: right;\">10</td><td style = \"text-align: left;\">Wheat Bread</td><td style = \"text-align: left;\">$0.15 </td><td style = \"text-align: left;\">1 Sl</td><td style = \"text-align: right;\">65.0</td><td style = \"text-align: right;\">0.0</td><td style = \"text-align: right;\">1.0</td><td style = \"text-align: right;\">134.5</td><td style = \"text-align: right;\">12.4</td><td style = \"text-align: right;\">1.3</td><td style = \"text-align: right;\">2.2</td><td style = \"text-align: right;\">0.0</td><td style = \"text-align: right;\">0.0</td><td style = \"text-align: right;\">10.8</td><td style = \"text-align: right;\">0.7</td></tr><tr><td class = \"rowNumber\" style = \"font-weight: bold; text-align: right;\">11</td><td style = \"text-align: left;\">White Bread</td><td style = \"text-align: left;\">$0.18 </td><td style = \"text-align: left;\">1 Sl</td><td style = \"text-align: right;\">65.0</td><td style = \"text-align: right;\">0.0</td><td style = \"text-align: right;\">1.0</td><td style = \"text-align: right;\">132.5</td><td style = \"text-align: right;\">11.8</td><td style = \"text-align: right;\">1.1</td><td style = \"text-align: right;\">2.3</td><td style = \"text-align: right;\">0.0</td><td style = \"text-align: right;\">0.0</td><td style = \"text-align: right;\">26.2</td><td style = \"text-align: right;\">0.8</td></tr><tr><td class = \"rowNumber\" style = \"font-weight: bold; text-align: right;\">12</td><td style = \"text-align: left;\">Oatmeal Cookies</td><td style = \"text-align: left;\">$0.27 </td><td style = \"text-align: left;\">1 Cookie</td><td style = \"text-align: right;\">81.0</td><td style = \"text-align: right;\">0.0</td><td style = \"text-align: right;\">3.3</td><td style = \"text-align: right;\">68.9</td><td style = \"text-align: right;\">12.4</td><td style = \"text-align: right;\">0.6</td><td style = \"text-align: right;\">1.1</td><td style = \"text-align: right;\">2.9</td><td style = \"text-align: right;\">0.1</td><td style = \"text-align: right;\">6.7</td><td style = \"text-align: right;\">0.5</td></tr><tr><td class = \"rowNumber\" style = \"font-weight: bold; text-align: right;\">13</td><td style = \"text-align: left;\">Apple Pie</td><td style = \"text-align: left;\">$0.48 </td><td style = \"text-align: left;\">1 Oz</td><td style = \"text-align: right;\">67.2</td><td style = \"text-align: right;\">0.0</td><td style = \"text-align: right;\">3.1</td><td style = \"text-align: right;\">75.4</td><td style = \"text-align: right;\">9.6</td><td style = \"text-align: right;\">0.5</td><td style = \"text-align: right;\">0.5</td><td style = \"text-align: right;\">35.2</td><td style = \"text-align: right;\">0.9</td><td style = \"text-align: right;\">3.1</td><td style = \"text-align: right;\">0.1</td></tr><tr><td class = \"rowNumber\" style = \"font-weight: bold; text-align: right;\">14</td><td style = \"text-align: left;\">Scrambled Eggs</td><td style = \"text-align: left;\">$0.33 </td><td style = \"text-align: left;\">1 Egg</td><td style = \"text-align: right;\">99.6</td><td style = \"text-align: right;\">211.2</td><td style = \"text-align: right;\">7.3</td><td style = \"text-align: right;\">168.0</td><td style = \"text-align: right;\">1.3</td><td style = \"text-align: right;\">0.0</td><td style = \"text-align: right;\">6.7</td><td style = \"text-align: right;\">409.2</td><td style = \"text-align: right;\">0.1</td><td style = \"text-align: right;\">42.6</td><td style = \"text-align: right;\">0.7</td></tr><tr><td class = \"rowNumber\" style = \"font-weight: bold; text-align: right;\">15</td><td style = \"text-align: left;\">Turkey Bologna</td><td style = \"text-align: left;\">$0.45 </td><td style = \"text-align: left;\">1 Oz</td><td style = \"text-align: right;\">56.4</td><td style = \"text-align: right;\">28.1</td><td style = \"text-align: right;\">4.3</td><td style = \"text-align: right;\">248.9</td><td style = \"text-align: right;\">0.3</td><td style = \"text-align: right;\">0.0</td><td style = \"text-align: right;\">3.9</td><td style = \"text-align: right;\">0.0</td><td style = \"text-align: right;\">0.0</td><td style = \"text-align: right;\">23.8</td><td style = \"text-align: right;\">0.4</td></tr><tr><td class = \"rowNumber\" style = \"font-weight: bold; text-align: right;\">16</td><td style = \"text-align: left;\">Beef Frankfurter</td><td style = \"text-align: left;\">$0.81 </td><td style = \"text-align: left;\">1 Frankfurter</td><td style = \"text-align: right;\">141.8</td><td style = \"text-align: right;\">27.4</td><td style = \"text-align: right;\">12.8</td><td style = \"text-align: right;\">461.7</td><td style = \"text-align: right;\">0.8</td><td style = \"text-align: right;\">0.0</td><td style = \"text-align: right;\">5.4</td><td style = \"text-align: right;\">0.0</td><td style = \"text-align: right;\">10.8</td><td style = \"text-align: right;\">9.0</td><td style = \"text-align: right;\">0.6</td></tr><tr><td class = \"rowNumber\" style = \"font-weight: bold; text-align: right;\">17</td><td style = \"text-align: left;\">Chocolate Chip Cookies</td><td style = \"text-align: left;\">$0.09 </td><td style = \"text-align: left;\">1 Cookie</td><td style = \"text-align: right;\">78.1</td><td style = \"text-align: right;\">5.1</td><td style = \"text-align: right;\">4.5</td><td style = \"text-align: right;\">57.8</td><td style = \"text-align: right;\">9.3</td><td style = \"text-align: right;\">0.0</td><td style = \"text-align: right;\">0.9</td><td style = \"text-align: right;\">101.8</td><td style = \"text-align: right;\">0.0</td><td style = \"text-align: right;\">6.2</td><td style = \"text-align: right;\">0.4</td></tr><tr><td class = \"rowNumber\" style = \"font-weight: bold; text-align: right;\">18</td><td style = \"font-style: italic; text-align: left;\">missing</td><td style = \"font-style: italic; text-align: left;\">missing</td><td style = \"font-style: italic; text-align: left;\">missing</td><td style = \"font-style: italic; text-align: right;\">missing</td><td style = \"font-style: italic; text-align: right;\">missing</td><td style = \"font-style: italic; text-align: right;\">missing</td><td style = \"font-style: italic; text-align: right;\">missing</td><td style = \"font-style: italic; text-align: right;\">missing</td><td style = \"font-style: italic; text-align: right;\">missing</td><td style = \"font-style: italic; text-align: right;\">missing</td><td style = \"font-style: italic; text-align: right;\">missing</td><td style = \"font-style: italic; text-align: right;\">missing</td><td style = \"font-style: italic; text-align: right;\">missing</td><td style = \"font-style: italic; text-align: right;\">missing</td></tr><tr><td class = \"rowNumber\" style = \"font-weight: bold; text-align: right;\">19</td><td style = \"font-style: italic; text-align: left;\">missing</td><td style = \"font-style: italic; text-align: left;\">missing</td><td style = \"text-align: left;\">Minimum daily intake</td><td style = \"text-align: right;\">800.0</td><td style = \"text-align: right;\">30.0</td><td style = \"text-align: right;\">20.0</td><td style = \"text-align: right;\">800.0</td><td style = \"text-align: right;\">130.0</td><td style = \"text-align: right;\">60.0</td><td style = \"text-align: right;\">100.0</td><td style = \"text-align: right;\">1000.0</td><td style = \"text-align: right;\">400.0</td><td style = \"text-align: right;\">700.0</td><td style = \"text-align: right;\">10.0</td></tr><tr><td class = \"rowNumber\" style = \"font-weight: bold; text-align: right;\">20</td><td style = \"font-style: italic; text-align: left;\">missing</td><td style = \"font-style: italic; text-align: left;\">missing</td><td style = \"text-align: left;\">Maximum daily intake</td><td style = \"text-align: right;\">1300.0</td><td style = \"text-align: right;\">240.0</td><td style = \"text-align: right;\">50.0</td><td style = \"text-align: right;\">2000.0</td><td style = \"text-align: right;\">200.0</td><td style = \"text-align: right;\">125.0</td><td style = \"text-align: right;\">150.0</td><td style = \"text-align: right;\">10000.0</td><td style = \"text-align: right;\">5000.0</td><td style = \"text-align: right;\">1500.0</td><td style = \"text-align: right;\">40.0</td></tr><tr><td class = \"rowNumber\" style = \"font-weight: bold; text-align: right;\">21</td><td style = \"font-style: italic; text-align: left;\">missing</td><td style = \"font-style: italic; text-align: left;\">missing</td><td style = \"font-style: italic; text-align: left;\">missing</td><td style = \"font-style: italic; text-align: right;\">missing</td><td style = \"font-style: italic; text-align: right;\">missing</td><td style = \"font-style: italic; text-align: right;\">missing</td><td style = \"font-style: italic; text-align: right;\">missing</td><td style = \"font-style: italic; text-align: right;\">missing</td><td style = \"font-style: italic; text-align: right;\">missing</td><td style = \"font-style: italic; text-align: right;\">missing</td><td style = \"font-style: italic; text-align: right;\">missing</td><td style = \"font-style: italic; text-align: right;\">missing</td><td style = \"font-style: italic; text-align: right;\">missing</td><td style = \"font-style: italic; text-align: right;\">missing</td></tr><tr><td class = \"rowNumber\" style = \"font-weight: bold; text-align: right;\">22</td><td style = \"font-style: italic; text-align: left;\">missing</td><td style = \"font-style: italic; text-align: left;\">missing</td><td style = \"font-style: italic; text-align: left;\">missing</td><td style = \"font-style: italic; text-align: right;\">missing</td><td style = \"text-align: right;\">811.6</td><td style = \"font-style: italic; text-align: right;\">missing</td><td style = \"font-style: italic; text-align: right;\">missing</td><td style = \"font-style: italic; text-align: right;\">missing</td><td style = \"font-style: italic; text-align: right;\">missing</td><td style = \"font-style: italic; text-align: right;\">missing</td><td style = \"font-style: italic; text-align: right;\">missing</td><td style = \"font-style: italic; text-align: right;\">missing</td><td style = \"font-style: italic; text-align: right;\">missing</td><td style = \"font-style: italic; text-align: right;\">missing</td></tr><tr><td class = \"rowNumber\" style = \"font-weight: bold; text-align: right;\">23</td><td style = \"font-style: italic; text-align: left;\">missing</td><td style = \"font-style: italic; text-align: left;\">missing</td><td style = \"font-style: italic; text-align: left;\">missing</td><td style = \"font-style: italic; text-align: right;\">missing</td><td style = \"text-align: right;\">27.4</td><td style = \"font-style: italic; text-align: right;\">missing</td><td style = \"font-style: italic; text-align: right;\">missing</td><td style = \"font-style: italic; text-align: right;\">missing</td><td style = \"font-style: italic; text-align: right;\">missing</td><td style = \"font-style: italic; text-align: right;\">missing</td><td style = \"font-style: italic; text-align: right;\">missing</td><td style = \"font-style: italic; text-align: right;\">missing</td><td style = \"font-style: italic; text-align: right;\">missing</td><td style = \"font-style: italic; text-align: right;\">missing</td></tr></tbody></table></div>"
      ],
      "text/latex": [
       "\\begin{tabular}{r|cccccc}\n",
       "\t& Foods & Price/Serving & Serving Size & Calories & Cholesterol (mg) & \\\\\n",
       "\t\\hline\n",
       "\t& String31? & String7? & String31? & Float64? & Float64? & \\\\\n",
       "\t\\hline\n",
       "\t1 & Frozen Broccoli & \\$0.48  & 10 Oz Pkg & 73.8 & 0.0 & $\\dots$ \\\\\n",
       "\t2 & Frozen Corn & \\$0.54  & 1/2 Cup & 72.2 & 0.0 & $\\dots$ \\\\\n",
       "\t3 & Raw Lettuce Iceberg & \\$0.06  & 1 Leaf & 2.6 & 0.0 & $\\dots$ \\\\\n",
       "\t4 &  Baked Potatoes & \\$0.18  & 1/2 Cup & 171.5 & 0.0 & $\\dots$ \\\\\n",
       "\t5 & Tofu & \\$0.93  & 1/4 block & 88.2 & 0.0 & $\\dots$ \\\\\n",
       "\t6 & Roasted Chicken & \\$2.52  & 1 lb chicken & 277.4 & 129.9 & $\\dots$ \\\\\n",
       "\t7 & Spaghetti W/ Sauce & \\$2.34  & 1 1/2 Cup & 358.2 & 0.0 & $\\dots$ \\\\\n",
       "\t8 & Raw Apple & \\$0.72  & 1 Fruit,3/Lb,Wo/Rf & 81.4 & 0.0 & $\\dots$ \\\\\n",
       "\t9 & Banana & \\$0.45  & 1 Fruit,Wo/Skn\\&Seeds & 104.9 & 0.0 & $\\dots$ \\\\\n",
       "\t10 & Wheat Bread & \\$0.15  & 1 Sl & 65.0 & 0.0 & $\\dots$ \\\\\n",
       "\t11 & White Bread & \\$0.18  & 1 Sl & 65.0 & 0.0 & $\\dots$ \\\\\n",
       "\t12 & Oatmeal Cookies & \\$0.27  & 1 Cookie & 81.0 & 0.0 & $\\dots$ \\\\\n",
       "\t13 & Apple Pie & \\$0.48  & 1 Oz & 67.2 & 0.0 & $\\dots$ \\\\\n",
       "\t14 & Scrambled Eggs & \\$0.33  & 1 Egg & 99.6 & 211.2 & $\\dots$ \\\\\n",
       "\t15 & Turkey Bologna & \\$0.45  & 1 Oz & 56.4 & 28.1 & $\\dots$ \\\\\n",
       "\t16 & Beef Frankfurter & \\$0.81  & 1 Frankfurter & 141.8 & 27.4 & $\\dots$ \\\\\n",
       "\t17 & Chocolate Chip Cookies & \\$0.09  & 1 Cookie & 78.1 & 5.1 & $\\dots$ \\\\\n",
       "\t18 & \\emph{missing} & \\emph{missing} & \\emph{missing} & \\emph{missing} & \\emph{missing} & $\\dots$ \\\\\n",
       "\t19 & \\emph{missing} & \\emph{missing} & Minimum daily intake & 800.0 & 30.0 & $\\dots$ \\\\\n",
       "\t20 & \\emph{missing} & \\emph{missing} & Maximum daily intake & 1300.0 & 240.0 & $\\dots$ \\\\\n",
       "\t21 & \\emph{missing} & \\emph{missing} & \\emph{missing} & \\emph{missing} & \\emph{missing} & $\\dots$ \\\\\n",
       "\t22 & \\emph{missing} & \\emph{missing} & \\emph{missing} & \\emph{missing} & 811.6 & $\\dots$ \\\\\n",
       "\t23 & \\emph{missing} & \\emph{missing} & \\emph{missing} & \\emph{missing} & 27.4 & $\\dots$ \\\\\n",
       "\\end{tabular}\n"
      ],
      "text/plain": [
       "\u001b[1m23×14 DataFrame\u001b[0m\n",
       "\u001b[1m Row \u001b[0m│\u001b[1m Foods                  \u001b[0m\u001b[1m Price/Serving \u001b[0m\u001b[1m Serving Size         \u001b[0m\u001b[1m Calories  \u001b[0m\u001b[1m\u001b[0m ⋯\n",
       "     │\u001b[90m String31?              \u001b[0m\u001b[90m String7?      \u001b[0m\u001b[90m String31?            \u001b[0m\u001b[90m Float64?  \u001b[0m\u001b[90m\u001b[0m ⋯\n",
       "─────┼──────────────────────────────────────────────────────────────────────────\n",
       "   1 │ Frozen Broccoli         $0.48          10 Oz Pkg                  73.8  ⋯\n",
       "   2 │ Frozen Corn             $0.54          1/2 Cup                    72.2\n",
       "   3 │ Raw Lettuce Iceberg     $0.06          1 Leaf                      2.6\n",
       "   4 │  Baked Potatoes         $0.18          1/2 Cup                   171.5\n",
       "   5 │ Tofu                    $0.93          1/4 block                  88.2  ⋯\n",
       "   6 │ Roasted Chicken         $2.52          1 lb chicken              277.4\n",
       "   7 │ Spaghetti W/ Sauce      $2.34          1 1/2 Cup                 358.2\n",
       "   8 │ Raw Apple               $0.72          1 Fruit,3/Lb,Wo/Rf         81.4\n",
       "   9 │ Banana                  $0.45          1 Fruit,Wo/Skn&Seeds      104.9  ⋯\n",
       "  10 │ Wheat Bread             $0.15          1 Sl                       65.0\n",
       "  11 │ White Bread             $0.18          1 Sl                       65.0\n",
       "  ⋮  │           ⋮                   ⋮                 ⋮                ⋮      ⋱\n",
       "  14 │ Scrambled Eggs          $0.33          1 Egg                      99.6\n",
       "  15 │ Turkey Bologna          $0.45          1 Oz                       56.4  ⋯\n",
       "  16 │ Beef Frankfurter        $0.81          1 Frankfurter             141.8\n",
       "  17 │ Chocolate Chip Cookies  $0.09          1 Cookie                   78.1\n",
       "  18 │\u001b[90m missing                \u001b[0m\u001b[90m missing       \u001b[0m\u001b[90m missing              \u001b[0m\u001b[90m missing   \u001b[0m\u001b[90m\u001b[0m\n",
       "  19 │\u001b[90m missing                \u001b[0m\u001b[90m missing       \u001b[0m Minimum daily intake      800.0  ⋯\n",
       "  20 │\u001b[90m missing                \u001b[0m\u001b[90m missing       \u001b[0m Maximum daily intake     1300.0\n",
       "  21 │\u001b[90m missing                \u001b[0m\u001b[90m missing       \u001b[0m\u001b[90m missing              \u001b[0m\u001b[90m missing   \u001b[0m\u001b[90m\u001b[0m\n",
       "  22 │\u001b[90m missing                \u001b[0m\u001b[90m missing       \u001b[0m\u001b[90m missing              \u001b[0m\u001b[90m missing   \u001b[0m\n",
       "  23 │\u001b[90m missing                \u001b[0m\u001b[90m missing       \u001b[0m\u001b[90m missing              \u001b[0m\u001b[90m missing   \u001b[0m ⋯\n",
       "\u001b[36m                                                   10 columns and 2 rows omitted\u001b[0m"
      ]
     },
     "execution_count": 2,
     "metadata": {},
     "output_type": "execute_result"
    }
   ],
   "source": [
    "using CSV\n",
    "using DataFrames\n",
    "Data = CSV.read(\"/Users/yawenzhang/Desktop/MSCA/Opti/diet.csv\", DataFrame)"
   ]
  },
  {
   "cell_type": "code",
   "execution_count": 3,
   "id": "0386843e-4222-4d5a-ac06-66977bb0ef92",
   "metadata": {},
   "outputs": [
    {
     "data": {
      "text/html": [
       "<div><div style = \"float: left;\"><span>17×11 DataFrame</span></div><div style = \"clear: both;\"></div></div><div class = \"data-frame\" style = \"overflow-x: scroll;\"><table class = \"data-frame\" style = \"margin-bottom: 6px;\"><thead><tr class = \"header\"><th class = \"rowNumber\" style = \"font-weight: bold; text-align: right;\">Row</th><th style = \"text-align: left;\">Calories</th><th style = \"text-align: left;\">Cholesterol (mg)</th><th style = \"text-align: left;\">Total_Fat (g)</th><th style = \"text-align: left;\">Sodium (mg)</th><th style = \"text-align: left;\">Carbohydrates (g)</th><th style = \"text-align: left;\">Dietary_Fiber (g)</th><th style = \"text-align: left;\">Protein (g)</th><th style = \"text-align: left;\">Vit_A (IU)</th><th style = \"text-align: left;\">Vit_C (IU)</th><th style = \"text-align: left;\">Calcium (mg)</th><th style = \"text-align: left;\">Iron (mg)</th></tr><tr class = \"subheader headerLastRow\"><th class = \"rowNumber\" style = \"font-weight: bold; text-align: right;\"></th><th title = \"Union{Missing, Float64}\" style = \"text-align: left;\">Float64?</th><th title = \"Union{Missing, Float64}\" style = \"text-align: left;\">Float64?</th><th title = \"Union{Missing, Float64}\" style = \"text-align: left;\">Float64?</th><th title = \"Union{Missing, Float64}\" style = \"text-align: left;\">Float64?</th><th title = \"Union{Missing, Float64}\" style = \"text-align: left;\">Float64?</th><th title = \"Union{Missing, Float64}\" style = \"text-align: left;\">Float64?</th><th title = \"Union{Missing, Float64}\" style = \"text-align: left;\">Float64?</th><th title = \"Union{Missing, Float64}\" style = \"text-align: left;\">Float64?</th><th title = \"Union{Missing, Float64}\" style = \"text-align: left;\">Float64?</th><th title = \"Union{Missing, Float64}\" style = \"text-align: left;\">Float64?</th><th title = \"Union{Missing, Float64}\" style = \"text-align: left;\">Float64?</th></tr></thead><tbody><tr><td class = \"rowNumber\" style = \"font-weight: bold; text-align: right;\">1</td><td style = \"text-align: right;\">73.8</td><td style = \"text-align: right;\">0.0</td><td style = \"text-align: right;\">0.8</td><td style = \"text-align: right;\">68.2</td><td style = \"text-align: right;\">13.6</td><td style = \"text-align: right;\">8.5</td><td style = \"text-align: right;\">8.0</td><td style = \"text-align: right;\">5867.4</td><td style = \"text-align: right;\">160.2</td><td style = \"text-align: right;\">159.0</td><td style = \"text-align: right;\">2.3</td></tr><tr><td class = \"rowNumber\" style = \"font-weight: bold; text-align: right;\">2</td><td style = \"text-align: right;\">72.2</td><td style = \"text-align: right;\">0.0</td><td style = \"text-align: right;\">0.6</td><td style = \"text-align: right;\">2.5</td><td style = \"text-align: right;\">17.1</td><td style = \"text-align: right;\">2.0</td><td style = \"text-align: right;\">2.5</td><td style = \"text-align: right;\">106.6</td><td style = \"text-align: right;\">5.2</td><td style = \"text-align: right;\">3.3</td><td style = \"text-align: right;\">0.3</td></tr><tr><td class = \"rowNumber\" style = \"font-weight: bold; text-align: right;\">3</td><td style = \"text-align: right;\">2.6</td><td style = \"text-align: right;\">0.0</td><td style = \"text-align: right;\">0.0</td><td style = \"text-align: right;\">1.8</td><td style = \"text-align: right;\">0.4</td><td style = \"text-align: right;\">0.3</td><td style = \"text-align: right;\">0.2</td><td style = \"text-align: right;\">66.0</td><td style = \"text-align: right;\">0.8</td><td style = \"text-align: right;\">3.8</td><td style = \"text-align: right;\">0.1</td></tr><tr><td class = \"rowNumber\" style = \"font-weight: bold; text-align: right;\">4</td><td style = \"text-align: right;\">171.5</td><td style = \"text-align: right;\">0.0</td><td style = \"text-align: right;\">0.2</td><td style = \"text-align: right;\">15.2</td><td style = \"text-align: right;\">39.9</td><td style = \"text-align: right;\">3.2</td><td style = \"text-align: right;\">3.7</td><td style = \"text-align: right;\">0.0</td><td style = \"text-align: right;\">15.6</td><td style = \"text-align: right;\">22.7</td><td style = \"text-align: right;\">4.3</td></tr><tr><td class = \"rowNumber\" style = \"font-weight: bold; text-align: right;\">5</td><td style = \"text-align: right;\">88.2</td><td style = \"text-align: right;\">0.0</td><td style = \"text-align: right;\">5.5</td><td style = \"text-align: right;\">8.1</td><td style = \"text-align: right;\">2.2</td><td style = \"text-align: right;\">1.4</td><td style = \"text-align: right;\">9.4</td><td style = \"text-align: right;\">98.6</td><td style = \"text-align: right;\">0.1</td><td style = \"text-align: right;\">121.8</td><td style = \"text-align: right;\">6.2</td></tr><tr><td class = \"rowNumber\" style = \"font-weight: bold; text-align: right;\">6</td><td style = \"text-align: right;\">277.4</td><td style = \"text-align: right;\">129.9</td><td style = \"text-align: right;\">10.8</td><td style = \"text-align: right;\">125.6</td><td style = \"text-align: right;\">0.0</td><td style = \"text-align: right;\">0.0</td><td style = \"text-align: right;\">42.2</td><td style = \"text-align: right;\">77.4</td><td style = \"text-align: right;\">0.0</td><td style = \"text-align: right;\">21.9</td><td style = \"text-align: right;\">1.8</td></tr><tr><td class = \"rowNumber\" style = \"font-weight: bold; text-align: right;\">7</td><td style = \"text-align: right;\">358.2</td><td style = \"text-align: right;\">0.0</td><td style = \"text-align: right;\">12.3</td><td style = \"text-align: right;\">1237.1</td><td style = \"text-align: right;\">58.3</td><td style = \"text-align: right;\">11.6</td><td style = \"text-align: right;\">8.2</td><td style = \"text-align: right;\">3055.2</td><td style = \"text-align: right;\">27.9</td><td style = \"text-align: right;\">80.2</td><td style = \"text-align: right;\">2.3</td></tr><tr><td class = \"rowNumber\" style = \"font-weight: bold; text-align: right;\">8</td><td style = \"text-align: right;\">81.4</td><td style = \"text-align: right;\">0.0</td><td style = \"text-align: right;\">0.5</td><td style = \"text-align: right;\">0.0</td><td style = \"text-align: right;\">21.0</td><td style = \"text-align: right;\">3.7</td><td style = \"text-align: right;\">0.3</td><td style = \"text-align: right;\">73.1</td><td style = \"text-align: right;\">7.9</td><td style = \"text-align: right;\">9.7</td><td style = \"text-align: right;\">0.2</td></tr><tr><td class = \"rowNumber\" style = \"font-weight: bold; text-align: right;\">9</td><td style = \"text-align: right;\">104.9</td><td style = \"text-align: right;\">0.0</td><td style = \"text-align: right;\">0.5</td><td style = \"text-align: right;\">1.1</td><td style = \"text-align: right;\">26.7</td><td style = \"text-align: right;\">2.7</td><td style = \"text-align: right;\">1.2</td><td style = \"text-align: right;\">92.3</td><td style = \"text-align: right;\">10.4</td><td style = \"text-align: right;\">6.8</td><td style = \"text-align: right;\">0.4</td></tr><tr><td class = \"rowNumber\" style = \"font-weight: bold; text-align: right;\">10</td><td style = \"text-align: right;\">65.0</td><td style = \"text-align: right;\">0.0</td><td style = \"text-align: right;\">1.0</td><td style = \"text-align: right;\">134.5</td><td style = \"text-align: right;\">12.4</td><td style = \"text-align: right;\">1.3</td><td style = \"text-align: right;\">2.2</td><td style = \"text-align: right;\">0.0</td><td style = \"text-align: right;\">0.0</td><td style = \"text-align: right;\">10.8</td><td style = \"text-align: right;\">0.7</td></tr><tr><td class = \"rowNumber\" style = \"font-weight: bold; text-align: right;\">11</td><td style = \"text-align: right;\">65.0</td><td style = \"text-align: right;\">0.0</td><td style = \"text-align: right;\">1.0</td><td style = \"text-align: right;\">132.5</td><td style = \"text-align: right;\">11.8</td><td style = \"text-align: right;\">1.1</td><td style = \"text-align: right;\">2.3</td><td style = \"text-align: right;\">0.0</td><td style = \"text-align: right;\">0.0</td><td style = \"text-align: right;\">26.2</td><td style = \"text-align: right;\">0.8</td></tr><tr><td class = \"rowNumber\" style = \"font-weight: bold; text-align: right;\">12</td><td style = \"text-align: right;\">81.0</td><td style = \"text-align: right;\">0.0</td><td style = \"text-align: right;\">3.3</td><td style = \"text-align: right;\">68.9</td><td style = \"text-align: right;\">12.4</td><td style = \"text-align: right;\">0.6</td><td style = \"text-align: right;\">1.1</td><td style = \"text-align: right;\">2.9</td><td style = \"text-align: right;\">0.1</td><td style = \"text-align: right;\">6.7</td><td style = \"text-align: right;\">0.5</td></tr><tr><td class = \"rowNumber\" style = \"font-weight: bold; text-align: right;\">13</td><td style = \"text-align: right;\">67.2</td><td style = \"text-align: right;\">0.0</td><td style = \"text-align: right;\">3.1</td><td style = \"text-align: right;\">75.4</td><td style = \"text-align: right;\">9.6</td><td style = \"text-align: right;\">0.5</td><td style = \"text-align: right;\">0.5</td><td style = \"text-align: right;\">35.2</td><td style = \"text-align: right;\">0.9</td><td style = \"text-align: right;\">3.1</td><td style = \"text-align: right;\">0.1</td></tr><tr><td class = \"rowNumber\" style = \"font-weight: bold; text-align: right;\">14</td><td style = \"text-align: right;\">99.6</td><td style = \"text-align: right;\">211.2</td><td style = \"text-align: right;\">7.3</td><td style = \"text-align: right;\">168.0</td><td style = \"text-align: right;\">1.3</td><td style = \"text-align: right;\">0.0</td><td style = \"text-align: right;\">6.7</td><td style = \"text-align: right;\">409.2</td><td style = \"text-align: right;\">0.1</td><td style = \"text-align: right;\">42.6</td><td style = \"text-align: right;\">0.7</td></tr><tr><td class = \"rowNumber\" style = \"font-weight: bold; text-align: right;\">15</td><td style = \"text-align: right;\">56.4</td><td style = \"text-align: right;\">28.1</td><td style = \"text-align: right;\">4.3</td><td style = \"text-align: right;\">248.9</td><td style = \"text-align: right;\">0.3</td><td style = \"text-align: right;\">0.0</td><td style = \"text-align: right;\">3.9</td><td style = \"text-align: right;\">0.0</td><td style = \"text-align: right;\">0.0</td><td style = \"text-align: right;\">23.8</td><td style = \"text-align: right;\">0.4</td></tr><tr><td class = \"rowNumber\" style = \"font-weight: bold; text-align: right;\">16</td><td style = \"text-align: right;\">141.8</td><td style = \"text-align: right;\">27.4</td><td style = \"text-align: right;\">12.8</td><td style = \"text-align: right;\">461.7</td><td style = \"text-align: right;\">0.8</td><td style = \"text-align: right;\">0.0</td><td style = \"text-align: right;\">5.4</td><td style = \"text-align: right;\">0.0</td><td style = \"text-align: right;\">10.8</td><td style = \"text-align: right;\">9.0</td><td style = \"text-align: right;\">0.6</td></tr><tr><td class = \"rowNumber\" style = \"font-weight: bold; text-align: right;\">17</td><td style = \"text-align: right;\">78.1</td><td style = \"text-align: right;\">5.1</td><td style = \"text-align: right;\">4.5</td><td style = \"text-align: right;\">57.8</td><td style = \"text-align: right;\">9.3</td><td style = \"text-align: right;\">0.0</td><td style = \"text-align: right;\">0.9</td><td style = \"text-align: right;\">101.8</td><td style = \"text-align: right;\">0.0</td><td style = \"text-align: right;\">6.2</td><td style = \"text-align: right;\">0.4</td></tr></tbody></table></div>"
      ],
      "text/latex": [
       "\\begin{tabular}{r|ccccccc}\n",
       "\t& Calories & Cholesterol (mg) & Total\\_Fat (g) & Sodium (mg) & Carbohydrates (g) & Dietary\\_Fiber (g) & \\\\\n",
       "\t\\hline\n",
       "\t& Float64? & Float64? & Float64? & Float64? & Float64? & Float64? & \\\\\n",
       "\t\\hline\n",
       "\t1 & 73.8 & 0.0 & 0.8 & 68.2 & 13.6 & 8.5 & $\\dots$ \\\\\n",
       "\t2 & 72.2 & 0.0 & 0.6 & 2.5 & 17.1 & 2.0 & $\\dots$ \\\\\n",
       "\t3 & 2.6 & 0.0 & 0.0 & 1.8 & 0.4 & 0.3 & $\\dots$ \\\\\n",
       "\t4 & 171.5 & 0.0 & 0.2 & 15.2 & 39.9 & 3.2 & $\\dots$ \\\\\n",
       "\t5 & 88.2 & 0.0 & 5.5 & 8.1 & 2.2 & 1.4 & $\\dots$ \\\\\n",
       "\t6 & 277.4 & 129.9 & 10.8 & 125.6 & 0.0 & 0.0 & $\\dots$ \\\\\n",
       "\t7 & 358.2 & 0.0 & 12.3 & 1237.1 & 58.3 & 11.6 & $\\dots$ \\\\\n",
       "\t8 & 81.4 & 0.0 & 0.5 & 0.0 & 21.0 & 3.7 & $\\dots$ \\\\\n",
       "\t9 & 104.9 & 0.0 & 0.5 & 1.1 & 26.7 & 2.7 & $\\dots$ \\\\\n",
       "\t10 & 65.0 & 0.0 & 1.0 & 134.5 & 12.4 & 1.3 & $\\dots$ \\\\\n",
       "\t11 & 65.0 & 0.0 & 1.0 & 132.5 & 11.8 & 1.1 & $\\dots$ \\\\\n",
       "\t12 & 81.0 & 0.0 & 3.3 & 68.9 & 12.4 & 0.6 & $\\dots$ \\\\\n",
       "\t13 & 67.2 & 0.0 & 3.1 & 75.4 & 9.6 & 0.5 & $\\dots$ \\\\\n",
       "\t14 & 99.6 & 211.2 & 7.3 & 168.0 & 1.3 & 0.0 & $\\dots$ \\\\\n",
       "\t15 & 56.4 & 28.1 & 4.3 & 248.9 & 0.3 & 0.0 & $\\dots$ \\\\\n",
       "\t16 & 141.8 & 27.4 & 12.8 & 461.7 & 0.8 & 0.0 & $\\dots$ \\\\\n",
       "\t17 & 78.1 & 5.1 & 4.5 & 57.8 & 9.3 & 0.0 & $\\dots$ \\\\\n",
       "\\end{tabular}\n"
      ],
      "text/plain": [
       "\u001b[1m17×11 DataFrame\u001b[0m\n",
       "\u001b[1m Row \u001b[0m│\u001b[1m Calories \u001b[0m\u001b[1m Cholesterol (mg) \u001b[0m\u001b[1m Total_Fat (g) \u001b[0m\u001b[1m Sodium (mg) \u001b[0m\u001b[1m Carbohydrates (\u001b[0m ⋯\n",
       "     │\u001b[90m Float64? \u001b[0m\u001b[90m Float64?         \u001b[0m\u001b[90m Float64?      \u001b[0m\u001b[90m Float64?    \u001b[0m\u001b[90m Float64?       \u001b[0m ⋯\n",
       "─────┼──────────────────────────────────────────────────────────────────────────\n",
       "   1 │     73.8               0.0            0.8         68.2               13 ⋯\n",
       "   2 │     72.2               0.0            0.6          2.5               17\n",
       "   3 │      2.6               0.0            0.0          1.8                0\n",
       "   4 │    171.5               0.0            0.2         15.2               39\n",
       "   5 │     88.2               0.0            5.5          8.1                2 ⋯\n",
       "   6 │    277.4             129.9           10.8        125.6                0\n",
       "   7 │    358.2               0.0           12.3       1237.1               58\n",
       "   8 │     81.4               0.0            0.5          0.0               21\n",
       "   9 │    104.9               0.0            0.5          1.1               26 ⋯\n",
       "  10 │     65.0               0.0            1.0        134.5               12\n",
       "  11 │     65.0               0.0            1.0        132.5               11\n",
       "  12 │     81.0               0.0            3.3         68.9               12\n",
       "  13 │     67.2               0.0            3.1         75.4                9 ⋯\n",
       "  14 │     99.6             211.2            7.3        168.0                1\n",
       "  15 │     56.4              28.1            4.3        248.9                0\n",
       "  16 │    141.8              27.4           12.8        461.7                0\n",
       "  17 │     78.1               5.1            4.5         57.8                9 ⋯\n",
       "\u001b[36m                                                               7 columns omitted\u001b[0m"
      ]
     },
     "execution_count": 3,
     "metadata": {},
     "output_type": "execute_result"
    }
   ],
   "source": [
    "A = Data[1:17, 4:end]"
   ]
  },
  {
   "cell_type": "code",
   "execution_count": 4,
   "id": "d6bbc9fa-222a-4e7c-b9d7-24f543ccdec4",
   "metadata": {},
   "outputs": [
    {
     "data": {
      "text/plain": [
       "17×11 Matrix{Union{Missing, Float64}}:\n",
       "  73.8    0.0   0.8    68.2  13.6   8.5   8.0  5867.4  160.2  159.0  2.3\n",
       "  72.2    0.0   0.6     2.5  17.1   2.0   2.5   106.6    5.2    3.3  0.3\n",
       "   2.6    0.0   0.0     1.8   0.4   0.3   0.2    66.0    0.8    3.8  0.1\n",
       " 171.5    0.0   0.2    15.2  39.9   3.2   3.7     0.0   15.6   22.7  4.3\n",
       "  88.2    0.0   5.5     8.1   2.2   1.4   9.4    98.6    0.1  121.8  6.2\n",
       " 277.4  129.9  10.8   125.6   0.0   0.0  42.2    77.4    0.0   21.9  1.8\n",
       " 358.2    0.0  12.3  1237.1  58.3  11.6   8.2  3055.2   27.9   80.2  2.3\n",
       "  81.4    0.0   0.5     0.0  21.0   3.7   0.3    73.1    7.9    9.7  0.2\n",
       " 104.9    0.0   0.5     1.1  26.7   2.7   1.2    92.3   10.4    6.8  0.4\n",
       "  65.0    0.0   1.0   134.5  12.4   1.3   2.2     0.0    0.0   10.8  0.7\n",
       "  65.0    0.0   1.0   132.5  11.8   1.1   2.3     0.0    0.0   26.2  0.8\n",
       "  81.0    0.0   3.3    68.9  12.4   0.6   1.1     2.9    0.1    6.7  0.5\n",
       "  67.2    0.0   3.1    75.4   9.6   0.5   0.5    35.2    0.9    3.1  0.1\n",
       "  99.6  211.2   7.3   168.0   1.3   0.0   6.7   409.2    0.1   42.6  0.7\n",
       "  56.4   28.1   4.3   248.9   0.3   0.0   3.9     0.0    0.0   23.8  0.4\n",
       " 141.8   27.4  12.8   461.7   0.8   0.0   5.4     0.0   10.8    9.0  0.6\n",
       "  78.1    5.1   4.5    57.8   9.3   0.0   0.9   101.8    0.0    6.2  0.4"
      ]
     },
     "execution_count": 4,
     "metadata": {},
     "output_type": "execute_result"
    }
   ],
   "source": [
    "A = Matrix(A)"
   ]
  },
  {
   "cell_type": "code",
   "execution_count": 5,
   "id": "fc9229b2-834f-408f-a36d-0d7fe0f60aaf",
   "metadata": {},
   "outputs": [
    {
     "data": {
      "text/plain": [
       "1×11 Matrix{Union{Missing, Float64}}:\n",
       " 1300.0  240.0  50.0  2000.0  200.0  125.0  …  10000.0  5000.0  1500.0  40.0"
      ]
     },
     "execution_count": 5,
     "metadata": {},
     "output_type": "execute_result"
    }
   ],
   "source": [
    "bl = Matrix(Data[19:19, 4:end])\n",
    "bu = Matrix(Data[20:20, 4:end])"
   ]
  },
  {
   "cell_type": "code",
   "execution_count": 6,
   "id": "4352e9df-4b08-4cee-8dea-0a9ca9a3e9ed",
   "metadata": {},
   "outputs": [
    {
     "data": {
      "text/plain": [
       "1×5 Matrix{Float64}:\n",
       " 1300.0  50.0  200.0  125.0  150.0"
      ]
     },
     "execution_count": 6,
     "metadata": {},
     "output_type": "execute_result"
    }
   ],
   "source": [
    "bl = [bl[1] bl[3] bl[5] bl[6] bl[7]]\n",
    "bu = [bu[1] bu[3] bu[5] bu[6] bu[7]]"
   ]
  },
  {
   "cell_type": "code",
   "execution_count": 7,
   "id": "df9ff4b9-9644-404e-935a-475865c9c9bb",
   "metadata": {},
   "outputs": [
    {
     "data": {
      "text/plain": [
       "17-element Vector{Float64}:\n",
       " 0.48\n",
       " 0.54\n",
       " 0.06\n",
       " 0.18\n",
       " 0.93\n",
       " 2.52\n",
       " 2.34\n",
       " 0.72\n",
       " 0.45\n",
       " 0.15\n",
       " 0.18\n",
       " 0.27\n",
       " 0.48\n",
       " 0.33\n",
       " 0.45\n",
       " 0.81\n",
       " 0.09"
      ]
     },
     "execution_count": 7,
     "metadata": {},
     "output_type": "execute_result"
    }
   ],
   "source": [
    "\n",
    "C = [0.48,0.54,0.06,0.18,0.93,2.52,2.34,0.72,0.45,0.15,0.18,0.27,0.48,0.33,0.45,0.81,0.09]"
   ]
  },
  {
   "cell_type": "code",
   "execution_count": 8,
   "id": "deb016ab-0790-4ae6-9860-d6e47d9ea6b5",
   "metadata": {},
   "outputs": [
    {
     "data": {
      "text/plain": [
       "17×5 Matrix{Float64}:\n",
       "  73.8   0.8  13.6   8.5   8.0\n",
       "  72.2   0.6  17.1   2.0   2.5\n",
       "   2.6   0.0   0.4   0.3   0.2\n",
       " 171.5   0.2  39.9   3.2   3.7\n",
       "  88.2   5.5   2.2   1.4   9.4\n",
       " 277.4  10.8   0.0   0.0  42.2\n",
       " 358.2  12.3  58.3  11.6   8.2\n",
       "  81.4   0.5  21.0   3.7   0.3\n",
       " 104.9   0.5  26.7   2.7   1.2\n",
       "  65.0   1.0  12.4   1.3   2.2\n",
       "  65.0   1.0  11.8   1.1   2.3\n",
       "  81.0   3.3  12.4   0.6   1.1\n",
       "  67.2   3.1   9.6   0.5   0.5\n",
       "  99.6   7.3   1.3   0.0   6.7\n",
       "  56.4   4.3   0.3   0.0   3.9\n",
       " 141.8  12.8   0.8   0.0   5.4\n",
       "  78.1   4.5   9.3   0.0   0.9"
      ]
     },
     "execution_count": 8,
     "metadata": {},
     "output_type": "execute_result"
    }
   ],
   "source": [
    "# choose columns 1,3,5,6,7\n",
    "A = [A[:,1] A[:,3] A[:,5] A[:,6] A[:,7]]"
   ]
  },
  {
   "cell_type": "code",
   "execution_count": 9,
   "id": "f2e83d4c-e494-4fcc-926a-41bbf5c41506",
   "metadata": {},
   "outputs": [
    {
     "name": "stdout",
     "output_type": "stream",
     "text": [
      " The problem to be solved is:\n"
     ]
    },
    {
     "data": {
      "text/latex": [
       "$$ \\begin{aligned}\n",
       "\\min\\quad & 0.48 x_{1} + 0.54 x_{2} + 0.06 x_{3} + 0.18 x_{4} + 0.93 x_{5} + 2.52 x_{6} + 2.34 x_{7} + 0.72 x_{8} + 0.45 x_{9} + 0.15 x_{10} + 0.18 x_{11} + 0.27 x_{12} + 0.48 x_{13} + 0.33 x_{14} + 0.45 x_{15} + 0.81 x_{16} + 0.09 x_{17}\\\\\n",
       "\\text{Subject to} \\quad & 73.8 x_{1} + 72.2 x_{2} + 2.6 x_{3} + 171.5 x_{4} + 88.2 x_{5} + 277.4 x_{6} + 358.2 x_{7} + 81.4 x_{8} + 104.9 x_{9} + 65 x_{10} + 65 x_{11} + 81 x_{12} + 67.2 x_{13} + 99.6 x_{14} + 56.4 x_{15} + 141.8 x_{16} + 78.1 x_{17} \\in \\[800.0, 1300.0\\]\\\\\n",
       " & 0.8 x_{1} + 0.6 x_{2} + 0.2 x_{4} + 5.5 x_{5} + 10.8 x_{6} + 12.3 x_{7} + 0.5 x_{8} + 0.5 x_{9} + x_{10} + x_{11} + 3.3 x_{12} + 3.1 x_{13} + 7.3 x_{14} + 4.3 x_{15} + 12.8 x_{16} + 4.5 x_{17} \\in \\[20.0, 50.0\\]\\\\\n",
       " & 13.6 x_{1} + 17.1 x_{2} + 0.4 x_{3} + 39.9 x_{4} + 2.2 x_{5} + 58.3 x_{7} + 21 x_{8} + 26.7 x_{9} + 12.4 x_{10} + 11.8 x_{11} + 12.4 x_{12} + 9.6 x_{13} + 1.3 x_{14} + 0.3 x_{15} + 0.8 x_{16} + 9.3 x_{17} \\in \\[130.0, 200.0\\]\\\\\n",
       " & 8.5 x_{1} + 2 x_{2} + 0.3 x_{3} + 3.2 x_{4} + 1.4 x_{5} + 11.6 x_{7} + 3.7 x_{8} + 2.7 x_{9} + 1.3 x_{10} + 1.1 x_{11} + 0.6 x_{12} + 0.5 x_{13} \\in \\[60.0, 125.0\\]\\\\\n",
       " & 8 x_{1} + 2.5 x_{2} + 0.2 x_{3} + 3.7 x_{4} + 9.4 x_{5} + 42.2 x_{6} + 8.2 x_{7} + 0.3 x_{8} + 1.2 x_{9} + 2.2 x_{10} + 2.3 x_{11} + 1.1 x_{12} + 0.5 x_{13} + 6.7 x_{14} + 3.9 x_{15} + 5.4 x_{16} + 0.9 x_{17} \\in \\[100.0, 150.0\\]\\\\\n",
       " & x_{1} \\geq 0.0\\\\\n",
       " & x_{2} \\geq 0.0\\\\\n",
       " & x_{3} \\geq 0.0\\\\\n",
       " & x_{4} \\geq 0.0\\\\\n",
       " & x_{5} \\geq 0.0\\\\\n",
       " & x_{6} \\geq 0.0\\\\\n",
       " & x_{7} \\geq 0.0\\\\\n",
       " & x_{8} \\geq 0.0\\\\\n",
       " & x_{9} \\geq 0.0\\\\\n",
       " & x_{10} \\geq 0.0\\\\\n",
       " & x_{11} \\geq 0.0\\\\\n",
       " & x_{12} \\geq 0.0\\\\\n",
       " & x_{13} \\geq 0.0\\\\\n",
       " & x_{14} \\geq 0.0\\\\\n",
       " & x_{15} \\geq 0.0\\\\\n",
       " & x_{16} \\geq 0.0\\\\\n",
       " & x_{17} \\geq 0.0\\\\\n",
       "\\end{aligned} $$"
      ]
     },
     "metadata": {},
     "output_type": "display_data"
    },
    {
     "name": "stdout",
     "output_type": "stream",
     "text": [
      "  2.069008 seconds (3.97 M allocations: 336.429 MiB, 4.50% gc time, 99.96% compilation time)\n",
      "Objective value :5.518229283789697\n",
      "Optimal solution is x= \n",
      "[6.924211263708935, 0.0, 0.0, 1.0806324336921806, 0.0, 0.0, 0.0, 0.0, 0.0, 0.0, 0.0, 0.0, 0.0, 6.060891027711564, 0.0, 0.0, 0.0]\n"
     ]
    }
   ],
   "source": [
    "using JuMP, GLPK, LinearAlgebra, Clp\n",
    "m, n = size(A)\n",
    "# 17 parameter * 11 constraint\n",
    "# i para. j cons\n",
    "x_lb=0.0\n",
    "x_ub=Inf\n",
    "\n",
    "newModel = Model(GLPK.Optimizer)\n",
    "@variable(newModel, x_ub >= x[i=1:m] >= x_lb)\n",
    "\n",
    "\n",
    "for j=1:n\n",
    "    @constraint(newModel, bl[j] <=sum(A[i,j]*x[i] for i=1:m) <= bu[j])\n",
    "end\n",
    "@objective(newModel, Min, sum(C[j]*x[j] for j=1:m))\n",
    "println(\" The problem to be solved is:\")\n",
    "print(newModel)\n",
    "\n",
    "@time begin\n",
    "    status = optimize!(newModel)\n",
    "end \n",
    "\n",
    "println(\"Objective value :\", JuMP.objective_value(newModel))\n",
    "println(\"Optimal solution is x= \\n\", JuMP.value.(x))\n"
   ]
  }
 ],
 "metadata": {
  "kernelspec": {
   "display_name": "Julia 1.8.5",
   "language": "julia",
   "name": "julia-1.8"
  },
  "language_info": {
   "file_extension": ".jl",
   "mimetype": "application/julia",
   "name": "julia",
   "version": "1.8.5"
  }
 },
 "nbformat": 4,
 "nbformat_minor": 5
}

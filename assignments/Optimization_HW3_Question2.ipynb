{
 "cells": [
  {
   "attachments": {},
   "cell_type": "markdown",
   "id": "60a8b174",
   "metadata": {},
   "source": [
    "## Question 2\n",
    "\n",
    "The table below presents hypothetical bid/ask quotes for four major currencies at a given date/time:\n",
    "\n",
    "| Pair | Bid | Ask |\n",
    "| --- | --- | ---- |\n",
    "| EUR/USD |\t0.87060\t| 0.87063 |\n",
    "| GBP/USD |\t1.42790\t| 1.42796 |\n",
    "| USD/JPY |\t133.330\t| 133.333 |\n",
    "| EUR/GBP |\t0.60970\t | 0.60972 |\n",
    "| EUR/JPY |\t116.140 |\t116.144 |\n",
    "| GBP/JPY |\t190.480 |\t190.476 |\n",
    "\n",
    "The first currency in a currency pair is called the base currency. The bid and the ask are always quoted in terms of the base currency. For example, if you are buying on EUR/USD trade, then you are effectively receiving EUR in exchange for USD at the ask quote.\n",
    "  \n",
    "You were given USD  1  to attempt an arbitrage trade, assume no transaction costs.\n"
   ]
  },
  {
   "attachments": {},
   "cell_type": "markdown",
   "id": "36c45824",
   "metadata": {},
   "source": [
    "### A. Write down a linear programming problem to buy and sell quantities of the base currencies and arbitrage/profit of at most USD  10k .  \n",
    "\n",
    "First you declare all the variables. D is the number of USD. This is what we will try to maximize. To ensure a profit of at most $10,000, we constrain D to 10,001 (the profit plus the dollar we start with). DE is dollars to euros, DG is dollars to pounds, etc.  \n",
    "<br>\n",
    "Then we set up our constraints.  \n",
    "We start with dollars, we set D = 1 (our starting amt) + the currencies exchanged to dollars - the dollars exchanged to other currencies. We want to end up with dollars.  \n",
    "<br>\n",
    "Next we set: the euros we are exchanging = euros we have exchanged for. These should cancel out. We don't end up with any euros.\n",
    "<br>  \n",
    "We do the same thing we did for euros to pounds and yen.  \n",
    "<br>\n",
    "Finally we set the objective to maximize dollars."
   ]
  },
  {
   "cell_type": "code",
   "execution_count": 10,
   "id": "a6815912",
   "metadata": {},
   "outputs": [
    {
     "data": {
      "text/latex": [
       "$$ \\begin{aligned}\n",
       "\\max\\quad & D\\\\\n",
       "\\text{Subject to} \\quad & D + DE + DG + DJ - 0.8706 ED - 1.4279 GD - 0.007500018750046875 JD = 1.0\\\\\n",
       " & -1.148593547201452 DE + ED + EG + EJ - 1.6400970937479498 GE - 0.00861000137760022 JE = 0.0\\\\\n",
       " & -0.7002997282837055 DG - 0.6097 EG + GD + GE + GJ - 0.00525000525000525 JG = 0.0\\\\\n",
       " & -133.33 DJ - 116.14 EJ - 190.48 GJ + JD + JE + JG = 0.0\\\\\n",
       " & DE \\geq 0.0\\\\\n",
       " & DG \\geq 0.0\\\\\n",
       " & DJ \\geq 0.0\\\\\n",
       " & ED \\geq 0.0\\\\\n",
       " & EG \\geq 0.0\\\\\n",
       " & EJ \\geq 0.0\\\\\n",
       " & GD \\geq 0.0\\\\\n",
       " & GE \\geq 0.0\\\\\n",
       " & GJ \\geq 0.0\\\\\n",
       " & JD \\geq 0.0\\\\\n",
       " & JE \\geq 0.0\\\\\n",
       " & JG \\geq 0.0\\\\\n",
       " & D \\leq 10001.0\\\\\n",
       "\\end{aligned} $$"
      ]
     },
     "metadata": {},
     "output_type": "display_data"
    }
   ],
   "source": [
    "using JuMP, GLPK\n",
    "\n",
    "m = Model(GLPK.Optimizer)\n",
    "\n",
    "#Declare Variables:\n",
    "\n",
    "@variable(m, D <= 10001)\n",
    "\n",
    "@variable(m, DE >= 0)\n",
    "@variable(m, DG >= 0)\n",
    "@variable(m, DJ >= 0)\n",
    "@variable(m, ED >= 0)\n",
    "@variable(m, EG >= 0)\n",
    "@variable(m, EJ >= 0)\n",
    "@variable(m, GD >= 0)\n",
    "@variable(m, GE >= 0)\n",
    "@variable(m, GJ >= 0)\n",
    "@variable(m, JD >= 0)\n",
    "@variable(m, JE >= 0)\n",
    "@variable(m, JG >= 0)\n",
    "\n",
    "#Declare Constraints\n",
    "\n",
    "@constraint(m, constraint_1, D == 1 + 0.87060ED + 1.42790GD + (1/133.333)JD - DE - DG - DJ)\n",
    "@constraint(m, constraint_2, ED + EG + EJ == (1/0.87063)DE + (1/0.60972)GE + (1/116.144)JE)\n",
    "@constraint(m, constraint_3, GD + GE + GJ == (1/1.42796)DG + 0.60970EG + (1/190.476)JG)\n",
    "@constraint(m, constraint_4, JD + JE + JG == 133.33DJ + 116.14EJ + 190.48GJ)\n",
    "\n",
    "#Declare Objective\n",
    "@objective(m, Max, D)\n",
    "\n",
    "print(m)"
   ]
  },
  {
   "attachments": {},
   "cell_type": "markdown",
   "id": "44092a53",
   "metadata": {},
   "source": [
    "### B. Solve for the buy/sell quantities and the arbitrage/profit amount."
   ]
  },
  {
   "cell_type": "code",
   "execution_count": 11,
   "id": "7f20094e",
   "metadata": {},
   "outputs": [
    {
     "name": "stdout",
     "output_type": "stream",
     "text": [
      "Objective value: 10001.0\n",
      "D = 10001.0\n",
      "DE = 2.0622362181625046e7\n",
      "DG = 0.0\n",
      "DJ = 0.0\n",
      "ED = 0.0\n",
      "EG = 0.0\n",
      "EJ = 2.3686712129865784e7\n",
      "GD = 0.0\n",
      "GE = 0.0\n",
      "GJ = 0.0\n",
      "JD = 2.7509747467626123e9\n",
      "JE = 0.0\n",
      "JG = 0.0\n"
     ]
    }
   ],
   "source": [
    "# Solve the optimization problem\n",
    "JuMP.optimize!(m)\n",
    "\n",
    "# Print the objective value\n",
    "println(\"Objective value: \", JuMP.objective_value(m))\n",
    "\n",
    "println(\"D = \", JuMP.value.(D))\n",
    "\n",
    "println(\"DE = \", JuMP.value.(DE))\n",
    "println(\"DG = \", JuMP.value.(DG))\n",
    "println(\"DJ = \", JuMP.value.(DJ))\n",
    "\n",
    "println(\"ED = \", JuMP.value.(ED))\n",
    "println(\"EG = \", JuMP.value.(EG))\n",
    "println(\"EJ = \", JuMP.value.(EJ))\n",
    "\n",
    "println(\"GD = \", JuMP.value.(GD))\n",
    "println(\"GE = \", JuMP.value.(GE))\n",
    "println(\"GJ = \", JuMP.value.(GJ))\n",
    "\n",
    "println(\"JD = \", JuMP.value.(JD))\n",
    "println(\"JE = \", JuMP.value.(JE))\n",
    "println(\"JG = \", JuMP.value.(JG))\n"
   ]
  },
  {
   "attachments": {},
   "cell_type": "markdown",
   "id": "90410de7",
   "metadata": {},
   "source": [
    "### C. Interpret the results and develop a story of the trade executions and the resulting profit.  \n",
    "\n",
    "You start with 1 USD.  \n",
    "\n",
    "You exchange the 1 USD for EUR  "
   ]
  },
  {
   "cell_type": "code",
   "execution_count": 12,
   "id": "53dfb258",
   "metadata": {},
   "outputs": [
    {
     "name": "stdout",
     "output_type": "stream",
     "text": [
      "1.148593547201452"
     ]
    }
   ],
   "source": [
    "EUR = 1 * (1/0.87063) #(USD -> EUR)\n",
    "print(EUR)"
   ]
  },
  {
   "attachments": {},
   "cell_type": "markdown",
   "id": "3ba9d725",
   "metadata": {},
   "source": [
    "Then you exchange your 1.1486 EUR for JPY  "
   ]
  },
  {
   "cell_type": "code",
   "execution_count": 13,
   "id": "c932d163",
   "metadata": {},
   "outputs": [
    {
     "name": "stdout",
     "output_type": "stream",
     "text": [
      "133.39765457197663"
     ]
    }
   ],
   "source": [
    "JPY = EUR * 116.140 #(EUR -> JPY)\n",
    "print(JPY)"
   ]
  },
  {
   "attachments": {},
   "cell_type": "markdown",
   "id": "7227cced",
   "metadata": {},
   "source": [
    "Then you exchange your 133.3976 JPY back to USD"
   ]
  },
  {
   "cell_type": "code",
   "execution_count": 14,
   "id": "c6436a1a",
   "metadata": {},
   "outputs": [
    {
     "name": "stdout",
     "output_type": "stream",
     "text": [
      "1.000484910502101"
     ]
    }
   ],
   "source": [
    "USD = JPY * (1/133.333) #(JPY -> USD)\n",
    "print(USD)"
   ]
  },
  {
   "attachments": {},
   "cell_type": "markdown",
   "id": "db8e068b",
   "metadata": {},
   "source": [
    "You have successfully converted 1 USD into ~1.0005 USD. So your abitrage profit is ~0.0005 USD. If you scale this by 20,622,362.18, you will make a profit of $10,000"
   ]
  },
  {
   "cell_type": "code",
   "execution_count": 15,
   "id": "6421aa24",
   "metadata": {},
   "outputs": [
    {
     "data": {
      "text/plain": [
       "10000.0"
      ]
     },
     "execution_count": 15,
     "metadata": {},
     "output_type": "execute_result"
    }
   ],
   "source": [
    "20622362.181625046 * (USD-1)"
   ]
  }
 ],
 "metadata": {
  "kernelspec": {
   "display_name": "Julia 1.8.4",
   "language": "julia",
   "name": "julia-1.8"
  },
  "language_info": {
   "file_extension": ".jl",
   "mimetype": "application/julia",
   "name": "julia",
   "version": "1.8.4"
  }
 },
 "nbformat": 4,
 "nbformat_minor": 5
}

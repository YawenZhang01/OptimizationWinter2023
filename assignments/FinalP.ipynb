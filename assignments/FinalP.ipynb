{
 "cells": [
  {
   "cell_type": "code",
   "execution_count": 32,
   "id": "debb4a0b-8897-4d9f-a4bd-3917894c2a95",
   "metadata": {},
   "outputs": [
    {
     "data": {
      "text/plain": [
       "opt_strategy_basic (generic function with 1 method)"
      ]
     },
     "execution_count": 32,
     "metadata": {},
     "output_type": "execute_result"
    }
   ],
   "source": [
    "using JuMP\n",
    "using Gurobi\n",
    "using LinearAlgebra\n",
    "\n",
    "function opt_strategy_basic(tot_no_laps::Int, tire_pars::Dict{String,Dict{String,Float64}}, tires::Vector{Tuple{String,Int}})\n",
    "    \n",
    "    k_1_lin_array = [tire_pars[x[1]][\"k_1_lin\"] for x in tires]\n",
    "    k_0_array = [tire_pars[x[1]][\"k_0\"] for x in tires]\n",
    "    age_array = [x[2] for x in tires]\n",
    "\n",
    "    # get number of stints\n",
    "    no_stints = length(tires)\n",
    "\n",
    "    # set up problem matrices (P = H and q = f in quadprog)\n",
    "    P = Diagonal(0.5 .* k_1_lin_array .* 2)  # * 2 because of standard form\n",
    "    q = (0.5 .+ age_array) .* k_1_lin_array .+ k_0_array\n",
    "\n",
    "    G = -Matrix{Float64}(I, no_stints, no_stints)  # minimum 1 lap per stint\n",
    "    h = fill(-1.0, no_stints)\n",
    "\n",
    "    A = ones(1, no_stints)  # sum of stints must equal total number of laps\n",
    "    b = [tot_no_laps]\n",
    "\n",
    "    # ------------------------------------------------------------------------------------------------------------------\n",
    "    # SET UP SOLVER SPECIFIC PROBLEM -----------------------------------------------------------------------------------\n",
    "    # ------------------------------------------------------------------------------------------------------------------\n",
    "\n",
    "    # create integer design variables\n",
    "    model = Model(Gurobi.Optimizer)\n",
    "    @variable(model, x[1:no_stints], Int)\n",
    "\n",
    "    # set up problem using objective and constraints\n",
    "    @objective(model, Min, 0.5 * dot(x, P * x) + dot(q, x))\n",
    "    @constraint(model, G * x .<= h)\n",
    "    @constraint(model, A * x .== b)\n",
    "\n",
    "    # ------------------------------------------------------------------------------------------------------------------\n",
    "    # CALL SOLVER ------------------------------------------------------------------------------------------------------\n",
    "    # ------------------------------------------------------------------------------------------------------------------\n",
    "\n",
    "    # solve the problem and retrieve solution\n",
    "    JuMP.optimize!(model)\n",
    "    if JuMP.has_values(x)\n",
    "        stint_lengths = round.(Int, value.(x))\n",
    "    else\n",
    "        # no solution found\n",
    "        stint_lengths = nothing\n",
    "    end\n",
    "\n",
    "    return x\n",
    "end\n"
   ]
  },
  {
   "cell_type": "code",
   "execution_count": 33,
   "id": "d0fe4563-1666-4e7d-9ff4-e37a54a9a20d",
   "metadata": {},
   "outputs": [
    {
     "name": "stdout",
     "output_type": "stream",
     "text": [
      "Set parameter Username\n",
      "Academic license - for non-commercial use only - expires 2024-02-21\n",
      "Gurobi Optimizer version 10.0.1 build v10.0.1rc0 (mac64[x86])\n",
      "\n",
      "CPU model: Intel(R) Core(TM) i9-9980HK CPU @ 2.40GHz\n",
      "Thread count: 8 physical cores, 16 logical processors, using up to 16 threads\n",
      "\n",
      "Optimize a model with 4 rows, 3 columns and 6 nonzeros\n",
      "Model fingerprint: 0xff67b69c\n",
      "Model has 3 quadratic objective terms\n",
      "Variable types: 0 continuous, 3 integer (0 binary)\n",
      "Coefficient statistics:\n",
      "  Matrix range     [1e+00, 1e+00]\n",
      "  Objective range  [7e-01, 1e+00]\n",
      "  QObjective range [1e-02, 1e-01]\n",
      "  Bounds range     [0e+00, 0e+00]\n",
      "  RHS range        [1e+00, 5e+01]\n",
      "Presolve removed 3 rows and 0 columns\n",
      "Presolve time: 0.00s\n",
      "Presolved: 1 rows, 3 columns, 3 nonzeros\n",
      "Presolved model has 3 quadratic objective terms\n",
      "Variable types: 0 continuous, 3 integer (0 binary)\n",
      "Found heuristic solution: objective 184.9050000\n",
      "\n",
      "Root relaxation: objective 5.267920e+01, 4 iterations, 0.00 seconds (0.00 work units)\n",
      "\n",
      "    Nodes    |    Current Node    |     Objective Bounds      |     Work\n",
      " Expl Unexpl |  Obj  Depth IntInf | Incumbent    BestBd   Gap | It/Node Time\n",
      "\n",
      "     0     0   52.67920    0    2  184.90500   52.67920  71.5%     -    0s\n",
      "H    0     0                      52.6800000   52.67920  0.00%     -    0s\n",
      "     0     0   52.67920    0    2   52.68000   52.67920  0.00%     -    0s\n",
      "\n",
      "Explored 1 nodes (4 simplex iterations) in 0.00 seconds (0.00 work units)\n",
      "Thread count was 16 (of 16 available processors)\n",
      "\n",
      "Solution count 2: 52.68 184.905 \n",
      "\n",
      "Optimal solution found (tolerance 1.00e-04)\n",
      "Best objective 5.268000000000e+01, best bound 5.268000000000e+01, gap 0.0000%\n",
      "\n",
      "User-callback calls 161, time in user-callback 0.00 sec\n"
     ]
    },
    {
     "ename": "LoadError",
     "evalue": "MethodError: no method matching has_values(::Vector{VariableRef})\n\u001b[0mClosest candidates are:\n\u001b[0m  has_values(\u001b[91m::Model\u001b[39m; result) at ~/.julia/packages/JuMP/vuP7I/src/variables.jl:1061",
     "output_type": "error",
     "traceback": [
      "MethodError: no method matching has_values(::Vector{VariableRef})\n\u001b[0mClosest candidates are:\n\u001b[0m  has_values(\u001b[91m::Model\u001b[39m; result) at ~/.julia/packages/JuMP/vuP7I/src/variables.jl:1061",
      "",
      "Stacktrace:",
      " [1] opt_strategy_basic(tot_no_laps::Int64, tire_pars::Dict{String, Dict{String, Float64}}, tires::Vector{Tuple{String, Int64}})",
      "   @ Main ./In[32]:43",
      " [2] top-level scope",
      "   @ In[33]:9"
     ]
    }
   ],
   "source": [
    "tire_pars = Dict(\n",
    "    \"soft\" => Dict(\"k_1_lin\" => 0.02, \"k_0\" => 0.8),\n",
    "    \"medium\" => Dict(\"k_1_lin\" => 0.015, \"k_0\" => 0.7),\n",
    "    \"hard\" => Dict(\"k_1_lin\" => 0.1, \"k_0\" => 0.6)\n",
    ")\n",
    "tires = [(\"soft\", 0), (\"medium\", 2), (\"hard\", 5)]\n",
    "tot_no_laps = 53\n",
    "\n",
    "result = opt_strategy_basic(tot_no_laps, tire_pars, tires)\n",
    "\n"
   ]
  },
  {
   "cell_type": "code",
   "execution_count": 39,
   "id": "8f9c7987-bc44-47a5-9d89-6a1e04721e6a",
   "metadata": {},
   "outputs": [
    {
     "name": "stdout",
     "output_type": "stream",
     "text": [
      "Set parameter Username\n",
      "Academic license - for non-commercial use only - expires 2024-02-21\n"
     ]
    },
    {
     "data": {
      "text/plain": [
       "1-element Vector{ConstraintRef{Model, MathOptInterface.ConstraintIndex{MathOptInterface.ScalarAffineFunction{Float64}, MathOptInterface.EqualTo{Float64}}, ScalarShape}}:\n",
       " x[1] + x[2] + x[3] = 53.0"
      ]
     },
     "execution_count": 39,
     "metadata": {},
     "output_type": "execute_result"
    }
   ],
   "source": [
    "tire_pars = Dict(\n",
    "    \"soft\" => Dict(\"k_1_lin\" => 0.02, \"k_0\" => 0.8),\n",
    "    \"medium\" => Dict(\"k_1_lin\" => 0.015, \"k_0\" => 0.7),\n",
    "    \"hard\" => Dict(\"k_1_lin\" => 0.1, \"k_0\" => 0.6)\n",
    ")\n",
    "tires = [(\"soft\", 0), (\"medium\", 2), (\"hard\", 5)]\n",
    "tot_no_laps = 53\n",
    "\n",
    "k_1_lin_array = [tire_pars[x[1]][\"k_1_lin\"] for x in tires]\n",
    "    k_0_array = [tire_pars[x[1]][\"k_0\"] for x in tires]\n",
    "    age_array = [x[2] for x in tires]\n",
    "\n",
    "    # get number of stints\n",
    "    no_stints = length(tires)\n",
    "\n",
    "    # set up problem matrices (P = H and q = f in quadprog)\n",
    "    P = Diagonal(0.5 .* k_1_lin_array .* 2)  # * 2 because of standard form\n",
    "    q = (0.5 .+ age_array) .* k_1_lin_array .+ k_0_array\n",
    "\n",
    "    G = -Matrix{Float64}(I, no_stints, no_stints)  # minimum 1 lap per stint\n",
    "    h = fill(-1.0, no_stints)\n",
    "\n",
    "    A = ones(1, no_stints)  # sum of stints must equal total number of laps\n",
    "    b = [tot_no_laps]\n",
    "\n",
    "    # ------------------------------------------------------------------------------------------------------------------\n",
    "    # SET UP SOLVER SPECIFIC PROBLEM -----------------------------------------------------------------------------------\n",
    "    # ------------------------------------------------------------------------------------------------------------------\n",
    "\n",
    "    # create integer design variables\n",
    "    model = Model(Gurobi.Optimizer)\n",
    "    @variable(model, x[1:no_stints], Int)\n",
    "\n",
    "    # set up problem using objective and constraints\n",
    "    @objective(model, Min, 0.5 * dot(x, P * x) + dot(q, x))\n",
    "    @constraint(model, G * x .<= h)\n",
    "    @constraint(model, A * x .== b)\n",
    "\n",
    "    # ------------------------------------------------------------------------------------------------------------------\n",
    "    # CALL SOLVER ------------------------------------------------------------------------------------------------------\n",
    "    # ------------------------------------------------------------------------------------------------------------------\n",
    "\n",
    "    # solve the problem and retrieve solution\n",
    "    #JuMP.optimize!(model)\n",
    "\n"
   ]
  },
  {
   "cell_type": "code",
   "execution_count": 40,
   "id": "38f0de6d-86be-498f-a522-41799e8b2bf9",
   "metadata": {},
   "outputs": [
    {
     "name": "stdout",
     "output_type": "stream",
     "text": [
      "Gurobi Optimizer version 10.0.1 build v10.0.1rc0 (mac64[x86])\n",
      "\n",
      "CPU model: Intel(R) Core(TM) i9-9980HK CPU @ 2.40GHz\n",
      "Thread count: 8 physical cores, 16 logical processors, using up to 16 threads\n",
      "\n",
      "Optimize a model with 4 rows, 3 columns and 6 nonzeros\n",
      "Model fingerprint: 0xff67b69c\n",
      "Model has 3 quadratic objective terms\n",
      "Variable types: 0 continuous, 3 integer (0 binary)\n",
      "Coefficient statistics:\n",
      "  Matrix range     [1e+00, 1e+00]\n",
      "  Objective range  [7e-01, 1e+00]\n",
      "  QObjective range [1e-02, 1e-01]\n",
      "  Bounds range     [0e+00, 0e+00]\n",
      "  RHS range        [1e+00, 5e+01]\n",
      "Presolve removed 3 rows and 0 columns\n",
      "Presolve time: 0.00s\n",
      "Presolved: 1 rows, 3 columns, 3 nonzeros\n",
      "Presolved model has 3 quadratic objective terms\n",
      "Variable types: 0 continuous, 3 integer (0 binary)\n",
      "Found heuristic solution: objective 184.9050000\n",
      "\n",
      "Root relaxation: objective 5.267920e+01, 4 iterations, 0.00 seconds (0.00 work units)\n",
      "\n",
      "    Nodes    |    Current Node    |     Objective Bounds      |     Work\n",
      " Expl Unexpl |  Obj  Depth IntInf | Incumbent    BestBd   Gap | It/Node Time\n",
      "\n",
      "     0     0   52.67920    0    2  184.90500   52.67920  71.5%     -    0s\n",
      "H    0     0                      52.6800000   52.67920  0.00%     -    0s\n",
      "     0     0   52.67920    0    2   52.68000   52.67920  0.00%     -    0s\n",
      "\n",
      "Explored 1 nodes (4 simplex iterations) in 0.00 seconds (0.00 work units)\n",
      "Thread count was 16 (of 16 available processors)\n",
      "\n",
      "Solution count 2: 52.68 184.905 \n",
      "\n",
      "Optimal solution found (tolerance 1.00e-04)\n",
      "Best objective 5.268000000000e+01, best bound 5.268000000000e+01, gap 0.0000%\n",
      "\n",
      "User-callback calls 161, time in user-callback 0.00 sec\n",
      "  0.001466 seconds (375 allocations: 18.812 KiB)\n",
      "Objective value: 52.67999999999999\n",
      "x[1] = 20.0\n",
      "x[2] = 32.0\n",
      "x[3] = 1.0\n"
     ]
    }
   ],
   "source": [
    "@time begin\n",
    "    status = optimize!(model)\n",
    "end\n",
    "println(\"Objective value: \", JuMP.objective_value(model))\n",
    "println(\"x[1] = \", JuMP.value(x[1]))\n",
    "println(\"x[2] = \", JuMP.value(x[2]))\n",
    "println(\"x[3] = \", JuMP.value(x[3]))"
   ]
  },
  {
   "cell_type": "code",
   "execution_count": null,
   "id": "a62110a0-fc9c-4fb4-b29d-ff047e124ace",
   "metadata": {},
   "outputs": [],
   "source": []
  }
 ],
 "metadata": {
  "kernelspec": {
   "display_name": "Julia 1.8.5",
   "language": "julia",
   "name": "julia-1.8"
  },
  "language_info": {
   "file_extension": ".jl",
   "mimetype": "application/julia",
   "name": "julia",
   "version": "1.8.5"
  }
 },
 "nbformat": 4,
 "nbformat_minor": 5
}

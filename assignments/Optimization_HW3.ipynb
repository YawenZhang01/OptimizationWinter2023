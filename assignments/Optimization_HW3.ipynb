{
 "cells": [
  {
   "cell_type": "markdown",
   "id": "1be06c65-f090-42b3-94b3-b493e96fb961",
   "metadata": {},
   "source": [
    "# Homework 03. \n",
    "\n",
    "#### MSCA 32013 Optimization and Simulation Methods. University of Chicago.\n",
    "\n",
    "#### Group 7. Ben Ossyra, Peter Pezon, Yawen Zhang"
   ]
  },
  {
   "cell_type": "markdown",
   "id": "a3a72532-3a90-4ce3-a17f-f912618fda1a",
   "metadata": {},
   "source": [
    "## Question 1\n",
    "A refinery produces a high grade (H) and a low grade (L) fuel from five raw stocks with different octane rating. The price and the rating threshold for the two fuel types\n",
    "are presented in the table below:\n",
    "\n",
    "|Fuel|Rating|Price ($/B)|\n",
    "| --- | --- | ---- |\n",
    "| High |\t93\t| 37.5 |\n",
    "| Low |\t85\t| 28.5 |\n",
    "\n",
    "The rating, price, and quantity available of each raw material are presented below.\n",
    "\n",
    "|Stock|Rating|Price|Quantity|\n",
    "|---|---|----|----|\n",
    "|  1 |\t70\t|\t9.0\t| 2000 |\n",
    "|  2 |\t80\t|\t12.5\t| 4000 |\n",
    "|  3 |\t85\t|\t12.5\t| 4000 |\n",
    "|  4 |\t90\t|\t27.5\t| 5000 |\n",
    "|  5 |\t99\t|\t27.5 | 3000|\n",
    "\n",
    "\n",
    "The refinery can sell the high and low fuels and any unused raw materials. The goal is to maximize revenue. Find the optimal blend for the high grade and low grade fuel.\n",
    "\n"
   ]
  },
  {
   "cell_type": "code",
   "execution_count": 2,
   "id": "a6815912",
   "metadata": {},
   "outputs": [
    {
     "data": {
      "text/latex": [
       "$$ \\begin{aligned}\n",
       "\\max\\quad & 9 x11 + 12.5 x12 + 12.5 x13 + 27.5 x14 + 27.5 x15 + 37.5 x16 + 28.5 x17\\\\\n",
       "\\text{Subject to} \\quad & x1 + x2 + x3 + x4 + x5 - x16 = 0.0\\\\\n",
       " & x6 + x7 + x8 + x9 + x10 - x17 = 0.0\\\\\n",
       " & 70 x1 + 80 x2 + 85 x3 + 90 x4 + 99 x5 - 93 x16 \\geq 0.0\\\\\n",
       " & 70 x6 + 80 x7 + 85 x8 + 90 x9 + 99 x10 - 85 x17 \\geq 0.0\\\\\n",
       " & x1 + x6 + x11 \\leq 2000.0\\\\\n",
       " & x2 + x7 + x12 \\leq 4000.0\\\\\n",
       " & x3 + x8 + x13 \\leq 4000.0\\\\\n",
       " & x4 + x9 + x14 \\leq 5000.0\\\\\n",
       " & x5 + x10 + x15 \\leq 3000.0\\\\\n",
       " & x1 \\geq 0.0\\\\\n",
       " & x2 \\geq 0.0\\\\\n",
       " & x3 \\geq 0.0\\\\\n",
       " & x4 \\geq 0.0\\\\\n",
       " & x5 \\geq 0.0\\\\\n",
       " & x6 \\geq 0.0\\\\\n",
       " & x7 \\geq 0.0\\\\\n",
       " & x8 \\geq 0.0\\\\\n",
       " & x9 \\geq 0.0\\\\\n",
       " & x10 \\geq 0.0\\\\\n",
       " & x11 \\geq 0.0\\\\\n",
       " & x12 \\geq 0.0\\\\\n",
       " & x13 \\geq 0.0\\\\\n",
       " & x14 \\geq 0.0\\\\\n",
       " & x15 \\geq 0.0\\\\\n",
       " & x16 \\geq 0.0\\\\\n",
       " & x17 \\geq 0.0\\\\\n",
       "\\end{aligned} $$"
      ]
     },
     "metadata": {},
     "output_type": "display_data"
    },
    {
     "name": "stdout",
     "output_type": "stream",
     "text": [
      "Objective value :532125.0\n",
      "x1 = 0.0\n",
      "x2 = 0.0\n",
      "x3 = 0.0\n",
      "x4 = 1416.6666666666702\n",
      "x5 = 708.3333333333327\n",
      "x6 = 1999.9999999999998\n",
      "x7 = 3999.9999999999995\n",
      "x8 = 4000.0\n",
      "x9 = 3583.33333333333\n",
      "x10 = 2291.666666666667\n",
      "x11 = 0.0\n",
      "x12 = 0.0\n",
      "x13 = 0.0\n",
      "x14 = 0.0\n",
      "x15 = 0.0\n",
      "x16 = 2125.0000000000027\n",
      "x17 = 15874.999999999996\n"
     ]
    }
   ],
   "source": [
    "using JuMP, GLPK\n",
    "\n",
    "m = Model(GLPK.Optimizer)\n",
    "\n",
    "#Declare Variables:\n",
    "@variable(m, x1 >= 0)\n",
    "@variable(m, x2 >= 0)\n",
    "@variable(m, x3 >= 0)\n",
    "@variable(m, x4 >= 0)\n",
    "@variable(m, x5 >= 0)\n",
    "@variable(m, x6 >= 0)\n",
    "@variable(m, x7 >= 0)\n",
    "@variable(m, x8 >= 0)\n",
    "@variable(m, x9 >= 0)\n",
    "@variable(m, x10 >= 0)\n",
    "@variable(m, x11>= 0)\n",
    "@variable(m, x12>= 0)\n",
    "@variable(m, x13>= 0)\n",
    "@variable(m, x14>= 0)\n",
    "@variable(m, x15>= 0)\n",
    "@variable(m, x16>= 0)\n",
    "@variable(m, x17>= 0)\n",
    "\n",
    "#Add constraints\n",
    "@constraint(m, constraint_1, x1 + x6 + x11 <= 2000)\n",
    "@constraint(m, constraint_2, x2 + x7 + x12 <= 4000)\n",
    "@constraint(m, constraint_3, x3 + x8 + x13 <= 4000)\n",
    "@constraint(m, constraint_4, x4 + x9 + x14 <= 5000)\n",
    "@constraint(m, constraint_5, x5 + x10 + x15 <=3000)\n",
    "@constraint(m, constraint_6, 70*x1+80*x2 +85*x3+90*x4+99*x5>=93*x16)\n",
    "@constraint(m, constraint_7, 70*x6+80*x7 +85*x8+90*x9+99*x10>=85*x17)\n",
    "@constraint(m, constraint_8, x1 + x2 + x3 + x4 + x5 == x16)\n",
    "@constraint(m, constraint_9, x6 + x7 + x8 + x9 + x10 == x17)\n",
    "\n",
    "#Set the objective\n",
    "\n",
    "@objective(m, Max, 9*x11+12.5*x12+12.5*x13+27.5*x14+27.5*x15+37.5*x16+28.5*x17)\n",
    "print(m)\n",
    "\n",
    "\n",
    "begin\n",
    "    status = optimize!(m)\n",
    "end\n",
    "println(\"Objective value :\", JuMP.objective_value(m))\n",
    "#println(\"Optimal solution is x= \\n\", JuMP.value.(x))\n",
    "println(\"x1 = \", JuMP.value(x1))  # => x1 = 1.0\n",
    "println(\"x2 = \", JuMP.value(x2))\n",
    "println(\"x3 = \", JuMP.value(x3))\n",
    "println(\"x4 = \", JuMP.value(x4))\n",
    "println(\"x5 = \", JuMP.value(x5))\n",
    "println(\"x6 = \", JuMP.value(x6))\n",
    "println(\"x7 = \", JuMP.value(x7))\n",
    "println(\"x8 = \", JuMP.value(x8))\n",
    "println(\"x9 = \", JuMP.value(x9))\n",
    "println(\"x10 = \", JuMP.value(x10))\n",
    "println(\"x11 = \", JuMP.value(x11))\n",
    "println(\"x12 = \", JuMP.value(x12))\n",
    "println(\"x13 = \", JuMP.value(x13))\n",
    "println(\"x14 = \", JuMP.value(x14))\n",
    "println(\"x15 = \", JuMP.value(x15))\n",
    "println(\"x16 = \", JuMP.value(x16))\n",
    "println(\"x17 = \", JuMP.value(x17))\n"
   ]
  },
  {
   "cell_type": "markdown",
   "id": "60a8b174",
   "metadata": {},
   "source": [
    "## Question 2\n",
    "\n",
    "The table below presents hypothetical bid/ask quotes for four major currencies at a given date/time:\n",
    "\n",
    "| Pair | Bid | Ask |\n",
    "| --- | --- | ---- |\n",
    "| EUR/USD |\t0.87060\t| 0.87063 |\n",
    "| GBP/USD |\t1.42790\t| 1.42796 |\n",
    "| USD/JPY |\t133.330\t| 133.333 |\n",
    "| EUR/GBP |\t0.60970\t | 0.60972 |\n",
    "| EUR/JPY |\t116.140 |\t116.144 |\n",
    "| GBP/JPY |\t190.480 |\t190.476 |\n",
    "\n",
    "The first currency in a currency pair is called the base currency. The bid and the ask are always quoted in terms of the base currency. For example, if you are buying on EUR/USD trade, then you are effectively receiving EUR in exchange for USD at the ask quote.\n",
    "  \n",
    "You were given USD  1  to attempt an arbitrage trade, assume no transaction costs.\n"
   ]
  },
  {
   "cell_type": "markdown",
   "id": "36c45824",
   "metadata": {},
   "source": [
    "### A. Write down a linear programming problem to buy and sell quantities of the base currencies and arbitrage/profit of at most USD  10k .  \n",
    "\n",
    "First you declare all the variables. D is the number of USD. This is what we will try to maximize. To ensure a profit of at most $10,000, we constrain D to 10,001 (the profit plus the dollar we start with). DE is dollars to euros, DG is dollars to pounds, etc.  \n",
    "<br>\n",
    "Then we set up our constraints.  \n",
    "We start with dollars, we set D = 1 (our starting amt) + the currencies exchanged to dollars - the dollars exchanged to other currencies. We want to end up with dollars.  \n",
    "<br>\n",
    "Next we set: the euros we are exchanging = euros we have exchanged for. These should cancel out. We don't end up with any euros.\n",
    "<br>  \n",
    "We do the same thing we did for euros to pounds and yen.  \n",
    "<br>\n",
    "Finally we set the objective to maximize dollars."
   ]
  },
  {
   "cell_type": "markdown",
   "id": "44092a53",
   "metadata": {},
   "source": [
    "### B. Solve for the buy/sell quantities and the arbitrage/profit amount."
   ]
  },
  {
   "cell_type": "code",
   "execution_count": 11,
   "id": "7f20094e",
   "metadata": {},
   "outputs": [
    {
     "name": "stdout",
     "output_type": "stream",
     "text": [
      "Objective value: 10001.0\n",
      "D = 10001.0\n",
      "DE = 2.0622362181625046e7\n",
      "DG = 0.0\n",
      "DJ = 0.0\n",
      "ED = 0.0\n",
      "EG = 0.0\n",
      "EJ = 2.3686712129865784e7\n",
      "GD = 0.0\n",
      "GE = 0.0\n",
      "GJ = 0.0\n",
      "JD = 2.7509747467626123e9\n",
      "JE = 0.0\n",
      "JG = 0.0\n"
     ]
    }
   ],
   "source": [
    "# Solve the optimization problem\n",
    "JuMP.optimize!(m)\n",
    "\n",
    "# Print the objective value\n",
    "println(\"Objective value: \", JuMP.objective_value(m))\n",
    "\n",
    "println(\"D = \", JuMP.value.(D))\n",
    "\n",
    "println(\"DE = \", JuMP.value.(DE))\n",
    "println(\"DG = \", JuMP.value.(DG))\n",
    "println(\"DJ = \", JuMP.value.(DJ))\n",
    "\n",
    "println(\"ED = \", JuMP.value.(ED))\n",
    "println(\"EG = \", JuMP.value.(EG))\n",
    "println(\"EJ = \", JuMP.value.(EJ))\n",
    "\n",
    "println(\"GD = \", JuMP.value.(GD))\n",
    "println(\"GE = \", JuMP.value.(GE))\n",
    "println(\"GJ = \", JuMP.value.(GJ))\n",
    "\n",
    "println(\"JD = \", JuMP.value.(JD))\n",
    "println(\"JE = \", JuMP.value.(JE))\n",
    "println(\"JG = \", JuMP.value.(JG))\n"
   ]
  },
  {
   "cell_type": "markdown",
   "id": "90410de7",
   "metadata": {},
   "source": [
    "### C. Interpret the results and develop a story of the trade executions and the resulting profit.  \n",
    "\n",
    "You start with 1 USD.  \n",
    "\n",
    "You exchange the 1 USD for EUR  "
   ]
  },
  {
   "cell_type": "code",
   "execution_count": 12,
   "id": "53dfb258",
   "metadata": {},
   "outputs": [
    {
     "name": "stdout",
     "output_type": "stream",
     "text": [
      "1.148593547201452"
     ]
    }
   ],
   "source": [
    "EUR = 1 * (1/0.87063) #(USD -> EUR)\n",
    "print(EUR)"
   ]
  },
  {
   "cell_type": "markdown",
   "id": "3ba9d725",
   "metadata": {},
   "source": [
    "Then you exchange your 1.1486 EUR for JPY  "
   ]
  },
  {
   "cell_type": "code",
   "execution_count": 13,
   "id": "c932d163",
   "metadata": {},
   "outputs": [
    {
     "name": "stdout",
     "output_type": "stream",
     "text": [
      "133.39765457197663"
     ]
    }
   ],
   "source": [
    "JPY = EUR * 116.140 #(EUR -> JPY)\n",
    "print(JPY)"
   ]
  },
  {
   "cell_type": "markdown",
   "id": "7227cced",
   "metadata": {},
   "source": [
    "Then you exchange your 133.3976 JPY back to USD"
   ]
  },
  {
   "cell_type": "code",
   "execution_count": 14,
   "id": "c6436a1a",
   "metadata": {},
   "outputs": [
    {
     "name": "stdout",
     "output_type": "stream",
     "text": [
      "1.000484910502101"
     ]
    }
   ],
   "source": [
    "USD = JPY * (1/133.333) #(JPY -> USD)\n",
    "print(USD)"
   ]
  },
  {
   "cell_type": "markdown",
   "id": "db8e068b",
   "metadata": {},
   "source": [
    "You have successfully converted 1 USD into ~1.0005 USD. So your abitrage profit is ~0.0005 USD. If you scale this by 20,622,362.18, you will make a profit of $10,000"
   ]
  },
  {
   "cell_type": "code",
   "execution_count": 15,
   "id": "6421aa24",
   "metadata": {},
   "outputs": [
    {
     "data": {
      "text/plain": [
       "10000.0"
      ]
     },
     "execution_count": 15,
     "metadata": {},
     "output_type": "execute_result"
    }
   ],
   "source": [
    "20622362.181625046 * (USD-1)"
   ]
  }
 ],
 "metadata": {
  "kernelspec": {
   "display_name": "Julia 1.8.5",
   "language": "julia",
   "name": "julia-1.8"
  },
  "language_info": {
   "file_extension": ".jl",
   "mimetype": "application/julia",
   "name": "julia",
   "version": "1.8.5"
  }
 },
 "nbformat": 4,
 "nbformat_minor": 5
}

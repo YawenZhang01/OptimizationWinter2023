{
 "cells": [
  {
   "cell_type": "markdown",
   "id": "1be06c65-f090-42b3-94b3-b493e96fb961",
   "metadata": {},
   "source": [
    "# Homework 03. \n",
    "\n",
    "#### MSCA 32013 Optimization and Simulation Methods. University of Chicago.\n",
    "\n",
    "#### Group 7. Ben Ossyra, Peter Pezon, Yawen Zhang"
   ]
  },
  {
   "cell_type": "markdown",
   "id": "60a8b174",
   "metadata": {},
   "source": [
    "## Q1. Arbitrage trade: hypothetical bid/ask quotes for four major currencies at a given date/time.\n",
    "\n",
    "From Questions 2 from \"Homework 03 - Linear Programming and Simplex Method.\"\n",
    "\n",
    "The table below presents hypothetical bid/ask quotes for four major currencies at a given date/time:\n",
    "\n",
    "Pair   | Bid   | Ask\n",
    "-------|-------|-------\n",
    "EUR/USD|0.87060|0.87063\n",
    "GBP/USD|1.42790|1.42796\n",
    "USD/JPY|133.330|133.333\n",
    "EUR/GBP|0.60970|0.60972\n",
    "EUR/JPY|116.140|116.144\n",
    "GBP/JPY|190.480|190.476\n",
    "\n",
    "The first currency in a currency pair is called the base currency. The bid and the ask are always quoted in terms of the base currency. For example, if you are buying on EUR/USD trade, then you are effectively receiving EUR in exchange for USD at the ask quote.\n",
    "\n",
    "You were given $USD 1$ to attempt an arbitrage trade, assume no transaction costs.\n",
    "\n",
    "---\n",
    "\n",
    "References\n",
    "\n",
    "[1] \"Lecture 5. Foreign-Currency Trading.\" Decision Models. Columbia Business School. https://www.meiss.com/columbia/en/teaching/1999/fall/B6015/download/lecture05/lec5.pdf\n"
   ]
  },
  {
   "cell_type": "markdown",
   "id": "36c45824",
   "metadata": {},
   "source": [
    "### A. Write down a linear programming problem to buy and sell quantities of the base currencies and arbitrage/profit of at most USD  10k.\n",
    "\n",
    "A *spot currency transaction* is an agreement to buy some amount of one currency using another currency. \n",
    "\n",
    "Filled out a cross-currency table for today's spot rates. Columns are indexed by base currency, rows are indexed by exchange currency. Cross-currency spot rates are calculated using the bid/ask quotes.\n",
    "\n",
    "|       | To: | USD     | EUR     | GBP     | JPY     | \n",
    "| ----- | --- | ------- | ------- | ------- | --------|\n",
    "| From: | USD |         | 0.87063 | 1.42790 | 0.00750 |\n",
    "|       | EUR | 1.14859 |         | 1.64010 | 0.00861 |\n",
    "|       | GBP | 0.70030 | 0.60972 |         | 0.00525 | \n",
    "|       | JPY | 133.333 | 116.140 | 190.480 |         | \n",
    "\n",
    "**Figure 1.** Today's Cross-Currency Spot Rates.\n",
    "\n",
    "*Arbitrage* is a set of spot currency transactions that creates positive wealth but does not require any funds to initiate, i.e., it is a \"money pump.\" The arbitrage could involve more than two currencies. if such opportunities exist, it is necessary to be able to identify them and act quickly. \n",
    "\n",
    "Problem Statement: Can a decision model be formulated to detect arbitrage opportunities in the spot currency market. Assume no transaction costs. \n",
    "\n",
    "What needs to be decided? A set of spot currency transactions.\n",
    "\n",
    "What is the objective? Maximize the final net amount of $USD$. \n",
    "\n",
    "What are the constraints? How many constraints?\n",
    "\n",
    "* The final net amount of each currency must be nonnegative. The total amount of all currencies converted into a base currency should be greater than the currency converted in other currencies.\n",
    "* Nonnegative transactions only\n",
    "* There should be one constraint for each currency. Therefore, there are 4 constraints.\n",
    "\n",
    "*Indices*: Let $i = 1,...,4$ represent the currencies $USD$, $EUR$, $GBP$, and $JPY$, respectively.\n",
    "\n",
    "*Decision variables*: Let $x_{i,j} = $ amount of currency $i$ to be converted into currency $j$ (measured in units of curency $i$) for $i = 1, ..., 4, j = 1, ..., 4$, and $i \\neq j$. Therefore, there are 9 decision variables.\n",
    "\n",
    "The \"total out\" of currency $k$ represents the total amount of currency $k$ converted to other currencies, measured in currency $k$. For example, for $USD$ this can be written as $0.87063 x_{2,1} + 1.42790 x_{3,1} + 0.00750 x_{4,1}$.\n",
    "\n",
    "The \"total in\" to currency $k$ represents the total amount of other currencies converted into currency $i$, measured in currency $k$. For example, for $USD$ this can be written as $x_{1,2} + x_{1,3} + x_{1,4}$.\n",
    "\n",
    "Final net to currency $k$ represents the final or net amount of currency $k$. For example, for $USD$ this can be written as $0.87063 x_{2,1} + 1.42790 x_{3,1} + 0.00750 x_{4,1} - (x_{1,2} + x_{1,3} + x_{1,4})$.\n",
    "\n",
    "Let $f_{k}$ represent the final amount of currency $k$ (measured in units of currency $k$) for $k = 1, ..., 4$. That is, $f_{k}$ is the total converted into currency $k$ minus the total converted out of currency $k$. \n",
    "\n",
    "Finally, we are given $USD 1$ to attempt an arbitrage trade. We start with no other currencies. Let $I$ be the initial investment for each currency $i$. Let $I = [1, 0, 0, 0]$.\n",
    "\n",
    "We set the currency $USD$ at index $i = 1$ because that is the currency of interest and the starting base currency. Therefore, we can say that we are maximizing $f_{1}$, or the final amount of currency measured in units of $USD$. \n",
    "\n",
    "Therefore the arbitrage linear programming model is:\n",
    "\n",
    "$$ \\max{f_{1}} $$\n",
    "subject to: \n",
    "\n",
    "The final net amount $f_{k}$ definitions:\n",
    "\n",
    "$$ f_{1} = 0.87063 x_{2,1} + 1.42790 x_{3,1} + 0.00750 x_{4,1} - (x_{1,2} + x_{1,3} + x_{1,4}) $$\n",
    "$$ f_{2} = 1.14859 x_{1,2} + 1.64010 x_{3,2} + 0.00861 x_{4,2} - (x_{2,1} + x_{2,3} + x_{2,4}) $$\n",
    "$$ f_{3} = 0.70030 x_{1,3} + 0.60972 x_{2,3} + 0.00525 x_{4,3} - (x_{3,1} + x_{3,2} + x_{3,4}) $$\n",
    "$$ f_{4} = 133.333 x_{1,4} + 116.140 x_{2,4} + 190.480 x_{3,4} - (x_{4,1} + x_{4,2} + x_{4,3}) $$\n",
    "\n",
    "Nonnegative boundary for all variables:\n",
    "\n",
    "$ x_{i,j} \\geq 0 $ for all $ i = 1, ..., 4, j = 1, ..., 4, i \\neq j $\n",
    "\n",
    "$ f_{k} \\geq 0 $ for all $ k = 0, ..., 4 $\n",
    "\n",
    "Bound on total arbitrage maximum profit of \\$10,000. To ensure a profit of at most \\$10,000, we constrain D to \\$10,001 (the profit plus the dollar we start with)\n",
    "\n",
    "$ f_{1} \\leq 10001 $"
   ]
  },
  {
   "cell_type": "markdown",
   "id": "87718980",
   "metadata": {},
   "source": [
    "### B. Solve for the buy/sell quantities and the arbitrage/profit amount."
   ]
  },
  {
   "cell_type": "code",
   "execution_count": 3,
   "id": "e43d5634",
   "metadata": {},
   "outputs": [
    {
     "name": "stderr",
     "output_type": "stream",
     "text": [
      "WARNING: using LinearAlgebra.I in module Main conflicts with an existing identifier.\n"
     ]
    },
    {
     "data": {
      "text/latex": [
       "$$ \\begin{aligned}\n",
       "\\max\\quad & f_{1}\\\\\n",
       "\\text{Subject to} \\quad & -x_{1,1} + 0.87063 x_{2,1} + 1.4279 x_{3,1} + 0.007500018750046875 x_{4,1} - x_{1,2} - x_{1,3} - x_{1,4} - f_{1} = -1.0\\\\\n",
       " & -x_{2,1} + 1.148593547201452 x_{1,2} - x_{2,2} + 1.6400970937479498 x_{3,2} + 0.00861000137760022 x_{4,2} - x_{2,3} - x_{2,4} - f_{2} = 0.0\\\\\n",
       " & -x_{3,1} - x_{3,2} + 0.7002997282837055 x_{1,3} + 0.60972 x_{2,3} - x_{3,3} + 0.00525000525000525 x_{4,3} - x_{3,4} - f_{3} = 0.0\\\\\n",
       " & -x_{4,1} - x_{4,2} - x_{4,3} + 133.333 x_{1,4} + 116.14 x_{2,4} + 190.48 x_{3,4} - x_{4,4} - f_{4} = 0.0\\\\\n",
       " & f_{1} \\leq 10001.0\\\\\n",
       " & x_{1,1} \\geq 0.0\\\\\n",
       " & x_{2,1} \\geq 0.0\\\\\n",
       " & x_{3,1} \\geq 0.0\\\\\n",
       " & x_{4,1} \\geq 0.0\\\\\n",
       " & x_{1,2} \\geq 0.0\\\\\n",
       " & x_{2,2} \\geq 0.0\\\\\n",
       " & x_{3,2} \\geq 0.0\\\\\n",
       " & x_{4,2} \\geq 0.0\\\\\n",
       " & x_{1,3} \\geq 0.0\\\\\n",
       " & x_{2,3} \\geq 0.0\\\\\n",
       " & x_{3,3} \\geq 0.0\\\\\n",
       " & x_{4,3} \\geq 0.0\\\\\n",
       " & x_{1,4} \\geq 0.0\\\\\n",
       " & x_{2,4} \\geq 0.0\\\\\n",
       " & x_{3,4} \\geq 0.0\\\\\n",
       " & x_{4,4} \\geq 0.0\\\\\n",
       " & f_{1} \\geq 0.0\\\\\n",
       " & f_{2} \\geq 0.0\\\\\n",
       " & f_{3} \\geq 0.0\\\\\n",
       " & f_{4} \\geq 0.0\\\\\n",
       "\\end{aligned} $$"
      ]
     },
     "metadata": {},
     "output_type": "display_data"
    },
    {
     "name": "stdout",
     "output_type": "stream",
     "text": [
      "Objective value: 10001.0\n",
      "f = [10001.0, 0.0, 0.0, 0.0]\n",
      "x = [0.0 2.0622362181625046e7 0.0 0.0; 0.0 0.0 0.0 2.3686712129865784e7; 0.0 0.0 0.0 0.0; 2.7509747467626123e9 0.0 0.0 0.0]\n"
     ]
    }
   ],
   "source": [
    "using JuMP, GLPK, LinearAlgebra\n",
    "\n",
    "m = Model(GLPK.Optimizer)\n",
    "\n",
    "# Specify cross-currency spot rate matrix:\n",
    "SR = [  0               0.87063         1.42790         (1/133.333) ;\n",
    "        (1/0.87063)     0               (1/0.60972)     (1/116.144) ;\n",
    "        (1/1.42796)     0.60972         0               (1/190.476) ;\n",
    "        133.333         116.140         190.480         0           ]\n",
    "\n",
    "# Initial investment:\n",
    "I = [ 1; 0; 0; 0 ]\n",
    "\n",
    "# Declare variables and non-negative boundaries for all variables:\n",
    "@variable(m, x[i = 1:4, j = 1:4] .>= 0)\n",
    "@variable(m, f[k = 1:4] .>= 0)\n",
    "\n",
    "# Add final net amount f_k constraints (including initial investment I_i)\n",
    "for i = 1:4\n",
    "    @constraint(m, I[i] + dot(SR[i,:], x[:,i]) - sum(x[i,:]) == f[i])\n",
    "end\n",
    "\n",
    "# Add bound on total arbitrage (avoid infinite money):\n",
    "@constraint(m, f[1] <= 10001)\n",
    "\n",
    "# Set the objective:\n",
    "@objective(m, Max, f[1])\n",
    "\n",
    "# Print the model:\n",
    "print(m)\n",
    "\n",
    "# Solve the optimization problem:\n",
    "JuMP.optimize!(m)\n",
    "\n",
    "# Print the objective value:\n",
    "println(\"Objective value: \", JuMP.objective_value(m))\n",
    "\n",
    "# Print the optimal solutions obtained\n",
    "println(\"f = \", JuMP.value.(f))\n",
    "println(\"x = \", JuMP.value.(x))"
   ]
  },
  {
   "cell_type": "markdown",
   "id": "90410de7",
   "metadata": {},
   "source": [
    "### C. Interpret the results and develop a story of the trade executions and the resulting profit.\n",
    "\n",
    "The optimal solution uses three currencies, $USD$, $GBP$, and $JPY$. The indicated trades produce nonnegative amounts of all currencies and a positive amount of $USD$.\n",
    "\n",
    "Starting with an initial investment of $1 USD$, it is exchanged for $EUR$.  "
   ]
  },
  {
   "cell_type": "code",
   "execution_count": 4,
   "id": "53dfb258",
   "metadata": {},
   "outputs": [
    {
     "name": "stdout",
     "output_type": "stream",
     "text": [
      "1.148593547201452"
     ]
    }
   ],
   "source": [
    "EUR = 1 * (1/0.87063) # (USD -> EUR)\n",
    "print(EUR)"
   ]
  },
  {
   "cell_type": "markdown",
   "id": "3ba9d725",
   "metadata": {},
   "source": [
    "Then you exchange your 1.1486 EUR for JPY  "
   ]
  },
  {
   "cell_type": "code",
   "execution_count": 5,
   "id": "c932d163",
   "metadata": {},
   "outputs": [
    {
     "name": "stdout",
     "output_type": "stream",
     "text": [
      "133.39765457197663"
     ]
    }
   ],
   "source": [
    "JPY = EUR * 116.140 # (EUR -> JPY)\n",
    "print(JPY)"
   ]
  },
  {
   "cell_type": "markdown",
   "id": "7227cced",
   "metadata": {},
   "source": [
    "Then you exchange your 133.3976 JPY back to USD"
   ]
  },
  {
   "cell_type": "code",
   "execution_count": 6,
   "id": "c6436a1a",
   "metadata": {},
   "outputs": [
    {
     "name": "stdout",
     "output_type": "stream",
     "text": [
      "1.000484910502101"
     ]
    }
   ],
   "source": [
    "USD = JPY * (1/133.333) # (JPY -> USD)\n",
    "print(USD)"
   ]
  },
  {
   "cell_type": "markdown",
   "id": "db8e068b",
   "metadata": {},
   "source": [
    "You have successfully converted 1 USD into ~1.0005 USD. So your abitrage profit is ~0.0005 USD. If you scale this by 20,622,362.18, you will make a profit of $10,000"
   ]
  },
  {
   "cell_type": "code",
   "execution_count": 15,
   "id": "6421aa24",
   "metadata": {},
   "outputs": [
    {
     "data": {
      "text/plain": [
       "10000.0"
      ]
     },
     "execution_count": 15,
     "metadata": {},
     "output_type": "execute_result"
    }
   ],
   "source": [
    "20622362.181625046 * (USD-1)"
   ]
  },
  {
   "cell_type": "markdown",
   "id": "d4909106",
   "metadata": {},
   "source": [
    "## Q2. Fuel production.\n",
    "\n",
    "A refinery produces a high grade (H) and a low grade (L) fuel from five raw stocks with different octane rating. The price and the rating threshold for the two fuel types\n",
    "are presented in the table below:\n",
    "\n",
    "| Fuel | Rating | Price ($/B) |\n",
    "| ---- | ------ | ----------- |\n",
    "| High |\t93\t| 37.5        |\n",
    "| Low  |\t85\t| 28.5        |\n",
    "\n",
    "The rating, price, and quantity available of each raw material are presented below.\n",
    "\n",
    "| Stock | Rating | Price | Quantity |\n",
    "| ----- | ------ | ----- | -------- |\n",
    "|  1    |\t70\t |\t9.0\t | 2000     |\n",
    "|  2    |\t80\t |\t12.5 | 4000     |\n",
    "|  3    |\t85\t |\t12.5 | 4000     |\n",
    "|  4    |\t90\t |\t27.5 | 5000     |\n",
    "|  5    |\t99\t |\t27.5 | 3000     |\n",
    "\n",
    "The refinery can sell the high and low fuels and any unused raw materials. The goal is to maximize revenue. Find the optimal blend for the high grade and low grade fuel."
   ]
  },
  {
   "attachments": {},
   "cell_type": "markdown",
   "id": "9f981616",
   "metadata": {},
   "source": [
    "Problem statement: what is the right combination of raw stock to blend to create low and high grade fuel, and what quantity of raw stock, low grade and high grade fuels will maximize profit?\n",
    "\n",
    "Our objective is to maximize profits, defined as quantity times price. Therefore we want to adjust the quantities of high-grade fuel, low-grade fuel and raw stocks that are sold.\n",
    "\n",
    "Define our variables: \n",
    "\n",
    "* $x_{1}, ..., x_{5}$ are quantities of raw stock to produce high grade fuel.\n",
    "* $x_{6}, ..., x_{10}$ are quantities of raw stock to produce low grade fuel.\n",
    "* $x_{11}, ..., x_{15}$ are quantities of raw stock sold.\n",
    "* $x_{16}$ are quantity of high grade fuel sold.\n",
    "* $x_{17}$ are quantity of low grade fuel sold.\n",
    "\n",
    "Regarding constraints:\n",
    "\n",
    "The quantity of raw stock used to produce high grade fuel, low grade fuel, and sold, cannot exceed the quantity of raw stock available:\n",
    "\n",
    "$$ x1 + x6 + x11  \\leq 2000 $$\n",
    "$$ x2 + x7 + x12  \\leq 4000 $$\n",
    "$$ x3 + x8 + x13  \\leq 4000 $$\n",
    "$$ x4 + x9 + x14  \\leq 5000 $$\n",
    "$$ x5 + x10 + x15 \\leq 3000 $$\n",
    "\n",
    "The quantity of raw stocks used to produce high grade fuel must match the quantity of high grade fuel produced and sold:\n",
    "\n",
    "$$ x_1 + x_2 + x_3 + x_4 + x_5 = x_{16} $$ \n",
    "\n",
    "Similar for the quantity of low grade fuel produced and the quantity of raw stocks used to produce the low grade fuel: \n",
    "\n",
    "$$ x_6 + x_7 + x_8 + x_9 + x_{10} = x_{17} $$\n",
    "\n",
    "We can blend raw stocks to create high grade fuel, and we want to ensure that the blended fuel grade is higher than 93. \n",
    "\n",
    "$$ 70x_1 + 80x_2 + 85x_3 + 90x_4 + 99x_5 \\geq 93x_{16} $$\n",
    "\n",
    "Similarly for low grad3e fuel: after blending raw stocks to create low grade fuel, we want to ensure that the blended fuel grade is higher than 85.\n",
    "\n",
    "$$ 70x_6 + 80x_7 + 85x_8 + 90x_9 + 99x_{10} \\geq 85x_{17} $$\n",
    "\n",
    "The objective function is defined as:\n",
    "\n",
    "$$ max\\ \\  9x_{11} + 12.5x_{12} + 12.5x_{13} + 27.5x_{14} + 27.5x_{15} + 37.5x_{16} + 28.5x_{17} $$\n"
   ]
  },
  {
   "cell_type": "code",
   "execution_count": null,
   "id": "20e53488",
   "metadata": {},
   "outputs": [],
   "source": [
    "using JuMP, GLPK\n",
    "\n",
    "m = Model(GLPK.Optimizer)\n",
    "\n",
    "#Declare Variables:\n",
    "@variable(m, x1 >= 0)\n",
    "@variable(m, x2 >= 0)\n",
    "@variable(m, x3 >= 0)\n",
    "@variable(m, x4 >= 0)\n",
    "@variable(m, x5 >= 0)\n",
    "@variable(m, x6 >= 0)\n",
    "@variable(m, x7 >= 0)\n",
    "@variable(m, x8 >= 0)\n",
    "@variable(m, x9 >= 0)\n",
    "@variable(m, x10 >= 0)\n",
    "@variable(m, x11 >= 0)\n",
    "@variable(m, x12 >= 0)\n",
    "@variable(m, x13 >= 0)\n",
    "@variable(m, x14 >= 0)\n",
    "@variable(m, x15 >= 0)\n",
    "@variable(m, x16 >= 0)\n",
    "@variable(m, x17 >= 0)\n",
    "\n",
    "# Add constraints\n",
    "@constraint(m, constraint_1, x1 + x6 + x11  <= 2000)\n",
    "@constraint(m, constraint_2, x2 + x7 + x12  <= 4000)\n",
    "@constraint(m, constraint_3, x3 + x8 + x13  <= 4000)\n",
    "@constraint(m, constraint_4, x4 + x9 + x14  <= 5000)\n",
    "@constraint(m, constraint_5, x5 + x10 + x15 <= 3000)\n",
    "@constraint(m, constraint_6, 70x1 + 80x2 + 85x3 + 90x4 + 99x5  >= 93x16)\n",
    "@constraint(m, constraint_7, 70x6 + 80x7 + 85x8 + 90x9 + 99x10 >= 85x17)\n",
    "@constraint(m, constraint_8, x1 + x2 + x3 + x4 + x5  == x16)\n",
    "@constraint(m, constraint_9, x6 + x7 + x8 + x9 + x10 == x17)\n",
    "\n",
    "#Set the objective\n",
    "@objective(m, Max, 9x11 + 12.5x12 + 12.5x13 + 27.5x14 + 27.5x15 + 37.5x16 + 28.5x17)\n",
    "print(m)\n",
    "\n",
    "\n",
    "begin\n",
    "    status = optimize!(m)\n",
    "end\n",
    "println(\"Objective value :\", JuMP.objective_value(m))\n",
    "#println(\"Optimal solution is x= \\n\", JuMP.value.(x))\n",
    "println(\"x1 = \", JuMP.value(x1))  # => x1 = 1.0\n",
    "println(\"x2 = \", JuMP.value(x2))\n",
    "println(\"x3 = \", JuMP.value(x3))\n",
    "println(\"x4 = \", JuMP.value(x4))\n",
    "println(\"x5 = \", JuMP.value(x5))\n",
    "println(\"x6 = \", JuMP.value(x6))\n",
    "println(\"x7 = \", JuMP.value(x7))\n",
    "println(\"x8 = \", JuMP.value(x8))\n",
    "println(\"x9 = \", JuMP.value(x9))\n",
    "println(\"x10 = \", JuMP.value(x10))\n",
    "println(\"x11 = \", JuMP.value(x11))\n",
    "println(\"x12 = \", JuMP.value(x12))\n",
    "println(\"x13 = \", JuMP.value(x13))\n",
    "println(\"x14 = \", JuMP.value(x14))\n",
    "println(\"x15 = \", JuMP.value(x15))\n",
    "println(\"x16 = \", JuMP.value(x16))\n",
    "println(\"x17 = \", JuMP.value(x17))\n"
   ]
  },
  {
   "cell_type": "markdown",
   "id": "cdaf3210",
   "metadata": {},
   "source": [
    "### How many barrels of high and low grade fuel are produced and sold?  \n",
    "2,125 barrels of high grade fuel are produced and sold. And 15,875 barrels of low grade fuel are produced and sold.\n",
    "\n",
    "### How many barrels of each stock is not utilized in the production and instead is directly sold?  \n",
    "No barrels of raw materials are sold. All of the materials are used in the production of fuel.\n",
    "\n",
    "### What is the total revenue?\n",
    "The total revenue is $532,125\n",
    "### What is the contribution to revenue of each stock (1-5) and fuel sold (high and low)?"
   ]
  },
  {
   "cell_type": "code",
   "execution_count": null,
   "id": "fb641878",
   "metadata": {},
   "outputs": [],
   "source": [
    "2125 * 37.5"
   ]
  },
  {
   "cell_type": "markdown",
   "id": "de53c797",
   "metadata": {},
   "source": [
    "High grade fuel generates $79,687.50 in revenue"
   ]
  },
  {
   "cell_type": "code",
   "execution_count": null,
   "id": "e7c570d9",
   "metadata": {},
   "outputs": [],
   "source": [
    "15875 * 28.5"
   ]
  },
  {
   "cell_type": "markdown",
   "id": "8a695529",
   "metadata": {},
   "source": [
    "Low grade fuel generates $452,437.50 in revenue"
   ]
  },
  {
   "cell_type": "code",
   "execution_count": null,
   "id": "4e0fdbd7",
   "metadata": {},
   "outputs": [],
   "source": [
    "79687.5 + 452437.50"
   ]
  },
  {
   "cell_type": "markdown",
   "id": "14270779",
   "metadata": {},
   "source": [
    "No raw materials are sold, so they do not contribute to the sales revenue"
   ]
  }
 ],
 "metadata": {
  "kernelspec": {
   "display_name": "Julia 1.8.4",
   "language": "julia",
   "name": "julia-1.8"
  },
  "language_info": {
   "file_extension": ".jl",
   "mimetype": "application/julia",
   "name": "julia",
   "version": "1.8.4"
  }
 },
 "nbformat": 4,
 "nbformat_minor": 5
}

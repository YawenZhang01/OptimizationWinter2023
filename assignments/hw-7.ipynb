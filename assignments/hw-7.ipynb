{
 "cells": [
  {
   "cell_type": "markdown",
   "metadata": {},
   "source": [
    "# Homework 07: Nonlinear Optimization/Traveling Salesperson\n",
    "\n",
    "MSCA 32013 Optimization and Simulation Methods. University of Chicago.\n",
    "\n",
    "Group 7. Ben Ossyra, Peter Pezon. Yawen Zhang. "
   ]
  },
  {
   "cell_type": "markdown",
   "metadata": {},
   "source": [
    "## Q.1. Constrained optimization\n",
    "\n",
    "Consider the following optimization problem:\n",
    "\n",
    "$ \\max_{x} x_{1}^{0.5} x_{2}^{0.5} $\n",
    "\n",
    "$ s.t. \\ \\ \\ \\ 0.5 x_{1} + x_{2} = 1 $\n",
    "\n",
    "$ \\ \\ \\ \\ \\ \\ \\ \\ \\ \\ x_1, x_2 \\geq 0 $ "
   ]
  },
  {
   "cell_type": "markdown",
   "metadata": {},
   "source": [
    "### A. Rewrite the above as an unconstraint problem (use the linear constraint to substitute out $x_2$)\n",
    "\n",
    "Let $ f(x_1, x_2) = x_{1}^{0.5} x_{2}^{0.5} $.\n",
    "\n",
    "Let $ g(x_1, x_2) = 0.5 x_{1} + x_{2} $.\n",
    "\n",
    "Let $ x_2 = 1 - 0.5 x_1 $.\n",
    "\n",
    "Substitute $x_2$ in $f$:\n",
    "\n",
    "$ f(x_1) = x_{1}^{0.5} x_{2}^{0.5} $\n",
    "\n",
    "$ =  x_{1}^{0.5} (1 - 0.5 x_1)^{0.5} $\n",
    "\n",
    "$ = \\sqrt{x_1} \\sqrt{1 - \\frac{x_1}{2}} $\n",
    "\n",
    "Thus the optimization problem can be rewritten as the following unconstraint problem:\n",
    "\n",
    "$ \\max_{x} x_{1}^{0.5} (1 - 0.5 x_1)^{0.5} $\n",
    "\n",
    "$ \\ \\ \\ \\ \\ \\ \\ \\ \\ \\ x_1 \\geq 0 $ \n"
   ]
  },
  {
   "cell_type": "markdown",
   "metadata": {},
   "source": [
    "#### i. Plots the objective function for the feasible range for $x_1$\n",
    "\n",
    "The feasible region for the objective function is where $f(x)$ is within the set of Real Numbers, which occurs when $x_1 \\geq 0$ and $1 - 0.5 x_1 \\geq 0$.\n",
    "\n",
    "$1 - 0.5 x_1 \\geq 0$\n",
    "\n",
    "$x_1 \\leq \\frac{-1}{-0.5}$\n",
    "\n",
    "$x_1 \\leq 2$ \n",
    "\n",
    "Therefore, the feasible region for $x_1$ is $\\{x_1: 0 \\leq x_1\\leq 2\\}$.\n",
    "\n",
    "Below, we plot the function $f(x_1)$ for the feasible range. We can see that the function is only continuous on the Real Number line within the feasible region, and that the objective value is maximum at $x \\approx 1$, an interior point."
   ]
  },
  {
   "cell_type": "code",
   "execution_count": 12,
   "metadata": {},
   "outputs": [
    {
     "data": {
      "image/svg+xml": "<?xml version=\"1.0\" encoding=\"utf-8\" standalone=\"no\"?>\n<!DOCTYPE svg PUBLIC \"-//W3C//DTD SVG 1.1//EN\"\n  \"http://www.w3.org/Graphics/SVG/1.1/DTD/svg11.dtd\">\n<svg xmlns:xlink=\"http://www.w3.org/1999/xlink\" width=\"432pt\" height=\"288pt\" viewBox=\"0 0 432 288\" xmlns=\"http://www.w3.org/2000/svg\" version=\"1.1\">\n <metadata>\n  <rdf:RDF xmlns:dc=\"http://purl.org/dc/elements/1.1/\" xmlns:cc=\"http://creativecommons.org/ns#\" xmlns:rdf=\"http://www.w3.org/1999/02/22-rdf-syntax-ns#\">\n   <cc:Work>\n    <dc:type rdf:resource=\"http://purl.org/dc/dcmitype/StillImage\"/>\n    <dc:date>2023-03-01T14:35:45.465495</dc:date>\n    <dc:format>image/svg+xml</dc:format>\n    <dc:creator>\n     <cc:Agent>\n      <dc:title>Matplotlib v3.7.0, https://matplotlib.org/</dc:title>\n     </cc:Agent>\n    </dc:creator>\n   </cc:Work>\n  </rdf:RDF>\n </metadata>\n <defs>\n  <style type=\"text/css\">*{stroke-linejoin: round; stroke-linecap: butt}</style>\n </defs>\n <g id=\"figure_1\">\n  <g id=\"patch_1\">\n   <path d=\"M 0 288 \nL 432 288 \nL 432 0 \nL 0 0 \nz\n\" style=\"fill: #ffffff\"/>\n  </g>\n  <g id=\"axes_1\">\n   <g id=\"patch_2\">\n    <path d=\"M 19.963856 273.025354 \nL 429.165354 273.025354 \nL 429.165354 2.834646 \nL 19.963856 2.834646 \nz\n\" style=\"fill: #ffffff\"/>\n   </g>\n   <g id=\"matplotlib.axis_1\">\n    <g id=\"xtick_1\">\n     <g id=\"line2d_1\">\n      <path d=\"M 31.54503 273.025354 \nL 31.54503 2.834646 \n\" clip-path=\"url(#pbe8040162b)\" style=\"fill: none; stroke: #000000; stroke-opacity: 0.1; stroke-width: 0.5; stroke-linecap: square\"/>\n     </g>\n     <g id=\"line2d_2\">\n      <defs>\n       <path id=\"mcb9d0291dc\" d=\"M 0 0 \nL 0 -3 \n\" style=\"stroke: #000000; stroke-width: 0.5\"/>\n      </defs>\n      <g>\n       <use xlink:href=\"#mcb9d0291dc\" x=\"31.54503\" y=\"273.025354\" style=\"stroke: #000000; stroke-width: 0.5\"/>\n      </g>\n     </g>\n     <g id=\"text_1\">\n      <!-- $0.0$ -->\n      <g transform=\"translate(25.14503 282.604104) scale(0.08 -0.08)\">\n       <defs>\n        <path id=\"DejaVuSans-30\" d=\"M 2034 4250 \nQ 1547 4250 1301 3770 \nQ 1056 3291 1056 2328 \nQ 1056 1369 1301 889 \nQ 1547 409 2034 409 \nQ 2525 409 2770 889 \nQ 3016 1369 3016 2328 \nQ 3016 3291 2770 3770 \nQ 2525 4250 2034 4250 \nz\nM 2034 4750 \nQ 2819 4750 3233 4129 \nQ 3647 3509 3647 2328 \nQ 3647 1150 3233 529 \nQ 2819 -91 2034 -91 \nQ 1250 -91 836 529 \nQ 422 1150 422 2328 \nQ 422 3509 836 4129 \nQ 1250 4750 2034 4750 \nz\n\" transform=\"scale(0.015625)\"/>\n        <path id=\"DejaVuSans-2e\" d=\"M 684 794 \nL 1344 794 \nL 1344 0 \nL 684 0 \nL 684 794 \nz\n\" transform=\"scale(0.015625)\"/>\n       </defs>\n       <use xlink:href=\"#DejaVuSans-30\" transform=\"translate(0 0.78125)\"/>\n       <use xlink:href=\"#DejaVuSans-2e\" transform=\"translate(63.623047 0.78125)\"/>\n       <use xlink:href=\"#DejaVuSans-30\" transform=\"translate(95.410156 0.78125)\"/>\n      </g>\n     </g>\n    </g>\n    <g id=\"xtick_2\">\n     <g id=\"line2d_3\">\n      <path d=\"M 128.054818 273.025354 \nL 128.054818 2.834646 \n\" clip-path=\"url(#pbe8040162b)\" style=\"fill: none; stroke: #000000; stroke-opacity: 0.1; stroke-width: 0.5; stroke-linecap: square\"/>\n     </g>\n     <g id=\"line2d_4\">\n      <g>\n       <use xlink:href=\"#mcb9d0291dc\" x=\"128.054818\" y=\"273.025354\" style=\"stroke: #000000; stroke-width: 0.5\"/>\n      </g>\n     </g>\n     <g id=\"text_2\">\n      <!-- $0.5$ -->\n      <g transform=\"translate(121.654818 282.604104) scale(0.08 -0.08)\">\n       <defs>\n        <path id=\"DejaVuSans-35\" d=\"M 691 4666 \nL 3169 4666 \nL 3169 4134 \nL 1269 4134 \nL 1269 2991 \nQ 1406 3038 1543 3061 \nQ 1681 3084 1819 3084 \nQ 2600 3084 3056 2656 \nQ 3513 2228 3513 1497 \nQ 3513 744 3044 326 \nQ 2575 -91 1722 -91 \nQ 1428 -91 1123 -41 \nQ 819 9 494 109 \nL 494 744 \nQ 775 591 1075 516 \nQ 1375 441 1709 441 \nQ 2250 441 2565 725 \nQ 2881 1009 2881 1497 \nQ 2881 1984 2565 2268 \nQ 2250 2553 1709 2553 \nQ 1456 2553 1204 2497 \nQ 953 2441 691 2322 \nL 691 4666 \nz\n\" transform=\"scale(0.015625)\"/>\n       </defs>\n       <use xlink:href=\"#DejaVuSans-30\" transform=\"translate(0 0.78125)\"/>\n       <use xlink:href=\"#DejaVuSans-2e\" transform=\"translate(63.623047 0.78125)\"/>\n       <use xlink:href=\"#DejaVuSans-35\" transform=\"translate(95.410156 0.78125)\"/>\n      </g>\n     </g>\n    </g>\n    <g id=\"xtick_3\">\n     <g id=\"line2d_5\">\n      <path d=\"M 224.564605 273.025354 \nL 224.564605 2.834646 \n\" clip-path=\"url(#pbe8040162b)\" style=\"fill: none; stroke: #000000; stroke-opacity: 0.1; stroke-width: 0.5; stroke-linecap: square\"/>\n     </g>\n     <g id=\"line2d_6\">\n      <g>\n       <use xlink:href=\"#mcb9d0291dc\" x=\"224.564605\" y=\"273.025354\" style=\"stroke: #000000; stroke-width: 0.5\"/>\n      </g>\n     </g>\n     <g id=\"text_3\">\n      <!-- $1.0$ -->\n      <g transform=\"translate(218.164605 282.604104) scale(0.08 -0.08)\">\n       <defs>\n        <path id=\"DejaVuSans-31\" d=\"M 794 531 \nL 1825 531 \nL 1825 4091 \nL 703 3866 \nL 703 4441 \nL 1819 4666 \nL 2450 4666 \nL 2450 531 \nL 3481 531 \nL 3481 0 \nL 794 0 \nL 794 531 \nz\n\" transform=\"scale(0.015625)\"/>\n       </defs>\n       <use xlink:href=\"#DejaVuSans-31\" transform=\"translate(0 0.78125)\"/>\n       <use xlink:href=\"#DejaVuSans-2e\" transform=\"translate(63.623047 0.78125)\"/>\n       <use xlink:href=\"#DejaVuSans-30\" transform=\"translate(95.410156 0.78125)\"/>\n      </g>\n     </g>\n    </g>\n    <g id=\"xtick_4\">\n     <g id=\"line2d_7\">\n      <path d=\"M 321.074392 273.025354 \nL 321.074392 2.834646 \n\" clip-path=\"url(#pbe8040162b)\" style=\"fill: none; stroke: #000000; stroke-opacity: 0.1; stroke-width: 0.5; stroke-linecap: square\"/>\n     </g>\n     <g id=\"line2d_8\">\n      <g>\n       <use xlink:href=\"#mcb9d0291dc\" x=\"321.074392\" y=\"273.025354\" style=\"stroke: #000000; stroke-width: 0.5\"/>\n      </g>\n     </g>\n     <g id=\"text_4\">\n      <!-- $1.5$ -->\n      <g transform=\"translate(314.674392 282.604104) scale(0.08 -0.08)\">\n       <use xlink:href=\"#DejaVuSans-31\" transform=\"translate(0 0.09375)\"/>\n       <use xlink:href=\"#DejaVuSans-2e\" transform=\"translate(63.623047 0.09375)\"/>\n       <use xlink:href=\"#DejaVuSans-35\" transform=\"translate(95.410156 0.09375)\"/>\n      </g>\n     </g>\n    </g>\n    <g id=\"xtick_5\">\n     <g id=\"line2d_9\">\n      <path d=\"M 417.58418 273.025354 \nL 417.58418 2.834646 \n\" clip-path=\"url(#pbe8040162b)\" style=\"fill: none; stroke: #000000; stroke-opacity: 0.1; stroke-width: 0.5; stroke-linecap: square\"/>\n     </g>\n     <g id=\"line2d_10\">\n      <g>\n       <use xlink:href=\"#mcb9d0291dc\" x=\"417.58418\" y=\"273.025354\" style=\"stroke: #000000; stroke-width: 0.5\"/>\n      </g>\n     </g>\n     <g id=\"text_5\">\n      <!-- $2.0$ -->\n      <g transform=\"translate(411.18418 282.604104) scale(0.08 -0.08)\">\n       <defs>\n        <path id=\"DejaVuSans-32\" d=\"M 1228 531 \nL 3431 531 \nL 3431 0 \nL 469 0 \nL 469 531 \nQ 828 903 1448 1529 \nQ 2069 2156 2228 2338 \nQ 2531 2678 2651 2914 \nQ 2772 3150 2772 3378 \nQ 2772 3750 2511 3984 \nQ 2250 4219 1831 4219 \nQ 1534 4219 1204 4116 \nQ 875 4013 500 3803 \nL 500 4441 \nQ 881 4594 1212 4672 \nQ 1544 4750 1819 4750 \nQ 2544 4750 2975 4387 \nQ 3406 4025 3406 3419 \nQ 3406 3131 3298 2873 \nQ 3191 2616 2906 2266 \nQ 2828 2175 2409 1742 \nQ 1991 1309 1228 531 \nz\n\" transform=\"scale(0.015625)\"/>\n       </defs>\n       <use xlink:href=\"#DejaVuSans-32\" transform=\"translate(0 0.78125)\"/>\n       <use xlink:href=\"#DejaVuSans-2e\" transform=\"translate(63.623047 0.78125)\"/>\n       <use xlink:href=\"#DejaVuSans-30\" transform=\"translate(95.410156 0.78125)\"/>\n      </g>\n     </g>\n    </g>\n   </g>\n   <g id=\"matplotlib.axis_2\">\n    <g id=\"ytick_1\">\n     <g id=\"line2d_11\">\n      <path d=\"M 19.963856 265.378447 \nL 429.165354 265.378447 \n\" clip-path=\"url(#pbe8040162b)\" style=\"fill: none; stroke: #000000; stroke-opacity: 0.1; stroke-width: 0.5; stroke-linecap: square\"/>\n     </g>\n     <g id=\"line2d_12\">\n      <defs>\n       <path id=\"m06c9f129a0\" d=\"M 0 0 \nL 3 0 \n\" style=\"stroke: #000000; stroke-width: 0.5\"/>\n      </defs>\n      <g>\n       <use xlink:href=\"#m06c9f129a0\" x=\"19.963856\" y=\"265.378447\" style=\"stroke: #000000; stroke-width: 0.5\"/>\n      </g>\n     </g>\n     <g id=\"text_6\">\n      <!-- $0.0$ -->\n      <g transform=\"translate(3.663856 268.417822) scale(0.08 -0.08)\">\n       <use xlink:href=\"#DejaVuSans-30\" transform=\"translate(0 0.78125)\"/>\n       <use xlink:href=\"#DejaVuSans-2e\" transform=\"translate(63.623047 0.78125)\"/>\n       <use xlink:href=\"#DejaVuSans-30\" transform=\"translate(95.410156 0.78125)\"/>\n      </g>\n     </g>\n    </g>\n    <g id=\"ytick_2\">\n     <g id=\"line2d_13\">\n      <path d=\"M 19.963856 193.281973 \nL 429.165354 193.281973 \n\" clip-path=\"url(#pbe8040162b)\" style=\"fill: none; stroke: #000000; stroke-opacity: 0.1; stroke-width: 0.5; stroke-linecap: square\"/>\n     </g>\n     <g id=\"line2d_14\">\n      <g>\n       <use xlink:href=\"#m06c9f129a0\" x=\"19.963856\" y=\"193.281973\" style=\"stroke: #000000; stroke-width: 0.5\"/>\n      </g>\n     </g>\n     <g id=\"text_7\">\n      <!-- $0.2$ -->\n      <g transform=\"translate(4.143856 196.321348) scale(0.08 -0.08)\">\n       <use xlink:href=\"#DejaVuSans-30\" transform=\"translate(0 0.78125)\"/>\n       <use xlink:href=\"#DejaVuSans-2e\" transform=\"translate(63.623047 0.78125)\"/>\n       <use xlink:href=\"#DejaVuSans-32\" transform=\"translate(89.910156 0.78125)\"/>\n      </g>\n     </g>\n    </g>\n    <g id=\"ytick_3\">\n     <g id=\"line2d_15\">\n      <path d=\"M 19.963856 121.185499 \nL 429.165354 121.185499 \n\" clip-path=\"url(#pbe8040162b)\" style=\"fill: none; stroke: #000000; stroke-opacity: 0.1; stroke-width: 0.5; stroke-linecap: square\"/>\n     </g>\n     <g id=\"line2d_16\">\n      <g>\n       <use xlink:href=\"#m06c9f129a0\" x=\"19.963856\" y=\"121.185499\" style=\"stroke: #000000; stroke-width: 0.5\"/>\n      </g>\n     </g>\n     <g id=\"text_8\">\n      <!-- $0.4$ -->\n      <g transform=\"translate(3.663856 124.224874) scale(0.08 -0.08)\">\n       <defs>\n        <path id=\"DejaVuSans-34\" d=\"M 2419 4116 \nL 825 1625 \nL 2419 1625 \nL 2419 4116 \nz\nM 2253 4666 \nL 3047 4666 \nL 3047 1625 \nL 3713 1625 \nL 3713 1100 \nL 3047 1100 \nL 3047 0 \nL 2419 0 \nL 2419 1100 \nL 313 1100 \nL 313 1709 \nL 2253 4666 \nz\n\" transform=\"scale(0.015625)\"/>\n       </defs>\n       <use xlink:href=\"#DejaVuSans-30\" transform=\"translate(0 0.78125)\"/>\n       <use xlink:href=\"#DejaVuSans-2e\" transform=\"translate(63.623047 0.78125)\"/>\n       <use xlink:href=\"#DejaVuSans-34\" transform=\"translate(95.410156 0.78125)\"/>\n      </g>\n     </g>\n    </g>\n    <g id=\"ytick_4\">\n     <g id=\"line2d_17\">\n      <path d=\"M 19.963856 49.089024 \nL 429.165354 49.089024 \n\" clip-path=\"url(#pbe8040162b)\" style=\"fill: none; stroke: #000000; stroke-opacity: 0.1; stroke-width: 0.5; stroke-linecap: square\"/>\n     </g>\n     <g id=\"line2d_18\">\n      <g>\n       <use xlink:href=\"#m06c9f129a0\" x=\"19.963856\" y=\"49.089024\" style=\"stroke: #000000; stroke-width: 0.5\"/>\n      </g>\n     </g>\n     <g id=\"text_9\">\n      <!-- $0.6$ -->\n      <g transform=\"translate(3.663856 52.128399) scale(0.08 -0.08)\">\n       <defs>\n        <path id=\"DejaVuSans-36\" d=\"M 2113 2584 \nQ 1688 2584 1439 2293 \nQ 1191 2003 1191 1497 \nQ 1191 994 1439 701 \nQ 1688 409 2113 409 \nQ 2538 409 2786 701 \nQ 3034 994 3034 1497 \nQ 3034 2003 2786 2293 \nQ 2538 2584 2113 2584 \nz\nM 3366 4563 \nL 3366 3988 \nQ 3128 4100 2886 4159 \nQ 2644 4219 2406 4219 \nQ 1781 4219 1451 3797 \nQ 1122 3375 1075 2522 \nQ 1259 2794 1537 2939 \nQ 1816 3084 2150 3084 \nQ 2853 3084 3261 2657 \nQ 3669 2231 3669 1497 \nQ 3669 778 3244 343 \nQ 2819 -91 2113 -91 \nQ 1303 -91 875 529 \nQ 447 1150 447 2328 \nQ 447 3434 972 4092 \nQ 1497 4750 2381 4750 \nQ 2619 4750 2861 4703 \nQ 3103 4656 3366 4563 \nz\n\" transform=\"scale(0.015625)\"/>\n       </defs>\n       <use xlink:href=\"#DejaVuSans-30\" transform=\"translate(0 0.78125)\"/>\n       <use xlink:href=\"#DejaVuSans-2e\" transform=\"translate(63.623047 0.78125)\"/>\n       <use xlink:href=\"#DejaVuSans-36\" transform=\"translate(95.410156 0.78125)\"/>\n      </g>\n     </g>\n    </g>\n   </g>\n   <g id=\"line2d_19\">\n    <path d=\"M 31.54503 265.378447 \nL 31.859196 250.841074 \nL 32.330445 242.406887 \nL 33.115859 232.924887 \nL 34.058356 224.377927 \nL 35.510814 213.973424 \nL 36.963272 205.407188 \nL 38.415729 197.97467 \nL 39.868187 191.333675 \nL 42.773103 179.708897 \nL 45.678018 169.636698 \nL 48.582934 160.668082 \nL 51.48785 152.5396 \nL 54.392765 145.080826 \nL 59.043414 134.251928 \nL 62.53488 126.855493 \nL 64.280613 123.357721 \nL 67.77208 116.715898 \nL 71.263546 110.495584 \nL 74.215537 105.528723 \nL 77.167527 100.803926 \nL 80.119517 96.300899 \nL 83.071508 92.002362 \nL 86.278197 87.547392 \nL 89.484886 83.299795 \nL 92.691575 79.245373 \nL 95.898264 75.371759 \nL 101.810831 68.668005 \nL 107.723398 62.485563 \nL 114.062295 56.383833 \nL 120.401192 50.781556 \nL 127.745425 44.865378 \nL 135.089659 39.519926 \nL 141.616347 35.216252 \nL 148.143036 31.308748 \nL 153.866353 28.192744 \nL 159.58967 25.355031 \nL 165.829623 22.566841 \nL 172.069575 20.086982 \nL 178.346613 17.8941 \nL 184.623651 15.995863 \nL 191.563719 14.232074 \nL 198.503787 12.812942 \nL 205.107087 11.777349 \nL 211.710387 11.044779 \nL 218.576287 10.60162 \nL 225.442186 10.481553 \nL 231.221811 10.63057 \nL 237.001436 11.00859 \nL 244.057703 11.782114 \nL 251.11397 12.901695 \nL 257.577958 14.234932 \nL 264.041945 15.867155 \nL 270.011935 17.645324 \nL 275.981926 19.689205 \nL 282.029342 22.037354 \nL 288.076758 24.673204 \nL 294.854215 27.981031 \nL 301.631673 31.678129 \nL 307.773144 35.380155 \nL 313.914615 39.433687 \nL 320.946175 44.531308 \nL 327.977736 50.14966 \nL 334.488336 55.852404 \nL 340.998935 62.078056 \nL 347.417624 68.776085 \nL 353.836312 76.089704 \nL 360.068328 83.850062 \nL 363.184335 88.000548 \nL 366.300343 92.348341 \nL 369.494649 97.026196 \nL 372.688955 101.946644 \nL 375.883262 107.132313 \nL 379.077568 112.610209 \nL 382.577301 118.986261 \nL 386.077035 125.805924 \nL 389.576768 133.137811 \nL 393.076501 141.072525 \nL 395.61847 147.282552 \nL 399.431422 157.459961 \nL 401.97339 164.95567 \nL 404.515359 173.180123 \nL 407.057327 182.349595 \nL 409.599295 192.821489 \nL 411.505772 201.913785 \nL 412.776756 208.843315 \nL 413.933739 216.039163 \nL 414.976722 223.622312 \nL 416.019705 232.990323 \nL 416.801943 242.4533 \nL 417.193061 249.159693 \nL 417.453807 256.01138 \nL 417.58418 265.378447 \nL 417.58418 265.378447 \n\" clip-path=\"url(#pbe8040162b)\" style=\"fill: none; stroke: #009afa\"/>\n   </g>\n   <g id=\"patch_3\">\n    <path d=\"M 19.963856 273.025354 \nL 19.963856 2.834646 \n\" style=\"fill: none; stroke: #000000; stroke-linejoin: miter; stroke-linecap: square\"/>\n   </g>\n   <g id=\"patch_4\">\n    <path d=\"M 19.963856 273.025354 \nL 429.165354 273.025354 \n\" style=\"fill: none; stroke: #000000; stroke-linejoin: miter; stroke-linecap: square\"/>\n   </g>\n   <g id=\"legend_1\">\n    <g id=\"patch_5\">\n     <path d=\"M 386.540354 20.977146 \nL 425.165354 20.977146 \nL 425.165354 6.834646 \nL 386.540354 6.834646 \nz\n\" style=\"fill: #ffffff; stroke: #000000; stroke-linejoin: miter\"/>\n    </g>\n    <g id=\"line2d_20\">\n     <path d=\"M 389.740354 13.313396 \nL 397.740354 13.313396 \nL 405.740354 13.313396 \n\" style=\"fill: none; stroke: #009afa; stroke-linejoin: miter\"/>\n    </g>\n    <g id=\"text_10\">\n     <!-- y1 -->\n     <g transform=\"translate(412.140354 16.113396) scale(0.08 -0.08)\">\n      <defs>\n       <path id=\"DejaVuSans-79\" d=\"M 2059 -325 \nQ 1816 -950 1584 -1140 \nQ 1353 -1331 966 -1331 \nL 506 -1331 \nL 506 -850 \nL 844 -850 \nQ 1081 -850 1212 -737 \nQ 1344 -625 1503 -206 \nL 1606 56 \nL 191 3500 \nL 800 3500 \nL 1894 763 \nL 2988 3500 \nL 3597 3500 \nL 2059 -325 \nz\n\" transform=\"scale(0.015625)\"/>\n      </defs>\n      <use xlink:href=\"#DejaVuSans-79\"/>\n      <use xlink:href=\"#DejaVuSans-31\" x=\"59.179688\"/>\n     </g>\n    </g>\n   </g>\n  </g>\n </g>\n <defs>\n  <clipPath id=\"pbe8040162b\">\n   <rect x=\"19.963856\" y=\"2.834646\" width=\"409.201498\" height=\"270.190709\"/>\n  </clipPath>\n </defs>\n</svg>\n"
     },
     "execution_count": 12,
     "metadata": {},
     "output_type": "execute_result"
    }
   ],
   "source": [
    "#using Pkg;\n",
    "#Pkg.add(\"Plots\")\n",
    "#Pkg.add(\"PythonPlot\")\n",
    "using Plots\n",
    "pythonplot()\n",
    "\n",
    "x = 1:0.5:20\n",
    "y = 1:0.5:10\n",
    "\n",
    "f(x) = begin\n",
    "        sqrt(x) * sqrt(1 - 0.5 * x)\n",
    "    end\n",
    "\n",
    "plot(f, 0, 2)"
   ]
  },
  {
   "cell_type": "markdown",
   "metadata": {},
   "source": [
    "#### ii. Write down the first order condition and find the solution (assume an interior solution).\n",
    "\n",
    "The points at which the first-order derivative is equal to zero characterize the local minima, maxima and saddle points of the $f(x)$. Because $f(x)$ is univariate, finding the $\\frac{d}{dx_1}$ will suffice as the gradient of $f$.\n",
    "\n",
    "$ \\frac{d}{dx_1} f(x_1) = \\frac{d}{dx_1} x_1^{0.5} (1 - 0.5 x_1)^{0.5} = 0 $\n",
    "\n",
    "Fortunately, this problem can be solved by hand with a closed-form solution.\n",
    "\n",
    "$ \\frac{d}{dx_1} f(x_1) = \\frac{0.5 (1 - 0.5 x_1)^{0.5}}{x_1^{0.5}} - \\frac{0.25 x_1^{0.5}}{1 - 0.5 x_1^{0.5}} $\n",
    "\n",
    "We can try to verify that at $x = 1$, $ \\frac{d}{dx_1} f(x_1) \\approx 0$, indicating that $x_1 \\approx 1$ is close to a critical point."
   ]
  },
  {
   "cell_type": "code",
   "execution_count": 13,
   "metadata": {},
   "outputs": [
    {
     "data": {
      "text/plain": [
       "0.0"
      ]
     },
     "execution_count": 13,
     "metadata": {},
     "output_type": "execute_result"
    }
   ],
   "source": [
    "using Calculus\n",
    "\n",
    "f(x) = sqrt(x) * sqrt(1 - 0.5 * x)\n",
    "\n",
    "derivative(f, 1.0)"
   ]
  },
  {
   "cell_type": "markdown",
   "metadata": {},
   "source": [
    "We can also use Julia to derive the first order derivative."
   ]
  },
  {
   "cell_type": "code",
   "execution_count": 34,
   "metadata": {},
   "outputs": [
    {
     "data": {
      "text/plain": [
       ":((1 * ((1 / 2) / sqrt(x))) * sqrt(1 - 0.5x) + sqrt(x) * ((0 - (0 * x + 0.5 * 1)) * ((1 / 2) / sqrt(1 - 0.5x))))"
      ]
     },
     "execution_count": 34,
     "metadata": {},
     "output_type": "execute_result"
    }
   ],
   "source": [
    "differentiate(\"sqrt(x) * sqrt(1 - 0.5 * x)\", :x)"
   ]
  },
  {
   "cell_type": "markdown",
   "metadata": {},
   "source": [
    "$ \\frac{d}{dx_1} f(x_1) = ((1 * \\frac{\\frac{1}{2}}{\\sqrt{x_1}}) * \\sqrt{1 - 0.5 x_1} + \\sqrt{x_1} * ((0 - (0 * x_1 + 0.5 * 1)) * (\\frac{\\frac{1}{2}}{\\sqrt{1 - 0.5 x_1}})) $\n",
    "\n",
    "$ = \\frac{\\frac{1}{2}}{\\sqrt{x_1}} \\sqrt{0.5 x_1} -0.5 \\sqrt{x_1} (\\frac{\\frac{1}{2}}{\\sqrt{1 - 0.5 x_1}}) $\n",
    "\n",
    "$ = \\frac{\\sqrt{1 - 0.5 x_1}}{2 \\sqrt{x_1}} - \\frac{\\sqrt{0.25 x_1})}{\\sqrt{1 - 0.5 x_1}} $\n",
    "\n",
    "At the optimal point $x = 0$, the second derivative of the objective function is:\n",
    "\n",
    "$ \\frac{d}{dx_1} f(x_1 = 1) = \\frac{\\sqrt{1 - 0.5 * 1}}{2 \\sqrt{1}} - \\frac{\\sqrt{0.25 * 1})}{\\sqrt{1 - 0.5 * 1}} $\n",
    "\n",
    "$ = \\frac{\\sqrt{1 - 0.5}}{2 \\sqrt{1}} - \\frac{\\sqrt{0.25}}{\\sqrt{1 - 0.5}} $\n",
    "\n",
    "$ = \\frac{\\sqrt{0.5}}{2} - \\frac{\\sqrt{0.25}}{\\sqrt{0.5}} $\n",
    "\n",
    "$ \\approx 5.55112×10^-17 $\n",
    "\n",
    "This is close enough to zero to suggest that at $x=1.0$, we are near to a local maxima. "
   ]
  },
  {
   "cell_type": "markdown",
   "metadata": {},
   "source": [
    "Confirming by evaluating the first-order derivative at $x = 1.0$. "
   ]
  },
  {
   "cell_type": "code",
   "execution_count": 39,
   "metadata": {},
   "outputs": [
    {
     "data": {
      "text/plain": [
       "5.551115123125783e-17"
      ]
     },
     "execution_count": 39,
     "metadata": {},
     "output_type": "execute_result"
    }
   ],
   "source": [
    "#using Pkg\n",
    "#Pkg.add(\"ForwardDiff\")\n",
    "using ForwardDiff\n",
    "\n",
    "dfdx = x -> ForwardDiff.derivative(f, x)\n",
    "dfdx(1)"
   ]
  },
  {
   "cell_type": "markdown",
   "metadata": {},
   "source": [
    "$ \\frac{d}{dx_1} f(x_1 = 1) \\approx 0 $ suggests this is an inflection point. With the first order condition is met, and we evaluate second order conditions at the critical point $x_1$ to understand whether $f$ is at a local maxima or minima at $x_1$."
   ]
  },
  {
   "cell_type": "markdown",
   "metadata": {},
   "source": [
    "#### iii. Derive the second derivative of the objective function at the optimal.\n",
    "\n",
    "Using Julia to derive the second derivative symbolically:"
   ]
  },
  {
   "cell_type": "code",
   "execution_count": 40,
   "metadata": {},
   "outputs": [
    {
     "data": {
      "text/plain": [
       ":(((0 * ((1 / 2) / sqrt(x)) + 1 * ((-(1 * ((1 / 2) / sqrt(x))) * (1 / 2)) / sqrt(x) ^ 2)) * sqrt(1 - 0.5x) + (1 * ((1 / 2) / sqrt(x))) * ((0 - (0 * x + 0.5 * 1)) * ((1 / 2) / sqrt(1 - 0.5x)))) + ((1 * ((1 / 2) / sqrt(x))) * ((0 - (0 * x + 0.5 * 1)) * ((1 / 2) / sqrt(1 - 0.5x))) + sqrt(x) * ((0 - ((0 * x + 0 * 1) + (0 * 1 + 0.5 * 0))) * ((1 / 2) / sqrt(1 - 0.5x)) + (0 - (0 * x + 0.5 * 1)) * ((-((0 - (0 * x + 0.5 * 1)) * ((1 / 2) / sqrt(1 - 0.5x))) * (1 / 2)) / sqrt(1 - 0.5x) ^ 2))))"
      ]
     },
     "execution_count": 40,
     "metadata": {},
     "output_type": "execute_result"
    }
   ],
   "source": [
    "differentiate(\"((1 * ((1 / 2) / sqrt(x))) * sqrt(1 - 0.5x) + sqrt(x) * ((0 - (0 * x + 0.5 * 1)) * ((1 / 2) / sqrt(1 - 0.5x))))\", :x)"
   ]
  },
  {
   "cell_type": "markdown",
   "metadata": {},
   "source": [
    "$ \\frac{d^2}{dx_1^2} f(x_1) = (((0 * ((1 / 2) / sqrt(x)) + 1 * ((-(1 * ((1 / 2) / sqrt(x))) * (1 / 2)) / sqrt(x) ^ 2)) * sqrt(1 - 0.5x) + (1 * ((1 / 2) / sqrt(x))) * ((0 - (0 * x + 0.5 * 1)) * ((1 / 2) / sqrt(1 - 0.5x)))) + ((1 * ((1 / 2) / sqrt(x))) * ((0 - (0 * x + 0.5 * 1)) * ((1 / 2) / sqrt(1 - 0.5x))) + sqrt(x) * ((0 - ((0 * x + 0 * 1) + (0 * 1 + 0.5 * 0))) * ((1 / 2) / sqrt(1 - 0.5x)) + (0 - (0 * x + 0.5 * 1)) * ((-((0 - (0 * x + 0.5 * 1)) * ((1 / 2) / sqrt(1 - 0.5x))) * (1 / 2)) / sqrt(1 - 0.5x) ^ 2)))) $\n",
    "\n",
    "$ = - \\frac{0.5}{(2 - x_1) \\sqrt{1 - 0.5 x_1} x_1^{\\frac{3}{2}}} $"
   ]
  },
  {
   "cell_type": "markdown",
   "metadata": {},
   "source": [
    "#### iv. Evaluate the second derivative at the optimal value of $x_1$ and for the entire feasible range. Plots your results.\n",
    "\n",
    "At the optimal point $x = 1.0$, the second derivative of the objective function is:\n",
    "\n",
    "$ \\frac{d^2}{dx_1^2} f(x_1 = 1) = - \\frac{0.5}{(2 - 1) \\sqrt{1 - 0.5} 1^{\\frac{3}{2}}} $\n",
    "\n",
    "$ = - \\frac{1}{2\\sqrt{\\frac{1}{2}}} $\n",
    "\n",
    "$ \\approx -0.707107 $\n",
    "\n",
    "$ \\frac{d^2}{dx_1^2} f(x_1 = 1) < 0 $ suggests that $x_1$ is at a local maxima.\n",
    "\n",
    "Confirming by evaluating the second derivative with Julia below."
   ]
  },
  {
   "cell_type": "code",
   "execution_count": 60,
   "metadata": {},
   "outputs": [
    {
     "data": {
      "text/plain": [
       "-0.7071067811865475"
      ]
     },
     "execution_count": 60,
     "metadata": {},
     "output_type": "execute_result"
    }
   ],
   "source": [
    "using ForwardDiff\n",
    "\n",
    "dfdx = x -> ForwardDiff.derivative(f, x)\n",
    "d2fdx2 = x -> ForwardDiff.derivative(dfdx, x)\n",
    "d2fdx2(1)"
   ]
  },
  {
   "cell_type": "markdown",
   "metadata": {},
   "source": [
    "That is approximate to the value we found above, $-0.7071$.\n",
    "\n",
    "Below, we plot the second derivative $\\frac{d^2}{dx_1^2}$ (green line), along with $\\frac{d}{dx_1}$ (red line) and $f$ (blue line) for reference. $x=0$ does appear to be approximately where the minimum, and critical point of the first and second derivatives lie."
   ]
  },
  {
   "cell_type": "code",
   "execution_count": 59,
   "metadata": {},
   "outputs": [
    {
     "data": {
      "image/svg+xml": "<?xml version=\"1.0\" encoding=\"utf-8\" standalone=\"no\"?>\n<!DOCTYPE svg PUBLIC \"-//W3C//DTD SVG 1.1//EN\"\n  \"http://www.w3.org/Graphics/SVG/1.1/DTD/svg11.dtd\">\n<svg xmlns:xlink=\"http://www.w3.org/1999/xlink\" width=\"432pt\" height=\"288pt\" viewBox=\"0 0 432 288\" xmlns=\"http://www.w3.org/2000/svg\" version=\"1.1\">\n <metadata>\n  <rdf:RDF xmlns:dc=\"http://purl.org/dc/elements/1.1/\" xmlns:cc=\"http://creativecommons.org/ns#\" xmlns:rdf=\"http://www.w3.org/1999/02/22-rdf-syntax-ns#\">\n   <cc:Work>\n    <dc:type rdf:resource=\"http://purl.org/dc/dcmitype/StillImage\"/>\n    <dc:date>2023-03-01T18:04:31.895219</dc:date>\n    <dc:format>image/svg+xml</dc:format>\n    <dc:creator>\n     <cc:Agent>\n      <dc:title>Matplotlib v3.7.0, https://matplotlib.org/</dc:title>\n     </cc:Agent>\n    </dc:creator>\n   </cc:Work>\n  </rdf:RDF>\n </metadata>\n <defs>\n  <style type=\"text/css\">*{stroke-linejoin: round; stroke-linecap: butt}</style>\n </defs>\n <g id=\"figure_1\">\n  <g id=\"patch_1\">\n   <path d=\"M 0 288 \nL 432 288 \nL 432 0 \nL 0 0 \nz\n\" style=\"fill: #ffffff\"/>\n  </g>\n  <g id=\"axes_1\">\n   <g id=\"patch_2\">\n    <path d=\"M 24.101593 273.025354 \nL 422.361999 273.025354 \nL 422.361999 6.434646 \nL 24.101593 6.434646 \nz\n\" style=\"fill: #ffffff\"/>\n   </g>\n   <g id=\"matplotlib.axis_1\">\n    <g id=\"xtick_1\">\n     <g id=\"line2d_1\">\n      <path d=\"M 24.101593 273.025354 \nL 24.101593 6.434646 \n\" clip-path=\"url(#p1d2be9a715)\" style=\"fill: none; stroke: #000000; stroke-opacity: 0.1; stroke-width: 0.5; stroke-linecap: square\"/>\n     </g>\n     <g id=\"line2d_2\">\n      <defs>\n       <path id=\"m793e25a9e1\" d=\"M 0 0 \nL 0 -3 \n\" style=\"stroke: #000000; stroke-width: 0.5\"/>\n      </defs>\n      <g>\n       <use xlink:href=\"#m793e25a9e1\" x=\"24.101593\" y=\"273.025354\" style=\"stroke: #000000; stroke-width: 0.5\"/>\n      </g>\n     </g>\n     <g id=\"text_1\">\n      <!-- $0.0$ -->\n      <g transform=\"translate(17.701593 282.604104) scale(0.08 -0.08)\">\n       <defs>\n        <path id=\"DejaVuSans-30\" d=\"M 2034 4250 \nQ 1547 4250 1301 3770 \nQ 1056 3291 1056 2328 \nQ 1056 1369 1301 889 \nQ 1547 409 2034 409 \nQ 2525 409 2770 889 \nQ 3016 1369 3016 2328 \nQ 3016 3291 2770 3770 \nQ 2525 4250 2034 4250 \nz\nM 2034 4750 \nQ 2819 4750 3233 4129 \nQ 3647 3509 3647 2328 \nQ 3647 1150 3233 529 \nQ 2819 -91 2034 -91 \nQ 1250 -91 836 529 \nQ 422 1150 422 2328 \nQ 422 3509 836 4129 \nQ 1250 4750 2034 4750 \nz\n\" transform=\"scale(0.015625)\"/>\n        <path id=\"DejaVuSans-2e\" d=\"M 684 794 \nL 1344 794 \nL 1344 0 \nL 684 0 \nL 684 794 \nz\n\" transform=\"scale(0.015625)\"/>\n       </defs>\n       <use xlink:href=\"#DejaVuSans-30\" transform=\"translate(0 0.78125)\"/>\n       <use xlink:href=\"#DejaVuSans-2e\" transform=\"translate(63.623047 0.78125)\"/>\n       <use xlink:href=\"#DejaVuSans-30\" transform=\"translate(95.410156 0.78125)\"/>\n      </g>\n     </g>\n    </g>\n    <g id=\"xtick_2\">\n     <g id=\"line2d_3\">\n      <path d=\"M 123.666694 273.025354 \nL 123.666694 6.434646 \n\" clip-path=\"url(#p1d2be9a715)\" style=\"fill: none; stroke: #000000; stroke-opacity: 0.1; stroke-width: 0.5; stroke-linecap: square\"/>\n     </g>\n     <g id=\"line2d_4\">\n      <g>\n       <use xlink:href=\"#m793e25a9e1\" x=\"123.666694\" y=\"273.025354\" style=\"stroke: #000000; stroke-width: 0.5\"/>\n      </g>\n     </g>\n     <g id=\"text_2\">\n      <!-- $0.5$ -->\n      <g transform=\"translate(117.266694 282.604104) scale(0.08 -0.08)\">\n       <defs>\n        <path id=\"DejaVuSans-35\" d=\"M 691 4666 \nL 3169 4666 \nL 3169 4134 \nL 1269 4134 \nL 1269 2991 \nQ 1406 3038 1543 3061 \nQ 1681 3084 1819 3084 \nQ 2600 3084 3056 2656 \nQ 3513 2228 3513 1497 \nQ 3513 744 3044 326 \nQ 2575 -91 1722 -91 \nQ 1428 -91 1123 -41 \nQ 819 9 494 109 \nL 494 744 \nQ 775 591 1075 516 \nQ 1375 441 1709 441 \nQ 2250 441 2565 725 \nQ 2881 1009 2881 1497 \nQ 2881 1984 2565 2268 \nQ 2250 2553 1709 2553 \nQ 1456 2553 1204 2497 \nQ 953 2441 691 2322 \nL 691 4666 \nz\n\" transform=\"scale(0.015625)\"/>\n       </defs>\n       <use xlink:href=\"#DejaVuSans-30\" transform=\"translate(0 0.78125)\"/>\n       <use xlink:href=\"#DejaVuSans-2e\" transform=\"translate(63.623047 0.78125)\"/>\n       <use xlink:href=\"#DejaVuSans-35\" transform=\"translate(95.410156 0.78125)\"/>\n      </g>\n     </g>\n    </g>\n    <g id=\"xtick_3\">\n     <g id=\"line2d_5\">\n      <path d=\"M 223.231796 273.025354 \nL 223.231796 6.434646 \n\" clip-path=\"url(#p1d2be9a715)\" style=\"fill: none; stroke: #000000; stroke-opacity: 0.1; stroke-width: 0.5; stroke-linecap: square\"/>\n     </g>\n     <g id=\"line2d_6\">\n      <g>\n       <use xlink:href=\"#m793e25a9e1\" x=\"223.231796\" y=\"273.025354\" style=\"stroke: #000000; stroke-width: 0.5\"/>\n      </g>\n     </g>\n     <g id=\"text_3\">\n      <!-- $1.0$ -->\n      <g transform=\"translate(216.831796 282.604104) scale(0.08 -0.08)\">\n       <defs>\n        <path id=\"DejaVuSans-31\" d=\"M 794 531 \nL 1825 531 \nL 1825 4091 \nL 703 3866 \nL 703 4441 \nL 1819 4666 \nL 2450 4666 \nL 2450 531 \nL 3481 531 \nL 3481 0 \nL 794 0 \nL 794 531 \nz\n\" transform=\"scale(0.015625)\"/>\n       </defs>\n       <use xlink:href=\"#DejaVuSans-31\" transform=\"translate(0 0.78125)\"/>\n       <use xlink:href=\"#DejaVuSans-2e\" transform=\"translate(63.623047 0.78125)\"/>\n       <use xlink:href=\"#DejaVuSans-30\" transform=\"translate(95.410156 0.78125)\"/>\n      </g>\n     </g>\n    </g>\n    <g id=\"xtick_4\">\n     <g id=\"line2d_7\">\n      <path d=\"M 322.796898 273.025354 \nL 322.796898 6.434646 \n\" clip-path=\"url(#p1d2be9a715)\" style=\"fill: none; stroke: #000000; stroke-opacity: 0.1; stroke-width: 0.5; stroke-linecap: square\"/>\n     </g>\n     <g id=\"line2d_8\">\n      <g>\n       <use xlink:href=\"#m793e25a9e1\" x=\"322.796898\" y=\"273.025354\" style=\"stroke: #000000; stroke-width: 0.5\"/>\n      </g>\n     </g>\n     <g id=\"text_4\">\n      <!-- $1.5$ -->\n      <g transform=\"translate(316.396898 282.604104) scale(0.08 -0.08)\">\n       <use xlink:href=\"#DejaVuSans-31\" transform=\"translate(0 0.09375)\"/>\n       <use xlink:href=\"#DejaVuSans-2e\" transform=\"translate(63.623047 0.09375)\"/>\n       <use xlink:href=\"#DejaVuSans-35\" transform=\"translate(95.410156 0.09375)\"/>\n      </g>\n     </g>\n    </g>\n    <g id=\"xtick_5\">\n     <g id=\"line2d_9\">\n      <path d=\"M 422.361999 273.025354 \nL 422.361999 6.434646 \n\" clip-path=\"url(#p1d2be9a715)\" style=\"fill: none; stroke: #000000; stroke-opacity: 0.1; stroke-width: 0.5; stroke-linecap: square\"/>\n     </g>\n     <g id=\"line2d_10\">\n      <g>\n       <use xlink:href=\"#m793e25a9e1\" x=\"422.361999\" y=\"273.025354\" style=\"stroke: #000000; stroke-width: 0.5\"/>\n      </g>\n     </g>\n     <g id=\"text_5\">\n      <!-- $2.0$ -->\n      <g transform=\"translate(415.961999 282.604104) scale(0.08 -0.08)\">\n       <defs>\n        <path id=\"DejaVuSans-32\" d=\"M 1228 531 \nL 3431 531 \nL 3431 0 \nL 469 0 \nL 469 531 \nQ 828 903 1448 1529 \nQ 2069 2156 2228 2338 \nQ 2531 2678 2651 2914 \nQ 2772 3150 2772 3378 \nQ 2772 3750 2511 3984 \nQ 2250 4219 1831 4219 \nQ 1534 4219 1204 4116 \nQ 875 4013 500 3803 \nL 500 4441 \nQ 881 4594 1212 4672 \nQ 1544 4750 1819 4750 \nQ 2544 4750 2975 4387 \nQ 3406 4025 3406 3419 \nQ 3406 3131 3298 2873 \nQ 3191 2616 2906 2266 \nQ 2828 2175 2409 1742 \nQ 1991 1309 1228 531 \nz\n\" transform=\"scale(0.015625)\"/>\n       </defs>\n       <use xlink:href=\"#DejaVuSans-32\" transform=\"translate(0 0.78125)\"/>\n       <use xlink:href=\"#DejaVuSans-2e\" transform=\"translate(63.623047 0.78125)\"/>\n       <use xlink:href=\"#DejaVuSans-30\" transform=\"translate(95.410156 0.78125)\"/>\n      </g>\n     </g>\n    </g>\n   </g>\n   <g id=\"matplotlib.axis_2\">\n    <g id=\"ytick_1\">\n     <g id=\"line2d_11\">\n      <path d=\"M 24.101593 273.025354 \nL 422.361999 273.025354 \n\" clip-path=\"url(#p1d2be9a715)\" style=\"fill: none; stroke: #000000; stroke-opacity: 0.1; stroke-width: 0.5; stroke-linecap: square\"/>\n     </g>\n     <g id=\"line2d_12\">\n      <defs>\n       <path id=\"m45b2a81ed3\" d=\"M 0 0 \nL 3 0 \n\" style=\"stroke: #000000; stroke-width: 0.5\"/>\n      </defs>\n      <g>\n       <use xlink:href=\"#m45b2a81ed3\" x=\"24.101593\" y=\"273.025354\" style=\"stroke: #000000; stroke-width: 0.5\"/>\n      </g>\n     </g>\n     <g id=\"text_6\">\n      <!-- $-10$ -->\n      <g transform=\"translate(3.641593 276.064729) scale(0.08 -0.08)\">\n       <defs>\n        <path id=\"DejaVuSans-2212\" d=\"M 678 2272 \nL 4684 2272 \nL 4684 1741 \nL 678 1741 \nL 678 2272 \nz\n\" transform=\"scale(0.015625)\"/>\n       </defs>\n       <use xlink:href=\"#DejaVuSans-2212\" transform=\"translate(0 0.78125)\"/>\n       <use xlink:href=\"#DejaVuSans-31\" transform=\"translate(83.789062 0.78125)\"/>\n       <use xlink:href=\"#DejaVuSans-30\" transform=\"translate(147.412109 0.78125)\"/>\n      </g>\n     </g>\n    </g>\n    <g id=\"ytick_2\">\n     <g id=\"line2d_13\">\n      <path d=\"M 24.101593 206.377677 \nL 422.361999 206.377677 \n\" clip-path=\"url(#p1d2be9a715)\" style=\"fill: none; stroke: #000000; stroke-opacity: 0.1; stroke-width: 0.5; stroke-linecap: square\"/>\n     </g>\n     <g id=\"line2d_14\">\n      <g>\n       <use xlink:href=\"#m45b2a81ed3\" x=\"24.101593\" y=\"206.377677\" style=\"stroke: #000000; stroke-width: 0.5\"/>\n      </g>\n     </g>\n     <g id=\"text_7\">\n      <!-- $-5$ -->\n      <g transform=\"translate(8.761593 209.417052) scale(0.08 -0.08)\">\n       <use xlink:href=\"#DejaVuSans-2212\" transform=\"translate(0 0.09375)\"/>\n       <use xlink:href=\"#DejaVuSans-35\" transform=\"translate(83.789062 0.09375)\"/>\n      </g>\n     </g>\n    </g>\n    <g id=\"ytick_3\">\n     <g id=\"line2d_15\">\n      <path d=\"M 24.101593 139.73 \nL 422.361999 139.73 \n\" clip-path=\"url(#p1d2be9a715)\" style=\"fill: none; stroke: #000000; stroke-opacity: 0.1; stroke-width: 0.5; stroke-linecap: square\"/>\n     </g>\n     <g id=\"line2d_16\">\n      <g>\n       <use xlink:href=\"#m45b2a81ed3\" x=\"24.101593\" y=\"139.73\" style=\"stroke: #000000; stroke-width: 0.5\"/>\n      </g>\n     </g>\n     <g id=\"text_8\">\n      <!-- $0$ -->\n      <g transform=\"translate(15.481593 142.769375) scale(0.08 -0.08)\">\n       <use xlink:href=\"#DejaVuSans-30\" transform=\"translate(0 0.78125)\"/>\n      </g>\n     </g>\n    </g>\n    <g id=\"ytick_4\">\n     <g id=\"line2d_17\">\n      <path d=\"M 24.101593 73.082323 \nL 422.361999 73.082323 \n\" clip-path=\"url(#p1d2be9a715)\" style=\"fill: none; stroke: #000000; stroke-opacity: 0.1; stroke-width: 0.5; stroke-linecap: square\"/>\n     </g>\n     <g id=\"line2d_18\">\n      <g>\n       <use xlink:href=\"#m45b2a81ed3\" x=\"24.101593\" y=\"73.082323\" style=\"stroke: #000000; stroke-width: 0.5\"/>\n      </g>\n     </g>\n     <g id=\"text_9\">\n      <!-- $5$ -->\n      <g transform=\"translate(15.481593 76.121698) scale(0.08 -0.08)\">\n       <use xlink:href=\"#DejaVuSans-35\" transform=\"translate(0 0.09375)\"/>\n      </g>\n     </g>\n    </g>\n    <g id=\"ytick_5\">\n     <g id=\"line2d_19\">\n      <path d=\"M 24.101593 6.434646 \nL 422.361999 6.434646 \n\" clip-path=\"url(#p1d2be9a715)\" style=\"fill: none; stroke: #000000; stroke-opacity: 0.1; stroke-width: 0.5; stroke-linecap: square\"/>\n     </g>\n     <g id=\"line2d_20\">\n      <g>\n       <use xlink:href=\"#m45b2a81ed3\" x=\"24.101593\" y=\"6.434646\" style=\"stroke: #000000; stroke-width: 0.5\"/>\n      </g>\n     </g>\n     <g id=\"text_10\">\n      <!-- $10$ -->\n      <g transform=\"translate(10.361593 9.474021) scale(0.08 -0.08)\">\n       <use xlink:href=\"#DejaVuSans-31\" transform=\"translate(0 0.78125)\"/>\n       <use xlink:href=\"#DejaVuSans-30\" transform=\"translate(63.623047 0.78125)\"/>\n      </g>\n     </g>\n    </g>\n   </g>\n   <g id=\"line2d_21\">\n    <path d=\"M 24.101593 139.73 \nL 24.425704 139.192452 \nL 25.235983 138.725365 \nL 26.694485 138.213926 \nL 29.691365 137.512446 \nL 34.186684 136.768466 \nL 40.180444 136.019561 \nL 47.672643 135.281762 \nL 57.873521 134.478508 \nL 71.16841 133.644538 \nL 87.183919 132.847368 \nL 109.231195 132.002018 \nL 130.924245 131.378443 \nL 156.19988 130.854668 \nL 182.026388 130.508595 \nL 209.970638 130.325519 \nL 243.342008 130.352783 \nL 276.276891 130.645163 \nL 302.738659 131.088477 \nL 329.918788 131.771498 \nL 349.974105 132.460246 \nL 369.454615 133.331876 \nL 386.24687 134.316865 \nL 399.700897 135.363175 \nL 408.879444 136.320788 \nL 414.124329 137.047066 \nL 418.057992 137.780948 \nL 420.478996 138.436868 \nL 421.689498 138.956027 \nL 422.227499 139.383635 \nL 422.361999 139.73 \nL 422.361999 139.73 \n\" clip-path=\"url(#p1d2be9a715)\" style=\"fill: none; stroke: #009afa\"/>\n   </g>\n   <g id=\"line2d_22\">\n    <path d=\"M 24.546748 -1 \nL 24.830844 29.900339 \nL 25.235983 51.80537 \nL 25.722151 66.302647 \nL 26.370374 77.825626 \nL 27.069095 85.746458 \nL 27.818315 91.632011 \nL 28.192925 93.952979 \nL 28.942145 97.76627 \nL 29.691365 100.793183 \nL 30.440585 103.273276 \nL 31.939025 107.135524 \nL 32.688245 108.682133 \nL 34.186684 111.251862 \nL 35.685124 113.317179 \nL 37.183564 115.026529 \nL 38.682004 116.473513 \nL 41.678884 118.810781 \nL 44.675763 120.638159 \nL 47.672643 122.122474 \nL 50.669522 123.362772 \nL 54.271522 124.618061 \nL 57.873521 125.682271 \nL 65.07752 127.410035 \nL 71.16841 128.582077 \nL 77.259299 129.57187 \nL 83.875712 130.49581 \nL 96.591873 131.96261 \nL 102.691621 132.562018 \nL 115.770769 133.688296 \nL 130.924245 134.799027 \nL 156.19988 136.360543 \nL 182.026388 137.736483 \nL 288.754621 143.014271 \nL 315.410455 144.652209 \nL 329.918788 145.710576 \nL 349.974105 147.507944 \nL 363.025306 149.021255 \nL 369.454615 149.925896 \nL 376.045478 151.011259 \nL 382.636342 152.319241 \nL 386.24687 153.165127 \nL 389.857398 154.133688 \nL 393.467926 155.26169 \nL 397.078455 156.603549 \nL 399.700897 157.758757 \nL 402.323339 159.11954 \nL 404.945781 160.759927 \nL 407.568223 162.79789 \nL 408.879444 164.023961 \nL 410.190665 165.435926 \nL 411.501886 167.087991 \nL 412.813108 169.059547 \nL 414.124329 171.472548 \nL 415.43555 174.526277 \nL 416.746771 178.574608 \nL 417.402381 181.167824 \nL 418.326992 185.835438 \nL 419.133994 191.437773 \nL 419.671995 196.489946 \nL 420.344496 205.439283 \nL 420.882497 216.619164 \nL 421.353248 233.013861 \nL 421.689498 254.124429 \nL 421.965829 289 \nL 421.965829 289 \n\" clip-path=\"url(#p1d2be9a715)\" style=\"fill: none; stroke: #e36f47\"/>\n   </g>\n   <g id=\"patch_3\">\n    <path d=\"M 24.101593 273.025354 \nL 24.101593 6.434646 \n\" style=\"fill: none; stroke: #000000; stroke-linejoin: miter; stroke-linecap: square\"/>\n   </g>\n   <g id=\"patch_4\">\n    <path d=\"M 24.101593 273.025354 \nL 422.361999 273.025354 \n\" style=\"fill: none; stroke: #000000; stroke-linejoin: miter; stroke-linecap: square\"/>\n   </g>\n   <g id=\"line2d_23\">\n    <path d=\"M 40.727533 289 \nL 41.678884 275.698434 \nL 44.675763 248.380365 \nL 47.672643 229.397693 \nL 50.669522 215.570153 \nL 54.271522 203.324289 \nL 57.873521 194.224406 \nL 61.475521 187.241899 \nL 65.07752 181.744288 \nL 71.16841 174.750256 \nL 77.259299 169.682946 \nL 90.492126 162.486237 \nL 102.691621 158.419887 \nL 115.770769 155.525626 \nL 130.924245 153.278701 \nL 144.390867 151.902269 \nL 156.19988 151.018761 \nL 169.074874 150.306934 \nL 182.026388 149.794884 \nL 196.345943 149.419135 \nL 209.970638 149.218456 \nL 224.13716 149.155697 \nL 236.062353 149.214407 \nL 250.621663 149.429357 \nL 263.958912 149.779316 \nL 276.276891 150.255644 \nL 288.754621 150.923102 \nL 302.738659 151.960077 \nL 315.410455 153.263194 \nL 329.918788 155.386909 \nL 343.352213 158.307723 \nL 356.595997 162.746154 \nL 369.454615 169.862981 \nL 376.045478 175.48999 \nL 382.636342 183.513241 \nL 386.24687 189.486913 \nL 389.857398 197.142615 \nL 393.467926 207.231328 \nL 397.078455 221.00026 \nL 402.323339 252.524691 \nL 405.439797 289 \n\" clip-path=\"url(#p1d2be9a715)\" style=\"fill: none; stroke: #3ea44e\"/>\n   </g>\n   <g id=\"legend_1\">\n    <g id=\"patch_5\">\n     <path d=\"M 345.570749 48.062146 \nL 418.361999 48.062146 \nL 418.361999 10.434646 \nL 345.570749 10.434646 \nz\n\" style=\"fill: #ffffff; stroke: #000000; stroke-linejoin: miter\"/>\n    </g>\n    <g id=\"line2d_24\">\n     <path d=\"M 348.770749 16.913396 \nL 356.770749 16.913396 \nL 364.770749 16.913396 \n\" style=\"fill: none; stroke: #009afa; stroke-linejoin: miter\"/>\n    </g>\n    <g id=\"text_11\">\n     <!-- f -->\n     <g transform=\"translate(371.170749 19.713396) scale(0.08 -0.08)\">\n      <defs>\n       <path id=\"DejaVuSans-66\" d=\"M 2375 4863 \nL 2375 4384 \nL 1825 4384 \nQ 1516 4384 1395 4259 \nQ 1275 4134 1275 3809 \nL 1275 3500 \nL 2222 3500 \nL 2222 3053 \nL 1275 3053 \nL 1275 0 \nL 697 0 \nL 697 3053 \nL 147 3053 \nL 147 3500 \nL 697 3500 \nL 697 3744 \nQ 697 4328 969 4595 \nQ 1241 4863 1831 4863 \nL 2375 4863 \nz\n\" transform=\"scale(0.015625)\"/>\n      </defs>\n      <use xlink:href=\"#DejaVuSans-66\"/>\n     </g>\n    </g>\n    <g id=\"line2d_25\">\n     <path d=\"M 348.770749 28.655896 \nL 356.770749 28.655896 \nL 364.770749 28.655896 \n\" style=\"fill: none; stroke: #e36f47; stroke-linejoin: miter\"/>\n    </g>\n    <g id=\"text_12\">\n     <!-- df/dx -->\n     <g transform=\"translate(371.170749 31.455896) scale(0.08 -0.08)\">\n      <defs>\n       <path id=\"DejaVuSans-64\" d=\"M 2906 2969 \nL 2906 4863 \nL 3481 4863 \nL 3481 0 \nL 2906 0 \nL 2906 525 \nQ 2725 213 2448 61 \nQ 2172 -91 1784 -91 \nQ 1150 -91 751 415 \nQ 353 922 353 1747 \nQ 353 2572 751 3078 \nQ 1150 3584 1784 3584 \nQ 2172 3584 2448 3432 \nQ 2725 3281 2906 2969 \nz\nM 947 1747 \nQ 947 1113 1208 752 \nQ 1469 391 1925 391 \nQ 2381 391 2643 752 \nQ 2906 1113 2906 1747 \nQ 2906 2381 2643 2742 \nQ 2381 3103 1925 3103 \nQ 1469 3103 1208 2742 \nQ 947 2381 947 1747 \nz\n\" transform=\"scale(0.015625)\"/>\n       <path id=\"DejaVuSans-2f\" d=\"M 1625 4666 \nL 2156 4666 \nL 531 -594 \nL 0 -594 \nL 1625 4666 \nz\n\" transform=\"scale(0.015625)\"/>\n       <path id=\"DejaVuSans-78\" d=\"M 3513 3500 \nL 2247 1797 \nL 3578 0 \nL 2900 0 \nL 1881 1375 \nL 863 0 \nL 184 0 \nL 1544 1831 \nL 300 3500 \nL 978 3500 \nL 1906 2253 \nL 2834 3500 \nL 3513 3500 \nz\n\" transform=\"scale(0.015625)\"/>\n      </defs>\n      <use xlink:href=\"#DejaVuSans-64\"/>\n      <use xlink:href=\"#DejaVuSans-66\" x=\"63.476562\"/>\n      <use xlink:href=\"#DejaVuSans-2f\" x=\"98.681641\"/>\n      <use xlink:href=\"#DejaVuSans-64\" x=\"132.373047\"/>\n      <use xlink:href=\"#DejaVuSans-78\" x=\"195.849609\"/>\n     </g>\n    </g>\n    <g id=\"line2d_26\">\n     <path d=\"M 348.770749 40.398396 \nL 356.770749 40.398396 \nL 364.770749 40.398396 \n\" style=\"fill: none; stroke: #3ea44e; stroke-linejoin: miter\"/>\n    </g>\n    <g id=\"text_13\">\n     <!-- d^2f/dx^2 -->\n     <g transform=\"translate(371.170749 43.198396) scale(0.08 -0.08)\">\n      <defs>\n       <path id=\"DejaVuSans-5e\" d=\"M 2988 4666 \nL 4684 2925 \nL 4056 2925 \nL 2681 4159 \nL 1306 2925 \nL 678 2925 \nL 2375 4666 \nL 2988 4666 \nz\n\" transform=\"scale(0.015625)\"/>\n      </defs>\n      <use xlink:href=\"#DejaVuSans-64\"/>\n      <use xlink:href=\"#DejaVuSans-5e\" x=\"63.476562\"/>\n      <use xlink:href=\"#DejaVuSans-32\" x=\"147.265625\"/>\n      <use xlink:href=\"#DejaVuSans-66\" x=\"210.888672\"/>\n      <use xlink:href=\"#DejaVuSans-2f\" x=\"246.09375\"/>\n      <use xlink:href=\"#DejaVuSans-64\" x=\"279.785156\"/>\n      <use xlink:href=\"#DejaVuSans-78\" x=\"343.261719\"/>\n      <use xlink:href=\"#DejaVuSans-5e\" x=\"402.441406\"/>\n      <use xlink:href=\"#DejaVuSans-32\" x=\"486.230469\"/>\n     </g>\n    </g>\n   </g>\n  </g>\n </g>\n <defs>\n  <clipPath id=\"p1d2be9a715\">\n   <rect x=\"24.101593\" y=\"6.434646\" width=\"398.260407\" height=\"266.590709\"/>\n  </clipPath>\n </defs>\n</svg>\n"
     },
     "execution_count": 59,
     "metadata": {},
     "output_type": "execute_result"
    }
   ],
   "source": [
    "using ForwardDiff, Plots\n",
    "pythonplot()\n",
    "\n",
    "x = 1:0.5:20\n",
    "\n",
    "dfdx = x -> ForwardDiff.derivative(f, x)\n",
    "d2fdx2 = x -> ForwardDiff.derivative(dfdx, x)\n",
    "\n",
    "plot(\n",
    "    [f, dfdx, d2fdx2],\n",
    "    xlims=[0, 2],\n",
    "    ylims=[-10, 10],\n",
    "    label=[\"f\" \"df/dx\" \"d^2f/dx^2\"]\n",
    ")"
   ]
  },
  {
   "cell_type": "markdown",
   "metadata": {},
   "source": [
    "#### v. Find the solution using a `Optim` package, and the `GoldenSection()` solver option.\n"
   ]
  },
  {
   "cell_type": "markdown",
   "metadata": {},
   "source": [
    "### B. Write out the lagrange of the original optimization problem"
   ]
  },
  {
   "cell_type": "markdown",
   "metadata": {},
   "source": [
    "#### i. Derive the first order conditions\n"
   ]
  },
  {
   "cell_type": "markdown",
   "metadata": {},
   "source": [
    "#### ii. Solve the first order conditions and find the LaGrange multiplier value\n"
   ]
  },
  {
   "cell_type": "markdown",
   "metadata": {},
   "source": [
    "### C. Find the solution to the original problem using Julia's `NLopt` and the `LD_SLSQP` solver."
   ]
  },
  {
   "cell_type": "markdown",
   "metadata": {},
   "source": [
    "## Q.2.\n",
    "\n",
    "You were given a sample of size $N$ containing a response variable $y$ and predictors $x_j, j=1,2,...,k$. Let $y$ be a $N×1$ vector with values for response varaible, and $X$ be a $N×k$ matrix containing the values for each predictor. Assume that the first predictor takes the value of $1$ for every observation. Lately, assume that the response variable $y$ is lienarly related to the predictors."
   ]
  },
  {
   "cell_type": "markdown",
   "metadata": {},
   "source": [
    "### A. Write out the least-squares minimization problem in matrix for\n"
   ]
  },
  {
   "cell_type": "markdown",
   "metadata": {},
   "source": [
    "### B. Write out the first order conditions, and derive the closed-form solution, $\\beta$ in matrix notation.\n"
   ]
  },
  {
   "cell_type": "markdown",
   "metadata": {},
   "source": [
    "### C. Given the dataset provided\n"
   ]
  },
  {
   "cell_type": "markdown",
   "metadata": {},
   "source": [
    "#### i. Create the matrix $y$ and $X$ and compute the value of $\\beta$ \n"
   ]
  },
  {
   "cell_type": "markdown",
   "metadata": {},
   "source": [
    "#### ii. Compute the optimal $\\beta$ using a Julia optimization solver."
   ]
  },
  {
   "cell_type": "markdown",
   "metadata": {},
   "source": []
  }
 ],
 "metadata": {
  "kernelspec": {
   "display_name": "Julia 1.8.4",
   "language": "julia",
   "name": "julia-1.8"
  },
  "language_info": {
   "file_extension": ".jl",
   "mimetype": "application/julia",
   "name": "julia",
   "version": "1.8.4"
  },
  "orig_nbformat": 4
 },
 "nbformat": 4,
 "nbformat_minor": 2
}

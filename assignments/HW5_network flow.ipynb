{
 "cells": [
  {
   "cell_type": "markdown",
   "id": "0d6692ce-fa4c-4ed5-9ac3-1ed81cbbc978",
   "metadata": {},
   "source": [
    "## Problem 1\n",
    "Consider the network flow in the diagram below. Each circle contains a number representing a location. Each diamond shape contains a number representing the supply or demand for a given commodity at each location. Each octagon shape contains a number representing the cost (per unit) for transporting the commodity from one location to another. Each arrows represent the direction that the commodity can flow from a location to another."
   ]
  },
  {
   "cell_type": "markdown",
   "id": "a2eee301-7cad-430f-89f2-d037daddbee9",
   "metadata": {},
   "source": [
    "Each row represents each path, and column c_ij represents the cost per unit on corresponding path:\n",
    "\n",
    "| Start_node_i | End_node_j | c_ij |\n",
    "| ----- | ------ | ----- | \n",
    "|  1    |\t2\t |\t2\t | \n",
    "|  1    |\t3\t |\t-5 | \n",
    "|  2    |\t3\t |\t-1 | \n",
    "|  2    |\t4\t |\t4 | \n",
    "|  3    |\t4\t |\t3 | \n",
    "|  3    |\t2\t |\t6 |\n",
    "|  4    |\t1\t |\t7 |"
   ]
  },
  {
   "cell_type": "markdown",
   "id": "c641281c-d702-4966-a35c-786d5964c6b0",
   "metadata": {},
   "source": [
    "#### Define our variables\n",
    "There are 7 paths, so we have 7 variables:\n",
    "\n",
    "* $x_{12}$ is the number of units that transported from location 1 to 2.\n",
    "* $x_{13}$ is the number of units that transported from location 1 to 3.\n",
    "* $x_{23}$ is the number of units that transported from location 2 to 3.\n",
    "* $x_{24}$ is the number of units that transported from location 2 to 4.\n",
    "* $x_{34}$ is the number of units that transported from location 3 to 4.\n",
    "* $x_{32}$ is the number of units that transported from location 3 to 2.\n",
    "* $x_{41}$ is the number of units that transported from location 4 to 1.\n",
    "\n",
    "#### Regarding constraints:\n",
    "\n",
    "For each location, the total units transported from the location minus the total units transported to the location must be less than the inventory level:\n",
    "\n",
    "$$ x12 + x13 - x41 \\leq 4 $$\n",
    "$$ x23 + x24 - x12 \\leq 2 $$\n",
    "$$ x34 + x32 -x23 \\leq -1 $$\n",
    "$$ x41 + x24 -x34 \\leq -5 $$\n",
    "\n",
    "\n",
    "\n",
    "#### The objective function is defined as:\n",
    "\n",
    "$$ min\\ \\  2x_{12} - 5x_{13} -1 x_{23} + 4x_{24} + 3x_{34} + 6x_{32} + 7x_{41} $$\n",
    "\n",
    "\n"
   ]
  },
  {
   "cell_type": "code",
   "execution_count": 1,
   "id": "64e4d73c-6b40-4bdc-b3fc-25de1e14c6de",
   "metadata": {},
   "outputs": [
    {
     "data": {
      "text/plain": [
       "A JuMP Model\n",
       "Minimization problem with:\n",
       "Variables: 7\n",
       "Objective function type: AffExpr\n",
       "`AffExpr`-in-`MathOptInterface.LessThan{Float64}`: 4 constraints\n",
       "`VariableRef`-in-`MathOptInterface.GreaterThan{Float64}`: 7 constraints\n",
       "Model mode: AUTOMATIC\n",
       "CachingOptimizer state: EMPTY_OPTIMIZER\n",
       "Solver name: GLPK\n",
       "Names registered in the model: x12, x13, x23, x24, x32, x34, x41"
      ]
     },
     "execution_count": 1,
     "metadata": {},
     "output_type": "execute_result"
    }
   ],
   "source": [
    "using JuMP, GLPK\n",
    "\n",
    "myModel = Model(GLPK.Optimizer)\n",
    "@variable(myModel, x12>= 0)\n",
    "@variable(myModel, x13>= 0)\n",
    "@variable(myModel, x23>= 0)\n",
    "@variable(myModel, x24>= 0)\n",
    "@variable(myModel, x34>= 0)\n",
    "@variable(myModel, x32>= 0)\n",
    "@variable(myModel, x41>= 0)\n",
    "@constraint(myModel, x12+x13-x41<=4)\n",
    "@constraint(myModel, x23+x24-x12<=2)\n",
    "@constraint(myModel, x34+x32-x23<=-1)\n",
    "@constraint(myModel, x41-x24-x34<=-5)\n",
    "\n",
    "\n",
    "@objective(myModel, Min, 2*x12-5*x13-1*x23+4*x24+3*x34+6*x32+7*x41)\n",
    "myModel\n",
    "\n"
   ]
  },
  {
   "cell_type": "code",
   "execution_count": 9,
   "id": "0ee91835-cd7a-4a85-b4c5-e8ae31915351",
   "metadata": {},
   "outputs": [
    {
     "name": "stdout",
     "output_type": "stream",
     "text": [
      "  0.000022 seconds (2 allocations: 32 bytes)\n",
      "Objective value: 17.0\n",
      "x12 = 4.0\n",
      "x13 = 0.0\n",
      "x23 = 6.0\n",
      "x24 = 0.0\n",
      "x34 = 5.0\n",
      "x32 = 0.0\n",
      "x41 = 0.0\n"
     ]
    }
   ],
   "source": [
    "@time begin\n",
    "    status = optimize!(myModel)\n",
    "end\n",
    "println(\"Objective value: \", JuMP.objective_value(myModel))\n",
    "println(\"x12 = \", JuMP.value(x12))\n",
    "println(\"x13 = \", JuMP.value(x13))\n",
    "println(\"x23 = \", JuMP.value(x23))\n",
    "println(\"x24 = \", JuMP.value(x24))\n",
    "println(\"x34 = \", JuMP.value(x34))\n",
    "println(\"x32 = \", JuMP.value(x32))\n",
    "println(\"x41 = \", JuMP.value(x41))"
   ]
  },
  {
   "cell_type": "markdown",
   "id": "eefd5089-0252-4c8d-9a5e-023f35684268",
   "metadata": {},
   "source": [
    "#### Optimal solution: \n",
    "Transport 4 units from location 1 to 2, transport 6 units from location 2 to 3, and  transport 5 units from location 3 to 4.  In this way, the total cost is 17."
   ]
  },
  {
   "cell_type": "code",
   "execution_count": null,
   "id": "b30cd201-7043-43f9-99b9-5dbc71efff1b",
   "metadata": {},
   "outputs": [],
   "source": []
  }
 ],
 "metadata": {
  "kernelspec": {
   "display_name": "Julia 1.8.5",
   "language": "julia",
   "name": "julia-1.8"
  },
  "language_info": {
   "file_extension": ".jl",
   "mimetype": "application/julia",
   "name": "julia",
   "version": "1.8.5"
  }
 },
 "nbformat": 4,
 "nbformat_minor": 5
}

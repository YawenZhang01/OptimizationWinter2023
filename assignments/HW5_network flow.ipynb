{
 "cells": [
  {
   "attachments": {},
   "cell_type": "markdown",
   "id": "3e8e995b",
   "metadata": {},
   "source": [
    "# Homework 05. Network Flow/Transportation\n",
    "\n",
    "MSCA 32013 Optimization and Simulation Methods. University of Chicago.\n",
    "\n",
    "Group 7. Ben Ossyra, Peter Pezon. Yawen Zhang. "
   ]
  },
  {
   "cell_type": "markdown",
   "id": "0d6692ce-fa4c-4ed5-9ac3-1ed81cbbc978",
   "metadata": {},
   "source": [
    "## Problem 1\n",
    "Consider the network flow in the diagram below. Each circle contains a number representing a location. Each diamond shape contains a number representing the supply or demand for a given commodity at each location. Each octagon shape contains a number representing the cost (per unit) for transporting the commodity from one location to another. Each arrows represent the direction that the commodity can flow from a location to another."
   ]
  },
  {
   "cell_type": "markdown",
   "id": "a2eee301-7cad-430f-89f2-d037daddbee9",
   "metadata": {},
   "source": [
    "Each row represents each path, and column c_ij represents the cost per unit on corresponding path:\n",
    "\n",
    "| Start_node_i | End_node_j | c_ij |\n",
    "| ----- | ------ | ----- | \n",
    "|  1    |\t2\t |\t2\t | \n",
    "|  1    |\t3\t |\t-5 | \n",
    "|  2    |\t3\t |\t-1 | \n",
    "|  2    |\t4\t |\t4 | \n",
    "|  3    |\t4\t |\t3 | \n",
    "|  3    |\t2\t |\t6 |\n",
    "|  4    |\t1\t |\t7 |"
   ]
  },
  {
   "attachments": {},
   "cell_type": "markdown",
   "id": "c641281c-d702-4966-a35c-786d5964c6b0",
   "metadata": {},
   "source": [
    "#### Define our variables\n",
    "There are 7 paths, so we have 7 variables:\n",
    "\n",
    "* $x_{12}$ is the number of units that transported from location 1 to 2.\n",
    "* $x_{13}$ is the number of units that transported from location 1 to 3.\n",
    "* $x_{23}$ is the number of units that transported from location 2 to 3.\n",
    "* $x_{24}$ is the number of units that transported from location 2 to 4.\n",
    "* $x_{34}$ is the number of units that transported from location 3 to 4.\n",
    "* $x_{32}$ is the number of units that transported from location 3 to 2.\n",
    "* $x_{41}$ is the number of units that transported from location 4 to 1.\n",
    "\n",
    "#### Regarding constraints:\n",
    "\n",
    "For each location, the total units transported from the location minus the total units transported to the location must be equal to the supply (or demand in the case of a negative number):\n",
    "\n",
    "$$ x12 + x13 - x41 = 4 $$\n",
    "$$ x23 + x24 - x12 = 2 $$\n",
    "$$ x34 + x32 -x23 = -1 $$\n",
    "$$ x41 + x24 -x34 = -5 $$\n",
    "\n",
    "\n",
    "\n",
    "#### The objective function is defined as:\n",
    "\n",
    "$$ min\\ \\  2x_{12} - 5x_{13} -1 x_{23} + 4x_{24} + 3x_{34} + 6x_{32} + 7x_{41} $$\n",
    "\n"
   ]
  },
  {
   "cell_type": "code",
   "execution_count": 10,
   "id": "b7cde8cd",
   "metadata": {},
   "outputs": [],
   "source": [
    "using CSV, DataFrames"
   ]
  },
  {
   "cell_type": "code",
   "execution_count": 11,
   "id": "0db785a8",
   "metadata": {},
   "outputs": [
    {
     "data": {
      "text/html": [
       "<div><div style = \"float: left;\"><span>7×3 DataFrame</span></div><div style = \"clear: both;\"></div></div><div class = \"data-frame\" style = \"overflow-x: scroll;\"><table class = \"data-frame\" style = \"margin-bottom: 6px;\"><thead><tr class = \"header\"><th class = \"rowNumber\" style = \"font-weight: bold; text-align: right;\">Row</th><th style = \"text-align: left;\">Start Node</th><th style = \"text-align: left;\">End Node</th><th style = \"text-align: left;\">c_ij</th></tr><tr class = \"subheader headerLastRow\"><th class = \"rowNumber\" style = \"font-weight: bold; text-align: right;\"></th><th title = \"Int64\" style = \"text-align: left;\">Int64</th><th title = \"Int64\" style = \"text-align: left;\">Int64</th><th title = \"Int64\" style = \"text-align: left;\">Int64</th></tr></thead><tbody><tr><td class = \"rowNumber\" style = \"font-weight: bold; text-align: right;\">1</td><td style = \"text-align: right;\">1</td><td style = \"text-align: right;\">2</td><td style = \"text-align: right;\">2</td></tr><tr><td class = \"rowNumber\" style = \"font-weight: bold; text-align: right;\">2</td><td style = \"text-align: right;\">1</td><td style = \"text-align: right;\">3</td><td style = \"text-align: right;\">-5</td></tr><tr><td class = \"rowNumber\" style = \"font-weight: bold; text-align: right;\">3</td><td style = \"text-align: right;\">2</td><td style = \"text-align: right;\">3</td><td style = \"text-align: right;\">-1</td></tr><tr><td class = \"rowNumber\" style = \"font-weight: bold; text-align: right;\">4</td><td style = \"text-align: right;\">2</td><td style = \"text-align: right;\">4</td><td style = \"text-align: right;\">4</td></tr><tr><td class = \"rowNumber\" style = \"font-weight: bold; text-align: right;\">5</td><td style = \"text-align: right;\">3</td><td style = \"text-align: right;\">2</td><td style = \"text-align: right;\">6</td></tr><tr><td class = \"rowNumber\" style = \"font-weight: bold; text-align: right;\">6</td><td style = \"text-align: right;\">3</td><td style = \"text-align: right;\">4</td><td style = \"text-align: right;\">3</td></tr><tr><td class = \"rowNumber\" style = \"font-weight: bold; text-align: right;\">7</td><td style = \"text-align: right;\">4</td><td style = \"text-align: right;\">1</td><td style = \"text-align: right;\">7</td></tr></tbody></table></div>"
      ],
      "text/latex": [
       "\\begin{tabular}{r|ccc}\n",
       "\t& Start Node & End Node & c\\_ij\\\\\n",
       "\t\\hline\n",
       "\t& Int64 & Int64 & Int64\\\\\n",
       "\t\\hline\n",
       "\t1 & 1 & 2 & 2 \\\\\n",
       "\t2 & 1 & 3 & -5 \\\\\n",
       "\t3 & 2 & 3 & -1 \\\\\n",
       "\t4 & 2 & 4 & 4 \\\\\n",
       "\t5 & 3 & 2 & 6 \\\\\n",
       "\t6 & 3 & 4 & 3 \\\\\n",
       "\t7 & 4 & 1 & 7 \\\\\n",
       "\\end{tabular}\n"
      ],
      "text/plain": [
       "\u001b[1m7×3 DataFrame\u001b[0m\n",
       "\u001b[1m Row \u001b[0m│\u001b[1m Start Node \u001b[0m\u001b[1m End Node \u001b[0m\u001b[1m c_ij  \u001b[0m\n",
       "     │\u001b[90m Int64      \u001b[0m\u001b[90m Int64    \u001b[0m\u001b[90m Int64 \u001b[0m\n",
       "─────┼─────────────────────────────\n",
       "   1 │          1         2      2\n",
       "   2 │          1         3     -5\n",
       "   3 │          2         3     -1\n",
       "   4 │          2         4      4\n",
       "   5 │          3         2      6\n",
       "   6 │          3         4      3\n",
       "   7 │          4         1      7"
      ]
     },
     "execution_count": 11,
     "metadata": {},
     "output_type": "execute_result"
    }
   ],
   "source": [
    "df = CSV.read(\"/Users/benjaminossyra/Desktop/Optimization/Homework_5/Network_Loc_Cost.csv\", DataFrame; delim = ',', header=true)"
   ]
  },
  {
   "cell_type": "code",
   "execution_count": 12,
   "id": "3101c9a6",
   "metadata": {},
   "outputs": [
    {
     "data": {
      "text/html": [
       "<div><div style = \"float: left;\"><span>4×2 DataFrame</span></div><div style = \"clear: both;\"></div></div><div class = \"data-frame\" style = \"overflow-x: scroll;\"><table class = \"data-frame\" style = \"margin-bottom: 6px;\"><thead><tr class = \"header\"><th class = \"rowNumber\" style = \"font-weight: bold; text-align: right;\">Row</th><th style = \"text-align: left;\">Node</th><th style = \"text-align: left;\">Supply_Demand</th></tr><tr class = \"subheader headerLastRow\"><th class = \"rowNumber\" style = \"font-weight: bold; text-align: right;\"></th><th title = \"Int64\" style = \"text-align: left;\">Int64</th><th title = \"Int64\" style = \"text-align: left;\">Int64</th></tr></thead><tbody><tr><td class = \"rowNumber\" style = \"font-weight: bold; text-align: right;\">1</td><td style = \"text-align: right;\">1</td><td style = \"text-align: right;\">4</td></tr><tr><td class = \"rowNumber\" style = \"font-weight: bold; text-align: right;\">2</td><td style = \"text-align: right;\">2</td><td style = \"text-align: right;\">2</td></tr><tr><td class = \"rowNumber\" style = \"font-weight: bold; text-align: right;\">3</td><td style = \"text-align: right;\">3</td><td style = \"text-align: right;\">-1</td></tr><tr><td class = \"rowNumber\" style = \"font-weight: bold; text-align: right;\">4</td><td style = \"text-align: right;\">4</td><td style = \"text-align: right;\">-5</td></tr></tbody></table></div>"
      ],
      "text/latex": [
       "\\begin{tabular}{r|cc}\n",
       "\t& Node & Supply\\_Demand\\\\\n",
       "\t\\hline\n",
       "\t& Int64 & Int64\\\\\n",
       "\t\\hline\n",
       "\t1 & 1 & 4 \\\\\n",
       "\t2 & 2 & 2 \\\\\n",
       "\t3 & 3 & -1 \\\\\n",
       "\t4 & 4 & -5 \\\\\n",
       "\\end{tabular}\n"
      ],
      "text/plain": [
       "\u001b[1m4×2 DataFrame\u001b[0m\n",
       "\u001b[1m Row \u001b[0m│\u001b[1m Node  \u001b[0m\u001b[1m Supply_Demand \u001b[0m\n",
       "     │\u001b[90m Int64 \u001b[0m\u001b[90m Int64         \u001b[0m\n",
       "─────┼──────────────────────\n",
       "   1 │     1              4\n",
       "   2 │     2              2\n",
       "   3 │     3             -1\n",
       "   4 │     4             -5"
      ]
     },
     "execution_count": 12,
     "metadata": {},
     "output_type": "execute_result"
    }
   ],
   "source": [
    "df2 = CSV.read(\"/Users/benjaminossyra/Desktop/Optimization/Homework_5/Network_Supp_Dem.csv\", DataFrame; delim = ',', header=true)"
   ]
  },
  {
   "cell_type": "code",
   "execution_count": 13,
   "id": "64e4d73c-6b40-4bdc-b3fc-25de1e14c6de",
   "metadata": {},
   "outputs": [
    {
     "data": {
      "text/plain": [
       "A JuMP Model\n",
       "Minimization problem with:\n",
       "Variables: 7\n",
       "Objective function type: AffExpr\n",
       "`AffExpr`-in-`MathOptInterface.EqualTo{Float64}`: 4 constraints\n",
       "`VariableRef`-in-`MathOptInterface.GreaterThan{Float64}`: 7 constraints\n",
       "Model mode: AUTOMATIC\n",
       "CachingOptimizer state: EMPTY_OPTIMIZER\n",
       "Solver name: GLPK\n",
       "Names registered in the model: x12, x13, x23, x24, x32, x34, x41"
      ]
     },
     "execution_count": 13,
     "metadata": {},
     "output_type": "execute_result"
    }
   ],
   "source": [
    "using JuMP, GLPK\n",
    "\n",
    "myModel = Model(GLPK.Optimizer)\n",
    "@variable(myModel, x12>= 0)\n",
    "@variable(myModel, x13>= 0)\n",
    "@variable(myModel, x23>= 0)\n",
    "@variable(myModel, x24>= 0)\n",
    "@variable(myModel, x34>= 0)\n",
    "@variable(myModel, x32>= 0)\n",
    "@variable(myModel, x41>= 0)\n",
    "@constraint(myModel, x12+x13-x41==4)\n",
    "@constraint(myModel, x23+x24-x12-x32==2)\n",
    "@constraint(myModel, x34+x32-x23==-1)\n",
    "@constraint(myModel, x41-x24-x34==-5)\n",
    "\n",
    "\n",
    "@objective(myModel, Min, 2*x12-5*x13-1*x23+4*x24+3*x34+6*x32+7*x41)\n",
    "myModel\n",
    "\n"
   ]
  },
  {
   "cell_type": "code",
   "execution_count": 14,
   "id": "08894fd9",
   "metadata": {},
   "outputs": [
    {
     "data": {
      "text/latex": [
       "$$ \\begin{aligned}\n",
       "\\min\\quad & 2 x12 - 5 x13 - x23 + 4 x24 + 3 x34 + 6 x32 + 7 x41\\\\\n",
       "\\text{Subject to} \\quad & x12 + x13 - x41 = 4.0\\\\\n",
       " & -x12 + x23 + x24 - x32 = 2.0\\\\\n",
       " & -x23 + x34 + x32 = -1.0\\\\\n",
       " & -x24 - x34 + x41 = -5.0\\\\\n",
       " & x12 \\geq 0.0\\\\\n",
       " & x13 \\geq 0.0\\\\\n",
       " & x23 \\geq 0.0\\\\\n",
       " & x24 \\geq 0.0\\\\\n",
       " & x34 \\geq 0.0\\\\\n",
       " & x32 \\geq 0.0\\\\\n",
       " & x41 \\geq 0.0\\\\\n",
       "\\end{aligned} $$"
      ]
     },
     "metadata": {},
     "output_type": "display_data"
    }
   ],
   "source": [
    "print(myModel)"
   ]
  },
  {
   "cell_type": "code",
   "execution_count": 15,
   "id": "0ee91835-cd7a-4a85-b4c5-e8ae31915351",
   "metadata": {},
   "outputs": [
    {
     "name": "stdout",
     "output_type": "stream",
     "text": [
      "  0.133904 seconds (422.43 k allocations: 22.840 MiB, 20.41% gc time, 99.30% compilation time: 100% of which was recompilation)\n",
      "Objective value: 17.0\n",
      "x12 = 4.0\n",
      "x13 = 0.0\n",
      "x23 = 6.0\n",
      "x24 = 0.0\n",
      "x34 = 5.0\n",
      "x32 = 0.0\n",
      "x41 = 0.0\n"
     ]
    }
   ],
   "source": [
    "@time begin\n",
    "    status = optimize!(myModel)\n",
    "end\n",
    "println(\"Objective value: \", JuMP.objective_value(myModel))\n",
    "println(\"x12 = \", JuMP.value(x12))\n",
    "println(\"x13 = \", JuMP.value(x13))\n",
    "println(\"x23 = \", JuMP.value(x23))\n",
    "println(\"x24 = \", JuMP.value(x24))\n",
    "println(\"x34 = \", JuMP.value(x34))\n",
    "println(\"x32 = \", JuMP.value(x32))\n",
    "println(\"x41 = \", JuMP.value(x41))"
   ]
  },
  {
   "cell_type": "markdown",
   "id": "eefd5089-0252-4c8d-9a5e-023f35684268",
   "metadata": {},
   "source": [
    "#### Optimal solution: \n",
    "Transport 4 units from location 1 to 2, transport 6 units from location 2 to 3, and  transport 5 units from location 3 to 4.  In this way, the total cost is 17."
   ]
  },
  {
   "attachments": {},
   "cell_type": "markdown",
   "id": "b30cd201-7043-43f9-99b9-5dbc71efff1b",
   "metadata": {},
   "source": [
    "#### Further Explanation\n",
    "\n",
    "Node 1 starts with 4 units. We transfer all 4 units to node 2 at a cost of 2/per unit.\n",
    "\n",
    "Cost of Node 1 -> Node 2 = 2 * 4 = 8\n",
    "\n",
    "Node 2 starts with 2 units and was transferred 4 units. There are now 6 units. All 6 units are transferred to node 3 at a cost of -1/per unit.\n",
    "\n",
    "Cost of Node 2 -> Node 3 = 6 * -1 = -6\n",
    "\n",
    "Node 3 starts with no units and was transffered 6 units. There are now 6 units. It has a demand of 1 unit, so we transfer 5 units (leaving 1) to node 4 at a cost of 3/unit.\n",
    "\n",
    "Cost of Node 3 -> Node 4 = 5 * 3 = 15\n",
    "\n",
    "Node 4 starts with no units and was transferred 5 units. It had a demand of 5 units that is now satisfied.\n",
    "\n",
    "The total cost of moving the units is 8 + -6 + 15 = 17"
   ]
  },
  {
   "attachments": {},
   "cell_type": "markdown",
   "id": "66984650",
   "metadata": {},
   "source": [
    "#### Constraint Verification\n",
    "\n",
    "constraint 1:  \n",
    "$ x12 + x13 - x41 = 4 $  \n",
    "$ 4 + 0 - 0 = 4 $  \n",
    "constraint 1 is confirmed\n",
    "\n",
    "constraint 2:  \n",
    "$ x23 + x24 - x12 = 2 $  \n",
    "$ 6 + 0 - 4 = 2 $  \n",
    "constraint 2 is confirmed\n",
    "\n",
    "constraint 3:  \n",
    "$ x34 + x32 -x23 = -1 $  \n",
    "$ 5 + 0 - 6 = -1 $  \n",
    "constraint 3 is confirmed\n",
    "\n",
    "constraint 4:  \n",
    "$ x41 + x24 -x34 = -5 $  \n",
    "$ 0 + 0 - 5 = -5 $  \n",
    "constraint 4 is confirmed"
   ]
  },
  {
   "cell_type": "markdown",
   "id": "d89a0bb0",
   "metadata": {},
   "source": [
    "# Problem 2 - Transportation"
   ]
  },
  {
   "cell_type": "code",
   "execution_count": 16,
   "id": "08d2f3fd",
   "metadata": {},
   "outputs": [
    {
     "data": {
      "text/html": [
       "<div><div style = \"float: left;\"><span>4×9 DataFrame</span></div><div style = \"clear: both;\"></div></div><div class = \"data-frame\" style = \"overflow-x: scroll;\"><table class = \"data-frame\" style = \"margin-bottom: 6px;\"><thead><tr class = \"header\"><th class = \"rowNumber\" style = \"font-weight: bold; text-align: right;\">Row</th><th style = \"text-align: left;\">Column1</th><th style = \"text-align: left;\">R1</th><th style = \"text-align: left;\">R2</th><th style = \"text-align: left;\">R3</th><th style = \"text-align: left;\">R4</th><th style = \"text-align: left;\">R5</th><th style = \"text-align: left;\">R6</th><th style = \"text-align: left;\">R7</th><th style = \"text-align: left;\">Supply</th></tr><tr class = \"subheader headerLastRow\"><th class = \"rowNumber\" style = \"font-weight: bold; text-align: right;\"></th><th title = \"String7\" style = \"text-align: left;\">String7</th><th title = \"Int64\" style = \"text-align: left;\">Int64</th><th title = \"Union{Missing, Int64}\" style = \"text-align: left;\">Int64?</th><th title = \"Int64\" style = \"text-align: left;\">Int64</th><th title = \"Union{Missing, Int64}\" style = \"text-align: left;\">Int64?</th><th title = \"Int64\" style = \"text-align: left;\">Int64</th><th title = \"Int64\" style = \"text-align: left;\">Int64</th><th title = \"Int64\" style = \"text-align: left;\">Int64</th><th title = \"Union{Missing, Int64}\" style = \"text-align: left;\">Int64?</th></tr></thead><tbody><tr><td class = \"rowNumber\" style = \"font-weight: bold; text-align: right;\">1</td><td style = \"text-align: left;\">SA</td><td style = \"text-align: right;\">78</td><td style = \"text-align: right;\">28</td><td style = \"text-align: right;\">22</td><td style = \"text-align: right;\">28</td><td style = \"text-align: right;\">32</td><td style = \"text-align: right;\">164</td><td style = \"text-align: right;\">16</td><td style = \"text-align: right;\">2800</td></tr><tr><td class = \"rowNumber\" style = \"font-weight: bold; text-align: right;\">2</td><td style = \"text-align: left;\">SB</td><td style = \"text-align: right;\">54</td><td style = \"font-style: italic; text-align: right;\">missing</td><td style = \"text-align: right;\">24</td><td style = \"font-style: italic; text-align: right;\">missing</td><td style = \"text-align: right;\">52</td><td style = \"text-align: right;\">190</td><td style = \"text-align: right;\">34</td><td style = \"text-align: right;\">5200</td></tr><tr><td class = \"rowNumber\" style = \"font-weight: bold; text-align: right;\">3</td><td style = \"text-align: left;\">SC</td><td style = \"text-align: right;\">48</td><td style = \"text-align: right;\">28</td><td style = \"text-align: right;\">34</td><td style = \"text-align: right;\">26</td><td style = \"text-align: right;\">56</td><td style = \"text-align: right;\">198</td><td style = \"text-align: right;\">40</td><td style = \"text-align: right;\">5800</td></tr><tr><td class = \"rowNumber\" style = \"font-weight: bold; text-align: right;\">4</td><td style = \"text-align: left;\">Demand</td><td style = \"text-align: right;\">1800</td><td style = \"text-align: right;\">2400</td><td style = \"text-align: right;\">1200</td><td style = \"text-align: right;\">800</td><td style = \"text-align: right;\">3400</td><td style = \"text-align: right;\">2200</td><td style = \"text-align: right;\">2000</td><td style = \"font-style: italic; text-align: right;\">missing</td></tr></tbody></table></div>"
      ],
      "text/latex": [
       "\\begin{tabular}{r|ccccccccc}\n",
       "\t& Column1 & R1 & R2 & R3 & R4 & R5 & R6 & R7 & Supply\\\\\n",
       "\t\\hline\n",
       "\t& String7 & Int64 & Int64? & Int64 & Int64? & Int64 & Int64 & Int64 & Int64?\\\\\n",
       "\t\\hline\n",
       "\t1 & SA & 78 & 28 & 22 & 28 & 32 & 164 & 16 & 2800 \\\\\n",
       "\t2 & SB & 54 & \\emph{missing} & 24 & \\emph{missing} & 52 & 190 & 34 & 5200 \\\\\n",
       "\t3 & SC & 48 & 28 & 34 & 26 & 56 & 198 & 40 & 5800 \\\\\n",
       "\t4 & Demand & 1800 & 2400 & 1200 & 800 & 3400 & 2200 & 2000 & \\emph{missing} \\\\\n",
       "\\end{tabular}\n"
      ],
      "text/plain": [
       "\u001b[1m4×9 DataFrame\u001b[0m\n",
       "\u001b[1m Row \u001b[0m│\u001b[1m Column1 \u001b[0m\u001b[1m R1    \u001b[0m\u001b[1m R2      \u001b[0m\u001b[1m R3    \u001b[0m\u001b[1m R4      \u001b[0m\u001b[1m R5    \u001b[0m\u001b[1m R6    \u001b[0m\u001b[1m R7    \u001b[0m\u001b[1m Supply  \u001b[0m\n",
       "     │\u001b[90m String7 \u001b[0m\u001b[90m Int64 \u001b[0m\u001b[90m Int64?  \u001b[0m\u001b[90m Int64 \u001b[0m\u001b[90m Int64?  \u001b[0m\u001b[90m Int64 \u001b[0m\u001b[90m Int64 \u001b[0m\u001b[90m Int64 \u001b[0m\u001b[90m Int64?  \u001b[0m\n",
       "─────┼───────────────────────────────────────────────────────────────────────\n",
       "   1 │ SA          78       28     22       28     32    164     16     2800\n",
       "   2 │ SB          54 \u001b[90m missing \u001b[0m    24 \u001b[90m missing \u001b[0m    52    190     34     5200\n",
       "   3 │ SC          48       28     34       26     56    198     40     5800\n",
       "   4 │ Demand    1800     2400   1200      800   3400   2200   2000 \u001b[90m missing \u001b[0m"
      ]
     },
     "execution_count": 16,
     "metadata": {},
     "output_type": "execute_result"
    }
   ],
   "source": [
    "t = CSV.read(\"/Users/benjaminossyra/Desktop/Optimization/Homework_5/transportation.csv\", DataFrame; delim = ',', header=true)"
   ]
  },
  {
   "cell_type": "code",
   "execution_count": 17,
   "id": "2b535366",
   "metadata": {},
   "outputs": [
    {
     "data": {
      "text/plain": [
       "4×9 Matrix{Any}:\n",
       " \"SA\"        78    28           22  …    32   164    16  2800\n",
       " \"SB\"        54      missing    24       52   190    34  5200\n",
       " \"SC\"        48    28           34       56   198    40  5800\n",
       " \"Demand\"  1800  2400         1200     3400  2200  2000      missing"
      ]
     },
     "execution_count": 17,
     "metadata": {},
     "output_type": "execute_result"
    }
   ],
   "source": [
    "tm = Matrix(t)"
   ]
  },
  {
   "cell_type": "markdown",
   "id": "ca5d2c38",
   "metadata": {},
   "source": [
    "Create a vector of the demand values"
   ]
  },
  {
   "cell_type": "code",
   "execution_count": 18,
   "id": "b717438f",
   "metadata": {},
   "outputs": [
    {
     "data": {
      "text/plain": [
       "7-element Vector{Any}:\n",
       " 1800\n",
       " 2400\n",
       " 1200\n",
       "  800\n",
       " 3400\n",
       " 2200\n",
       " 2000"
      ]
     },
     "execution_count": 18,
     "metadata": {},
     "output_type": "execute_result"
    }
   ],
   "source": [
    "demand = tm[4,2:8]"
   ]
  },
  {
   "cell_type": "markdown",
   "id": "01574da6",
   "metadata": {},
   "source": [
    "Create a vector of the supply values"
   ]
  },
  {
   "cell_type": "code",
   "execution_count": 19,
   "id": "fb39b52d",
   "metadata": {},
   "outputs": [
    {
     "data": {
      "text/plain": [
       "3-element Vector{Any}:\n",
       " 2800\n",
       " 5200\n",
       " 5800"
      ]
     },
     "execution_count": 19,
     "metadata": {},
     "output_type": "execute_result"
    }
   ],
   "source": [
    "supply = tm[1:3,9]"
   ]
  },
  {
   "cell_type": "markdown",
   "id": "5b1fefec",
   "metadata": {},
   "source": [
    "We are going to create a vector of the costs, and exclude the missing values since those routes are not possible"
   ]
  },
  {
   "cell_type": "code",
   "execution_count": 20,
   "id": "e4f58a0d",
   "metadata": {},
   "outputs": [
    {
     "data": {
      "text/plain": [
       "21-element Vector{Any}:\n",
       "  78\n",
       "  28\n",
       "  22\n",
       "  28\n",
       "  32\n",
       " 164\n",
       "  16\n",
       "  54\n",
       "    missing\n",
       "  24\n",
       "    missing\n",
       "  52\n",
       " 190\n",
       "  34\n",
       "  48\n",
       "  28\n",
       "  34\n",
       "  26\n",
       "  56\n",
       " 198\n",
       "  40"
      ]
     },
     "execution_count": 20,
     "metadata": {},
     "output_type": "execute_result"
    }
   ],
   "source": [
    "c = cat(tm[1,2:8],tm[2,2:8],tm[3,2:8], dims=(1,1))"
   ]
  },
  {
   "cell_type": "code",
   "execution_count": 21,
   "id": "1fff4ec7",
   "metadata": {},
   "outputs": [
    {
     "data": {
      "text/plain": [
       "19-element Vector{Any}:\n",
       "  78\n",
       "  28\n",
       "  22\n",
       "  28\n",
       "  32\n",
       " 164\n",
       "  16\n",
       "  54\n",
       "  24\n",
       "  52\n",
       " 190\n",
       "  34\n",
       "  48\n",
       "  28\n",
       "  34\n",
       "  26\n",
       "  56\n",
       " 198\n",
       "  40"
      ]
     },
     "execution_count": 21,
     "metadata": {},
     "output_type": "execute_result"
    }
   ],
   "source": [
    "c = collect(skipmissing(c))"
   ]
  },
  {
   "cell_type": "markdown",
   "id": "51a2e07e",
   "metadata": {},
   "source": [
    "Create a vector of the nodes. Both supplier and retailer"
   ]
  },
  {
   "cell_type": "code",
   "execution_count": 22,
   "id": "6a384437",
   "metadata": {},
   "outputs": [
    {
     "data": {
      "text/plain": [
       "10-element Vector{String}:\n",
       " \"SA\"\n",
       " \"SB\"\n",
       " \"SC\"\n",
       " \"R1\"\n",
       " \"R2\"\n",
       " \"R3\"\n",
       " \"R4\"\n",
       " \"R5\"\n",
       " \"R6\"\n",
       " \"R7\""
      ]
     },
     "execution_count": 22,
     "metadata": {},
     "output_type": "execute_result"
    }
   ],
   "source": [
    "nodes = [\"SA\", \"SB\", \"SC\", \"R1\", \"R2\", \"R3\", \"R4\", \"R5\", \"R6\", \"R7\"]"
   ]
  },
  {
   "cell_type": "code",
   "execution_count": 23,
   "id": "754b3739",
   "metadata": {},
   "outputs": [],
   "source": [
    "links=[]\n",
    "for i in 1:3\n",
    "    for j in 4:10\n",
    "        if (nodes[i], nodes[j]) != (\"SB\", \"R2\") && (nodes[i], nodes[j]) != (\"SB\", \"R4\")\n",
    "            push!(links, (nodes[i], nodes[j]))\n",
    "        end\n",
    "    end\n",
    "end"
   ]
  },
  {
   "cell_type": "markdown",
   "id": "04b135a1",
   "metadata": {},
   "source": [
    "We have created a vector of all the link pairs, and have excluded SB,R2 and SB,R4 since these routes are not possible. Goods can only move in one direction, from supplier to retailer."
   ]
  },
  {
   "cell_type": "code",
   "execution_count": 24,
   "id": "b4569a3d",
   "metadata": {},
   "outputs": [
    {
     "data": {
      "text/plain": [
       "((\"SA\", \"R1\"), (\"SA\", \"R2\"), (\"SA\", \"R3\"), (\"SA\", \"R4\"), (\"SA\", \"R5\"), (\"SA\", \"R6\"), (\"SA\", \"R7\"), (\"SB\", \"R1\"), (\"SB\", \"R3\"), (\"SB\", \"R5\"), (\"SB\", \"R6\"), (\"SB\", \"R7\"), (\"SC\", \"R1\"), (\"SC\", \"R2\"), (\"SC\", \"R3\"), (\"SC\", \"R4\"), (\"SC\", \"R5\"), (\"SC\", \"R6\"), (\"SC\", \"R7\"))"
      ]
     },
     "execution_count": 24,
     "metadata": {},
     "output_type": "execute_result"
    }
   ],
   "source": [
    "Tuple(links)"
   ]
  },
  {
   "cell_type": "markdown",
   "id": "50a0b108",
   "metadata": {},
   "source": [
    "Next step is to create a dictionary will all the possible links and the cost of moving goods between the links"
   ]
  },
  {
   "cell_type": "code",
   "execution_count": 25,
   "id": "5fa5a3e6",
   "metadata": {},
   "outputs": [
    {
     "data": {
      "text/plain": [
       "Dict{Tuple{String, String}, Int64} with 19 entries:\n",
       "  (\"SA\", \"R5\") => 32\n",
       "  (\"SA\", \"R6\") => 164\n",
       "  (\"SC\", \"R4\") => 26\n",
       "  (\"SB\", \"R1\") => 54\n",
       "  (\"SC\", \"R7\") => 40\n",
       "  (\"SA\", \"R1\") => 78\n",
       "  (\"SB\", \"R3\") => 24\n",
       "  (\"SA\", \"R4\") => 28\n",
       "  (\"SC\", \"R1\") => 48\n",
       "  (\"SC\", \"R2\") => 28\n",
       "  (\"SA\", \"R7\") => 16\n",
       "  (\"SC\", \"R5\") => 56\n",
       "  (\"SC\", \"R6\") => 198\n",
       "  (\"SA\", \"R2\") => 28\n",
       "  (\"SA\", \"R3\") => 22\n",
       "  (\"SB\", \"R5\") => 52\n",
       "  (\"SB\", \"R6\") => 190\n",
       "  (\"SC\", \"R3\") => 34\n",
       "  (\"SB\", \"R7\") => 34"
      ]
     },
     "execution_count": 25,
     "metadata": {},
     "output_type": "execute_result"
    }
   ],
   "source": [
    "c_dict = Dict(links .=> c)"
   ]
  },
  {
   "cell_type": "markdown",
   "id": "e113e02e",
   "metadata": {},
   "source": [
    "Next we're going to setup the optimization problem.  \n",
    "The variables will be all the possible route links.  \n",
    "Our objective is to minimize the cost of moving goods between suppliers and retailers i.e. sum of (number of units moved between each route) * (cost of moving a unit between the route).  \n",
    "Our constraints are the total number of goods that must be removed from the supplier or moved to the retailer, respectively"
   ]
  },
  {
   "cell_type": "code",
   "execution_count": 26,
   "id": "33ce20ac",
   "metadata": {},
   "outputs": [],
   "source": [
    "using JuMP, GLPK\n",
    "\n",
    "m = Model(GLPK.Optimizer)\n",
    "\n",
    "@variable(m, 0<= x[link in links])\n",
    "\n",
    "@objective(m, Min, sum(c_dict[link] * x[link] for link in links))\n",
    "\n",
    "count=0\n",
    "\n",
    "for i in nodes[1:3]\n",
    "    count += 1\n",
    "    @constraint(m, sum(x[(k,j)] for (k,j) in links if k == i) == supply[count])\n",
    "end\n",
    "\n",
    "count=0\n",
    "\n",
    "for i in nodes[4:10]\n",
    "    count += 1\n",
    "    @constraint(m, sum(x[(k,j)] for (k,j) in links if j == i) == demand[count])\n",
    "end\n"
   ]
  },
  {
   "cell_type": "code",
   "execution_count": 27,
   "id": "0808a9ff",
   "metadata": {},
   "outputs": [
    {
     "data": {
      "text/latex": [
       "$$ \\begin{aligned}\n",
       "\\min\\quad & 78 x_{(\"SA\", \"R1\")} + 28 x_{(\"SA\", \"R2\")} + 22 x_{(\"SA\", \"R3\")} + 28 x_{(\"SA\", \"R4\")} + 32 x_{(\"SA\", \"R5\")} + 164 x_{(\"SA\", \"R6\")} + 16 x_{(\"SA\", \"R7\")} + 54 x_{(\"SB\", \"R1\")} + 24 x_{(\"SB\", \"R3\")} + 52 x_{(\"SB\", \"R5\")} + 190 x_{(\"SB\", \"R6\")} + 34 x_{(\"SB\", \"R7\")} + 48 x_{(\"SC\", \"R1\")} + 28 x_{(\"SC\", \"R2\")} + 34 x_{(\"SC\", \"R3\")} + 26 x_{(\"SC\", \"R4\")} + 56 x_{(\"SC\", \"R5\")} + 198 x_{(\"SC\", \"R6\")} + 40 x_{(\"SC\", \"R7\")}\\\\\n",
       "\\text{Subject to} \\quad & x_{(\"SA\", \"R1\")} + x_{(\"SA\", \"R2\")} + x_{(\"SA\", \"R3\")} + x_{(\"SA\", \"R4\")} + x_{(\"SA\", \"R5\")} + x_{(\"SA\", \"R6\")} + x_{(\"SA\", \"R7\")} = 2800.0\\\\\n",
       " & x_{(\"SB\", \"R1\")} + x_{(\"SB\", \"R3\")} + x_{(\"SB\", \"R5\")} + x_{(\"SB\", \"R6\")} + x_{(\"SB\", \"R7\")} = 5200.0\\\\\n",
       " & x_{(\"SC\", \"R1\")} + x_{(\"SC\", \"R2\")} + x_{(\"SC\", \"R3\")} + x_{(\"SC\", \"R4\")} + x_{(\"SC\", \"R5\")} + x_{(\"SC\", \"R6\")} + x_{(\"SC\", \"R7\")} = 5800.0\\\\\n",
       " & x_{(\"SA\", \"R1\")} + x_{(\"SB\", \"R1\")} + x_{(\"SC\", \"R1\")} = 1800.0\\\\\n",
       " & x_{(\"SA\", \"R2\")} + x_{(\"SC\", \"R2\")} = 2400.0\\\\\n",
       " & x_{(\"SA\", \"R3\")} + x_{(\"SB\", \"R3\")} + x_{(\"SC\", \"R3\")} = 1200.0\\\\\n",
       " & x_{(\"SA\", \"R4\")} + x_{(\"SC\", \"R4\")} = 800.0\\\\\n",
       " & x_{(\"SA\", \"R5\")} + x_{(\"SB\", \"R5\")} + x_{(\"SC\", \"R5\")} = 3400.0\\\\\n",
       " & x_{(\"SA\", \"R6\")} + x_{(\"SB\", \"R6\")} + x_{(\"SC\", \"R6\")} = 2200.0\\\\\n",
       " & x_{(\"SA\", \"R7\")} + x_{(\"SB\", \"R7\")} + x_{(\"SC\", \"R7\")} = 2000.0\\\\\n",
       " & x_{(\"SA\", \"R1\")} \\geq 0.0\\\\\n",
       " & x_{(\"SA\", \"R2\")} \\geq 0.0\\\\\n",
       " & x_{(\"SA\", \"R3\")} \\geq 0.0\\\\\n",
       " & x_{(\"SA\", \"R4\")} \\geq 0.0\\\\\n",
       " & x_{(\"SA\", \"R5\")} \\geq 0.0\\\\\n",
       " & x_{(\"SA\", \"R6\")} \\geq 0.0\\\\\n",
       " & x_{(\"SA\", \"R7\")} \\geq 0.0\\\\\n",
       " & x_{(\"SB\", \"R1\")} \\geq 0.0\\\\\n",
       " & x_{(\"SB\", \"R3\")} \\geq 0.0\\\\\n",
       " & x_{(\"SB\", \"R5\")} \\geq 0.0\\\\\n",
       " & x_{(\"SB\", \"R6\")} \\geq 0.0\\\\\n",
       " & x_{(\"SB\", \"R7\")} \\geq 0.0\\\\\n",
       " & x_{(\"SC\", \"R1\")} \\geq 0.0\\\\\n",
       " & x_{(\"SC\", \"R2\")} \\geq 0.0\\\\\n",
       " & x_{(\"SC\", \"R3\")} \\geq 0.0\\\\\n",
       " & x_{(\"SC\", \"R4\")} \\geq 0.0\\\\\n",
       " & x_{(\"SC\", \"R5\")} \\geq 0.0\\\\\n",
       " & x_{(\"SC\", \"R6\")} \\geq 0.0\\\\\n",
       " & x_{(\"SC\", \"R7\")} \\geq 0.0\\\\\n",
       "\\end{aligned} $$"
      ]
     },
     "metadata": {},
     "output_type": "display_data"
    }
   ],
   "source": [
    "print(m)"
   ]
  },
  {
   "cell_type": "code",
   "execution_count": 28,
   "id": "84501a64",
   "metadata": {},
   "outputs": [],
   "source": [
    "JuMP.optimize!(m)"
   ]
  },
  {
   "cell_type": "code",
   "execution_count": 29,
   "id": "b93dd49f",
   "metadata": {},
   "outputs": [
    {
     "name": "stdout",
     "output_type": "stream",
     "text": [
      "Objective value: 800000.0\n"
     ]
    }
   ],
   "source": [
    "println(\"Objective value: \", JuMP.objective_value(m))"
   ]
  },
  {
   "cell_type": "code",
   "execution_count": 30,
   "id": "fe171b7c",
   "metadata": {},
   "outputs": [
    {
     "name": "stdout",
     "output_type": "stream",
     "text": [
      "x[(\"SA\", \"R1\")] = 0.0\n",
      "x[(\"SA\", \"R2\")] = 0.0\n",
      "x[(\"SA\", \"R3\")] = 0.0\n",
      "x[(\"SA\", \"R4\")] = 0.0\n",
      "x[(\"SA\", \"R5\")] = 600.0\n",
      "x[(\"SA\", \"R6\")] = 2200.0\n",
      "x[(\"SA\", \"R7\")] = 0.0\n",
      "x[(\"SB\", \"R1\")] = 0.0\n",
      "x[(\"SB\", \"R3\")] = 1200.0\n",
      "x[(\"SB\", \"R5\")] = 2000.0\n",
      "x[(\"SB\", \"R6\")] = 0.0\n",
      "x[(\"SB\", \"R7\")] = 2000.0\n",
      "x[(\"SC\", \"R1\")] = 1800.0\n",
      "x[(\"SC\", \"R2\")] = 2400.0\n",
      "x[(\"SC\", \"R3\")] = 0.0\n",
      "x[(\"SC\", \"R4\")] = 800.0\n",
      "x[(\"SC\", \"R5\")] = 800.0\n",
      "x[(\"SC\", \"R6\")] = 0.0\n",
      "x[(\"SC\", \"R7\")] = 0.0\n"
     ]
    }
   ],
   "source": [
    "for variable in all_variables(m)\n",
    "    println(\"$(name(variable)) = $(value(variable))\")\n",
    "end"
   ]
  },
  {
   "cell_type": "code",
   "execution_count": 31,
   "id": "1a417d0e",
   "metadata": {},
   "outputs": [
    {
     "name": "stdout",
     "output_type": "stream",
     "text": [
      "x[(\"SA\", \"R5\")] = 600.0\n",
      "x[(\"SA\", \"R6\")] = 2200.0\n",
      "x[(\"SB\", \"R3\")] = 1200.0\n",
      "x[(\"SB\", \"R5\")] = 2000.0\n",
      "x[(\"SB\", \"R7\")] = 2000.0\n",
      "x[(\"SC\", \"R1\")] = 1800.0\n",
      "x[(\"SC\", \"R2\")] = 2400.0\n",
      "x[(\"SC\", \"R4\")] = 800.0\n",
      "x[(\"SC\", \"R5\")] = 800.0\n"
     ]
    }
   ],
   "source": [
    "for variable in all_variables(m)\n",
    "    if value(variable) != 0\n",
    "        println(\"$(name(variable)) = $(value(variable))\")\n",
    "    end\n",
    "end"
   ]
  },
  {
   "cell_type": "markdown",
   "id": "deec6ecb",
   "metadata": {},
   "source": [
    "##### Supplier A will supply:  \n",
    "600 units to Retailer 5  \n",
    "2200 units to Retailer 6  \n",
    "\n",
    "##### Supplier B will supply:  \n",
    "1200 units to Retailer 3  \n",
    "2000 units to Retailer 5  \n",
    "2000 units to Retailer 7  \n",
    "\n",
    "##### Supplier C will supply:  \n",
    "1800 units to Retailer 1  \n",
    "2400 units to Retailer 2  \n",
    "800 units to Retailer 4  \n",
    "800 units to Retailer 5  \n",
    "\n",
    "The minimum cost of moving the goods is $800,000."
   ]
  }
 ],
 "metadata": {
  "kernelspec": {
   "display_name": "Julia 1.8.4",
   "language": "julia",
   "name": "julia-1.8"
  },
  "language_info": {
   "file_extension": ".jl",
   "mimetype": "application/julia",
   "name": "julia",
   "version": "1.8.4"
  }
 },
 "nbformat": 4,
 "nbformat_minor": 5
}

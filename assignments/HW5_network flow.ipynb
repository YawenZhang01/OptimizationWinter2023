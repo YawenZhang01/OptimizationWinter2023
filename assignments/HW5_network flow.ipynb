{
 "cells": [
  {
   "attachments": {},
   "cell_type": "markdown",
   "id": "3e8e995b",
   "metadata": {},
   "source": [
    "# Homework 05. Network Flow/Transportation\n",
    "\n",
    "MSCA 32013 Optimization and Simulation Methods. University of Chicago.\n",
    "\n",
    "Group 7. Ben Ossyra, Peter Pezon. Yawen Zhang. "
   ]
  },
  {
   "cell_type": "markdown",
   "id": "0d6692ce-fa4c-4ed5-9ac3-1ed81cbbc978",
   "metadata": {},
   "source": [
    "## Q1. Network flow.\n",
    "\n",
    "Consider the network flow in the diagram below. Each circle contains a number representing a location. Each diamond shape contains a number representing the supply or demand for a given commodity at each location. Each octagon shape contains a number representing the cost (per unit) for transporting the commodity from one location to another. Each arrows represent the direction that the commodity can flow from a location to another."
   ]
  },
  {
   "cell_type": "markdown",
   "id": "a2eee301-7cad-430f-89f2-d037daddbee9",
   "metadata": {},
   "source": [
    "Each row represents each path, and column $c_{ij}$ represents the cost per unit on corresponding path:\n",
    "\n",
    "| $n_i$ | $n_j$ | $c_{ij}$ |\n",
    "| ----- | ------ | ----- | \n",
    "|  1    |\t2\t |\t2\t | \n",
    "|  1    |\t3\t |\t-5 | \n",
    "|  2    |\t3\t |\t-1 | \n",
    "|  2    |\t4\t |\t4 | \n",
    "|  3    |\t4\t |\t3 | \n",
    "|  3    |\t2\t |\t6 |\n",
    "|  4    |\t1\t |\t7 |"
   ]
  },
  {
   "attachments": {},
   "cell_type": "markdown",
   "id": "c641281c-d702-4966-a35c-786d5964c6b0",
   "metadata": {},
   "source": [
    "#### Define our variables\n",
    "There are 7 paths, so we have 7 variables:\n",
    "\n",
    "* $x_{12}$ is the number of units that transported from location 1 to 2.\n",
    "* $x_{13}$ is the number of units that transported from location 1 to 3.\n",
    "* $x_{23}$ is the number of units that transported from location 2 to 3.\n",
    "* $x_{24}$ is the number of units that transported from location 2 to 4.\n",
    "* $x_{34}$ is the number of units that transported from location 3 to 4.\n",
    "* $x_{32}$ is the number of units that transported from location 3 to 2.\n",
    "* $x_{41}$ is the number of units that transported from location 4 to 1.\n",
    "\n",
    "#### Regarding constraints:\n",
    "\n",
    "For each location, the total units transported from the location minus the total units transported to the location must be equal to the supply (or demand in the case of a negative number):\n",
    "\n",
    "$$ x_{12} + x_{13} - x_{41} = 4 $$\n",
    "$$ x_{23} + x_{24} - x_{12} - x_{32} = 2 $$\n",
    "$$ x_{34} + x_{32} - x_{23} - x_{13} = -1 $$\n",
    "$$ x_{41} + x_{24} - x_{34} = -5 $$\n",
    "\n",
    "#### The objective function is defined as:\n",
    "\n",
    "$$ min\\ \\  2x_{12} - 5x_{13} -1 x_{23} + 4x_{24} + 3x_{34} + 6x_{32} + 7x_{41} $$\n"
   ]
  },
  {
   "cell_type": "code",
   "execution_count": 41,
   "id": "b7cde8cd",
   "metadata": {},
   "outputs": [],
   "source": [
    "using CSV, DataFrames"
   ]
  },
  {
   "cell_type": "code",
   "execution_count": 42,
   "id": "0db785a8",
   "metadata": {},
   "outputs": [
    {
     "data": {
      "text/html": [
       "<div><div style = \"float: left;\"><span>7×3 DataFrame</span></div><div style = \"clear: both;\"></div></div><div class = \"data-frame\" style = \"overflow-x: scroll;\"><table class = \"data-frame\" style = \"margin-bottom: 6px;\"><thead><tr class = \"header\"><th class = \"rowNumber\" style = \"font-weight: bold; text-align: right;\">Row</th><th style = \"text-align: left;\">Start Node</th><th style = \"text-align: left;\">End Node</th><th style = \"text-align: left;\">c_ij</th></tr><tr class = \"subheader headerLastRow\"><th class = \"rowNumber\" style = \"font-weight: bold; text-align: right;\"></th><th title = \"Int64\" style = \"text-align: left;\">Int64</th><th title = \"Int64\" style = \"text-align: left;\">Int64</th><th title = \"Int64\" style = \"text-align: left;\">Int64</th></tr></thead><tbody><tr><td class = \"rowNumber\" style = \"font-weight: bold; text-align: right;\">1</td><td style = \"text-align: right;\">1</td><td style = \"text-align: right;\">2</td><td style = \"text-align: right;\">2</td></tr><tr><td class = \"rowNumber\" style = \"font-weight: bold; text-align: right;\">2</td><td style = \"text-align: right;\">1</td><td style = \"text-align: right;\">3</td><td style = \"text-align: right;\">-5</td></tr><tr><td class = \"rowNumber\" style = \"font-weight: bold; text-align: right;\">3</td><td style = \"text-align: right;\">2</td><td style = \"text-align: right;\">3</td><td style = \"text-align: right;\">-1</td></tr><tr><td class = \"rowNumber\" style = \"font-weight: bold; text-align: right;\">4</td><td style = \"text-align: right;\">2</td><td style = \"text-align: right;\">4</td><td style = \"text-align: right;\">4</td></tr><tr><td class = \"rowNumber\" style = \"font-weight: bold; text-align: right;\">5</td><td style = \"text-align: right;\">3</td><td style = \"text-align: right;\">2</td><td style = \"text-align: right;\">6</td></tr><tr><td class = \"rowNumber\" style = \"font-weight: bold; text-align: right;\">6</td><td style = \"text-align: right;\">3</td><td style = \"text-align: right;\">4</td><td style = \"text-align: right;\">3</td></tr><tr><td class = \"rowNumber\" style = \"font-weight: bold; text-align: right;\">7</td><td style = \"text-align: right;\">4</td><td style = \"text-align: right;\">1</td><td style = \"text-align: right;\">7</td></tr></tbody></table></div>"
      ],
      "text/latex": [
       "\\begin{tabular}{r|ccc}\n",
       "\t& Start Node & End Node & c\\_ij\\\\\n",
       "\t\\hline\n",
       "\t& Int64 & Int64 & Int64\\\\\n",
       "\t\\hline\n",
       "\t1 & 1 & 2 & 2 \\\\\n",
       "\t2 & 1 & 3 & -5 \\\\\n",
       "\t3 & 2 & 3 & -1 \\\\\n",
       "\t4 & 2 & 4 & 4 \\\\\n",
       "\t5 & 3 & 2 & 6 \\\\\n",
       "\t6 & 3 & 4 & 3 \\\\\n",
       "\t7 & 4 & 1 & 7 \\\\\n",
       "\\end{tabular}\n"
      ],
      "text/plain": [
       "\u001b[1m7×3 DataFrame\u001b[0m\n",
       "\u001b[1m Row \u001b[0m│\u001b[1m Start Node \u001b[0m\u001b[1m End Node \u001b[0m\u001b[1m c_ij  \u001b[0m\n",
       "     │\u001b[90m Int64      \u001b[0m\u001b[90m Int64    \u001b[0m\u001b[90m Int64 \u001b[0m\n",
       "─────┼─────────────────────────────\n",
       "   1 │          1         2      2\n",
       "   2 │          1         3     -5\n",
       "   3 │          2         3     -1\n",
       "   4 │          2         4      4\n",
       "   5 │          3         2      6\n",
       "   6 │          3         4      3\n",
       "   7 │          4         1      7"
      ]
     },
     "metadata": {},
     "output_type": "display_data"
    }
   ],
   "source": [
    "df = CSV.read(joinpath(@__DIR__, \"Network_Loc_Cost.csv\"), DataFrame; delim = ',', header=true)"
   ]
  },
  {
   "cell_type": "code",
   "execution_count": 43,
   "id": "3101c9a6",
   "metadata": {},
   "outputs": [
    {
     "data": {
      "text/html": [
       "<div><div style = \"float: left;\"><span>4×2 DataFrame</span></div><div style = \"clear: both;\"></div></div><div class = \"data-frame\" style = \"overflow-x: scroll;\"><table class = \"data-frame\" style = \"margin-bottom: 6px;\"><thead><tr class = \"header\"><th class = \"rowNumber\" style = \"font-weight: bold; text-align: right;\">Row</th><th style = \"text-align: left;\">Node</th><th style = \"text-align: left;\">Supply_Demand</th></tr><tr class = \"subheader headerLastRow\"><th class = \"rowNumber\" style = \"font-weight: bold; text-align: right;\"></th><th title = \"Int64\" style = \"text-align: left;\">Int64</th><th title = \"Int64\" style = \"text-align: left;\">Int64</th></tr></thead><tbody><tr><td class = \"rowNumber\" style = \"font-weight: bold; text-align: right;\">1</td><td style = \"text-align: right;\">1</td><td style = \"text-align: right;\">4</td></tr><tr><td class = \"rowNumber\" style = \"font-weight: bold; text-align: right;\">2</td><td style = \"text-align: right;\">2</td><td style = \"text-align: right;\">2</td></tr><tr><td class = \"rowNumber\" style = \"font-weight: bold; text-align: right;\">3</td><td style = \"text-align: right;\">3</td><td style = \"text-align: right;\">-1</td></tr><tr><td class = \"rowNumber\" style = \"font-weight: bold; text-align: right;\">4</td><td style = \"text-align: right;\">4</td><td style = \"text-align: right;\">-5</td></tr></tbody></table></div>"
      ],
      "text/latex": [
       "\\begin{tabular}{r|cc}\n",
       "\t& Node & Supply\\_Demand\\\\\n",
       "\t\\hline\n",
       "\t& Int64 & Int64\\\\\n",
       "\t\\hline\n",
       "\t1 & 1 & 4 \\\\\n",
       "\t2 & 2 & 2 \\\\\n",
       "\t3 & 3 & -1 \\\\\n",
       "\t4 & 4 & -5 \\\\\n",
       "\\end{tabular}\n"
      ],
      "text/plain": [
       "\u001b[1m4×2 DataFrame\u001b[0m\n",
       "\u001b[1m Row \u001b[0m│\u001b[1m Node  \u001b[0m\u001b[1m Supply_Demand \u001b[0m\n",
       "     │\u001b[90m Int64 \u001b[0m\u001b[90m Int64         \u001b[0m\n",
       "─────┼──────────────────────\n",
       "   1 │     1              4\n",
       "   2 │     2              2\n",
       "   3 │     3             -1\n",
       "   4 │     4             -5"
      ]
     },
     "metadata": {},
     "output_type": "display_data"
    }
   ],
   "source": [
    "df2 = CSV.read(joinpath(@__DIR__, \"Network_Supp_Dem.csv\"), DataFrame; delim = ',', header=true)"
   ]
  },
  {
   "cell_type": "code",
   "execution_count": 44,
   "id": "64e4d73c-6b40-4bdc-b3fc-25de1e14c6de",
   "metadata": {},
   "outputs": [
    {
     "data": {
      "text/plain": [
       "A JuMP Model\n",
       "Minimization problem with:\n",
       "Variables: 7\n",
       "Objective function type: AffExpr\n",
       "`AffExpr`-in-`MathOptInterface.EqualTo{Float64}`: 4 constraints\n",
       "`VariableRef`-in-`MathOptInterface.GreaterThan{Float64}`: 7 constraints\n",
       "Model mode: AUTOMATIC\n",
       "CachingOptimizer state: EMPTY_OPTIMIZER\n",
       "Solver name: GLPK\n",
       "Names registered in the model: x12, x13, x23, x24, x32, x34, x41"
      ]
     },
     "metadata": {},
     "output_type": "display_data"
    }
   ],
   "source": [
    "using JuMP, GLPK\n",
    "\n",
    "myModel = Model(GLPK.Optimizer)\n",
    "@variable(myModel, x12 >= 0)\n",
    "@variable(myModel, x13 >= 0)\n",
    "@variable(myModel, x23 >= 0)\n",
    "@variable(myModel, x24 >= 0)\n",
    "@variable(myModel, x34 >= 0)\n",
    "@variable(myModel, x32 >= 0)\n",
    "@variable(myModel, x41 >= 0)\n",
    "@constraint(myModel, x12 + x13 - x41       == 4)\n",
    "@constraint(myModel, x23 + x24 - x12 - x32 == 2)\n",
    "@constraint(myModel, x34 + x32 - x23 - x13 == -1)\n",
    "@constraint(myModel, x41 - x24 - x34       == -5)\n",
    "\n",
    "\n",
    "@objective(myModel, Min,\n",
    "    2*x12 - 5*x13 - 1*x23 + 4*x24 + 3*x34 + 6*x32 + 7*x41)\n",
    "myModel\n",
    "\n"
   ]
  },
  {
   "cell_type": "code",
   "execution_count": 45,
   "id": "08894fd9",
   "metadata": {},
   "outputs": [
    {
     "name": "stdout",
     "output_type": "stream",
     "text": [
      "Min 2 x12 - 5 x13 - x23 + 4 x24 + 3 x34 + 6 x32 + 7 x41\n",
      "Subject to\n",
      " "
     ]
    },
    {
     "name": "stdout",
     "output_type": "stream",
     "text": [
      "x12 + x13 - x41 = 4.0\n",
      " -x12 + x23 + x24 - x32 = 2.0\n",
      " -x13 - x23 + x34 + x32 = -1.0\n",
      " -x24 - x34 + x41 = -5.0\n",
      " x12 ≥ 0.0\n",
      " x13 ≥ 0.0\n",
      " x23 ≥ 0.0\n",
      " x24 ≥ 0.0\n",
      " x34 ≥ 0.0\n",
      " x32 ≥ 0.0\n",
      " x41 ≥ 0.0\n"
     ]
    }
   ],
   "source": [
    "print(myModel)"
   ]
  },
  {
   "cell_type": "code",
   "execution_count": 46,
   "id": "0ee91835-cd7a-4a85-b4c5-e8ae31915351",
   "metadata": {},
   "outputs": [
    {
     "name": "stdout",
     "output_type": "stream",
     "text": [
      "  0.002676 seconds (190 allocations: 12.406 KiB)\n",
      "Objective value: -7.0\n",
      "x12 = 0.0\n",
      "x13 = 4.0\n",
      "x23 = 2.0\n",
      "x24 = 0.0\n",
      "x34 = 5.0\n",
      "x32 = 0.0\n",
      "x41 = 0.0\n"
     ]
    }
   ],
   "source": [
    "@time begin\n",
    "    status = optimize!(myModel)\n",
    "end\n",
    "println(\"Objective value: \", JuMP.objective_value(myModel))\n",
    "println(\"x12 = \", JuMP.value(x12))\n",
    "println(\"x13 = \", JuMP.value(x13))\n",
    "println(\"x23 = \", JuMP.value(x23))\n",
    "println(\"x24 = \", JuMP.value(x24))\n",
    "println(\"x34 = \", JuMP.value(x34))\n",
    "println(\"x32 = \", JuMP.value(x32))\n",
    "println(\"x41 = \", JuMP.value(x41))"
   ]
  },
  {
   "cell_type": "markdown",
   "id": "eefd5089-0252-4c8d-9a5e-023f35684268",
   "metadata": {},
   "source": [
    "#### Optimal solution: \n",
    "Transport 4 units from location 1 to 2, transport 6 units from location 2 to 3, and  transport 5 units from location 3 to 4.  In this way, the total cost is 17."
   ]
  },
  {
   "attachments": {},
   "cell_type": "markdown",
   "id": "b30cd201-7043-43f9-99b9-5dbc71efff1b",
   "metadata": {},
   "source": [
    "#### Further Explanation\n",
    "\n",
    "Node 1 starts with 4 units. We transfer all 4 units to node 2 at a cost of 2/per unit.\n",
    "\n",
    "Cost of Node 1 -> Node 2 = 2 * 4 = 8\n",
    "\n",
    "Node 2 starts with 2 units and was transferred 4 units. There are now 6 units. All 6 units are transferred to node 3 at a cost of -1/per unit.\n",
    "\n",
    "Cost of Node 2 -> Node 3 = 6 * -1 = -6\n",
    "\n",
    "Node 3 starts with no units and was transffered 6 units. There are now 6 units. It has a demand of 1 unit, so we transfer 5 units (leaving 1) to node 4 at a cost of 3/unit.\n",
    "\n",
    "Cost of Node 3 -> Node 4 = 5 * 3 = 15\n",
    "\n",
    "Node 4 starts with no units and was transferred 5 units. It had a demand of 5 units that is now satisfied.\n",
    "\n",
    "The total cost of moving the units is 8 + -6 + 15 = 17"
   ]
  },
  {
   "attachments": {},
   "cell_type": "markdown",
   "id": "66984650",
   "metadata": {},
   "source": [
    "#### Constraint Verification\n",
    "\n",
    "constraint 1:  \n",
    "$ x_{12} + x_{13} - x_{41} = 4 $  \n",
    "$ 4 + 0 - 0 = 4 $  \n",
    "constraint 1 is confirmed\n",
    "\n",
    "constraint 2:  \n",
    "$ x_{23} + x_{24} - x_{12} = 2 $  \n",
    "$ 6 + 0 - 4 = 2 $  \n",
    "constraint 2 is confirmed\n",
    "\n",
    "constraint 3:  \n",
    "$ x_{34} + x_{32} - x_{23} = -1 $  \n",
    "$ 5 + 0 - 6 = -1 $  \n",
    "constraint 3 is confirmed\n",
    "\n",
    "constraint 4:  \n",
    "$ x_{41} + x_{24} - x_{34} = -5 $  \n",
    "$ 0 + 0 - 5 = -5 $  \n",
    "constraint 4 is confirmed"
   ]
  },
  {
   "cell_type": "markdown",
   "id": "1b0ec0b0",
   "metadata": {},
   "source": [
    "## Q2. Transportation of goods"
   ]
  },
  {
   "cell_type": "code",
   "execution_count": 12,
   "id": "c0f41786",
   "metadata": {},
   "outputs": [
    {
     "data": {
      "text/plain": [
       "A JuMP Model\n",
       "Feasibility problem with:\n",
       "Variables: 0\n",
       "Model mode: AUTOMATIC\n",
       "CachingOptimizer state: EMPTY_OPTIMIZER\n",
       "Solver name: GLPK"
      ]
     },
     "metadata": {},
     "output_type": "display_data"
    }
   ],
   "source": [
    "using JuMP, GLPK\n",
    "\n",
    "m = Model(GLPK.Optimizer)"
   ]
  },
  {
   "cell_type": "markdown",
   "id": "677c44d1",
   "metadata": {},
   "source": [
    "There are three factories and their existing supply of a good. \n",
    "\n",
    "$ S = \\begin{bmatrix}\n",
    "2800\\\\\n",
    "5200\\\\\n",
    "5800\n",
    "\\end{bmatrix} $"
   ]
  },
  {
   "cell_type": "code",
   "execution_count": 13,
   "id": "2bfe4b09",
   "metadata": {},
   "outputs": [
    {
     "data": {
      "text/plain": [
       "3"
      ]
     },
     "metadata": {},
     "output_type": "display_data"
    }
   ],
   "source": [
    "# Supplier inventory\n",
    "S = [\n",
    "    2800\n",
    "    5200\n",
    "    5800\n",
    "]\n",
    "\n",
    "n_suppliers = length(S)"
   ]
  },
  {
   "cell_type": "markdown",
   "id": "fa1b2e84",
   "metadata": {},
   "source": [
    "There are seven retailers and their demand for the same good.\n",
    "\n",
    "$ R = \\begin{bmatrix}\n",
    "1800\\\\\n",
    "2400\\\\\n",
    "1200\\\\\n",
    "800\\\\\n",
    "3400\\\\\n",
    "2200\\\\\n",
    "2000\n",
    "\\end{bmatrix} $"
   ]
  },
  {
   "cell_type": "code",
   "execution_count": 14,
   "id": "ee1b15cf",
   "metadata": {},
   "outputs": [
    {
     "data": {
      "text/plain": [
       "7"
      ]
     },
     "metadata": {},
     "output_type": "display_data"
    }
   ],
   "source": [
    "# Retailer demand\n",
    "R = [\n",
    "    1800\n",
    "    2400\n",
    "    1200\n",
    "    800\n",
    "    3400\n",
    "    2200\n",
    "    2000\n",
    "]\n",
    "\n",
    "n_retailers = length(R)"
   ]
  },
  {
   "cell_type": "markdown",
   "id": "fea09c33",
   "metadata": {},
   "source": [
    "The matrix $C$ below summarizes the transportation cost (per unit) of the good from each factory to each retailer. $c_{ij}$ is the cost of transportating a good from supplier $i$ to retailer $j$.\n",
    " \n",
    "$ C = \\begin{bmatrix}\n",
    "78 & 28 & 22 & 28 & 32 & 164 & 16\\\\\n",
    "54 & 0 & 24 & 0 & 52 & 190 & 34\\\\\n",
    "48 & 28 & 34 & 26 & 56 & 198 & 40\n",
    "\\end{bmatrix} $"
   ]
  },
  {
   "cell_type": "code",
   "execution_count": 15,
   "id": "5c416323",
   "metadata": {},
   "outputs": [
    {
     "data": {
      "text/plain": [
       "3×7 Matrix{Int64}:\n",
       " 78  28  22  28  32  164  16\n",
       " 54   0  24   0  52  190  34\n",
       " 48  28  34  26  56  198  40"
      ]
     },
     "metadata": {},
     "output_type": "display_data"
    }
   ],
   "source": [
    "# Cost of transportation\n",
    "C = [\n",
    "    78  28  22  28  32  164 16;\n",
    "    54  0   24  0   52  190 34;\n",
    "    48  28  34  26  56  198 40;\n",
    "]"
   ]
  },
  {
   "cell_type": "markdown",
   "id": "15c13c27",
   "metadata": {},
   "source": [
    "Let $X$ be a $ 3 \\times 7 $ matrix where $x_{ij}$ is the quantity transported from Supplier $i$ to Retailer $j$. "
   ]
  },
  {
   "cell_type": "code",
   "execution_count": 16,
   "id": "13fbfb81",
   "metadata": {},
   "outputs": [
    {
     "data": {
      "text/plain": [
       "3×7 Matrix{VariableRef}:\n",
       " x[1,1]  x[1,2]  x[1,3]  x[1,4]  x[1,5]  x[1,6]  x[1,7]\n",
       " x[2,1]  x[2,2]  x[2,3]  x[2,4]  x[2,5]  x[2,6]  x[2,7]\n",
       " x[3,1]  x[3,2]  x[3,3]  x[3,4]  x[3,5]  x[3,6]  x[3,7]"
      ]
     },
     "metadata": {},
     "output_type": "display_data"
    }
   ],
   "source": [
    "# Define variables\n",
    "@variable(m, x[1:n_suppliers,1:n_retailers] >= 0)"
   ]
  },
  {
   "cell_type": "markdown",
   "id": "6bc2c2c7",
   "metadata": {},
   "source": [
    "The objective is to distribute the good from the suppliers to the retailers at the minimal cost of transporting goods from supplier $i$ to retailer $j$. The total cost is calculated by sum total of the quantity of goods transported from supplier $i$ to retailer $j$ times the cost of transportating a unit of goods from supplier $i$ to retailer $j$. \n",
    "\n",
    "$ \\min \\sum \\sum x_{i,j} c_{i,j} $"
   ]
  },
  {
   "cell_type": "code",
   "execution_count": 17,
   "id": "5cefe9fe",
   "metadata": {},
   "outputs": [
    {
     "data": {
      "text/latex": [
       "$$ 78 x_{1,1} + 28 x_{1,2} + 22 x_{1,3} + 28 x_{1,4} + 32 x_{1,5} + 164 x_{1,6} + 16 x_{1,7} + 54 x_{2,1} + 24 x_{2,3} + 52 x_{2,5} + 190 x_{2,6} + 34 x_{2,7} + 48 x_{3,1} + 28 x_{3,2} + 34 x_{3,3} + 26 x_{3,4} + 56 x_{3,5} + 198 x_{3,6} + 40 x_{3,7} $$"
      ],
      "text/plain": [
       "78 x[1,1] + 28 x[1,2] + 22 x[1,3] + 28 x[1,4] + 32 x[1,5] + 164 x[1,6] + 16 x[1,7] + 54 x[2,1] + 24 x[2,3] + 52 x[2,5] + 190 x[2,6] + 34 x[2,7] + 48 x[3,1] + 28 x[3,2] + 34 x[3,3] + 26 x[3,4] + 56 x[3,5] + 198 x[3,6] + 40 x[3,7]"
      ]
     },
     "metadata": {},
     "output_type": "display_data"
    }
   ],
   "source": [
    "# Define objective\n",
    "@objective(m, Min,\n",
    "    sum(x[s,r]*C[s,r]\n",
    "        for s=1:n_suppliers,\n",
    "            r=1:n_retailers))"
   ]
  },
  {
   "cell_type": "markdown",
   "id": "d89a0bb0",
   "metadata": {},
   "source": [
    "Constraints: Two routes are not available and shown missing transportation costs.\n",
    "\n",
    "$x_{B2} = 0, x_{B4} = 0 $"
   ]
  },
  {
   "cell_type": "code",
   "execution_count": 18,
   "id": "a6d35336",
   "metadata": {},
   "outputs": [
    {
     "data": {
      "text/latex": [
       "$$ x_{2,4} = 0.0 $$"
      ],
      "text/plain": [
       "x[2,4] = 0.0"
      ]
     },
     "metadata": {},
     "output_type": "display_data"
    }
   ],
   "source": [
    "# Define constraint: two routes are not available\n",
    "@constraint(m, x[2,2] == 0)\n",
    "@constraint(m, x[2,4] == 0)"
   ]
  },
  {
   "cell_type": "markdown",
   "id": "00aaac68",
   "metadata": {},
   "source": [
    "The demand of each retailer must be met.\n"
   ]
  },
  {
   "cell_type": "code",
   "execution_count": 19,
   "id": "c5a2088a",
   "metadata": {},
   "outputs": [],
   "source": [
    "# Define constraint: Retailer demand is met\n",
    "for r=1:n_retailers\n",
    "    @constraint(m, sum(x[s,r] for s=1:n_suppliers) == R[r])\n",
    "end"
   ]
  },
  {
   "cell_type": "markdown",
   "id": "5167ecab",
   "metadata": {},
   "source": [
    "Suppliers cannot transport more goods than they have supplies of."
   ]
  },
  {
   "cell_type": "code",
   "execution_count": 20,
   "id": "8067f008",
   "metadata": {},
   "outputs": [],
   "source": [
    "# Define constraint: Suppliers aren't overdrawn\n",
    "for s=1:n_suppliers\n",
    "    @constraint(m, sum(x[s,r] for r=1:n_retailers) == S[s])\n",
    "end"
   ]
  },
  {
   "cell_type": "code",
   "execution_count": 21,
   "id": "e2d5c817",
   "metadata": {},
   "outputs": [
    {
     "name": "stdout",
     "output_type": "stream",
     "text": [
      "Min 78 x[1,1] + 28 x[1,2] + 22 x[1,3] + 28 x[1,4] + 32 x[1,5] + 164 x[1,6] + 16 x[1,7] + 54 x[2,1] + 24 x[2,3] + 52 x[2,5] + 190 x[2,6] + 34 x[2,7] + 48 x[3,1] + 28 x[3,2] + 34 x[3,3] + 26 x[3,4] + 56 x[3,5] + 198 x[3,6] + 40 x[3,7]\n",
      "Subject to\n",
      " x[2,2] = 0.0\n",
      " x[2,4] = 0.0\n",
      " x[1,1] + x[2,1] + x[3,1] = 1800.0\n",
      " x[1,2] + x[2,2] + x[3,2] = 2400.0\n",
      " x[1,3] + x[2,3] + x[3,3] = 1200.0\n",
      " x[1,4] + x[2,4] + x[3,4] = 800.0\n",
      " x[1,5] + x[2,5] + x[3,5] = 3400.0\n",
      " x[1,6] + x[2,6] + x[3,6] = 2200.0\n",
      " x[1,7] + x[2,7] + x[3,7] = 2000.0\n",
      " x[1,1] + x[1,2] + x[1,3] + x[1,4] + x[1,5] + x[1,6] + x[1,7] = 2800.0\n",
      " x[2,1] + x[2,2] + x[2,3] + x[2,4] + x[2,5] + x[2,6] + x[2,7] = 5200.0\n",
      " x[3,1] + x[3,2] + x[3,3] + x[3,4] + x[3,5] + x[3,6] + x[3,7] = 5800.0\n",
      " x[1,1] ≥ 0.0\n",
      " x[2,1] ≥ 0.0\n",
      " x[3,1] ≥ 0.0\n",
      " x[1,2] ≥ 0.0\n",
      " x[2,2] ≥ 0.0\n",
      " x[3,2] ≥ 0.0\n",
      " x[1,3] ≥ 0.0\n",
      " x[2,3] ≥ 0.0\n",
      " x[3,3] ≥ 0.0\n",
      " x[1,4] ≥ 0.0\n",
      " x[2,4] ≥ 0.0\n",
      " x[3,4] ≥ 0.0\n",
      " x[1,5] ≥ 0.0\n",
      " x[2,5] ≥ 0.0\n",
      " x[3,5] ≥ 0.0\n",
      " x[1,6] ≥ 0.0\n",
      " x[2,6] ≥ 0.0\n",
      " x[3,6] ≥ 0.0\n",
      " x[1,7] ≥ 0.0\n",
      " x[2,7] ≥ 0.0\n",
      " x[3,7] ≥ 0.0\n"
     ]
    }
   ],
   "source": [
    "# Print model\n",
    "print(m)"
   ]
  },
  {
   "cell_type": "code",
   "execution_count": 22,
   "id": "373c06a5",
   "metadata": {},
   "outputs": [
    {
     "name": "stdout",
     "output_type": "stream",
     "text": [
      "  0.003496 seconds (300 allocations: 25.875 KiB)\n"
     ]
    }
   ],
   "source": [
    "# Set forth and optimize\n",
    "@time begin\n",
    "    status = optimize!(m)\n",
    "end"
   ]
  },
  {
   "cell_type": "code",
   "execution_count": 23,
   "id": "9d10627a",
   "metadata": {},
   "outputs": [
    {
     "name": "stdout",
     "output_type": "stream",
     "text": [
      "Objective value: 800000.0\n"
     ]
    }
   ],
   "source": [
    "obj = JuMP.objective_value(m)\n",
    "x_star = JuMP.value.(x)\n",
    "\n",
    "println(\"Objective value: \", obj)"
   ]
  },
  {
   "cell_type": "code",
   "execution_count": 24,
   "id": "25a58688",
   "metadata": {},
   "outputs": [
    {
     "name": "stdout",
     "output_type": "stream",
     "text": [
      "Objective value: 800000.0\n",
      "Supplier A => Retailer 1: 0.0\n",
      "Supplier A => Retailer 2: 0.0\n",
      "Supplier A => Retailer 3: 0.0\n",
      "Supplier A => Retailer 4: 0.0\n",
      "Supplier A => Retailer 5: 600.0\n",
      "Supplier A => Retailer 6: 2200.0\n",
      "Supplier A => Retailer 7: 0.0\n",
      "Supplier B => Retailer 1: 0.0\n",
      "Supplier B => Retailer 2: 0.0\n",
      "Supplier B => Retailer 3: 1200.0\n",
      "Supplier B => Retailer 4: 0.0\n",
      "Supplier B => Retailer 5: 2000.0\n",
      "Supplier B => Retailer 6: 0.0\n",
      "Supplier B => Retailer 7: 2000.0\n",
      "Supplier C => Retailer 1: 1800.0\n",
      "Supplier C => Retailer 2: 2400.0\n",
      "Supplier C => Retailer 3: 0.0\n",
      "Supplier C => Retailer 4: 800.0\n",
      "Supplier C => Retailer 5: 800.0\n",
      "Supplier C => Retailer 6: 0.0\n",
      "Supplier C => Retailer 7: 0.0\n"
     ]
    }
   ],
   "source": [
    "obj = JuMP.objective_value(m)\n",
    "x_star = JuMP.value.(x)\n",
    "\n",
    "println(\"Objective value: \", obj)\n",
    "\n",
    "supplier_names = [\"A\", \"B\", \"C\"]\n",
    "for s=1:n_suppliers, r=1:n_retailers\n",
    "    s_name = supplier_names[s]\n",
    "    println(\"Supplier $s_name => Retailer $r: \", x_star[s, r])\n",
    "end"
   ]
  },
  {
   "cell_type": "markdown",
   "id": "2c2488f3",
   "metadata": {},
   "source": [
    "The minimal cost is $800,000."
   ]
  },
  {
   "cell_type": "markdown",
   "id": "deec6ecb",
   "metadata": {},
   "source": [
    "##### Supplier A will supply:  \n",
    "600 units to Retailer 5  \n",
    "2200 units to Retailer 6  \n",
    "\n",
    "##### Supplier B will supply:  \n",
    "1200 units to Retailer 3  \n",
    "2000 units to Retailer 5  \n",
    "2000 units to Retailer 7  \n",
    "\n",
    "##### Supplier C will supply:  \n",
    "1800 units to Retailer 1  \n",
    "2400 units to Retailer 2  \n",
    "800 units to Retailer 4  \n",
    "800 units to Retailer 5  \n",
    "\n",
    "The minimum cost of moving the goods is $800,000."
   ]
  },
  {
   "cell_type": "markdown",
   "id": "5ff25ef0",
   "metadata": {},
   "source": [
    "Below is a table showing the number of goods distributed from each supplier to each retailer. The supplier is indexed by row and the retailer is indexed by column."
   ]
  },
  {
   "cell_type": "code",
   "execution_count": 25,
   "id": "391c4389",
   "metadata": {},
   "outputs": [
    {
     "data": {
      "text/plain": [
       "3×7 Matrix{Float64}:\n",
       "    0.0     0.0     0.0    0.0   600.0  2200.0     0.0\n",
       "    0.0     0.0  1200.0    0.0  2000.0     0.0  2000.0\n",
       " 1800.0  2400.0     0.0  800.0   800.0     0.0     0.0"
      ]
     },
     "metadata": {},
     "output_type": "display_data"
    }
   ],
   "source": [
    "x_star"
   ]
  }
 ],
 "metadata": {
  "kernelspec": {
   "display_name": "Julia 1.8.4",
   "language": "julia",
   "name": "julia-1.8"
  },
  "language_info": {
   "file_extension": ".jl",
   "mimetype": "application/julia",
   "name": "julia",
   "version": "1.8.4"
  }
 },
 "nbformat": 4,
 "nbformat_minor": 5
}

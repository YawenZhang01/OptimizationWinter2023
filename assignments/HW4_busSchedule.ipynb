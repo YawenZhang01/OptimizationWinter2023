{
 "cells": [
  {
   "cell_type": "markdown",
   "id": "6f27e893-2f03-4748-9976-d6e98c35d737",
   "metadata": {},
   "source": [
    "## Bus Schedule Problem "
   ]
  },
  {
   "cell_type": "markdown",
   "id": "8b007284-abbe-4e54-b3f6-23f22b6c3b5b",
   "metadata": {},
   "source": [
    "1 - The city of Chicago hired your services to create a daily schedule for the bus drivers for a given bus route. Because of changes in demand throughout the day, the number of buses needed varies. The number of buses scheduled are shown below:\n",
    "\n",
    "| Start | End | Buses |\n",
    "| ----- | ------ | ----- | \n",
    "|  12am    |\t4am\t |\t2\t | \n",
    "|  4am    |\t8am\t |\t7 | \n",
    "|  8am    |\t12pm\t |\t10 | \n",
    "|  12pm    |\t4pm\t |\t15 | \n",
    "|  4pm    |\t8pm\t |\t5 | \n",
    "|  8pm    |\t12am\t |\t2 |\n",
    "\n",
    "A driver must be scheduled for an 8 hour shift, and the driver has to start at the beginning of one of the stipulated starting times. The shifts start at midnight, 4AM, 8AM, 12PM, 4PM, 8PM, and last for 8 hours. Note that a bus driver that starts at 8PM works until 4AM of the next day. \n",
    "<br />\n",
    "\n",
    "Your proposed schedule must include enough bus drivers to drive the scheduled buses in each period. All scheduled buses must be in service! Your goal is to minimize the number of bus drivers hired while making sure that there are enough drivers for the scheduled buses during each interval.\n"
   ]
  },
  {
   "cell_type": "markdown",
   "id": "3356a99f-1c1d-491c-9bc7-bb806fd90cb5",
   "metadata": {},
   "source": [
    "Define our variables: \n",
    "\n",
    "* $x_{1}$ is the number of drivers that starts at 12AM.\n",
    "* $x_{2}$ is the number of drivers that starts at 4AM.\n",
    "* $x_{3}$ is the number of drivers that starts at 8AM.\n",
    "* $x_{4}$ is the number of drivers that starts at 12PM.\n",
    "* $x_{5}$ is the number of drivers that starts at 4PM.\n",
    "* $x_{6}$ is the number of drivers that starts at 8PM.\n",
    "\n",
    "\n",
    "Regarding constraints:\n",
    "\n",
    "It must include enough bus drivers to drive the scheduled buses in each period:\n",
    "\n",
    "$$ x6 + x1 \\geq 2 $$\n",
    "$$ x1 + x2 \\geq 7 $$\n",
    "$$ x2 + x3 \\geq 10 $$\n",
    "$$ x3 + x4 \\geq 15 $$\n",
    "$$ x4 + x5 \\geq 5 $$\n",
    "$$ x5 + x6 \\geq 2 $$\n",
    "\n",
    "\n",
    "The objective function is defined as:\n",
    "\n",
    "$$ min\\ \\  x_{1} + x_{2} + x_{3} + x_{4} + x_{5} + x_{6} $$\n"
   ]
  },
  {
   "cell_type": "code",
   "execution_count": null,
   "id": "456f0e6b-3990-43d8-82df-4835dd13882b",
   "metadata": {},
   "outputs": [],
   "source": [
    "using JuMP, GLPK\n",
    "\n",
    "myModel = Model(GLPK.Optimizer)\n",
    "@variable(myModel, x1 >= 0, Int)\n",
    "@variable(myModel, x2 >= 0, Int)\n",
    "@variable(myModel, x3 >= 0, Int)\n",
    "@variable(myModel, x4 >= 0, Int)\n",
    "@variable(myModel, x5 >= 0, Int)\n",
    "@variable(myModel, x6 >= 0, Int)\n",
    "@constraint(myModel, x6   + x1 >=2)\n",
    "@constraint(myModel, x1   + x2 >=7)\n",
    "@constraint(myModel, x2   + x3 >=10)\n",
    "@constraint(myModel, x3   + x4 >=15)\n",
    "@constraint(myModel, x4   + x5 >=5)\n",
    "@constraint(myModel, x5   + x6 >=2)\n",
    "\n",
    "@objective(myModel, Min, x1+x2+x3+x4+x5+x6)\n",
    "myModel\n",
    "\n"
   ]
  },
  {
   "cell_type": "code",
   "execution_count": 4,
   "id": "082d466f-5fd4-4231-89ea-3011fe73b29a",
   "metadata": {},
   "outputs": [
    {
     "name": "stdout",
     "output_type": "stream",
     "text": [
      "  2.023894 seconds (5.98 M allocations: 438.602 MiB, 4.88% gc time, 99.63% compilation time)\n",
      "Objective value: 24.0\n",
      "x1 = 2.0\n",
      "x2 = 5.0\n",
      "x3 = 12.0\n",
      "x4 = 3.0\n",
      "x5 = 2.0\n",
      "x6 = 0.0\n"
     ]
    }
   ],
   "source": [
    "@time begin\n",
    "    status = optimize!(myModel)\n",
    "end\n",
    "println(\"Objective value: \", JuMP.objective_value(myModel))\n",
    "println(\"x1 = \", JuMP.value(x1))\n",
    "println(\"x2 = \", JuMP.value(x2))\n",
    "println(\"x3 = \", JuMP.value(x3))\n",
    "println(\"x4 = \", JuMP.value(x4))\n",
    "println(\"x5 = \", JuMP.value(x5))\n",
    "println(\"x6 = \", JuMP.value(x6))"
   ]
  }
 ],
 "metadata": {
  "kernelspec": {
   "display_name": "Julia 1.8.5",
   "language": "julia",
   "name": "julia-1.8"
  },
  "language_info": {
   "file_extension": ".jl",
   "mimetype": "application/julia",
   "name": "julia",
   "version": "1.8.5"
  }
 },
 "nbformat": 4,
 "nbformat_minor": 5
}

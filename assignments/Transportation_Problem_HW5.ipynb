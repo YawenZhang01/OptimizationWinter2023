{
 "cells": [
  {
   "attachments": {},
   "cell_type": "markdown",
   "metadata": {},
   "source": [
    "# Problem 2 - Transportation"
   ]
  },
  {
   "cell_type": "code",
   "execution_count": 44,
   "metadata": {},
   "outputs": [],
   "source": [
    "using CSV, DataFrames"
   ]
  },
  {
   "cell_type": "code",
   "execution_count": 45,
   "metadata": {},
   "outputs": [
    {
     "data": {
      "text/html": [
       "<div><div style = \"float: left;\"><span>4×9 DataFrame</span></div><div style = \"clear: both;\"></div></div><div class = \"data-frame\" style = \"overflow-x: scroll;\"><table class = \"data-frame\" style = \"margin-bottom: 6px;\"><thead><tr class = \"header\"><th class = \"rowNumber\" style = \"font-weight: bold; text-align: right;\">Row</th><th style = \"text-align: left;\">Column1</th><th style = \"text-align: left;\">R1</th><th style = \"text-align: left;\">R2</th><th style = \"text-align: left;\">R3</th><th style = \"text-align: left;\">R4</th><th style = \"text-align: left;\">R5</th><th style = \"text-align: left;\">R6</th><th style = \"text-align: left;\">R7</th><th style = \"text-align: left;\">Supply</th></tr><tr class = \"subheader headerLastRow\"><th class = \"rowNumber\" style = \"font-weight: bold; text-align: right;\"></th><th title = \"String7\" style = \"text-align: left;\">String7</th><th title = \"Int64\" style = \"text-align: left;\">Int64</th><th title = \"Union{Missing, Int64}\" style = \"text-align: left;\">Int64?</th><th title = \"Int64\" style = \"text-align: left;\">Int64</th><th title = \"Union{Missing, Int64}\" style = \"text-align: left;\">Int64?</th><th title = \"Int64\" style = \"text-align: left;\">Int64</th><th title = \"Int64\" style = \"text-align: left;\">Int64</th><th title = \"Int64\" style = \"text-align: left;\">Int64</th><th title = \"Union{Missing, Int64}\" style = \"text-align: left;\">Int64?</th></tr></thead><tbody><tr><td class = \"rowNumber\" style = \"font-weight: bold; text-align: right;\">1</td><td style = \"text-align: left;\">SA</td><td style = \"text-align: right;\">78</td><td style = \"text-align: right;\">28</td><td style = \"text-align: right;\">22</td><td style = \"text-align: right;\">28</td><td style = \"text-align: right;\">32</td><td style = \"text-align: right;\">164</td><td style = \"text-align: right;\">16</td><td style = \"text-align: right;\">2800</td></tr><tr><td class = \"rowNumber\" style = \"font-weight: bold; text-align: right;\">2</td><td style = \"text-align: left;\">SB</td><td style = \"text-align: right;\">54</td><td style = \"font-style: italic; text-align: right;\">missing</td><td style = \"text-align: right;\">24</td><td style = \"font-style: italic; text-align: right;\">missing</td><td style = \"text-align: right;\">52</td><td style = \"text-align: right;\">190</td><td style = \"text-align: right;\">34</td><td style = \"text-align: right;\">5200</td></tr><tr><td class = \"rowNumber\" style = \"font-weight: bold; text-align: right;\">3</td><td style = \"text-align: left;\">SC</td><td style = \"text-align: right;\">48</td><td style = \"text-align: right;\">28</td><td style = \"text-align: right;\">34</td><td style = \"text-align: right;\">26</td><td style = \"text-align: right;\">56</td><td style = \"text-align: right;\">198</td><td style = \"text-align: right;\">40</td><td style = \"text-align: right;\">5800</td></tr><tr><td class = \"rowNumber\" style = \"font-weight: bold; text-align: right;\">4</td><td style = \"text-align: left;\">Demand</td><td style = \"text-align: right;\">1800</td><td style = \"text-align: right;\">2400</td><td style = \"text-align: right;\">1200</td><td style = \"text-align: right;\">800</td><td style = \"text-align: right;\">3400</td><td style = \"text-align: right;\">2200</td><td style = \"text-align: right;\">2000</td><td style = \"font-style: italic; text-align: right;\">missing</td></tr></tbody></table></div>"
      ],
      "text/latex": [
       "\\begin{tabular}{r|ccccccccc}\n",
       "\t& Column1 & R1 & R2 & R3 & R4 & R5 & R6 & R7 & Supply\\\\\n",
       "\t\\hline\n",
       "\t& String7 & Int64 & Int64? & Int64 & Int64? & Int64 & Int64 & Int64 & Int64?\\\\\n",
       "\t\\hline\n",
       "\t1 & SA & 78 & 28 & 22 & 28 & 32 & 164 & 16 & 2800 \\\\\n",
       "\t2 & SB & 54 & \\emph{missing} & 24 & \\emph{missing} & 52 & 190 & 34 & 5200 \\\\\n",
       "\t3 & SC & 48 & 28 & 34 & 26 & 56 & 198 & 40 & 5800 \\\\\n",
       "\t4 & Demand & 1800 & 2400 & 1200 & 800 & 3400 & 2200 & 2000 & \\emph{missing} \\\\\n",
       "\\end{tabular}\n"
      ],
      "text/plain": [
       "\u001b[1m4×9 DataFrame\u001b[0m\n",
       "\u001b[1m Row \u001b[0m│\u001b[1m Column1 \u001b[0m\u001b[1m R1    \u001b[0m\u001b[1m R2      \u001b[0m\u001b[1m R3    \u001b[0m\u001b[1m R4      \u001b[0m\u001b[1m R5    \u001b[0m\u001b[1m R6    \u001b[0m\u001b[1m R7    \u001b[0m\u001b[1m Supply  \u001b[0m\n",
       "     │\u001b[90m String7 \u001b[0m\u001b[90m Int64 \u001b[0m\u001b[90m Int64?  \u001b[0m\u001b[90m Int64 \u001b[0m\u001b[90m Int64?  \u001b[0m\u001b[90m Int64 \u001b[0m\u001b[90m Int64 \u001b[0m\u001b[90m Int64 \u001b[0m\u001b[90m Int64?  \u001b[0m\n",
       "─────┼───────────────────────────────────────────────────────────────────────\n",
       "   1 │ SA          78       28     22       28     32    164     16     2800\n",
       "   2 │ SB          54 \u001b[90m missing \u001b[0m    24 \u001b[90m missing \u001b[0m    52    190     34     5200\n",
       "   3 │ SC          48       28     34       26     56    198     40     5800\n",
       "   4 │ Demand    1800     2400   1200      800   3400   2200   2000 \u001b[90m missing \u001b[0m"
      ]
     },
     "execution_count": 45,
     "metadata": {},
     "output_type": "execute_result"
    }
   ],
   "source": [
    "t = CSV.read(\"/Users/benjaminossyra/Desktop/Optimization/Homework_5/transportation.csv\", DataFrame; delim = ',', header=true)"
   ]
  },
  {
   "cell_type": "code",
   "execution_count": 46,
   "metadata": {},
   "outputs": [
    {
     "data": {
      "text/plain": [
       "4×9 Matrix{Any}:\n",
       " \"SA\"        78    28           22  …    32   164    16  2800\n",
       " \"SB\"        54      missing    24       52   190    34  5200\n",
       " \"SC\"        48    28           34       56   198    40  5800\n",
       " \"Demand\"  1800  2400         1200     3400  2200  2000      missing"
      ]
     },
     "execution_count": 46,
     "metadata": {},
     "output_type": "execute_result"
    }
   ],
   "source": [
    "tm = Matrix(t)"
   ]
  },
  {
   "cell_type": "markdown",
   "metadata": {},
   "source": [
    "Create a vector of the demand values"
   ]
  },
  {
   "cell_type": "code",
   "execution_count": 47,
   "metadata": {},
   "outputs": [
    {
     "data": {
      "text/plain": [
       "7-element Vector{Any}:\n",
       " 1800\n",
       " 2400\n",
       " 1200\n",
       "  800\n",
       " 3400\n",
       " 2200\n",
       " 2000"
      ]
     },
     "execution_count": 47,
     "metadata": {},
     "output_type": "execute_result"
    }
   ],
   "source": [
    "demand = tm[4,2:8]"
   ]
  },
  {
   "attachments": {},
   "cell_type": "markdown",
   "metadata": {},
   "source": [
    "Create a vector of the supply values"
   ]
  },
  {
   "cell_type": "code",
   "execution_count": 48,
   "metadata": {},
   "outputs": [
    {
     "data": {
      "text/plain": [
       "3-element Vector{Any}:\n",
       " 2800\n",
       " 5200\n",
       " 5800"
      ]
     },
     "execution_count": 48,
     "metadata": {},
     "output_type": "execute_result"
    }
   ],
   "source": [
    "supply = tm[1:3,9]"
   ]
  },
  {
   "attachments": {},
   "cell_type": "markdown",
   "metadata": {},
   "source": [
    "We are going to create a vector of the costs, and exclude the missing values since those routes are not possible"
   ]
  },
  {
   "cell_type": "code",
   "execution_count": 49,
   "metadata": {},
   "outputs": [
    {
     "data": {
      "text/plain": [
       "21-element Vector{Any}:\n",
       "  78\n",
       "  28\n",
       "  22\n",
       "  28\n",
       "  32\n",
       " 164\n",
       "  16\n",
       "  54\n",
       "    missing\n",
       "  24\n",
       "    missing\n",
       "  52\n",
       " 190\n",
       "  34\n",
       "  48\n",
       "  28\n",
       "  34\n",
       "  26\n",
       "  56\n",
       " 198\n",
       "  40"
      ]
     },
     "execution_count": 49,
     "metadata": {},
     "output_type": "execute_result"
    }
   ],
   "source": [
    "c = cat(tm[1,2:8],tm[2,2:8],tm[3,2:8], dims=(1,1))"
   ]
  },
  {
   "cell_type": "code",
   "execution_count": 50,
   "metadata": {},
   "outputs": [
    {
     "data": {
      "text/plain": [
       "19-element Vector{Any}:\n",
       "  78\n",
       "  28\n",
       "  22\n",
       "  28\n",
       "  32\n",
       " 164\n",
       "  16\n",
       "  54\n",
       "  24\n",
       "  52\n",
       " 190\n",
       "  34\n",
       "  48\n",
       "  28\n",
       "  34\n",
       "  26\n",
       "  56\n",
       " 198\n",
       "  40"
      ]
     },
     "execution_count": 50,
     "metadata": {},
     "output_type": "execute_result"
    }
   ],
   "source": [
    "c = collect(skipmissing(c))"
   ]
  },
  {
   "attachments": {},
   "cell_type": "markdown",
   "metadata": {},
   "source": [
    "Create a vector of the nodes. Both supplier and retailer"
   ]
  },
  {
   "cell_type": "code",
   "execution_count": 51,
   "metadata": {},
   "outputs": [
    {
     "data": {
      "text/plain": [
       "10-element Vector{String}:\n",
       " \"SA\"\n",
       " \"SB\"\n",
       " \"SC\"\n",
       " \"R1\"\n",
       " \"R2\"\n",
       " \"R3\"\n",
       " \"R4\"\n",
       " \"R5\"\n",
       " \"R6\"\n",
       " \"R7\""
      ]
     },
     "execution_count": 51,
     "metadata": {},
     "output_type": "execute_result"
    }
   ],
   "source": [
    "nodes = [\"SA\", \"SB\", \"SC\", \"R1\", \"R2\", \"R3\", \"R4\", \"R5\", \"R6\", \"R7\"]"
   ]
  },
  {
   "cell_type": "code",
   "execution_count": 52,
   "metadata": {},
   "outputs": [],
   "source": [
    "links=[]\n",
    "for i in 1:3\n",
    "    for j in 4:10\n",
    "        if (nodes[i], nodes[j]) != (\"SB\", \"R2\") && (nodes[i], nodes[j]) != (\"SB\", \"R4\")\n",
    "            push!(links, (nodes[i], nodes[j]))\n",
    "        end\n",
    "    end\n",
    "end"
   ]
  },
  {
   "attachments": {},
   "cell_type": "markdown",
   "metadata": {},
   "source": [
    "We have created a vector of all the link pairs, and have excluded SB,R2 and SB,R4 since these routes are not possible. Goods can only move in one direction, from supplier to retailer."
   ]
  },
  {
   "cell_type": "code",
   "execution_count": 53,
   "metadata": {},
   "outputs": [
    {
     "data": {
      "text/plain": [
       "((\"SA\", \"R1\"), (\"SA\", \"R2\"), (\"SA\", \"R3\"), (\"SA\", \"R4\"), (\"SA\", \"R5\"), (\"SA\", \"R6\"), (\"SA\", \"R7\"), (\"SB\", \"R1\"), (\"SB\", \"R3\"), (\"SB\", \"R5\"), (\"SB\", \"R6\"), (\"SB\", \"R7\"), (\"SC\", \"R1\"), (\"SC\", \"R2\"), (\"SC\", \"R3\"), (\"SC\", \"R4\"), (\"SC\", \"R5\"), (\"SC\", \"R6\"), (\"SC\", \"R7\"))"
      ]
     },
     "execution_count": 53,
     "metadata": {},
     "output_type": "execute_result"
    }
   ],
   "source": [
    "Tuple(links)"
   ]
  },
  {
   "attachments": {},
   "cell_type": "markdown",
   "metadata": {},
   "source": [
    "Next step is to create a dictionary will all the possible links and the cost of moving goods between the links"
   ]
  },
  {
   "cell_type": "code",
   "execution_count": 54,
   "metadata": {},
   "outputs": [
    {
     "data": {
      "text/plain": [
       "Dict{Tuple{String, String}, Int64} with 19 entries:\n",
       "  (\"SA\", \"R5\") => 32\n",
       "  (\"SA\", \"R6\") => 164\n",
       "  (\"SC\", \"R4\") => 26\n",
       "  (\"SB\", \"R1\") => 54\n",
       "  (\"SC\", \"R7\") => 40\n",
       "  (\"SA\", \"R1\") => 78\n",
       "  (\"SB\", \"R3\") => 24\n",
       "  (\"SA\", \"R4\") => 28\n",
       "  (\"SC\", \"R1\") => 48\n",
       "  (\"SC\", \"R2\") => 28\n",
       "  (\"SA\", \"R7\") => 16\n",
       "  (\"SC\", \"R5\") => 56\n",
       "  (\"SC\", \"R6\") => 198\n",
       "  (\"SA\", \"R2\") => 28\n",
       "  (\"SA\", \"R3\") => 22\n",
       "  (\"SB\", \"R5\") => 52\n",
       "  (\"SB\", \"R6\") => 190\n",
       "  (\"SC\", \"R3\") => 34\n",
       "  (\"SB\", \"R7\") => 34"
      ]
     },
     "execution_count": 54,
     "metadata": {},
     "output_type": "execute_result"
    }
   ],
   "source": [
    "c_dict = Dict(links .=> c)"
   ]
  },
  {
   "attachments": {},
   "cell_type": "markdown",
   "metadata": {},
   "source": [
    "Next we're going to setup the optimization problem.  \n",
    "The variables will be all the possible route links.  \n",
    "Our objective is to minimize the cost of moving goods between suppliers and retailers i.e. sum of (number of units moved between each route) * (cost of moving a unit between the route).  \n",
    "Our constraints are the total number of goods that must be removed from the supplier or moved to the retailer, respectively"
   ]
  },
  {
   "cell_type": "code",
   "execution_count": 55,
   "metadata": {},
   "outputs": [],
   "source": [
    "using JuMP, GLPK\n",
    "\n",
    "m = Model(GLPK.Optimizer)\n",
    "\n",
    "@variable(m, 0<= x[link in links])\n",
    "\n",
    "@objective(m, Min, sum(c_dict[link] * x[link] for link in links))\n",
    "\n",
    "count=0\n",
    "\n",
    "for i in nodes[1:3]\n",
    "    count += 1\n",
    "    @constraint(m, sum(x[(k,j)] for (k,j) in links if k == i) == supply[count])\n",
    "end\n",
    "\n",
    "count=0\n",
    "\n",
    "for i in nodes[4:10]\n",
    "    count += 1\n",
    "    @constraint(m, sum(x[(k,j)] for (k,j) in links if j == i) == demand[count])\n",
    "end\n"
   ]
  },
  {
   "cell_type": "code",
   "execution_count": 56,
   "metadata": {},
   "outputs": [
    {
     "data": {
      "text/latex": [
       "$$ \\begin{aligned}\n",
       "\\min\\quad & 78 x_{(\"SA\", \"R1\")} + 28 x_{(\"SA\", \"R2\")} + 22 x_{(\"SA\", \"R3\")} + 28 x_{(\"SA\", \"R4\")} + 32 x_{(\"SA\", \"R5\")} + 164 x_{(\"SA\", \"R6\")} + 16 x_{(\"SA\", \"R7\")} + 54 x_{(\"SB\", \"R1\")} + 24 x_{(\"SB\", \"R3\")} + 52 x_{(\"SB\", \"R5\")} + 190 x_{(\"SB\", \"R6\")} + 34 x_{(\"SB\", \"R7\")} + 48 x_{(\"SC\", \"R1\")} + 28 x_{(\"SC\", \"R2\")} + 34 x_{(\"SC\", \"R3\")} + 26 x_{(\"SC\", \"R4\")} + 56 x_{(\"SC\", \"R5\")} + 198 x_{(\"SC\", \"R6\")} + 40 x_{(\"SC\", \"R7\")}\\\\\n",
       "\\text{Subject to} \\quad & x_{(\"SA\", \"R1\")} + x_{(\"SA\", \"R2\")} + x_{(\"SA\", \"R3\")} + x_{(\"SA\", \"R4\")} + x_{(\"SA\", \"R5\")} + x_{(\"SA\", \"R6\")} + x_{(\"SA\", \"R7\")} = 2800.0\\\\\n",
       " & x_{(\"SB\", \"R1\")} + x_{(\"SB\", \"R3\")} + x_{(\"SB\", \"R5\")} + x_{(\"SB\", \"R6\")} + x_{(\"SB\", \"R7\")} = 5200.0\\\\\n",
       " & x_{(\"SC\", \"R1\")} + x_{(\"SC\", \"R2\")} + x_{(\"SC\", \"R3\")} + x_{(\"SC\", \"R4\")} + x_{(\"SC\", \"R5\")} + x_{(\"SC\", \"R6\")} + x_{(\"SC\", \"R7\")} = 5800.0\\\\\n",
       " & x_{(\"SA\", \"R1\")} + x_{(\"SB\", \"R1\")} + x_{(\"SC\", \"R1\")} = 1800.0\\\\\n",
       " & x_{(\"SA\", \"R2\")} + x_{(\"SC\", \"R2\")} = 2400.0\\\\\n",
       " & x_{(\"SA\", \"R3\")} + x_{(\"SB\", \"R3\")} + x_{(\"SC\", \"R3\")} = 1200.0\\\\\n",
       " & x_{(\"SA\", \"R4\")} + x_{(\"SC\", \"R4\")} = 800.0\\\\\n",
       " & x_{(\"SA\", \"R5\")} + x_{(\"SB\", \"R5\")} + x_{(\"SC\", \"R5\")} = 3400.0\\\\\n",
       " & x_{(\"SA\", \"R6\")} + x_{(\"SB\", \"R6\")} + x_{(\"SC\", \"R6\")} = 2200.0\\\\\n",
       " & x_{(\"SA\", \"R7\")} + x_{(\"SB\", \"R7\")} + x_{(\"SC\", \"R7\")} = 2000.0\\\\\n",
       " & x_{(\"SA\", \"R1\")} \\geq 0.0\\\\\n",
       " & x_{(\"SA\", \"R2\")} \\geq 0.0\\\\\n",
       " & x_{(\"SA\", \"R3\")} \\geq 0.0\\\\\n",
       " & x_{(\"SA\", \"R4\")} \\geq 0.0\\\\\n",
       " & x_{(\"SA\", \"R5\")} \\geq 0.0\\\\\n",
       " & x_{(\"SA\", \"R6\")} \\geq 0.0\\\\\n",
       " & x_{(\"SA\", \"R7\")} \\geq 0.0\\\\\n",
       " & x_{(\"SB\", \"R1\")} \\geq 0.0\\\\\n",
       " & x_{(\"SB\", \"R3\")} \\geq 0.0\\\\\n",
       " & x_{(\"SB\", \"R5\")} \\geq 0.0\\\\\n",
       " & x_{(\"SB\", \"R6\")} \\geq 0.0\\\\\n",
       " & x_{(\"SB\", \"R7\")} \\geq 0.0\\\\\n",
       " & x_{(\"SC\", \"R1\")} \\geq 0.0\\\\\n",
       " & x_{(\"SC\", \"R2\")} \\geq 0.0\\\\\n",
       " & x_{(\"SC\", \"R3\")} \\geq 0.0\\\\\n",
       " & x_{(\"SC\", \"R4\")} \\geq 0.0\\\\\n",
       " & x_{(\"SC\", \"R5\")} \\geq 0.0\\\\\n",
       " & x_{(\"SC\", \"R6\")} \\geq 0.0\\\\\n",
       " & x_{(\"SC\", \"R7\")} \\geq 0.0\\\\\n",
       "\\end{aligned} $$"
      ]
     },
     "metadata": {},
     "output_type": "display_data"
    }
   ],
   "source": [
    "print(m)"
   ]
  },
  {
   "cell_type": "code",
   "execution_count": 57,
   "metadata": {},
   "outputs": [],
   "source": [
    "JuMP.optimize!(m)"
   ]
  },
  {
   "cell_type": "code",
   "execution_count": 58,
   "metadata": {},
   "outputs": [
    {
     "name": "stdout",
     "output_type": "stream",
     "text": [
      "Objective value: 800000.0\n"
     ]
    }
   ],
   "source": [
    "println(\"Objective value: \", JuMP.objective_value(m))"
   ]
  },
  {
   "cell_type": "code",
   "execution_count": 59,
   "metadata": {},
   "outputs": [
    {
     "name": "stdout",
     "output_type": "stream",
     "text": [
      "x[(\"SA\", \"R1\")] = 0.0\n",
      "x[(\"SA\", \"R2\")] = 0.0\n",
      "x[(\"SA\", \"R3\")] = 0.0\n",
      "x[(\"SA\", \"R4\")] = 0.0\n",
      "x[(\"SA\", \"R5\")] = 600.0\n",
      "x[(\"SA\", \"R6\")] = 2200.0\n",
      "x[(\"SA\", \"R7\")] = 0.0\n",
      "x[(\"SB\", \"R1\")] = 0.0\n",
      "x[(\"SB\", \"R3\")] = 1200.0\n",
      "x[(\"SB\", \"R5\")] = 2000.0\n",
      "x[(\"SB\", \"R6\")] = 0.0\n",
      "x[(\"SB\", \"R7\")] = 2000.0\n",
      "x[(\"SC\", \"R1\")] = 1800.0\n",
      "x[(\"SC\", \"R2\")] = 2400.0\n",
      "x[(\"SC\", \"R3\")] = 0.0\n",
      "x[(\"SC\", \"R4\")] = 800.0\n",
      "x[(\"SC\", \"R5\")] = 800.0\n",
      "x[(\"SC\", \"R6\")] = 0.0\n",
      "x[(\"SC\", \"R7\")] = 0.0\n"
     ]
    }
   ],
   "source": [
    "for variable in all_variables(m)\n",
    "    println(\"$(name(variable)) = $(value(variable))\")\n",
    "end"
   ]
  },
  {
   "cell_type": "code",
   "execution_count": 60,
   "metadata": {},
   "outputs": [
    {
     "name": "stdout",
     "output_type": "stream",
     "text": [
      "x[(\"SA\", \"R5\")] = 600.0\n",
      "x[(\"SA\", \"R6\")] = 2200.0\n",
      "x[(\"SB\", \"R3\")] = 1200.0\n",
      "x[(\"SB\", \"R5\")] = 2000.0\n",
      "x[(\"SB\", \"R7\")] = 2000.0\n",
      "x[(\"SC\", \"R1\")] = 1800.0\n",
      "x[(\"SC\", \"R2\")] = 2400.0\n",
      "x[(\"SC\", \"R4\")] = 800.0\n",
      "x[(\"SC\", \"R5\")] = 800.0\n"
     ]
    }
   ],
   "source": [
    "for variable in all_variables(m)\n",
    "    if value(variable) != 0\n",
    "        println(\"$(name(variable)) = $(value(variable))\")\n",
    "    end\n",
    "end"
   ]
  },
  {
   "attachments": {},
   "cell_type": "markdown",
   "metadata": {},
   "source": [
    "##### Supplier A will supply:  \n",
    "600 units to Retailer 5  \n",
    "200 units to Retailer 6  \n",
    "\n",
    "##### Supplier B will supply:  \n",
    "1200 units to Retailer 3  \n",
    "2000 units to Retailer 5  \n",
    "2000 units to Retailer 7  \n",
    "\n",
    "##### Supplier C will supply:  \n",
    "1800 units to Retailer 1  \n",
    "2400 units to Retailer 2  \n",
    "800 units to Retailer 4  \n",
    "800 units to Retailer 5  \n",
    "\n",
    "The minimum cost of moving the goods is $800,000."
   ]
  }
 ],
 "metadata": {
  "kernelspec": {
   "display_name": "Julia 1.8.4",
   "language": "julia",
   "name": "julia-1.8"
  },
  "language_info": {
   "file_extension": ".jl",
   "mimetype": "application/julia",
   "name": "julia",
   "version": "1.8.4"
  },
  "orig_nbformat": 4
 },
 "nbformat": 4,
 "nbformat_minor": 2
}

{
 "cells": [
  {
   "cell_type": "markdown",
   "metadata": {},
   "source": [
    "# Homework 04. Mixed Integer Programming/Simplex/Sudoku\n",
    "\n",
    "MSCA 32013 Optimization and Simulation Methods. University of Chicago.\n",
    "\n",
    "Group 7. Ben Ossyra, Peter Pezon. Yawen Zhang. "
   ]
  },
  {
   "attachments": {},
   "cell_type": "markdown",
   "metadata": {},
   "source": [
    "## Bus Schedule Problem "
   ]
  },
  {
   "cell_type": "markdown",
   "id": "8b007284-abbe-4e54-b3f6-23f22b6c3b5b",
   "metadata": {},
   "source": [
    "1 - The city of Chicago hired your services to create a daily schedule for the bus drivers for a given bus route. Because of changes in demand throughout the day, the number of buses needed varies. The number of buses scheduled are shown below:\n",
    "\n",
    "| Start | End | Buses |\n",
    "| ----- | ------ | ----- | \n",
    "|  12am    |\t4am\t |\t2\t | \n",
    "|  4am    |\t8am\t |\t7 | \n",
    "|  8am    |\t12pm\t |\t10 | \n",
    "|  12pm    |\t4pm\t |\t15 | \n",
    "|  4pm    |\t8pm\t |\t5 | \n",
    "|  8pm    |\t12am\t |\t2 |\n",
    "\n",
    "A driver must be scheduled for an 8 hour shift, and the driver has to start at the beginning of one of the stipulated starting times. The shifts start at midnight, 4AM, 8AM, 12PM, 4PM, 8PM, and last for 8 hours. Note that a bus driver that starts at 8PM works until 4AM of the next day. \n",
    "<br />\n",
    "\n",
    "Your proposed schedule must include enough bus drivers to drive the scheduled buses in each period. All scheduled buses must be in service! Your goal is to minimize the number of bus drivers hired while making sure that there are enough drivers for the scheduled buses during each interval.\n"
   ]
  },
  {
   "cell_type": "markdown",
   "id": "3356a99f-1c1d-491c-9bc7-bb806fd90cb5",
   "metadata": {},
   "source": [
    "Define our variables: \n",
    "\n",
    "* $x_{1}$ is the number of drivers that starts at 12AM.\n",
    "* $x_{2}$ is the number of drivers that starts at 4AM.\n",
    "* $x_{3}$ is the number of drivers that starts at 8AM.\n",
    "* $x_{4}$ is the number of drivers that starts at 12PM.\n",
    "* $x_{5}$ is the number of drivers that starts at 4PM.\n",
    "* $x_{6}$ is the number of drivers that starts at 8PM.\n",
    "\n",
    "\n",
    "Regarding constraints:\n",
    "\n",
    "It must include enough bus drivers to drive the scheduled buses in each period:\n",
    "\n",
    "$$ x6 + x1 \\geq 2 $$\n",
    "$$ x1 + x2 \\geq 7 $$\n",
    "$$ x2 + x3 \\geq 10 $$\n",
    "$$ x3 + x4 \\geq 15 $$\n",
    "$$ x4 + x5 \\geq 5 $$\n",
    "$$ x5 + x6 \\geq 2 $$\n",
    "\n",
    "\n",
    "The objective function is defined as:\n",
    "\n",
    "$$ min\\ \\  x_{1} + x_{2} + x_{3} + x_{4} + x_{5} + x_{6} $$\n"
   ]
  },
  {
   "cell_type": "code",
   "execution_count": 19,
   "id": "456f0e6b-3990-43d8-82df-4835dd13882b",
   "metadata": {},
   "outputs": [
    {
     "data": {
      "text/latex": [
       "$$ \\begin{aligned}\n",
       "\\min\\quad & x1 + x2 + x3 + x4 + x5 + x6\\\\\n",
       "\\text{Subject to} \\quad & x1 + x6 \\geq 2.0\\\\\n",
       " & x1 + x2 \\geq 7.0\\\\\n",
       " & x2 + x3 \\geq 10.0\\\\\n",
       " & x3 + x4 \\geq 15.0\\\\\n",
       " & x4 + x5 \\geq 5.0\\\\\n",
       " & x5 + x6 \\geq 2.0\\\\\n",
       " & x1 \\geq 0.0\\\\\n",
       " & x2 \\geq 0.0\\\\\n",
       " & x3 \\geq 0.0\\\\\n",
       " & x4 \\geq 0.0\\\\\n",
       " & x5 \\geq 0.0\\\\\n",
       " & x6 \\geq 0.0\\\\\n",
       " & x1 \\in \\mathbb{Z}\\\\\n",
       " & x2 \\in \\mathbb{Z}\\\\\n",
       " & x3 \\in \\mathbb{Z}\\\\\n",
       " & x4 \\in \\mathbb{Z}\\\\\n",
       " & x5 \\in \\mathbb{Z}\\\\\n",
       " & x6 \\in \\mathbb{Z}\\\\\n",
       "\\end{aligned} $$"
      ]
     },
     "metadata": {},
     "output_type": "display_data"
    }
   ],
   "source": [
    "using JuMP, GLPK\n",
    "\n",
    "myModel = Model(GLPK.Optimizer)\n",
    "@variable(myModel, x1 >= 0, Int)\n",
    "@variable(myModel, x2 >= 0, Int)\n",
    "@variable(myModel, x3 >= 0, Int)\n",
    "@variable(myModel, x4 >= 0, Int)\n",
    "@variable(myModel, x5 >= 0, Int)\n",
    "@variable(myModel, x6 >= 0, Int)\n",
    "@constraint(myModel, x6   + x1 >=2)\n",
    "@constraint(myModel, x1   + x2 >=7)\n",
    "@constraint(myModel, x2   + x3 >=10)\n",
    "@constraint(myModel, x3   + x4 >=15)\n",
    "@constraint(myModel, x4   + x5 >=5)\n",
    "@constraint(myModel, x5   + x6 >=2)\n",
    "\n",
    "@objective(myModel, Min, x1+x2+x3+x4+x5+x6)\n",
    "print(myModel)\n",
    "\n"
   ]
  },
  {
   "cell_type": "code",
   "execution_count": 2,
   "id": "082d466f-5fd4-4231-89ea-3011fe73b29a",
   "metadata": {},
   "outputs": [
    {
     "name": "stdout",
     "output_type": "stream",
     "text": [
      "  1.247538 seconds (5.98 M allocations: 438.563 MiB, 5.83% gc time, 99.90% compilation time)\n",
      "Objective value: 24.0\n",
      "x1 = 2.0\n",
      "x2 = 5.0\n",
      "x3 = 12.0\n",
      "x4 = 3.0\n",
      "x5 = 2.0\n",
      "x6 = 0.0\n"
     ]
    }
   ],
   "source": [
    "@time begin\n",
    "    status = optimize!(myModel)\n",
    "end\n",
    "println(\"Objective value: \", JuMP.objective_value(myModel))\n",
    "println(\"x1 = \", JuMP.value(x1))\n",
    "println(\"x2 = \", JuMP.value(x2))\n",
    "println(\"x3 = \", JuMP.value(x3))\n",
    "println(\"x4 = \", JuMP.value(x4))\n",
    "println(\"x5 = \", JuMP.value(x5))\n",
    "println(\"x6 = \", JuMP.value(x6))"
   ]
  },
  {
   "attachments": {},
   "cell_type": "markdown",
   "metadata": {},
   "source": [
    "The optimal number of drivers is 24.  \n",
    "2 drivers are scheduled to start at 12AM.  \n",
    "5 drivers are scheduled to start at 4AM.  \n",
    "12 drivers are scheduled to start at 8AM.  \n",
    "3 drivers are scheduled to start at 12PM.  \n",
    "2 drivers are scheduled to start at 4PM.  \n",
    "And 0 drivers will start at 8PM."
   ]
  },
  {
   "attachments": {},
   "cell_type": "markdown",
   "id": "73b37741",
   "metadata": {},
   "source": [
    "## Simplex Problem 1 - Consider the following LP problem:\n",
    "\n",
    "\\begin{equation}\n",
    "\\max_{x}\\ \\ {-3x_1 + 4x_2}\\\\\n",
    "\\mathrm{s.t.}\n",
    "\\left\\{\n",
    "\\begin{aligned}\n",
    "-x_1 + x_2 \\leq 0 \\\\\n",
    "-x_1 + 2x_2 \\leq 2 \\\\\n",
    "x_1 \\geq 1 \\\\\n",
    "x_2 \\leq 3 \\\\\n",
    "x_1, x_2 \\geq 0 \\\\\n",
    "\\end{aligned}\\right.\n",
    "\\end{equation}"
   ]
  },
  {
   "cell_type": "markdown",
   "id": "8207f511",
   "metadata": {},
   "source": [
    "### A. Plot all linear constraints and the objective function at the optimal level"
   ]
  },
  {
   "cell_type": "code",
   "execution_count": 3,
   "id": "36d66706",
   "metadata": {},
   "outputs": [
    {
     "data": {
      "image/png": "[encoded data removed]",
      "text/plain": [
       "Figure(PyObject <Figure size 640x480 with 1 Axes>)"
      ]
     },
     "metadata": {},
     "output_type": "display_data"
    }
   ],
   "source": [
    "using PyPlot\n",
    "\n",
    "x1 = collect(0:0.1:4)\n",
    "x2 = collect(0:0.1:4)\n",
    "\n",
    "x2a = ifelse.(x1 .>= 0, x1, NaN);\n",
    "x2b = ifelse.(1 .+ 0.5 .* x1 .>=0, 1 .+ 0.5 .* x1, NaN)\n",
    "x2c = 0.5 .+ 0.75 .* x1\n",
    "\n",
    "\n",
    "fig, ax = subplots()\n",
    "\n",
    "ax.fill_between(x1,x2a,color=\"red\",linewidth=2,label=L\"x_{2} \\leq x_{1}\",alpha=0.3)\n",
    "ax.fill_between(x1,x2b,color=\"blue\", linewidth=2,label=L\"x_{2} \\leq 1 + 0.5x_{1}\",alpha=0.3)\n",
    "ax.fill_betweenx(x2,1,4,color=\"yellow\" ,linewidth=2,label=L\"x_{1} \\geq 1\",alpha=0.3)\n",
    "ax.fill_between(x1,3,color=\"green\",linewidth=2,label=L\"x_{2} \\leq 3\",alpha=0.3)\n",
    "\n",
    "ax.plot(x1,x2c,color=\"black\",linewidth=2,label=L\"x_{2} = 0.5 + 0.75x_{1}\",alpha=0.4)\n",
    "\n",
    "ax.set_xlabel(L\"x_{1}\");\n",
    "ax.set_ylabel(L\"x_{2}\");\n",
    "ax.legend(loc=\"upper right\");\n",
    "ax.grid(\"on\");\n"
   ]
  },
  {
   "cell_type": "markdown",
   "id": "0a70cc8b",
   "metadata": {},
   "source": [
    "### B. Produce a table with all possible basic solutions and their respective objective function values. Determine the solution."
   ]
  },
  {
   "cell_type": "code",
   "execution_count": 4,
   "id": "be05f1e8",
   "metadata": {},
   "outputs": [
    {
     "data": {
      "text/latex": [
       "$$ \\begin{aligned}\n",
       "\\max\\quad & -3 x_{1} + 4 x_{2}\\\\\n",
       "\\text{Subject to} \\quad & -x_{1} + x_{2} + x_{3} = 0.0\\\\\n",
       " & -x_{1} + 2 x_{2} + x_{4} = 2.0\\\\\n",
       " & x_{1} - x_{5} = 1.0\\\\\n",
       " & x_{2} + x_{6} = 3.0\\\\\n",
       " & x_{1} \\geq 0.0\\\\\n",
       " & x_{2} \\geq 0.0\\\\\n",
       " & x_{3} \\geq 0.0\\\\\n",
       " & x_{4} \\geq 0.0\\\\\n",
       " & x_{5} \\geq 0.0\\\\\n",
       " & x_{6} \\geq 0.0\\\\\n",
       "\\end{aligned} $$"
      ]
     },
     "metadata": {},
     "output_type": "display_data"
    }
   ],
   "source": [
    "using JuMP, GLPK, LinearAlgebra\n",
    "\n",
    "model1 = Model(GLPK.Optimizer)\n",
    "\n",
    "c = [-3; 4; 0; 0; 0; 0]\n",
    "A = [-1 1 1 0  0 0;\n",
    "     -1 2 0 1  0 0;\n",
    "      1 0 0 0 -1 0; \n",
    "      0 1 0 0  0 1]\n",
    "b = [0; 2; 1; 3]\n",
    "\n",
    "m, n = size(A)\n",
    "\n",
    "@variable(model1, x[1:n] >= 0)\n",
    "@objective(model1, Max, sum(c[i]*x[i] for i in 1:n))\n",
    "\n",
    "@constraint(model1, constraint[j in 1:m], sum( A[j,i]*x[i] for i in 1:n) == b[j])\n",
    "\n",
    "print(model1)"
   ]
  },
  {
   "cell_type": "code",
   "execution_count": 5,
   "id": "6d7f4dc8",
   "metadata": {
    "scrolled": true
   },
   "outputs": [
    {
     "name": "stdout",
     "output_type": "stream",
     "text": [
      "The rank of the matrix A: 4\n",
      "The number of linear restrictions: 4\n",
      "The number of variables: 6\n",
      "Number of basic solutions n!/m!(n-m)!: 15.0\n"
     ]
    }
   ],
   "source": [
    "println(\"The rank of the matrix A: \", rank(A))\n",
    "println(\"The number of linear restrictions: \", m)\n",
    "println(\"The number of variables: \",n)\n",
    "println(\"Number of basic solutions n!/m!(n-m)!: \",factorial(n)/(factorial(m)*factorial(n-m)))"
   ]
  },
  {
   "cell_type": "code",
   "execution_count": 6,
   "id": "41bb18a2",
   "metadata": {
    "scrolled": false
   },
   "outputs": [],
   "source": [
    "using DataFrames, DataFramesMeta, Combinatorics"
   ]
  },
  {
   "cell_type": "code",
   "execution_count": 7,
   "id": "2728c613",
   "metadata": {},
   "outputs": [
    {
     "data": {
      "text/html": [
       "<div><div style = \"float: left;\"><span>15×9 DataFrame</span></div><div style = \"clear: both;\"></div></div><div class = \"data-frame\" style = \"overflow-x: scroll;\"><table class = \"data-frame\" style = \"margin-bottom: 6px;\"><thead><tr class = \"header\"><th class = \"rowNumber\" style = \"font-weight: bold; text-align: right;\">Row</th><th style = \"text-align: left;\">comb_1</th><th style = \"text-align: left;\">comb_2</th><th style = \"text-align: left;\">comb_3</th><th style = \"text-align: left;\">comb_4</th><th style = \"text-align: left;\">x_B_1</th><th style = \"text-align: left;\">x_B_2</th><th style = \"text-align: left;\">x_B_3</th><th style = \"text-align: left;\">x_B_4</th><th style = \"text-align: left;\">z</th></tr><tr class = \"subheader headerLastRow\"><th class = \"rowNumber\" style = \"font-weight: bold; text-align: right;\"></th><th title = \"Int64\" style = \"text-align: left;\">Int64</th><th title = \"Int64\" style = \"text-align: left;\">Int64</th><th title = \"Int64\" style = \"text-align: left;\">Int64</th><th title = \"Int64\" style = \"text-align: left;\">Int64</th><th title = \"Float64\" style = \"text-align: left;\">Float64</th><th title = \"Float64\" style = \"text-align: left;\">Float64</th><th title = \"Float64\" style = \"text-align: left;\">Float64</th><th title = \"Float64\" style = \"text-align: left;\">Float64</th><th title = \"Float64\" style = \"text-align: left;\">Float64</th></tr></thead><tbody><tr><td class = \"rowNumber\" style = \"font-weight: bold; text-align: right;\">1</td><td style = \"text-align: right;\">1</td><td style = \"text-align: right;\">2</td><td style = \"text-align: right;\">5</td><td style = \"text-align: right;\">6</td><td style = \"text-align: right;\">2.0</td><td style = \"text-align: right;\">2.0</td><td style = \"text-align: right;\">1.0</td><td style = \"text-align: right;\">1.0</td><td style = \"text-align: right;\">2.0</td></tr><tr><td class = \"rowNumber\" style = \"font-weight: bold; text-align: right;\">2</td><td style = \"text-align: right;\">1</td><td style = \"text-align: right;\">2</td><td style = \"text-align: right;\">4</td><td style = \"text-align: right;\">6</td><td style = \"text-align: right;\">1.0</td><td style = \"text-align: right;\">1.0</td><td style = \"text-align: right;\">1.0</td><td style = \"text-align: right;\">2.0</td><td style = \"text-align: right;\">1.0</td></tr><tr><td class = \"rowNumber\" style = \"font-weight: bold; text-align: right;\">3</td><td style = \"text-align: right;\">1</td><td style = \"text-align: right;\">2</td><td style = \"text-align: right;\">3</td><td style = \"text-align: right;\">5</td><td style = \"text-align: right;\">4.0</td><td style = \"text-align: right;\">3.0</td><td style = \"text-align: right;\">1.0</td><td style = \"text-align: right;\">3.0</td><td style = \"text-align: right;\">0.0</td></tr><tr><td class = \"rowNumber\" style = \"font-weight: bold; text-align: right;\">4</td><td style = \"text-align: right;\">1</td><td style = \"text-align: right;\">3</td><td style = \"text-align: right;\">4</td><td style = \"text-align: right;\">6</td><td style = \"text-align: right;\">1.0</td><td style = \"text-align: right;\">1.0</td><td style = \"text-align: right;\">3.0</td><td style = \"text-align: right;\">3.0</td><td style = \"text-align: right;\">-3.0</td></tr><tr><td class = \"rowNumber\" style = \"font-weight: bold; text-align: right;\">5</td><td style = \"text-align: right;\">1</td><td style = \"text-align: right;\">2</td><td style = \"text-align: right;\">3</td><td style = \"text-align: right;\">4</td><td style = \"text-align: right;\">1.0</td><td style = \"text-align: right;\">3.0</td><td style = \"text-align: right;\">-2.0</td><td style = \"text-align: right;\">-3.0</td><td style = \"text-align: right;\">-Inf</td></tr><tr><td class = \"rowNumber\" style = \"font-weight: bold; text-align: right;\">6</td><td style = \"text-align: right;\">1</td><td style = \"text-align: right;\">2</td><td style = \"text-align: right;\">3</td><td style = \"text-align: right;\">6</td><td style = \"text-align: right;\">1.0</td><td style = \"text-align: right;\">1.5</td><td style = \"text-align: right;\">-0.5</td><td style = \"text-align: right;\">1.5</td><td style = \"text-align: right;\">-Inf</td></tr><tr><td class = \"rowNumber\" style = \"font-weight: bold; text-align: right;\">7</td><td style = \"text-align: right;\">1</td><td style = \"text-align: right;\">2</td><td style = \"text-align: right;\">4</td><td style = \"text-align: right;\">5</td><td style = \"text-align: right;\">3.0</td><td style = \"text-align: right;\">3.0</td><td style = \"text-align: right;\">-1.0</td><td style = \"text-align: right;\">2.0</td><td style = \"text-align: right;\">-Inf</td></tr><tr><td class = \"rowNumber\" style = \"font-weight: bold; text-align: right;\">8</td><td style = \"text-align: right;\">1</td><td style = \"text-align: right;\">3</td><td style = \"text-align: right;\">4</td><td style = \"text-align: right;\">5</td><td style = \"text-align: right;\">NaN</td><td style = \"text-align: right;\">NaN</td><td style = \"text-align: right;\">NaN</td><td style = \"text-align: right;\">NaN</td><td style = \"text-align: right;\">-Inf</td></tr><tr><td class = \"rowNumber\" style = \"font-weight: bold; text-align: right;\">9</td><td style = \"text-align: right;\">1</td><td style = \"text-align: right;\">3</td><td style = \"text-align: right;\">5</td><td style = \"text-align: right;\">6</td><td style = \"text-align: right;\">-2.0</td><td style = \"text-align: right;\">-2.0</td><td style = \"text-align: right;\">-3.0</td><td style = \"text-align: right;\">3.0</td><td style = \"text-align: right;\">-Inf</td></tr><tr><td class = \"rowNumber\" style = \"font-weight: bold; text-align: right;\">10</td><td style = \"text-align: right;\">1</td><td style = \"text-align: right;\">4</td><td style = \"text-align: right;\">5</td><td style = \"text-align: right;\">6</td><td style = \"text-align: right;\">0.0</td><td style = \"text-align: right;\">2.0</td><td style = \"text-align: right;\">-1.0</td><td style = \"text-align: right;\">3.0</td><td style = \"text-align: right;\">-Inf</td></tr><tr><td class = \"rowNumber\" style = \"font-weight: bold; text-align: right;\">11</td><td style = \"text-align: right;\">2</td><td style = \"text-align: right;\">3</td><td style = \"text-align: right;\">4</td><td style = \"text-align: right;\">5</td><td style = \"text-align: right;\">3.0</td><td style = \"text-align: right;\">-3.0</td><td style = \"text-align: right;\">-4.0</td><td style = \"text-align: right;\">-1.0</td><td style = \"text-align: right;\">-Inf</td></tr><tr><td class = \"rowNumber\" style = \"font-weight: bold; text-align: right;\">12</td><td style = \"text-align: right;\">2</td><td style = \"text-align: right;\">3</td><td style = \"text-align: right;\">4</td><td style = \"text-align: right;\">6</td><td style = \"text-align: right;\">NaN</td><td style = \"text-align: right;\">NaN</td><td style = \"text-align: right;\">NaN</td><td style = \"text-align: right;\">NaN</td><td style = \"text-align: right;\">-Inf</td></tr><tr><td class = \"rowNumber\" style = \"font-weight: bold; text-align: right;\">13</td><td style = \"text-align: right;\">2</td><td style = \"text-align: right;\">3</td><td style = \"text-align: right;\">5</td><td style = \"text-align: right;\">6</td><td style = \"text-align: right;\">1.0</td><td style = \"text-align: right;\">-1.0</td><td style = \"text-align: right;\">-1.0</td><td style = \"text-align: right;\">2.0</td><td style = \"text-align: right;\">-Inf</td></tr><tr><td class = \"rowNumber\" style = \"font-weight: bold; text-align: right;\">14</td><td style = \"text-align: right;\">2</td><td style = \"text-align: right;\">4</td><td style = \"text-align: right;\">5</td><td style = \"text-align: right;\">6</td><td style = \"text-align: right;\">0.0</td><td style = \"text-align: right;\">2.0</td><td style = \"text-align: right;\">-1.0</td><td style = \"text-align: right;\">3.0</td><td style = \"text-align: right;\">-Inf</td></tr><tr><td class = \"rowNumber\" style = \"font-weight: bold; text-align: right;\">15</td><td style = \"text-align: right;\">3</td><td style = \"text-align: right;\">4</td><td style = \"text-align: right;\">5</td><td style = \"text-align: right;\">6</td><td style = \"text-align: right;\">0.0</td><td style = \"text-align: right;\">2.0</td><td style = \"text-align: right;\">-1.0</td><td style = \"text-align: right;\">3.0</td><td style = \"text-align: right;\">-Inf</td></tr></tbody></table></div>"
      ],
      "text/latex": [
       "\\begin{tabular}{r|ccccccccc}\n",
       "\t& comb\\_1 & comb\\_2 & comb\\_3 & comb\\_4 & x\\_B\\_1 & x\\_B\\_2 & x\\_B\\_3 & x\\_B\\_4 & z\\\\\n",
       "\t\\hline\n",
       "\t& Int64 & Int64 & Int64 & Int64 & Float64 & Float64 & Float64 & Float64 & Float64\\\\\n",
       "\t\\hline\n",
       "\t1 & 1 & 2 & 5 & 6 & 2.0 & 2.0 & 1.0 & 1.0 & 2.0 \\\\\n",
       "\t2 & 1 & 2 & 4 & 6 & 1.0 & 1.0 & 1.0 & 2.0 & 1.0 \\\\\n",
       "\t3 & 1 & 2 & 3 & 5 & 4.0 & 3.0 & 1.0 & 3.0 & 0.0 \\\\\n",
       "\t4 & 1 & 3 & 4 & 6 & 1.0 & 1.0 & 3.0 & 3.0 & -3.0 \\\\\n",
       "\t5 & 1 & 2 & 3 & 4 & 1.0 & 3.0 & -2.0 & -3.0 & -Inf \\\\\n",
       "\t6 & 1 & 2 & 3 & 6 & 1.0 & 1.5 & -0.5 & 1.5 & -Inf \\\\\n",
       "\t7 & 1 & 2 & 4 & 5 & 3.0 & 3.0 & -1.0 & 2.0 & -Inf \\\\\n",
       "\t8 & 1 & 3 & 4 & 5 & NaN & NaN & NaN & NaN & -Inf \\\\\n",
       "\t9 & 1 & 3 & 5 & 6 & -2.0 & -2.0 & -3.0 & 3.0 & -Inf \\\\\n",
       "\t10 & 1 & 4 & 5 & 6 & 0.0 & 2.0 & -1.0 & 3.0 & -Inf \\\\\n",
       "\t11 & 2 & 3 & 4 & 5 & 3.0 & -3.0 & -4.0 & -1.0 & -Inf \\\\\n",
       "\t12 & 2 & 3 & 4 & 6 & NaN & NaN & NaN & NaN & -Inf \\\\\n",
       "\t13 & 2 & 3 & 5 & 6 & 1.0 & -1.0 & -1.0 & 2.0 & -Inf \\\\\n",
       "\t14 & 2 & 4 & 5 & 6 & 0.0 & 2.0 & -1.0 & 3.0 & -Inf \\\\\n",
       "\t15 & 3 & 4 & 5 & 6 & 0.0 & 2.0 & -1.0 & 3.0 & -Inf \\\\\n",
       "\\end{tabular}\n"
      ],
      "text/plain": [
       "\u001b[1m15×9 DataFrame\u001b[0m\n",
       "\u001b[1m Row \u001b[0m│\u001b[1m comb_1 \u001b[0m\u001b[1m comb_2 \u001b[0m\u001b[1m comb_3 \u001b[0m\u001b[1m comb_4 \u001b[0m\u001b[1m x_B_1   \u001b[0m\u001b[1m x_B_2   \u001b[0m\u001b[1m x_B_3   \u001b[0m\u001b[1m x_B_4   \u001b[0m\u001b[1m z  \u001b[0m ⋯\n",
       "     │\u001b[90m Int64  \u001b[0m\u001b[90m Int64  \u001b[0m\u001b[90m Int64  \u001b[0m\u001b[90m Int64  \u001b[0m\u001b[90m Float64 \u001b[0m\u001b[90m Float64 \u001b[0m\u001b[90m Float64 \u001b[0m\u001b[90m Float64 \u001b[0m\u001b[90m Flo\u001b[0m ⋯\n",
       "─────┼──────────────────────────────────────────────────────────────────────────\n",
       "   1 │      1       2       5       6      2.0      2.0      1.0      1.0      ⋯\n",
       "   2 │      1       2       4       6      1.0      1.0      1.0      2.0\n",
       "   3 │      1       2       3       5      4.0      3.0      1.0      3.0\n",
       "   4 │      1       3       4       6      1.0      1.0      3.0      3.0\n",
       "   5 │      1       2       3       4      1.0      3.0     -2.0     -3.0   -I ⋯\n",
       "   6 │      1       2       3       6      1.0      1.5     -0.5      1.5   -I\n",
       "   7 │      1       2       4       5      3.0      3.0     -1.0      2.0   -I\n",
       "   8 │      1       3       4       5    NaN      NaN      NaN      NaN     -I\n",
       "   9 │      1       3       5       6     -2.0     -2.0     -3.0      3.0   -I ⋯\n",
       "  10 │      1       4       5       6      0.0      2.0     -1.0      3.0   -I\n",
       "  11 │      2       3       4       5      3.0     -3.0     -4.0     -1.0   -I\n",
       "  12 │      2       3       4       6    NaN      NaN      NaN      NaN     -I\n",
       "  13 │      2       3       5       6      1.0     -1.0     -1.0      2.0   -I ⋯\n",
       "  14 │      2       4       5       6      0.0      2.0     -1.0      3.0   -I\n",
       "  15 │      3       4       5       6      0.0      2.0     -1.0      3.0   -I\n",
       "\u001b[36m                                                                1 column omitted\u001b[0m"
      ]
     },
     "execution_count": 7,
     "metadata": {},
     "output_type": "execute_result"
    }
   ],
   "source": [
    "combs = collect(combinations(1:n, m))\n",
    "resual = DataFrame(comb_1=NaN,comb_2=NaN,comb_3=NaN,comb_4=NaN,x_B_1=NaN,x_B_2=NaN,x_B_3=NaN,x_B_4=NaN,z=NaN)\n",
    "\n",
    "for i in 1:length(combs)\n",
    "    comb = combs[i,]\n",
    "    B = A[:, comb]\n",
    "    c_B = c[comb]\n",
    "    \n",
    "    if det(B) == 0\n",
    "        z = -Inf\n",
    "        push!(resual, ([comb[1],comb[2],comb[3],comb[4],NaN,NaN,NaN,NaN,z]))\n",
    "    else\n",
    "        x_B = inv(B)*b\n",
    "\n",
    "        if minimum(x_B)>0\n",
    "            z = dot(c_B, x_B)\n",
    "        else \n",
    "            z = -Inf\n",
    "        end\n",
    "        if i==1\n",
    "            resual = DataFrame(comb_1=comb[1],comb_2=comb[2],comb_3=comb[3],comb_4=comb[4],\n",
    "                x_B_1=x_B[1],x_B_2=x_B[2],x_B_3=x_B[3],x_B_4=x_B[4],z=z)\n",
    "        else\n",
    "            push!(resual, ([comb[1],comb[2],comb[3],comb[4],x_B[1],x_B[2],x_B[3],x_B[4],z]))\n",
    "        end\n",
    "    end\n",
    "end\n",
    "sort!(resual,:z,rev=true)"
   ]
  },
  {
   "cell_type": "markdown",
   "id": "31b1a99b",
   "metadata": {},
   "source": [
    "In the optimal solution in the table above x1=2, x2=2, x3=1, x4=1 and the objective value is 2"
   ]
  },
  {
   "cell_type": "markdown",
   "id": "17d99077",
   "metadata": {},
   "source": [
    "### C. Solve the problem using the step by step simplex method discussed in the lecture. Verify that the solution is the same as in item B."
   ]
  },
  {
   "attachments": {},
   "cell_type": "markdown",
   "id": "8f3f9e57",
   "metadata": {},
   "source": [
    "#### Notes: \n",
    "We tried many different ways to solve the problem, but were having trouble getting the code to work well. Below are our two attempts:"
   ]
  },
  {
   "attachments": {},
   "cell_type": "markdown",
   "metadata": {},
   "source": [
    "#### Attempt 1 - Simplex"
   ]
  },
  {
   "cell_type": "code",
   "execution_count": 8,
   "id": "5263e8a7",
   "metadata": {},
   "outputs": [
    {
     "name": "stdout",
     "output_type": "stream",
     "text": [
      "The optimization problem to be solved is:\n"
     ]
    },
    {
     "data": {
      "text/latex": [
       "$$ \\begin{aligned}\n",
       "\\max\\quad & -3 x_{1} + 4 x_{2}\\\\\n",
       "\\text{Subject to} \\quad & -x_{1} + x_{2} + x_{3} = 0.0\\\\\n",
       " & -x_{1} + 2 x_{2} + x_{4} = 2.0\\\\\n",
       " & x_{1} - x_{5} = 1.0\\\\\n",
       " & x_{2} + x_{6} = 3.0\\\\\n",
       " & x_{1} \\geq 0.0\\\\\n",
       " & x_{2} \\geq 0.0\\\\\n",
       " & x_{3} \\geq 0.0\\\\\n",
       " & x_{4} \\geq 0.0\\\\\n",
       " & x_{5} \\geq 0.0\\\\\n",
       " & x_{6} \\geq 0.0\\\\\n",
       "\\end{aligned} $$"
      ]
     },
     "metadata": {},
     "output_type": "display_data"
    },
    {
     "name": "stdout",
     "output_type": "stream",
     "text": [
      " \n",
      "The rank of the matrix A: 4\n",
      "The number of linear restrictions: 4\n",
      "The number of variables: 6\n",
      "Number of basic solutions n!/m!(n-m)!: 15.0\n"
     ]
    }
   ],
   "source": [
    "using JuMP, GLPK, LinearAlgebra\n",
    "\n",
    "model2 = Model(GLPK.Optimizer)\n",
    "\n",
    "c = [-3; 4; 0; 0; 0; 0]\n",
    "A = [-1 1 1 0  0 0;\n",
    "     -1 2 0 1  0 0;\n",
    "      1 0 0 0 -1 0; \n",
    "      0 1 0 0  0 1]\n",
    "b = [0; 2; 1; 3]\n",
    "\n",
    "m, n = size(A)\n",
    "\n",
    "@variable(model2, x[1:n] >= 0)\n",
    "@objective(model2, Max, sum(c[i]*x[i] for i in 1:n))\n",
    "\n",
    "@constraint(model2, constraint[j in 1:m], sum( A[j,i]*x[i] for i in 1:n) == b[j])\n",
    "\n",
    "println(\"The optimization problem to be solved is:\")\n",
    "print(model2)\n",
    "println(\" \")\n",
    "println(\"The rank of the matrix A: \",rank(A))\n",
    "println(\"The number of linear restrictions: \", m)\n",
    "println(\"The number of variables: \",n)\n",
    "println(\"Number of basic solutions n!/m!(n-m)!: \",factorial(n)/(factorial(m)*factorial(n-m)))"
   ]
  },
  {
   "cell_type": "code",
   "execution_count": 9,
   "id": "c0978ce9",
   "metadata": {
    "scrolled": true
   },
   "outputs": [
    {
     "name": "stdout",
     "output_type": "stream",
     "text": [
      "List of indices for the basic variables:\n",
      "[3, 4, 5, 6]\n",
      "List of indices for the non-basic variables:\n",
      "[1, 2]\n"
     ]
    }
   ],
   "source": [
    "# Step 1 - initial assignment of basic and non-basic variables\n",
    "\n",
    "## indices of matrix A\n",
    "### iB: basic variables index\n",
    "### iK: non-basic variables index\n",
    "\n",
    "iB = collect(3:6)\n",
    "iK = collect(1:2)\n",
    "\n",
    "## construct matrix [B K]\n",
    "\n",
    "B = A[:, iB];\n",
    "K = A[:,iK];\n",
    "\n",
    "println(\"List of indices for the basic variables:\\n\",iB)\n",
    "println(\"List of indices for the non-basic variables:\\n\",iK)"
   ]
  },
  {
   "cell_type": "code",
   "execution_count": 10,
   "id": "c15ae144",
   "metadata": {},
   "outputs": [
    {
     "name": "stdout",
     "output_type": "stream",
     "text": [
      "The updated B matrix is:\n",
      "[1 0 0 0; 0 1 0 0; 0 0 -1 0; 0 0 0 1]\n",
      "The updated K matrix is:\n",
      "[-1 1; -1 2; 1 0; 0 1]\n",
      "The updated solution for the basic variable, xB is:\n",
      "[0.0, 2.0, -1.0, 3.0]\n",
      "The updated solution for the non-basic variable, xK is:\n",
      "[0, 0]\n",
      "The updated coefficient vector for the objective function, cB, is: \n",
      "[0, 0, 0, 0]\n",
      "The updated coefficient vector for the objective function, cK, is: \n",
      "[-3, 4]\n",
      "The updated objective function value, z, is:\n",
      "0.0\n"
     ]
    }
   ],
   "source": [
    "## compute xB, xK, and objective function z\n",
    "cB = c[iB];\n",
    "cK = c[iK];\n",
    "\n",
    "xB = inv(B)*b;\n",
    "xK = [0;0];\n",
    "\n",
    "println(\"The updated B matrix is:\\n\",B)\n",
    "println(\"The updated K matrix is:\\n\",K)\n",
    "println(\"The updated solution for the basic variable, xB is:\\n\",xB)\n",
    "println(\"The updated solution for the non-basic variable, xK is:\\n\",xK)\n",
    "println(\"The updated coefficient vector for the objective function, cB, is: \\n\",cB)\n",
    "println(\"The updated coefficient vector for the objective function, cK, is: \\n\",cK)\n",
    "println(\"The updated objective function value, z, is:\\n\",[cB; cK]'*[xB;xK])"
   ]
  },
  {
   "cell_type": "code",
   "execution_count": 11,
   "id": "3eb231d4",
   "metadata": {},
   "outputs": [
    {
     "name": "stdout",
     "output_type": "stream",
     "text": [
      "[-3.0 4.0]\n",
      "The entering variable has index of 1\n"
     ]
    }
   ],
   "source": [
    "cc = (cK'-cB'*inv(B)*K);\n",
    "indK2B = iK[argmin(cc)[2]];\n",
    "println(cc)\n",
    "println(\"The entering variable has index of \",indK2B)"
   ]
  },
  {
   "cell_type": "code",
   "execution_count": 12,
   "id": "898b7b3e",
   "metadata": {},
   "outputs": [
    {
     "name": "stdout",
     "output_type": "stream",
     "text": [
      "[-0.0, Inf, 1.0, Inf]\n",
      "The exiting variable has index of 3\n"
     ]
    }
   ],
   "source": [
    "## ratio test\n",
    "y = inv(B)*A;\n",
    "a = inv(B)*b./y[:,indK2B];\n",
    "a = ifelse.(a.<0,Inf,a)\n",
    "indB2K = iB[argmin(a)];\n",
    "println(a)\n",
    "println(\"The exiting variable has index of \",indB2K)"
   ]
  },
  {
   "cell_type": "code",
   "execution_count": 13,
   "id": "907a9714",
   "metadata": {},
   "outputs": [
    {
     "name": "stdout",
     "output_type": "stream",
     "text": [
      "List of indices for the basic variables:\n",
      "[1, 4, 5, 6]\n",
      "List of indices for the non-basic variables:\n",
      "[3, 2]\n",
      "The updated B matrix is:\n",
      "[-1 0 0 0; -1 1 0 0; 1 0 -1 0; 0 0 0 1]\n",
      "The updated K matrix is:\n",
      "[1 1; 0 2; 0 0; 0 1]\n",
      "The updated coefficient vector for the objective function, cB, is:\n",
      "[-3, 0, 0, 0]\n",
      "The updated coefficient vector for the objective function, cK, is:\n",
      "[0, 4]\n",
      "The updated solution for the basic variable, xB is:\n",
      "[0.0, 2.0, -1.0, 3.0]\n",
      "The updated solution for the non-basic variable, xK is:\n",
      "[0, 0]\n",
      "The updated objective function value, z, is:\n",
      "0.0\n"
     ]
    }
   ],
   "source": [
    "iB[argmin(ifelse.(a.<0,Inf,a))] = indK2B;\n",
    "iK[argmin(cc)[2]] = indB2K;\n",
    "println(\"List of indices for the basic variables:\\n\",iB)\n",
    "println(\"List of indices for the non-basic variables:\\n\",iK)\n",
    "\n",
    "B = A[:,iB];\n",
    "K = A[:,iK];\n",
    "\n",
    "cB = c[iB];\n",
    "cK = c[iK];\n",
    "\n",
    "println(\"The updated B matrix is:\\n\",B)\n",
    "println(\"The updated K matrix is:\\n\",K)\n",
    "println(\"The updated coefficient vector for the objective function, cB, is:\\n\",cB)\n",
    "println(\"The updated coefficient vector for the objective function, cK, is:\\n\",cK)\n",
    "\n",
    "xB = inv(B)*b;\n",
    "xK = [0;0];\n",
    "\n",
    "println(\"The updated solution for the basic variable, xB is:\\n\",xB)\n",
    "println(\"The updated solution for the non-basic variable, xK is:\\n\",xK)\n",
    "println(\"The updated objective function value, z, is:\\n\",[cB; cK]'*[xB;xK])"
   ]
  },
  {
   "cell_type": "code",
   "execution_count": 14,
   "id": "743f4d0c",
   "metadata": {},
   "outputs": [
    {
     "name": "stdout",
     "output_type": "stream",
     "text": [
      "[-3.0 1.0]\n",
      "The entering variable has index of 3\n",
      "[-0.0, -2.0, 1.0, Inf]\n",
      "The exiting variable has index of 1\n"
     ]
    }
   ],
   "source": [
    "cc = (cK'.-cB'*inv(B)*K);\n",
    "indK2B = iK[argmin(cc)[2]];\n",
    "\n",
    "println(cc)\n",
    "println(\"The entering variable has index of \",indK2B)\n",
    "\n",
    "y = inv(B)*A;\n",
    "a = inv(B)*b./y[:,indK2B];\n",
    "indB2K = iB[argmin(ifelse.(a.<0,Inf,a))];\n",
    "\n",
    "println(a)\n",
    "println(\"The exiting variable has index of \",indB2K)"
   ]
  },
  {
   "cell_type": "code",
   "execution_count": 15,
   "id": "75d315f7",
   "metadata": {},
   "outputs": [
    {
     "name": "stdout",
     "output_type": "stream",
     "text": [
      "List of indices for the basic variables: [3, 4, 5, 6]\n",
      "List of indices for the non-basic variables: [1, 2]\n",
      "The updated B matrix is: \n",
      "[1 0 0 0; 0 1 0 0; 0 0 -1 0; 0 0 0 1]\n",
      "The updated K matrix is: \n",
      "[-1 1; -1 2; 1 0; 0 1]\n",
      "The updated coefficient vector for the objective function, cB, is: \n",
      "[0, 0, 0, 0]\n",
      "The updated coefficient vector for the objective function, cK, is: \n",
      "[-3, 4]\n",
      "xB equals: [0.0, 2.0, -1.0, 3.0]\n",
      "xK equals: [0, 0]\n",
      "The objective function value, z, is: 0.0\n"
     ]
    }
   ],
   "source": [
    "# Update indices\n",
    "iB[argmin(ifelse.(a.<0,Inf,a))] = indK2B;\n",
    "iK[argmin(cc)[2]] = indB2K;\n",
    "println(\"List of indices for the basic variables: \",iB)\n",
    "println(\"List of indices for the non-basic variables: \",iK)\n",
    "\n",
    "B = A[:,iB];\n",
    "K = A[:,iK];\n",
    "\n",
    "cB = c[iB];\n",
    "cK = c[iK];\n",
    "\n",
    "println(\"The updated B matrix is: \\n\",B)\n",
    "println(\"The updated K matrix is: \\n\",K)\n",
    "println(\"The updated coefficient vector for the objective function, cB, is: \\n\",cB)\n",
    "println(\"The updated coefficient vector for the objective function, cK, is: \\n\",cK)\n",
    "\n",
    "xB = inv(B)*b;\n",
    "xK = [0;0];\n",
    "\n",
    "println(\"xB equals: \",xB)\n",
    "println(\"xK equals: \",xK)\n",
    "println(\"The objective function value, z, is: \",[cB; cK]'*[xB;xK])"
   ]
  },
  {
   "attachments": {},
   "cell_type": "markdown",
   "metadata": {},
   "source": [
    "#### Attempt 2 - Simplex"
   ]
  },
  {
   "cell_type": "code",
   "execution_count": 16,
   "id": "68469ec2-9066-43b2-b20c-c235464d1fd6",
   "metadata": {},
   "outputs": [
    {
     "data": {
      "text/plain": [
       "Main.SimplexMethod"
      ]
     },
     "execution_count": 16,
     "metadata": {},
     "output_type": "execute_result"
    }
   ],
   "source": [
    "# Create a module to solve it \n",
    "module SimplexMethod\n",
    "    using LinearAlgebra, Combinatorics, Printf\n",
    "    export simplex_method\n",
    "\n",
    "    # There are five fields in this data type. \n",
    "    mutable struct SimplexTableau\n",
    "    z_c     ::Array{Float64} # z_j - c_j\n",
    "    Y       ::Array{Float64} # inv(B) * A\n",
    "    x_B     ::Array{Float64} # inv(B) * b\n",
    "    obj     ::Float64        # c_B * x_B\n",
    "    b_idx   ::Array{Int64}   # indices for basic variables x_B\n",
    "    end\n",
    "  \n",
    "    # we define some functions \n",
    "    function is_nonnegative(x::Vector)\n",
    "        return length( x[ x .< 0] ) == 0\n",
    "    end\n",
    "\n",
    "    function is_nonpositive(z::Array)\n",
    "        return length( z[ z .> 0] ) == 0\n",
    "    end\n",
    "\n",
    "    function initial_BFS(A, b)\n",
    "        m, n = size(A)\n",
    "\n",
    "        comb = collect(combinations(1:n, m))\n",
    "        for i in length(comb):-1:1\n",
    "          b_idx = comb[i]\n",
    "          B = A[:, b_idx]\n",
    "          x_B = inv(B) * b\n",
    "          if is_nonnegative(x_B)\n",
    "            return b_idx, x_B, B\n",
    "          end\n",
    "        end\n",
    "\n",
    "        error(\"Infeasible\")\n",
    "      end\n",
    "\n",
    "      function print_tableau(t::SimplexTableau)\n",
    "        m, n = size(t.Y)\n",
    "\n",
    "        hline0 = repeat(\"-\", 6)\n",
    "        hline1 = repeat(\"-\", 7*n)\n",
    "        hline2 = repeat(\"-\", 7)\n",
    "        hline = join([hline0, \"+\", hline1, \"+\", hline2])\n",
    "\n",
    "        println(hline)\n",
    "\n",
    "        @printf(\"%6s|\", \"\")\n",
    "        for j in 1:length(t.z_c)\n",
    "          @printf(\"%6.2f \", t.z_c[j])\n",
    "        end\n",
    "        @printf(\"| %6.2f\\n\", t.obj)\n",
    "\n",
    "        println(hline)\n",
    "\n",
    "        for i in 1:m\n",
    "          @printf(\"x[%2d] |\", t.b_idx[i])\n",
    "          for j in 1:n\n",
    "            @printf(\"%6.2f \", t.Y[i,j])\n",
    "          end\n",
    "          @printf(\"| %6.2f\\n\", t.x_B[i])\n",
    "        end\n",
    "\n",
    "        println(hline)\n",
    "      end\n",
    "\n",
    "      function pivoting!(t::SimplexTableau)\n",
    "        m, n = size(t.Y)\n",
    "\n",
    "        entering, exiting = pivot_point(t)\n",
    "        println(\"Pivoting: entering = x_$entering, exiting = x_$(t.b_idx[exiting])\")\n",
    "\n",
    "    \n",
    "    \n",
    "        # Pivoting: exiting-row, entering-column\n",
    "        # updating exiting-row\n",
    "        coef = t.Y[exiting, entering]\n",
    "        t.Y[exiting, :] /= coef\n",
    "        t.x_B[exiting] /= coef\n",
    "\n",
    "        # updating other rows of Y\n",
    "        for i in setdiff(1:m, exiting)\n",
    "          coef = t.Y[i, entering]\n",
    "          t.Y[i, :] -= coef * t.Y[exiting, :]\n",
    "          t.x_B[i] -= coef * t.x_B[exiting]\n",
    "        end\n",
    "\n",
    "        # updating the row for the reduced costs\n",
    "        coef = t.z_c[entering]\n",
    "        t.z_c -= coef * t.Y[exiting, :]'\n",
    "        t.obj -= coef * t.x_B[exiting]\n",
    "    \n",
    "        # Updating b_idx\n",
    "        t.b_idx[ findfirst(t.b_idx .== t.b_idx[exiting]) ] = entering\n",
    "      end\n",
    "    \n",
    "      function pivot_point(t::SimplexTableau)\n",
    "        # Finding the entering variable index\n",
    "        entering = findfirst( t.z_c .> 0)[2]\n",
    "        if entering == 0\n",
    "          error(\"Optimal\")\n",
    "        end\n",
    "\n",
    "        # min ratio test / finding the exiting variable index\n",
    "        pos_idx = findall( t.Y[:, entering] .> 0 )\n",
    "        if length(pos_idx) == 0\n",
    "          error(\"Unbounded\")\n",
    "        end\n",
    "        exiting = pos_idx[ argmin( t.x_B[pos_idx] ./ t.Y[pos_idx, entering] ) ]\n",
    "\n",
    "        return entering, exiting\n",
    "      end\n",
    "\n",
    "      function initialize(c, A, b)\n",
    "        c = Array{Float64}(c)\n",
    "        A = Array{Float64}(A)\n",
    "        b = Array{Float64}(b)\n",
    "\n",
    "        m, n = size(A)\n",
    "\n",
    "        # Finding an initial BFS\n",
    "        b_idx, x_B, B = initial_BFS(A,b)\n",
    "\n",
    "        Y = inv(B) * A\n",
    "        c_B = c[b_idx]\n",
    "        obj = dot(c_B, x_B)\n",
    "\n",
    "        # z_c is a row vector\n",
    "        z_c = zeros(1,n)\n",
    "        n_idx = setdiff(1:n, b_idx)\n",
    "        z_c[n_idx] = c_B' * inv(B) * A[:,n_idx] - c[n_idx]'\n",
    "\n",
    "        return SimplexTableau(z_c, Y, x_B, obj, b_idx)\n",
    "      end\n",
    "\n",
    "      function is_optimal(t::SimplexTableau)\n",
    "        return is_nonpositive(t.z_c)\n",
    "      end\n",
    "\n",
    "      function simplex_method(c, A, b)\n",
    "        tableau = initialize(c, A, b)\n",
    "        print_tableau(tableau)\n",
    "\n",
    "        while !is_optimal(tableau)\n",
    "          pivoting!(tableau)\n",
    "          print_tableau(tableau)\n",
    "        end\n",
    "\n",
    "        opt_x = zeros(length(c))\n",
    "        opt_x[tableau.b_idx] = tableau.x_B\n",
    "\n",
    "        return opt_x, tableau.obj\n",
    "      end\n",
    "\n",
    "    end"
   ]
  },
  {
   "cell_type": "code",
   "execution_count": 17,
   "id": "da8dcffb-6f9f-4321-a9f7-9e86b7cd50b3",
   "metadata": {},
   "outputs": [
    {
     "name": "stdout",
     "output_type": "stream",
     "text": [
      "------+------------------------------------------+-------\n",
      "      | -3.00   4.00   0.00   0.00   0.00   0.00 |   0.00\n",
      "------+------------------------------------------+-------\n",
      "x[ 3] | -1.00   1.00   1.00   0.00   0.00   0.00 |   0.00\n",
      "x[ 4] | -1.00   2.00   0.00   1.00   0.00   0.00 |   2.00\n",
      "x[ 5] | -1.00   0.00   0.00   0.00   1.00   0.00 |   1.00\n",
      "x[ 6] |  0.00   1.00   0.00   0.00   0.00   1.00 |   3.00\n",
      "------+------------------------------------------+-------\n",
      "Pivoting: entering = x_2, exiting = x_3\n",
      "------+------------------------------------------+-------\n",
      "      |  1.00   0.00  -4.00   0.00   0.00   0.00 |   0.00\n",
      "------+------------------------------------------+-------\n",
      "x[ 2] | -1.00   1.00   1.00   0.00   0.00   0.00 |   0.00\n",
      "x[ 4] |  1.00   0.00  -2.00   1.00   0.00   0.00 |   2.00\n",
      "x[ 5] | -1.00   0.00   0.00   0.00   1.00   0.00 |   1.00\n",
      "x[ 6] |  1.00   0.00  -1.00   0.00   0.00   1.00 |   3.00\n",
      "------+------------------------------------------+-------\n",
      "Pivoting: entering = x_1, exiting = x_4\n",
      "------+------------------------------------------+-------\n",
      "      |  0.00   0.00  -2.00  -1.00   0.00   0.00 |  -2.00\n",
      "------+------------------------------------------+-------\n",
      "x[ 2] |  0.00   1.00  -1.00   1.00   0.00   0.00 |   2.00\n",
      "x[ 1] |  1.00   0.00  -2.00   1.00   0.00   0.00 |   2.00\n",
      "x[ 5] |  0.00   0.00  -2.00   1.00   1.00   0.00 |   3.00\n",
      "x[ 6] |  0.00   0.00   1.00  -1.00   0.00   1.00 |   1.00\n",
      "------+------------------------------------------+-------\n"
     ]
    },
    {
     "data": {
      "text/plain": [
       "([2.0, 2.0, 0.0, 0.0, 3.0, 1.0], -2.0)"
      ]
     },
     "execution_count": 17,
     "metadata": {},
     "output_type": "execute_result"
    }
   ],
   "source": [
    "c = [3; -4; 0; 0; 0; 0]\n",
    "A = [-1 1 1 0 0 0;\n",
    "     -1 2 0 1 0 0;\n",
    "     -1 0 0 0 1 0\n",
    "     0  1 0 0 0 1]\n",
    "b = [0; 2; 1; 3]\n",
    "\n",
    "using Main.SimplexMethod\n",
    "simplex_method(c, A, b)\n",
    "\n"
   ]
  },
  {
   "cell_type": "code",
   "execution_count": 18,
   "id": "a37187f3-527b-46cb-9c96-42a9a3af2c0b",
   "metadata": {},
   "outputs": [
    {
     "ename": "LoadError",
     "evalue": "SingularException(4)",
     "output_type": "error",
     "traceback": [
      "SingularException(4)",
      "",
      "Stacktrace:",
      "  [1] checknonsingular",
      "    @ /Applications/Julia-1.8.app/Contents/Resources/julia/share/julia/stdlib/v1.8/LinearAlgebra/src/factorization.jl:19 [inlined]",
      "  [2] checknonsingular",
      "    @ /Applications/Julia-1.8.app/Contents/Resources/julia/share/julia/stdlib/v1.8/LinearAlgebra/src/factorization.jl:21 [inlined]",
      "  [3] #lu!#170",
      "    @ /Applications/Julia-1.8.app/Contents/Resources/julia/share/julia/stdlib/v1.8/LinearAlgebra/src/lu.jl:82 [inlined]",
      "  [4] #lu#177",
      "    @ /Applications/Julia-1.8.app/Contents/Resources/julia/share/julia/stdlib/v1.8/LinearAlgebra/src/lu.jl:279 [inlined]",
      "  [5] lu (repeats 2 times)",
      "    @ /Applications/Julia-1.8.app/Contents/Resources/julia/share/julia/stdlib/v1.8/LinearAlgebra/src/lu.jl:278 [inlined]",
      "  [6] inv(A::Matrix{Float64})",
      "    @ LinearAlgebra /Applications/Julia-1.8.app/Contents/Resources/julia/share/julia/stdlib/v1.8/LinearAlgebra/src/dense.jl:893",
      "  [7] initial_BFS(A::Matrix{Float64}, b::Vector{Float64})",
      "    @ Main.SimplexMethod ./In[16]:31",
      "  [8] initialize(c::Vector{Int64}, A::Matrix{Int64}, b::Vector{Int64})",
      "    @ Main.SimplexMethod ./In[16]:124",
      "  [9] simplex_method(c::Vector{Int64}, A::Matrix{Int64}, b::Vector{Int64})",
      "    @ Main.SimplexMethod ./In[16]:143",
      " [10] top-level scope",
      "    @ In[18]:8"
     ]
    }
   ],
   "source": [
    "c = [-3; 4; 0; 0; 0; 0]\n",
    "A = [-1 1 1 0  0 0;\n",
    "     -1 2 0 1  0 0;\n",
    "      1 0 0 0 -1 0; \n",
    "      0 1 0 0  0 1]\n",
    "b = [0; 2; 1; 3]\n",
    "using Main.SimplexMethod\n",
    "simplex_method(c, A, b)\n",
    "A = [-1 1 1 0  0 0;\n",
    "     -1 2 0 1  0 0;\n",
    "      1 0 0 0 -1 0; \n",
    "      0 1 0 0  0 1]"
   ]
  },
  {
   "cell_type": "markdown",
   "id": "50a4491b",
   "metadata": {},
   "source": [
    "### D. Solve the problem using the LP solver from Julia. Verify that the solution coincide with the solution in items B and C."
   ]
  },
  {
   "cell_type": "code",
   "execution_count": null,
   "id": "969dc2c6",
   "metadata": {},
   "outputs": [
    {
     "data": {
      "text/latex": [
       "$$ \\begin{aligned}\n",
       "\\max\\quad & -3 x1 + 4 x2\\\\\n",
       "\\text{Subject to} \\quad & x1 \\geq 1.0\\\\\n",
       " & -x1 + x2 \\leq 0.0\\\\\n",
       " & -x1 + 2 x2 \\leq 2.0\\\\\n",
       " & x2 \\leq 3.0\\\\\n",
       " & x1 \\geq 0.0\\\\\n",
       " & x2 \\geq 0.0\\\\\n",
       "\\end{aligned} $$"
      ]
     },
     "metadata": {},
     "output_type": "display_data"
    }
   ],
   "source": [
    "m = Model(GLPK.Optimizer)\n",
    "\n",
    "@variable(m, x1 >= 0)\n",
    "@variable(m, x2 >= 0)\n",
    "\n",
    "@constraint(m, constraint_1, -x1 + x2 <= 0)\n",
    "@constraint(m, constraint_2, -x1 + 2x2 <= 2)\n",
    "@constraint(m, constraint_3, x1 >= 1)\n",
    "@constraint(m, constraint_4, x2 <=3)\n",
    "\n",
    "@objective(m, Max, -3x1 + 4x2)\n",
    "\n",
    "print(m)"
   ]
  },
  {
   "cell_type": "code",
   "execution_count": null,
   "id": "07a51765",
   "metadata": {
    "scrolled": true
   },
   "outputs": [
    {
     "name": "stdout",
     "output_type": "stream",
     "text": [
      "Objective value: 2.0\n",
      "x1 = 2.0\n",
      "x2 = 2.0\n"
     ]
    }
   ],
   "source": [
    "JuMP.optimize!(m)\n",
    "\n",
    "\n",
    "println(\"Objective value: \", JuMP.objective_value(m))\n",
    "\n",
    "\n",
    "println(\"x1 = \", JuMP.value(x1))  \n",
    "println(\"x2 = \", JuMP.value(x2)) "
   ]
  },
  {
   "attachments": {},
   "cell_type": "markdown",
   "metadata": {},
   "source": [
    "This solution does match what we discovered by looking at the table of all possible basic solutions and also matches the graphical interpretation. Despite our best efforts, we had trouble getting the simplex step by step code to work."
   ]
  },
  {
   "attachments": {},
   "cell_type": "markdown",
   "metadata": {},
   "source": [
    "## Q3. Sudoku Problem \n",
    "\n",
    "Solve a Sudoku puzzle using integer programming."
   ]
  },
  {
   "attachments": {},
   "cell_type": "markdown",
   "metadata": {},
   "source": [
    "In Sudoku, a 9 x grid is presented with some grids filled in, and others left blank."
   ]
  },
  {
   "cell_type": "code",
   "execution_count": null,
   "metadata": {},
   "outputs": [
    {
     "data": {
      "text/plain": [
       "9×9 Matrix{Int64}:\n",
       " 3  1  0  0  5  8  0  0  4\n",
       " 0  0  9  3  2  0  0  0  0\n",
       " 0  2  5  1  0  4  0  9  0\n",
       " 0  0  0  0  0  0  3  8  9\n",
       " 0  0  8  0  0  0  5  0  0\n",
       " 5  4  6  0  0  0  0  0  0\n",
       " 0  8  0  2  0  3  6  5  0\n",
       " 0  0  0  0  7  1  4  0  0\n",
       " 7  0  0  4  8  0  0  2  1"
      ]
     },
     "metadata": {},
     "output_type": "display_data"
    }
   ],
   "source": [
    "using CSV\n",
    "using DataFrames\n",
    "\n",
    "T = CSV.read(\"/Users/benjaminossyra/Desktop/Optimization/sudoku.csv\", DataFrame; delim = ',', header=false)\n",
    "T = Matrix(T)"
   ]
  },
  {
   "cell_type": "markdown",
   "metadata": {},
   "source": [
    "### Variables\n",
    "\n",
    "We encode our digit into a vector of size 9, of which the components take on the value of 0 or 1. \n",
    "\n",
    "Let $k$ represent an index for the digit value.\n",
    "\n",
    "$$\n",
    "Let k = 1 = $[1 0 0 0 0 0 0 0 0 ]\n",
    "Let k = 2 = $[0 1 0 0 0 0 0 0 0 ]\n",
    "...\n",
    "$$\n",
    "\n",
    "We need to represent a number on a sudoki grid. We will repesent digit at a position as a 9x9x9 matrix, indexed by row, cell, and digit, valued at 0 or 1 for whther there is a number at that position. There are a 729 variables because 9x9x9.\n",
    "\n",
    "$ x[i,j,k] = 1 $\n",
    "\n",
    "Example:\n",
    "\n",
    "$ x[7,4,6] = 1 $ represents number 6 in row 7 column 4.\n",
    "\n",
    "### Objective\n",
    "\n",
    "We have to make a decision on whether to put 6 on that position. There is only one unique solution in Sudoku, so we only need to identify the solution rather than maximize or minimize an objective function. Objective function is determining existence. \n",
    "\n",
    "### Constraints\n",
    "\n",
    "There are several constraints:\n",
    "* Digits across rows must be unique.\n",
    "* Digits across columns must be unique.\n",
    "* Digits within 9 3x3 grids must be unique.\n",
    "* The initial value of the puzzle.\n",
    "* Only one digit can exist at a grid position at a time.\n",
    "\n",
    "To ensure only one digit exists  to make sure digit is used only once?\n",
    "\n",
    "$ x[1,1,1] + x[1,2,1] + ... + x[1,9,1] = 1 $\n",
    "$ x[1,1,2] + x[1,2,2] + ... + x[1,9,2] = 1 $\n",
    "\n",
    "This works bc value can either be 1 or 0, and if digit can only appear once, then the sum is 1.\n",
    "\n",
    "Repeat for columns:\n",
    "\n",
    "$ x[1,1,1] + x[2,1,1] + ... + x[9,1,1] = 1 $\n",
    "$ x[1,1,2] + x[2,1,2] + ... + x[9,1,2] = 1 $\n",
    "\n",
    "Guarantees that #1 appears only once in the column; that #2 appears only once in the column. Repeat similar process for making sure only digit is selected at a grid position. "
   ]
  },
  {
   "attachments": {},
   "cell_type": "markdown",
   "metadata": {},
   "source": [
    "Create solution framework - define constraints, variables, objective. Then have Julia solve."
   ]
  },
  {
   "cell_type": "code",
   "execution_count": null,
   "metadata": {},
   "outputs": [],
   "source": [
    "using JuMP, GLPK\n",
    "\n",
    "m = Model(GLPK.Optimizer)\n",
    "\n",
    "#Define Variables\n",
    "\n",
    "@variable(m, x[1:9, 1:9, 1:9], Bin)\n",
    "\n",
    "#Define Constraints\n",
    "for i =1:9\n",
    "    for j = 1:9\n",
    "        @constraint(m, sum(x[i,j,:])==1)\n",
    "    end    \n",
    "end\n",
    "\n",
    "for i =1:9\n",
    "    for k = 1:9\n",
    "        @constraint(m, sum(x[i,:,k])==1)\n",
    "    end    \n",
    "end\n",
    "\n",
    "for j =1:9\n",
    "    for k = 1:9\n",
    "        @constraint(m, sum(x[:,j,k])==1)\n",
    "    end    \n",
    "end\n",
    "\n",
    "#each subgrid contains the digits 1 to 9\n",
    "for i = 1:3:7\n",
    "    for j = 1:3:7\n",
    "        for k =1:9\n",
    "            @constraint(m, sum(x[i:i + 2, j:j + 2, k]) == 1)\n",
    "        end\n",
    "    end\n",
    "end\n",
    "\n",
    "for i =1:9\n",
    "    for j = 1:9\n",
    "        if T[i,j]!=0\n",
    "            @constraint(m, x[i,j,T[i,j]]==1)\n",
    "        end\n",
    "    end\n",
    "end\n",
    "\n",
    "\n",
    "#Declare Objective\n",
    "\n",
    "@objective(m, Min, sum(x[i,j,k] for i=1:9, j=1:9, k=1:9))\n",
    "\n",
    "JuMP.optimize!(m)\n"
   ]
  },
  {
   "attachments": {},
   "cell_type": "markdown",
   "metadata": {},
   "source": [
    "Create solution matrix"
   ]
  },
  {
   "cell_type": "code",
   "execution_count": null,
   "metadata": {},
   "outputs": [
    {
     "data": {
      "text/plain": [
       "9×9 Matrix{Float64}:\n",
       " 3.0  1.0  7.0  9.0  5.0  8.0  2.0  6.0  4.0\n",
       " 4.0  6.0  9.0  3.0  2.0  7.0  8.0  1.0  5.0\n",
       " 8.0  2.0  5.0  1.0  6.0  4.0  7.0  9.0  3.0\n",
       " 2.0  7.0  1.0  6.0  4.0  5.0  3.0  8.0  9.0\n",
       " 9.0  3.0  8.0  7.0  1.0  2.0  5.0  4.0  6.0\n",
       " 5.0  4.0  6.0  8.0  3.0  9.0  1.0  7.0  2.0\n",
       " 1.0  8.0  4.0  2.0  9.0  3.0  6.0  5.0  7.0\n",
       " 6.0  9.0  2.0  5.0  7.0  1.0  4.0  3.0  8.0\n",
       " 7.0  5.0  3.0  4.0  8.0  6.0  9.0  2.0  1.0"
      ]
     },
     "metadata": {},
     "output_type": "display_data"
    }
   ],
   "source": [
    "solMat = JuMP.value.(x)\n",
    "\n",
    "optsol = zeros(9,9)\n",
    "\n",
    "for i = 1:9\n",
    "    for j=1:9\n",
    "        optsol[i,j] = argmax(solMat[i,j,:])\n",
    "    end\n",
    "end\n",
    "optsol"
   ]
  },
  {
   "cell_type": "markdown",
   "metadata": {},
   "source": [
    "Solution matrix is above"
   ]
  }
 ],
 "metadata": {
  "kernelspec": {
   "display_name": "Julia 1.8.4",
   "language": "julia",
   "name": "julia-1.8"
  },
  "language_info": {
   "file_extension": ".jl",
   "mimetype": "application/julia",
   "name": "julia",
   "version": "1.8.4"
  },
  "orig_nbformat": 4
 },
 "nbformat": 4,
 "nbformat_minor": 2
}

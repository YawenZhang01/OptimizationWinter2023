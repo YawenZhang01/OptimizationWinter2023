{
 "cells": [
  {
   "cell_type": "markdown",
   "id": "e294ac1a",
   "metadata": {},
   "source": [
    "## Transpo got problems\n",
    "\n",
    "There are three factories and their existing supply of a good. \n",
    "\n",
    "$ S = \\begin{bmatrix}\n",
    "2800\\\\\n",
    "5200\\\\\n",
    "5800\n",
    "\\end{bmatrix} $\n",
    "\n",
    "There are seven retailers and their demand for the same good.\n",
    "\n",
    "$ R = \\begin{bmatrix}\n",
    "1800\\\\\n",
    "2400\\\\\n",
    "1200\\\\\n",
    "800\\\\\n",
    "3400\\\\\n",
    "2200\\\\\n",
    "2000\n",
    "\\end{bmatrix} $\n",
    "\n",
    "The matrix $C$ below summarizes the transportaiton cost (per unit) of the good from each factory to ech retailer.\n",
    " \n",
    "$ C = \\begin{bmatrix}\n",
    "78 & 28 & 22 & 28 & 32 & 164 & 16\\\\\n",
    "54 & 0 & 24 & 0 & 52 & 190 & 34\\\\\n",
    "48 & 28 & 34 & 26 & 56 & 198 & 40\n",
    "\\end{bmatrix} $\n",
    "\n",
    "Let $X$ be a $ 3 \\times 7 $ matrix where $x_{ij}$ is the quantity transported from Supplier $i$ to Retailer $j$. \n",
    "\n",
    "Constraints:\n",
    "\n",
    "Two routes are not available and shown missing transportaiton costs. They are marked as 0 in the matrix.\n",
    "\n",
    "$x_{B2} = 0, x_{B4} = 0 $\n",
    "\n",
    "The objective is to distribute the good from the suppliers to the retailers at the minimal possible cost. \n",
    "\n",
    "$ \\min \\sum \\sum x_{s,r} C_{s,r} $\n",
    "\n",
    "\n",
    "The demand of each retailer must be met.\n"
   ]
  },
  {
   "cell_type": "code",
   "execution_count": 11,
   "id": "22c8983e",
   "metadata": {},
   "outputs": [
    {
     "name": "stdout",
     "output_type": "stream",
     "text": [
      "Min 78 x[1,1] + 28 x[1,2] + 22 x[1,3] + 28 x[1,4] + 32 x[1,5] + 164 x[1,6] + 16 x[1,7] + 54 x[2,1] + 24 x[2,3] + 52 x[2,5] + 190 x[2,6] + 34 x[2,7] + 48 x[3,1] + 28 x[3,2] + 34 x[3,3] + 26 x[3,4] + 56 x[3,5] + 198 x[3,6] + 40 x[3,7]\n",
      "Subject to\n",
      " x[2,2] = 0.0\n",
      " x[2,4] = 0.0\n",
      " x[1,1] + x[2,1] + x[3,1] = 1800.0\n",
      " x[1,2] + x[2,2] + x[3,2] = 2400.0\n",
      " x[1,3] + x[2,3] + x[3,3] = 1200.0\n",
      " x[1,4] + x[2,4] + x[3,4] = 800.0\n",
      " x[1,5] + x[2,5] + x[3,5] = 3400.0\n",
      " x[1,6] + x[2,6] + x[3,6] = 2200.0\n",
      " x[1,7] + x[2,7] + x[3,7] = 2000.0\n",
      " x[1,1] + x[1,2] + x[1,3] + x[1,4] + x[1,5] + x[1,6] + x[1,7] = 2800.0\n",
      " x[2,1] + x[2,2] + x[2,3] + x[2,4] + x[2,5] + x[2,6] + x[2,7] = 5200.0\n",
      " x[3,1] + x[3,2] + x[3,3] + x[3,4] + x[3,5] + x[3,6] + x[3,7] = 5800.0\n",
      " x[1,1] ≥ 0.0\n",
      " x[2,1] ≥ 0.0\n",
      " x[3,1] ≥ 0.0\n",
      " x[1,2] ≥ 0.0\n",
      " x[2,2] ≥ 0.0\n",
      " x[3,2] ≥ 0.0\n",
      " x[1,3] ≥ 0.0\n",
      " x[2,3] ≥ 0.0\n",
      " x[3,3] ≥ 0.0\n",
      " x[1,4] ≥ 0.0\n",
      " x[2,4] ≥ 0.0\n",
      " x[3,4] ≥ 0.0\n",
      " x[1,5] ≥ 0.0\n",
      " x[2,5] ≥ 0.0\n",
      " x[3,5] ≥ 0.0\n",
      " x[1,6] ≥ 0.0\n",
      " x[2,6] ≥ 0.0\n",
      " x[3,6] ≥ 0.0\n",
      " x[1,7] ≥ 0.0\n",
      " x[2,7] ≥ 0.0\n",
      " x[3,7] ≥ 0.0\n",
      "  0.001114 seconds (300 allocations: 25.875 KiB)\n"
     ]
    }
   ],
   "source": [
    "using JuMP, GLPK\n",
    "\n",
    "# Supplier inventory\n",
    "S = [\n",
    "    2800\n",
    "    5200\n",
    "    5800\n",
    "]\n",
    "\n",
    "# Retailer demand\n",
    "R = [\n",
    "    1800\n",
    "    2400\n",
    "    1200\n",
    "    800\n",
    "    3400\n",
    "    2200\n",
    "    2000\n",
    "]\n",
    "\n",
    "# Cost of transportation\n",
    "C = [\n",
    "    78  28  22  28  32  164 16;\n",
    "    54  0   24  0   52  190 34;\n",
    "    48  28  34  26  56  198 40;\n",
    "]\n",
    "\n",
    "n_retailers = length(R)\n",
    "n_suppliers = length(S)\n",
    "\n",
    "# Specify model\n",
    "m = Model(GLPK.Optimizer)\n",
    "\n",
    "# Define variables\n",
    "@variable(m, x[1:n_suppliers,1:n_retailers] >= 0)\n",
    "\n",
    "# Define objective\n",
    "@objective(m, Min,\n",
    "    sum(x[s,r]*C[s,r]\n",
    "        for s=1:n_suppliers,\n",
    "            r=1:n_retailers))\n",
    "\n",
    "# Define constraint: two routes are not available\n",
    "@constraint(m, x[2,2] == 0)\n",
    "@constraint(m, x[2,4] == 0)\n",
    "\n",
    "# Define constraint: Retailer demand is met\n",
    "for r=1:n_retailers\n",
    "    @constraint(m, sum(x[s,r] for s=1:n_suppliers) == R[r])\n",
    "end\n",
    "\n",
    "# Define constraint: Suppliers aren't overdrawn\n",
    "for s=1:n_suppliers\n",
    "    @constraint(m, sum(x[s,r] for r=1:n_retailers) == S[s])\n",
    "end\n",
    "\n",
    "# Print model\n",
    "print(m)\n",
    "\n",
    "# Set forth and optimize\n",
    "@time begin\n",
    "    status = optimize!(m)\n",
    "end"
   ]
  },
  {
   "cell_type": "code",
   "execution_count": 13,
   "id": "8f1cb0db",
   "metadata": {},
   "outputs": [
    {
     "name": "stdout",
     "output_type": "stream",
     "text": [
      "Objective value: 800000.0\n"
     ]
    }
   ],
   "source": [
    "obj = JuMP.objective_value(m)\n",
    "x_star = JuMP.value.(x)\n",
    "\n",
    "println(\"Objective value: \", obj)"
   ]
  },
  {
   "cell_type": "markdown",
   "id": "8ef3c1ad",
   "metadata": {},
   "source": [
    "The minimal cost is $800,000."
   ]
  },
  {
   "cell_type": "code",
   "execution_count": 12,
   "id": "88c9aaa4",
   "metadata": {},
   "outputs": [
    {
     "name": "stdout",
     "output_type": "stream",
     "text": [
      "Objective value: 800000.0\n",
      "Supplier A => Retailer 1: 0.0\n",
      "Supplier A => Retailer 2: 0.0\n",
      "Supplier A => Retailer 3: 0.0\n",
      "Supplier A => Retailer 4: 0.0\n",
      "Supplier A => Retailer 5: 600.0\n",
      "Supplier A => Retailer 6: 2200.0\n",
      "Supplier A => Retailer 7: 0.0\n",
      "Supplier B => Retailer 1: 0.0\n",
      "Supplier B => Retailer 2: 0.0\n",
      "Supplier B => Retailer 3: 1200.0\n",
      "Supplier B => Retailer 4: 0.0\n",
      "Supplier B => Retailer 5: 2000.0\n",
      "Supplier B => Retailer 6: 0.0\n",
      "Supplier B => Retailer 7: 2000.0\n",
      "Supplier C => Retailer 1: 1800.0\n",
      "Supplier C => Retailer 2: 2400.0\n",
      "Supplier C => Retailer 3: 0.0\n",
      "Supplier C => Retailer 4: 800.0\n",
      "Supplier C => Retailer 5: 800.0\n",
      "Supplier C => Retailer 6: 0.0\n",
      "Supplier C => Retailer 7: 0.0\n"
     ]
    }
   ],
   "source": [
    "obj = JuMP.objective_value(m)\n",
    "x_star = JuMP.value.(x)\n",
    "\n",
    "println(\"Objective value: \", obj)\n",
    "\n",
    "supplier_names = [\"A\", \"B\", \"C\"]\n",
    "for s=1:n_suppliers, r=1:n_retailers\n",
    "    s_name = supplier_names[s]\n",
    "    println(\"Supplier $s_name => Retailer $r: \", x_star[s, r])\n",
    "end"
   ]
  },
  {
   "cell_type": "markdown",
   "id": "0f06a57f",
   "metadata": {},
   "source": [
    "Below is a table showing the number of goods distributed from each supplier to each retailer. The supplier is indexed by row and the retailer is indexed by column."
   ]
  },
  {
   "cell_type": "code",
   "execution_count": 19,
   "id": "4976fdca",
   "metadata": {},
   "outputs": [
    {
     "data": {
      "text/plain": [
       "3×7 Matrix{Float64}:\n",
       "    0.0     0.0     0.0    0.0   600.0  2200.0     0.0\n",
       "    0.0     0.0  1200.0    0.0  2000.0     0.0  2000.0\n",
       " 1800.0  2400.0     0.0  800.0   800.0     0.0     0.0"
      ]
     },
     "metadata": {},
     "output_type": "display_data"
    }
   ],
   "source": [
    "x_star"
   ]
  },
  {
   "cell_type": "code",
   "execution_count": null,
   "id": "41e49946",
   "metadata": {},
   "outputs": [],
   "source": []
  }
 ],
 "metadata": {
  "kernelspec": {
   "display_name": "Julia 1.8.4",
   "language": "julia",
   "name": "julia-1.8"
  },
  "language_info": {
   "file_extension": ".jl",
   "mimetype": "application/julia",
   "name": "julia",
   "version": "1.8.4"
  }
 },
 "nbformat": 4,
 "nbformat_minor": 5
}

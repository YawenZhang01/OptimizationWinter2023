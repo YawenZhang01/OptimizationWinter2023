{
 "cells": [
  {
   "cell_type": "markdown",
   "id": "cca6ac7b",
   "metadata": {},
   "source": [
    "# Homework 06: Nonlinear Optimization/Traveling Salesman\n",
    "\n",
    "MSCA 32013 Optimization and Simulation Methods. University of Chicago.\n",
    "\n",
    "Group 7. Ben Ossyra, Peter Pezon. Yawen Zhang. "
   ]
  },
  {
   "cell_type": "markdown",
   "id": "bd7ee7d1",
   "metadata": {},
   "source": [
    "### Part 1 - 0\n",
    "Consider the following univariate function: $ 𝑓(𝑥)=3𝑥^2+4𝑥+1 $ . You are tasked with finding the minimum of the function  𝑓  in the interval  [−2,1] .\n",
    "\n",
    "* Determine the type of optimization problem\n",
    "* Explain why a minimum exists in this optimization problem. Looking for a concise and precise explanation, but no proof required\n",
    "* Characterize the local minimum assuming it is an interior point (i.e., first order necessary condition)\n",
    "* Based on the first order condition above, find the value of  𝑥  that minimizes  𝑓(𝑥)  using simple algebra\n",
    "* Evaluate  𝑓(𝑋)  at the optimal  𝑥 \n",
    "* Use Optim in Julia to find the minimum  𝑥 \n",
    "* Plot the function  𝑓(𝑥)  in the range  [−2,1] ."
   ]
  },
  {
   "cell_type": "code",
   "execution_count": 6,
   "id": "1b71de34",
   "metadata": {},
   "outputs": [
    {
     "data": {
      "image/png": "[encoded data removed]",
      "text/plain": [
       "Figure(PyObject <Figure size 640x480 with 1 Axes>)"
      ]
     },
     "metadata": {},
     "output_type": "display_data"
    }
   ],
   "source": [
    "using PyPlot\n",
    "\n",
    "x1 = collect(-2 : 0.01 : 1)\n",
    "f1 = 3 .* (x1.^2) + 4 .* x1 .+ 1\n",
    "\n",
    "fig, ax = subplots()\n",
    "\n",
    "ax.plot(x1,f1,color=\"blue\",linewidth=2,label=L\"f(x) = 3x^2 + 4x + 1\",alpha=0.4)\n",
    "ax.legend(loc=\"upper left\");\n",
    "ax.grid(\"on\");"
   ]
  },
  {
   "cell_type": "markdown",
   "id": "fe9cbddb",
   "metadata": {},
   "source": [
    "### Part 1 - 1\n",
    "\n",
    "Write a Julia code for 𝑓(𝑥) and 𝐷𝑓(𝑥). Run the Newthon-Raphson method and search for the solution. Prepare a table with values for 𝑥, 𝑓(𝑥), 𝐷𝑓<sup>-1</sup> (𝑥), and 𝑒𝑟𝑟 for each iteration. Explain what is happening during the iterations. Is the algorithm converging? Why or why not? Choose your initial values carefully.\n",
    "\n",
    "$$ 𝑓1(𝑥_{1},𝑥_{2},𝑥_{3})=𝑥_{1}+𝑥_{2}+𝑥_{3}^2−12 $$  \n",
    "$$ 𝑓2(𝑥_{1},𝑥_{2},𝑥_{3})=𝑥_{1}^2−𝑥_{2}+𝑥_{3}−2 $$  \n",
    "$$ 𝑓3(𝑥_{1},𝑥_{2},𝑥_{3})=2𝑥_{1}^2−𝑥_{2}^2+𝑥_{3}−1 $$    \n",
    "\n",
    "$\\frac{\\partial f_{1}(x_{n,1},x_{n,2},x_{n,3})}{\\partial x_{1}} = 1$  \t\n",
    "$\\frac{\\partial f_{1}(x_{n,1},x_{n,2},x_{n,3})}{\\partial x_{2}} = 1$  \n",
    "$\\frac{\\partial f_{1}(x_{n,1},x_{n,2},x_{n,3})}{\\partial x_{3}} = 2x_{3}$\t\n",
    "\n",
    "$\\frac{\\partial f_{2}(x_{n,1},x_{n,2},x_{n,3})}{\\partial x_{1}} = 2x_{1}$  \t\n",
    "$\\frac{\\partial f_{2}(x_{n,1},x_{n,2},x_{n,3})}{\\partial x_{2}} = -1$  \n",
    "$\\frac{\\partial f_{2}(x_{n,1},x_{n,2},x_{n,3})}{\\partial x_{3}} = 1$\t\n",
    "\n",
    "$\\frac{\\partial f_{3}(x_{n,1},x_{n,2},x_{n,3})}{\\partial x_{1}} = 4x_{1}$  \t\n",
    "$\\frac{\\partial f_{3}(x_{n,1},x_{n,2},x_{n,3})}{\\partial x_{2}} = -2x_{2}$  \n",
    "$\\frac{\\partial f_{3}(x_{n,1},x_{n,2},x_{n,3})}{\\partial x_{3}} = 1$\n",
    "\n"
   ]
  },
  {
   "cell_type": "code",
   "execution_count": 66,
   "id": "f1b71c94",
   "metadata": {
    "scrolled": true
   },
   "outputs": [
    {
     "data": {
      "text/html": [
       "<div><div style = \"float: left;\"><span>24×7 DataFrame</span></div><div style = \"clear: both;\"></div></div><div class = \"data-frame\" style = \"overflow-x: scroll;\"><table class = \"data-frame\" style = \"margin-bottom: 6px;\"><thead><tr class = \"header\"><th class = \"rowNumber\" style = \"font-weight: bold; text-align: right;\">Row</th><th style = \"text-align: left;\">k</th><th style = \"text-align: left;\">x</th><th style = \"text-align: left;\">f</th><th style = \"text-align: left;\">invDf1</th><th style = \"text-align: left;\">invDf2</th><th style = \"text-align: left;\">invDf3</th><th style = \"text-align: left;\">err</th></tr><tr class = \"subheader headerLastRow\"><th class = \"rowNumber\" style = \"font-weight: bold; text-align: right;\"></th><th title = \"Int64\" style = \"text-align: left;\">Int64</th><th title = \"Float64\" style = \"text-align: left;\">Float64</th><th title = \"Float64\" style = \"text-align: left;\">Float64</th><th title = \"Float64\" style = \"text-align: left;\">Float64</th><th title = \"Float64\" style = \"text-align: left;\">Float64</th><th title = \"Float64\" style = \"text-align: left;\">Float64</th><th title = \"Float64\" style = \"text-align: left;\">Float64</th></tr></thead><tbody><tr><td class = \"rowNumber\" style = \"font-weight: bold; text-align: right;\">1</td><td style = \"text-align: right;\">0</td><td style = \"text-align: right;\">1.0</td><td style = \"text-align: right;\">-9.0</td><td style = \"text-align: right;\">0.333333</td><td style = \"text-align: right;\">-1.66667</td><td style = \"text-align: right;\">1.0</td><td style = \"text-align: right;\">0.333333</td></tr><tr><td class = \"rowNumber\" style = \"font-weight: bold; text-align: right;\">2</td><td style = \"text-align: right;\">0</td><td style = \"text-align: right;\">1.0</td><td style = \"text-align: right;\">-1.0</td><td style = \"text-align: right;\">0.666667</td><td style = \"text-align: right;\">-2.33333</td><td style = \"text-align: right;\">1.0</td><td style = \"text-align: right;\">2.66667</td></tr><tr><td class = \"rowNumber\" style = \"font-weight: bold; text-align: right;\">3</td><td style = \"text-align: right;\">0</td><td style = \"text-align: right;\">1.0</td><td style = \"text-align: right;\">1.0</td><td style = \"text-align: right;\">0.0</td><td style = \"text-align: right;\">2.0</td><td style = \"text-align: right;\">-1.0</td><td style = \"text-align: right;\">3.0</td></tr><tr><td class = \"rowNumber\" style = \"font-weight: bold; text-align: right;\">4</td><td style = \"text-align: right;\">1</td><td style = \"text-align: right;\">1.33333</td><td style = \"text-align: right;\">9.0</td><td style = \"text-align: right;\">-0.0604454</td><td style = \"text-align: right;\">0.569459</td><td style = \"text-align: right;\">-0.0858961</td><td style = \"text-align: right;\">-0.110993</td></tr><tr><td class = \"rowNumber\" style = \"font-weight: bold; text-align: right;\">5</td><td style = \"text-align: right;\">1</td><td style = \"text-align: right;\">3.66667</td><td style = \"text-align: right;\">0.111111</td><td style = \"text-align: right;\">-0.0254507</td><td style = \"text-align: right;\">0.397667</td><td style = \"text-align: right;\">-0.194062</td><td style = \"text-align: right;\">-1.152</td></tr><tr><td class = \"rowNumber\" style = \"font-weight: bold; text-align: right;\">6</td><td style = \"text-align: right;\">1</td><td style = \"text-align: right;\">4.0</td><td style = \"text-align: right;\">-6.88889</td><td style = \"text-align: right;\">0.135737</td><td style = \"text-align: right;\">-0.120891</td><td style = \"text-align: right;\">0.0349947</td><td style = \"text-align: right;\">-0.967126</td></tr><tr><td class = \"rowNumber\" style = \"font-weight: bold; text-align: right;\">7</td><td style = \"text-align: right;\">2</td><td style = \"text-align: right;\">1.22234</td><td style = \"text-align: right;\">0.935333</td><td style = \"text-align: right;\">-0.104801</td><td style = \"text-align: right;\">0.819474</td><td style = \"text-align: right;\">-0.183777</td><td style = \"text-align: right;\">-0.151433</td></tr><tr><td class = \"rowNumber\" style = \"font-weight: bold; text-align: right;\">8</td><td style = \"text-align: right;\">2</td><td style = \"text-align: right;\">2.51467</td><td style = \"text-align: right;\">0.0123195</td><td style = \"text-align: right;\">-0.0635849</td><td style = \"text-align: right;\">0.745371</td><td style = \"text-align: right;\">-0.359681</td><td style = \"text-align: right;\">-0.418179</td></tr><tr><td class = \"rowNumber\" style = \"font-weight: bold; text-align: right;\">9</td><td style = \"text-align: right;\">2</td><td style = \"text-align: right;\">3.03287</td><td style = \"text-align: right;\">-1.30246</td><td style = \"text-align: right;\">0.19262</td><td style = \"text-align: right;\">-0.25798</td><td style = \"text-align: right;\">0.0895944</td><td style = \"text-align: right;\">-0.0602929</td></tr><tr><td class = \"rowNumber\" style = \"font-weight: bold; text-align: right;\">10</td><td style = \"text-align: right;\">3</td><td style = \"text-align: right;\">1.07091</td><td style = \"text-align: right;\">0.00363523</td><td style = \"text-align: right;\">-0.141349</td><td style = \"text-align: right;\">1.14779</td><td style = \"text-align: right;\">-0.307452</td><td style = \"text-align: right;\">-0.0654716</td></tr><tr><td class = \"rowNumber\" style = \"font-weight: bold; text-align: right;\">11</td><td style = \"text-align: right;\">3</td><td style = \"text-align: right;\">2.09649</td><td style = \"text-align: right;\">0.0229319</td><td style = \"text-align: right;\">-0.0948151</td><td style = \"text-align: right;\">1.08311</td><td style = \"text-align: right;\">-0.519422</td><td style = \"text-align: right;\">-0.0915036</td></tr><tr><td class = \"rowNumber\" style = \"font-weight: bold; text-align: right;\">12</td><td style = \"text-align: right;\">3</td><td style = \"text-align: right;\">2.97258</td><td style = \"text-align: right;\">-0.129009</td><td style = \"text-align: right;\">0.207928</td><td style = \"text-align: right;\">-0.375247</td><td style = \"text-align: right;\">0.139084</td><td style = \"text-align: right;\">0.0257924</td></tr><tr><td class = \"rowNumber\" style = \"font-weight: bold; text-align: right;\">13</td><td style = \"text-align: right;\">4</td><td style = \"text-align: right;\">1.00544</td><td style = \"text-align: right;\">0.000665247</td><td style = \"text-align: right;\">-0.156632</td><td style = \"text-align: right;\">1.30338</td><td style = \"text-align: right;\">-0.364095</td><td style = \"text-align: right;\">-0.0054099</td></tr><tr><td class = \"rowNumber\" style = \"font-weight: bold; text-align: right;\">14</td><td style = \"text-align: right;\">4</td><td style = \"text-align: right;\">2.00499</td><td style = \"text-align: right;\">0.00428652</td><td style = \"text-align: right;\">-0.104641</td><td style = \"text-align: right;\">1.20298</td><td style = \"text-align: right;\">-0.575469</td><td style = \"text-align: right;\">-0.0049718</td></tr><tr><td class = \"rowNumber\" style = \"font-weight: bold; text-align: right;\">15</td><td style = \"text-align: right;\">4</td><td style = \"text-align: right;\">2.99837</td><td style = \"text-align: right;\">0.000200144</td><td style = \"text-align: right;\">0.210326</td><td style = \"text-align: right;\">-0.417953</td><td style = \"text-align: right;\">0.156679</td><td style = \"text-align: right;\">0.00162029</td></tr><tr><td class = \"rowNumber\" style = \"font-weight: bold; text-align: right;\">16</td><td style = \"text-align: right;\">5</td><td style = \"text-align: right;\">1.00003</td><td style = \"text-align: right;\">2.62533e-6</td><td style = \"text-align: right;\">-0.157889</td><td style = \"text-align: right;\">1.31574</td><td style = \"text-align: right;\">-0.368404</td><td style = \"text-align: right;\">-2.56355e-5</td></tr><tr><td class = \"rowNumber\" style = \"font-weight: bold; text-align: right;\">17</td><td style = \"text-align: right;\">5</td><td style = \"text-align: right;\">2.00002</td><td style = \"text-align: right;\">2.9267e-5</td><td style = \"text-align: right;\">-0.105261</td><td style = \"text-align: right;\">1.2105</td><td style = \"text-align: right;\">-0.578936</td><td style = \"text-align: right;\">-1.55746e-5</td></tr><tr><td class = \"rowNumber\" style = \"font-weight: bold; text-align: right;\">18</td><td style = \"text-align: right;\">5</td><td style = \"text-align: right;\">2.99999</td><td style = \"text-align: right;\">3.38152e-5</td><td style = \"text-align: right;\">0.210526</td><td style = \"text-align: right;\">-0.421041</td><td style = \"text-align: right;\">0.15789</td><td style = \"text-align: right;\">6.43081e-6</td></tr><tr><td class = \"rowNumber\" style = \"font-weight: bold; text-align: right;\">19</td><td style = \"text-align: right;\">6</td><td style = \"text-align: right;\">1.0</td><td style = \"text-align: right;\">4.13536e-11</td><td style = \"text-align: right;\">-0.157895</td><td style = \"text-align: right;\">1.31579</td><td style = \"text-align: right;\">-0.368421</td><td style = \"text-align: right;\">-4.6331e-10</td></tr><tr><td class = \"rowNumber\" style = \"font-weight: bold; text-align: right;\">20</td><td style = \"text-align: right;\">6</td><td style = \"text-align: right;\">2.0</td><td style = \"text-align: right;\">6.57181e-10</td><td style = \"text-align: right;\">-0.105263</td><td style = \"text-align: right;\">1.21053</td><td style = \"text-align: right;\">-0.578947</td><td style = \"text-align: right;\">-1.70669e-10</td></tr><tr><td class = \"rowNumber\" style = \"font-weight: bold; text-align: right;\">21</td><td style = \"text-align: right;\">6</td><td style = \"text-align: right;\">3.0</td><td style = \"text-align: right;\">1.0718e-9</td><td style = \"text-align: right;\">0.210526</td><td style = \"text-align: right;\">-0.421053</td><td style = \"text-align: right;\">0.157895</td><td style = \"text-align: right;\">9.87708e-11</td></tr><tr><td class = \"rowNumber\" style = \"font-weight: bold; text-align: right;\">22</td><td style = \"text-align: right;\">7</td><td style = \"text-align: right;\">1.0</td><td style = \"text-align: right;\">0.0</td><td style = \"text-align: right;\">-0.157895</td><td style = \"text-align: right;\">1.31579</td><td style = \"text-align: right;\">-0.368421</td><td style = \"text-align: right;\">1.11022e-16</td></tr><tr><td class = \"rowNumber\" style = \"font-weight: bold; text-align: right;\">23</td><td style = \"text-align: right;\">7</td><td style = \"text-align: right;\">2.0</td><td style = \"text-align: right;\">-2.22045e-16</td><td style = \"text-align: right;\">-0.105263</td><td style = \"text-align: right;\">1.21053</td><td style = \"text-align: right;\">-0.578947</td><td style = \"text-align: right;\">0.0</td></tr><tr><td class = \"rowNumber\" style = \"font-weight: bold; text-align: right;\">24</td><td style = \"text-align: right;\">7</td><td style = \"text-align: right;\">3.0</td><td style = \"text-align: right;\">-4.44089e-16</td><td style = \"text-align: right;\">0.210526</td><td style = \"text-align: right;\">-0.421053</td><td style = \"text-align: right;\">0.157895</td><td style = \"text-align: right;\">0.0</td></tr></tbody></table></div>"
      ],
      "text/latex": [
       "\\begin{tabular}{r|ccccccc}\n",
       "\t& k & x & f & invDf1 & invDf2 & invDf3 & err\\\\\n",
       "\t\\hline\n",
       "\t& Int64 & Float64 & Float64 & Float64 & Float64 & Float64 & Float64\\\\\n",
       "\t\\hline\n",
       "\t1 & 0 & 1.0 & -9.0 & 0.333333 & -1.66667 & 1.0 & 0.333333 \\\\\n",
       "\t2 & 0 & 1.0 & -1.0 & 0.666667 & -2.33333 & 1.0 & 2.66667 \\\\\n",
       "\t3 & 0 & 1.0 & 1.0 & 0.0 & 2.0 & -1.0 & 3.0 \\\\\n",
       "\t4 & 1 & 1.33333 & 9.0 & -0.0604454 & 0.569459 & -0.0858961 & -0.110993 \\\\\n",
       "\t5 & 1 & 3.66667 & 0.111111 & -0.0254507 & 0.397667 & -0.194062 & -1.152 \\\\\n",
       "\t6 & 1 & 4.0 & -6.88889 & 0.135737 & -0.120891 & 0.0349947 & -0.967126 \\\\\n",
       "\t7 & 2 & 1.22234 & 0.935333 & -0.104801 & 0.819474 & -0.183777 & -0.151433 \\\\\n",
       "\t8 & 2 & 2.51467 & 0.0123195 & -0.0635849 & 0.745371 & -0.359681 & -0.418179 \\\\\n",
       "\t9 & 2 & 3.03287 & -1.30246 & 0.19262 & -0.25798 & 0.0895944 & -0.0602929 \\\\\n",
       "\t10 & 3 & 1.07091 & 0.00363523 & -0.141349 & 1.14779 & -0.307452 & -0.0654716 \\\\\n",
       "\t11 & 3 & 2.09649 & 0.0229319 & -0.0948151 & 1.08311 & -0.519422 & -0.0915036 \\\\\n",
       "\t12 & 3 & 2.97258 & -0.129009 & 0.207928 & -0.375247 & 0.139084 & 0.0257924 \\\\\n",
       "\t13 & 4 & 1.00544 & 0.000665247 & -0.156632 & 1.30338 & -0.364095 & -0.0054099 \\\\\n",
       "\t14 & 4 & 2.00499 & 0.00428652 & -0.104641 & 1.20298 & -0.575469 & -0.0049718 \\\\\n",
       "\t15 & 4 & 2.99837 & 0.000200144 & 0.210326 & -0.417953 & 0.156679 & 0.00162029 \\\\\n",
       "\t16 & 5 & 1.00003 & 2.62533e-6 & -0.157889 & 1.31574 & -0.368404 & -2.56355e-5 \\\\\n",
       "\t17 & 5 & 2.00002 & 2.9267e-5 & -0.105261 & 1.2105 & -0.578936 & -1.55746e-5 \\\\\n",
       "\t18 & 5 & 2.99999 & 3.38152e-5 & 0.210526 & -0.421041 & 0.15789 & 6.43081e-6 \\\\\n",
       "\t19 & 6 & 1.0 & 4.13536e-11 & -0.157895 & 1.31579 & -0.368421 & -4.6331e-10 \\\\\n",
       "\t20 & 6 & 2.0 & 6.57181e-10 & -0.105263 & 1.21053 & -0.578947 & -1.70669e-10 \\\\\n",
       "\t21 & 6 & 3.0 & 1.0718e-9 & 0.210526 & -0.421053 & 0.157895 & 9.87708e-11 \\\\\n",
       "\t22 & 7 & 1.0 & 0.0 & -0.157895 & 1.31579 & -0.368421 & 1.11022e-16 \\\\\n",
       "\t23 & 7 & 2.0 & -2.22045e-16 & -0.105263 & 1.21053 & -0.578947 & 0.0 \\\\\n",
       "\t24 & 7 & 3.0 & -4.44089e-16 & 0.210526 & -0.421053 & 0.157895 & 0.0 \\\\\n",
       "\\end{tabular}\n"
      ],
      "text/plain": [
       "\u001b[1m24×7 DataFrame\u001b[0m\n",
       "\u001b[1m Row \u001b[0m│\u001b[1m k     \u001b[0m\u001b[1m x       \u001b[0m\u001b[1m f            \u001b[0m\u001b[1m invDf1     \u001b[0m\u001b[1m invDf2    \u001b[0m\u001b[1m invDf3     \u001b[0m\u001b[1m err   \u001b[0m ⋯\n",
       "     │\u001b[90m Int64 \u001b[0m\u001b[90m Float64 \u001b[0m\u001b[90m Float64      \u001b[0m\u001b[90m Float64    \u001b[0m\u001b[90m Float64   \u001b[0m\u001b[90m Float64    \u001b[0m\u001b[90m Float6\u001b[0m ⋯\n",
       "─────┼──────────────────────────────────────────────────────────────────────────\n",
       "   1 │     0  1.0      -9.0           0.333333   -1.66667    1.0         0.333 ⋯\n",
       "   2 │     0  1.0      -1.0           0.666667   -2.33333    1.0         2.666\n",
       "   3 │     0  1.0       1.0           0.0         2.0       -1.0         3.0\n",
       "   4 │     1  1.33333   9.0          -0.0604454   0.569459  -0.0858961  -0.110\n",
       "   5 │     1  3.66667   0.111111     -0.0254507   0.397667  -0.194062   -1.152 ⋯\n",
       "   6 │     1  4.0      -6.88889       0.135737   -0.120891   0.0349947  -0.967\n",
       "   7 │     2  1.22234   0.935333     -0.104801    0.819474  -0.183777   -0.151\n",
       "   8 │     2  2.51467   0.0123195    -0.0635849   0.745371  -0.359681   -0.418\n",
       "   9 │     2  3.03287  -1.30246       0.19262    -0.25798    0.0895944  -0.060 ⋯\n",
       "  10 │     3  1.07091   0.00363523   -0.141349    1.14779   -0.307452   -0.065\n",
       "  11 │     3  2.09649   0.0229319    -0.0948151   1.08311   -0.519422   -0.091\n",
       "  ⋮  │   ⋮       ⋮          ⋮            ⋮           ⋮          ⋮            ⋮ ⋱\n",
       "  15 │     4  2.99837   0.000200144   0.210326   -0.417953   0.156679    0.001\n",
       "  16 │     5  1.00003   2.62533e-6   -0.157889    1.31574   -0.368404   -2.563 ⋯\n",
       "  17 │     5  2.00002   2.9267e-5    -0.105261    1.2105    -0.578936   -1.557\n",
       "  18 │     5  2.99999   3.38152e-5    0.210526   -0.421041   0.15789     6.430\n",
       "  19 │     6  1.0       4.13536e-11  -0.157895    1.31579   -0.368421   -4.633\n",
       "  20 │     6  2.0       6.57181e-10  -0.105263    1.21053   -0.578947   -1.706 ⋯\n",
       "  21 │     6  3.0       1.0718e-9     0.210526   -0.421053   0.157895    9.877\n",
       "  22 │     7  1.0       0.0          -0.157895    1.31579   -0.368421    1.110\n",
       "  23 │     7  2.0      -2.22045e-16  -0.105263    1.21053   -0.578947    0.0\n",
       "  24 │     7  3.0      -4.44089e-16   0.210526   -0.421053   0.157895    0.0   ⋯\n",
       "\u001b[36m                                                     1 column and 3 rows omitted\u001b[0m"
      ]
     },
     "execution_count": 66,
     "metadata": {},
     "output_type": "execute_result"
    }
   ],
   "source": [
    "using DataFrames\n",
    "\n",
    "tol = 10.0^(-10)\n",
    "err = 10.0^5\n",
    "x0 = [1.0; 1.0; 1.0]\n",
    "\n",
    "x = copy(x0)\n",
    "\n",
    "function g1(x)\n",
    "    [x[1]+x[2]+x[3]^2-12; x[1]^2-x[2]+x[3]-2; 2*x[1]^2-x[2]^2+x[3]-1]\n",
    "end\n",
    "\n",
    "function Dg1(x)\n",
    "    [1 1 2*x[3];\n",
    "    2*x[1] -1 1;\n",
    "    4*x[1] -2*x[2] 1]\n",
    "end\n",
    "\n",
    "k = 0\n",
    "resual = DataFrame(k=NaN,x=NaN,f=NaN,invDf1=NaN,invDf2=NaN,invDf3=NaN,inverr=NaN)\n",
    "\n",
    "\n",
    "while err>tol\n",
    "    x = x0 - inv(Dg1(x0))*g1(x0)\n",
    "    err = maximum(abs.(x-x0))\n",
    "    if k==0\n",
    "#        resual = DataFrame(k=[k;k],x=x0,f=g1(x0),invDg1=inv(Dg1(x0))[:,1],invDf2=inv(Dg1(x0))[:,1],err=x-x0)\n",
    "        resual = DataFrame(k=k,x=x0[1,1,1],f=g1(x0)[1,1,1],invDf1=inv(Dg1(x0))[1,1],invDf2=inv(Dg1(x0))[1,2],\n",
    "            invDf3=inv(Dg1(x0))[1,3], err=x[1,1]-x0[1,1])\n",
    "        push!(resual, ([k,x0[2,1],g1(x0)[2,1],inv(Dg1(x0))[2,1],inv(Dg1(x0))[2,2],inv(Dg1(x0))[2,3],x[2,1]-x0[2,1]]))\n",
    "        push!(resual, ([k,x0[3,1],g1(x0)[3,1],inv(Dg1(x0))[3,1],inv(Dg1(x0))[3,2],inv(Dg1(x0))[3,3],x[3,1]-x0[3,1]]))\n",
    "    else\n",
    "#        push!(resual, @data([[k,k] x0 f(x0) inv(Df(x0)) x-x0]))\n",
    "        push!(resual, ([k,x0[1,1],g1(x0)[1,1],inv(Dg1(x0))[1,1],inv(Dg1(x0))[1,2],inv(Dg1(x0))[1,3],x[1,1]-x0[1,1]]))\n",
    "        push!(resual, ([k,x0[2,1],g1(x0)[2,1],inv(Dg1(x0))[2,1],inv(Dg1(x0))[2,2],inv(Dg1(x0))[2,3],x[2,1]-x0[2,1]]))\n",
    "        push!(resual, ([k,x0[3,1],g1(x0)[3,1],inv(Dg1(x0))[3,1],inv(Dg1(x0))[3,2],inv(Dg1(x0))[3,3],x[3,1]-x0[3,1]]))\n",
    "    end\n",
    "    x0 = x\n",
    "    k = k + 1\n",
    "end\n",
    "resual"
   ]
  },
  {
   "cell_type": "markdown",
   "id": "faff2ea4",
   "metadata": {},
   "source": [
    "### Part 1 - 2\n",
    "\n",
    "Derive the analytical version of the Newton-Raphson algorithm (including  𝑓(𝑥)  and  𝑓′(𝑥) ) for each expression below (separately). For each expression below, implement the Newton-Raphson algorithm, and find at least one root for each non-linear function below. Also plot  𝑓(𝑥)  around the solution(s). Prepare a data table with values for  𝑥 ,  𝑓(𝑥) ,  𝑓′(𝑥) , and  𝑒𝑟𝑟  for each iteration.\n",
    "\n",
    "* $ 3𝑥^2−2𝑥−4=0 $  \n",
    "* $ 𝑥−𝑒^{-x^2}=0 $    \n",
    "* $ 𝑒^𝑥−𝑥^4=0 $"
   ]
  }
 ],
 "metadata": {
  "kernelspec": {
   "display_name": "Julia 1.8.4",
   "language": "julia",
   "name": "julia-1.8"
  },
  "language_info": {
   "file_extension": ".jl",
   "mimetype": "application/julia",
   "name": "julia",
   "version": "1.8.4"
  }
 },
 "nbformat": 4,
 "nbformat_minor": 5
}

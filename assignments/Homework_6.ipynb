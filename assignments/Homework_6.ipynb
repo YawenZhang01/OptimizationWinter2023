{
 "cells": [
  {
   "attachments": {},
   "cell_type": "markdown",
   "id": "cca6ac7b",
   "metadata": {},
   "source": [
    "# Homework 06: Nonlinear Optimization/Traveling Salesperson\n",
    "\n",
    "MSCA 32013 Optimization and Simulation Methods. University of Chicago.\n",
    "\n",
    "Group 7. Ben Ossyra, Peter Pezon. Yawen Zhang. "
   ]
  },
  {
   "cell_type": "markdown",
   "id": "bd7ee7d1",
   "metadata": {},
   "source": [
    "## Q. 1. Part 1-0.\n",
    "\n",
    "Consider the following univariate function: $ f(x) = 3x^2 + 4x + 1 $ . You are tasked with finding the minimum of the function $f$ in the interval $[−2,1]$.\n",
    "\n",
    "**Determine the type of optimization problem**\n",
    "\n",
    "This is boxed constrained convex optimization problem. It is called boxed constrained because the control variable $x$ is restricted by lower and upper bounds $\\{ x: -2 \\leq x \\leq 1 \\}$.\n",
    "\n",
    "**Explain why a minimum exists in this optimization problem**\n",
    "\n",
    "The Weierstras theorem establsihes conditions for the existence of a solution  in this optimization problem. It states that if $f$ is continuous and $Ω ⊆ R^n$ is compact, then a solution exists. We can say that $f$ is continuous in the range [-2,1] for every point x in [-2,1]. We can see in the plot below that $f$ is smooth and continuous. We can say that the set  $Ω ⊆ R^n$ is compact if it is closed and bounded; in this problem $x$ is bounded $\\{ x: -2 \\leq x \\leq 1 \\}$ and it includes boundaries $-2$ and $1$, therefore $Ω$ is a closed set. Therefore, we've established that a solution exists for the problem. Having established that a solution exists, the solution can then be characterized as a minimum.\n",
    "\n",
    "In convex optimization problems, the objective function is optimzied when local minimum and global minimum solutions coincide.\n",
    "\n",
    "**Characterize the local minimum assuming it is an interior point (i.e., first order necessary condition)**\n",
    "\n",
    "Say $x*$ is an interior point. If $𝑥∗$ is a local minimum point of $f$ over $Ω$ then for any $d ∈ 𝐸^n$ that is a feasible direction at $x*$, ∇𝑓(𝑥∗)𝑑≥0. Meaning: at the minima, if $x*$ is a local minima, then at any incremental change $d$ in either direction of $x$ results only in an increase in the value of $f(x)$. Secondly, a vector $d$ in $E^n$ is a feasible direction at $𝑥 ∈ Ω$ if there is an $ a > 0 $ such that $x + ad ∈ Ω $ for all $a ∈ 0 \\leq a \\leq a$. These first order conditions establish that if $x*$ is a local minimum, then any movement away from $x*$ results in a higher value for the objective function $f$. The second requirement that the direction $d$ away from the local optimal $x*$ be feasible essentially rules out corner cases where the all points around $x$ increase $f$ but would result in $x$ values outside the feasible region $Ω$.\n",
    "\n",
    "Further, an optimal interior solution to the feasible set $Ω$ implies that $ ∇f(x*) = 0 $. In this special case, the first order conditions yield $n$ equation for $n$ unknowns which can be used to find the optimal solution.\n",
    " \n",
    "**Based on the first order condition above, find the value of $x$ that minimizes $f(x)$  using simple algebra**\n",
    "\n",
    "$ \\min_{x}{f(x) = 3x^2 + 4x + 1} $\n",
    "\n",
    "$ ∇f(x*) = 0 $\n",
    "\n",
    "$ \\frac{d}{dx} 3(x*)^2 + 4(x*) + 1 = 0 $\n",
    "\n",
    "$ 6x + 4 = 0 $\n",
    "\n",
    "$ x = -\\frac{2}{3} $\n",
    "\n",
    "**Evaluate $f(x)$ at the optimal $x$**\n",
    "\n",
    "$ f(x) = 3x^2 + 4x + 1$\n",
    "\n",
    "$ f(-\\frac{2}{3}) = 3(-\\frac{2}{3})^2 - 4(\\frac{2}{3}) + 1$\n",
    "\n",
    "$ f(-\\frac{2}{3}) = -\\frac{1}{3} $\n",
    "\n",
    "**Use Optim in Julia to find the minimum $x$**\n"
   ]
  },
  {
   "cell_type": "code",
   "execution_count": 26,
   "id": "82c4207d",
   "metadata": {},
   "outputs": [
    {
     "data": {
      "text/plain": [
       " * Status: success\n",
       "\n",
       " * Candidate solution\n",
       "    Final objective value:     -3.333333e-01\n",
       "\n",
       " * Found with\n",
       "    Algorithm:     Nelder-Mead\n",
       "\n",
       " * Convergence measures\n",
       "    √(Σ(yᵢ-ȳ)²)/n ≤ 1.0e-08\n",
       "\n",
       " * Work counters\n",
       "    Seconds run:   0  (vs limit Inf)\n",
       "    Iterations:    21\n",
       "    f(x) calls:    40\n"
      ]
     },
     "execution_count": 26,
     "metadata": {},
     "output_type": "execute_result"
    }
   ],
   "source": [
    "using Optim\n",
    "\n",
    "f(x) = 3*x[1]^2 + 4*x[1] + 1\n",
    "\n",
    "x0 = [-2.0, 1.0]\n",
    "optimize(f, x0)"
   ]
  },
  {
   "cell_type": "markdown",
   "id": "0b9cebdb",
   "metadata": {},
   "source": [
    "The `Optim` package find the minimum value at $-0.333$ or $-\\frac{1}{3}$, confirming the objective function value found earlier. "
   ]
  },
  {
   "cell_type": "markdown",
   "id": "6bf869ec",
   "metadata": {},
   "source": [
    "**Plot the function $f(x)$  in the range $[−2,1]$**"
   ]
  },
  {
   "cell_type": "code",
   "execution_count": 27,
   "id": "1b71de34",
   "metadata": {},
   "outputs": [
    {
     "data": {
      "image/png": "[encoded data removed]",
      "text/plain": [
       "Figure(PyObject <Figure size 640x480 with 1 Axes>)"
      ]
     },
     "metadata": {},
     "output_type": "display_data"
    }
   ],
   "source": [
    "using PyPlot\n",
    "\n",
    "x1 = collect(-2:0.01:1)\n",
    "f1 = 3 .* (x1.^2) + 4 .* x1 .+ 1\n",
    "\n",
    "fig, ax = subplots()\n",
    "\n",
    "ax.plot(x1, f1,\n",
    "    color=\"blue\",\n",
    "    linewidth=2,\n",
    "    label=L\"f(x) = 3x^2 + 4x + 1\",\n",
    "    alpha=0.4)\n",
    "ax.legend(loc=\"upper left\");\n",
    "ax.grid(\"on\");"
   ]
  },
  {
   "attachments": {},
   "cell_type": "markdown",
   "id": "fe9cbddb",
   "metadata": {},
   "source": [
    "## Q. 1. Part 1-1\n",
    "\n",
    "Write a Julia code for 𝑓(𝑥) and 𝐷𝑓(𝑥). Run the Newthon-Raphson method and search for the solution. Prepare a table with values for 𝑥, 𝑓(𝑥), 𝐷𝑓<sup>-1</sup> (𝑥), and 𝑒𝑟𝑟 for each iteration. Explain what is happening during the iterations. Is the algorithm converging? Why or why not? Choose your initial values carefully.\n",
    "\n",
    "$$ 𝑓1(𝑥_{1},𝑥_{2},𝑥_{3})=𝑥_{1}+𝑥_{2}+𝑥_{3}^2−12 $$  \n",
    "$$ 𝑓2(𝑥_{1},𝑥_{2},𝑥_{3})=𝑥_{1}^2−𝑥_{2}+𝑥_{3}−2 $$  \n",
    "$$ 𝑓3(𝑥_{1},𝑥_{2},𝑥_{3})=2𝑥_{1}^2−𝑥_{2}^2+𝑥_{3}−1 $$    \n",
    "\n",
    "$\\frac{\\partial f_{1}(x_{n,1},x_{n,2},x_{n,3})}{\\partial x_{1}} = 1$  \n",
    "$\\frac{\\partial f_{1}(x_{n,1},x_{n,2},x_{n,3})}{\\partial x_{2}} = 1$  \n",
    "$\\frac{\\partial f_{1}(x_{n,1},x_{n,2},x_{n,3})}{\\partial x_{3}} = 2x_{3}$\t\n",
    "\n",
    "$\\frac{\\partial f_{2}(x_{n,1},x_{n,2},x_{n,3})}{\\partial x_{1}} = 2x_{1}$  \n",
    "$\\frac{\\partial f_{2}(x_{n,1},x_{n,2},x_{n,3})}{\\partial x_{2}} = -1$  \n",
    "$\\frac{\\partial f_{2}(x_{n,1},x_{n,2},x_{n,3})}{\\partial x_{3}} = 1$\t\n",
    "\n",
    "$\\frac{\\partial f_{3}(x_{n,1},x_{n,2},x_{n,3})}{\\partial x_{1}} = 4x_{1}$  \n",
    "$\\frac{\\partial f_{3}(x_{n,1},x_{n,2},x_{n,3})}{\\partial x_{2}} = -2x_{2}$  \n",
    "$\\frac{\\partial f_{3}(x_{n,1},x_{n,2},x_{n,3})}{\\partial x_{3}} = 1$  \n",
    "\n"
   ]
  },
  {
   "cell_type": "code",
   "execution_count": 29,
   "id": "f1b71c94",
   "metadata": {
    "scrolled": true
   },
   "outputs": [
    {
     "data": {
      "text/html": [
       "<div><div style = \"float: left;\"><span>24×7 DataFrame</span></div><div style = \"clear: both;\"></div></div><div class = \"data-frame\" style = \"overflow-x: scroll;\"><table class = \"data-frame\" style = \"margin-bottom: 6px;\"><thead><tr class = \"header\"><th class = \"rowNumber\" style = \"font-weight: bold; text-align: right;\">Row</th><th style = \"text-align: left;\">k</th><th style = \"text-align: left;\">x</th><th style = \"text-align: left;\">f</th><th style = \"text-align: left;\">invDf1</th><th style = \"text-align: left;\">invDf2</th><th style = \"text-align: left;\">invDf3</th><th style = \"text-align: left;\">err</th></tr><tr class = \"subheader headerLastRow\"><th class = \"rowNumber\" style = \"font-weight: bold; text-align: right;\"></th><th title = \"Int64\" style = \"text-align: left;\">Int64</th><th title = \"Float64\" style = \"text-align: left;\">Float64</th><th title = \"Float64\" style = \"text-align: left;\">Float64</th><th title = \"Float64\" style = \"text-align: left;\">Float64</th><th title = \"Float64\" style = \"text-align: left;\">Float64</th><th title = \"Float64\" style = \"text-align: left;\">Float64</th><th title = \"Float64\" style = \"text-align: left;\">Float64</th></tr></thead><tbody><tr><td class = \"rowNumber\" style = \"font-weight: bold; text-align: right;\">1</td><td style = \"text-align: right;\">0</td><td style = \"text-align: right;\">1.0</td><td style = \"text-align: right;\">-9.0</td><td style = \"text-align: right;\">0.333333</td><td style = \"text-align: right;\">-1.66667</td><td style = \"text-align: right;\">1.0</td><td style = \"text-align: right;\">0.333333</td></tr><tr><td class = \"rowNumber\" style = \"font-weight: bold; text-align: right;\">2</td><td style = \"text-align: right;\">0</td><td style = \"text-align: right;\">1.0</td><td style = \"text-align: right;\">-1.0</td><td style = \"text-align: right;\">0.666667</td><td style = \"text-align: right;\">-2.33333</td><td style = \"text-align: right;\">1.0</td><td style = \"text-align: right;\">2.66667</td></tr><tr><td class = \"rowNumber\" style = \"font-weight: bold; text-align: right;\">3</td><td style = \"text-align: right;\">0</td><td style = \"text-align: right;\">1.0</td><td style = \"text-align: right;\">1.0</td><td style = \"text-align: right;\">0.0</td><td style = \"text-align: right;\">2.0</td><td style = \"text-align: right;\">-1.0</td><td style = \"text-align: right;\">3.0</td></tr><tr><td class = \"rowNumber\" style = \"font-weight: bold; text-align: right;\">4</td><td style = \"text-align: right;\">1</td><td style = \"text-align: right;\">1.33333</td><td style = \"text-align: right;\">9.0</td><td style = \"text-align: right;\">-0.0604454</td><td style = \"text-align: right;\">0.569459</td><td style = \"text-align: right;\">-0.0858961</td><td style = \"text-align: right;\">-0.110993</td></tr><tr><td class = \"rowNumber\" style = \"font-weight: bold; text-align: right;\">5</td><td style = \"text-align: right;\">1</td><td style = \"text-align: right;\">3.66667</td><td style = \"text-align: right;\">0.111111</td><td style = \"text-align: right;\">-0.0254507</td><td style = \"text-align: right;\">0.397667</td><td style = \"text-align: right;\">-0.194062</td><td style = \"text-align: right;\">-1.152</td></tr><tr><td class = \"rowNumber\" style = \"font-weight: bold; text-align: right;\">6</td><td style = \"text-align: right;\">1</td><td style = \"text-align: right;\">4.0</td><td style = \"text-align: right;\">-6.88889</td><td style = \"text-align: right;\">0.135737</td><td style = \"text-align: right;\">-0.120891</td><td style = \"text-align: right;\">0.0349947</td><td style = \"text-align: right;\">-0.967126</td></tr><tr><td class = \"rowNumber\" style = \"font-weight: bold; text-align: right;\">7</td><td style = \"text-align: right;\">2</td><td style = \"text-align: right;\">1.22234</td><td style = \"text-align: right;\">0.935333</td><td style = \"text-align: right;\">-0.104801</td><td style = \"text-align: right;\">0.819474</td><td style = \"text-align: right;\">-0.183777</td><td style = \"text-align: right;\">-0.151433</td></tr><tr><td class = \"rowNumber\" style = \"font-weight: bold; text-align: right;\">8</td><td style = \"text-align: right;\">2</td><td style = \"text-align: right;\">2.51467</td><td style = \"text-align: right;\">0.0123195</td><td style = \"text-align: right;\">-0.0635849</td><td style = \"text-align: right;\">0.745371</td><td style = \"text-align: right;\">-0.359681</td><td style = \"text-align: right;\">-0.418179</td></tr><tr><td class = \"rowNumber\" style = \"font-weight: bold; text-align: right;\">9</td><td style = \"text-align: right;\">2</td><td style = \"text-align: right;\">3.03287</td><td style = \"text-align: right;\">-1.30246</td><td style = \"text-align: right;\">0.19262</td><td style = \"text-align: right;\">-0.25798</td><td style = \"text-align: right;\">0.0895944</td><td style = \"text-align: right;\">-0.0602929</td></tr><tr><td class = \"rowNumber\" style = \"font-weight: bold; text-align: right;\">10</td><td style = \"text-align: right;\">3</td><td style = \"text-align: right;\">1.07091</td><td style = \"text-align: right;\">0.00363523</td><td style = \"text-align: right;\">-0.141349</td><td style = \"text-align: right;\">1.14779</td><td style = \"text-align: right;\">-0.307452</td><td style = \"text-align: right;\">-0.0654716</td></tr><tr><td class = \"rowNumber\" style = \"font-weight: bold; text-align: right;\">11</td><td style = \"text-align: right;\">3</td><td style = \"text-align: right;\">2.09649</td><td style = \"text-align: right;\">0.0229319</td><td style = \"text-align: right;\">-0.0948151</td><td style = \"text-align: right;\">1.08311</td><td style = \"text-align: right;\">-0.519422</td><td style = \"text-align: right;\">-0.0915036</td></tr><tr><td class = \"rowNumber\" style = \"font-weight: bold; text-align: right;\">12</td><td style = \"text-align: right;\">3</td><td style = \"text-align: right;\">2.97258</td><td style = \"text-align: right;\">-0.129009</td><td style = \"text-align: right;\">0.207928</td><td style = \"text-align: right;\">-0.375247</td><td style = \"text-align: right;\">0.139084</td><td style = \"text-align: right;\">0.0257924</td></tr><tr><td class = \"rowNumber\" style = \"font-weight: bold; text-align: right;\">13</td><td style = \"text-align: right;\">4</td><td style = \"text-align: right;\">1.00544</td><td style = \"text-align: right;\">0.000665247</td><td style = \"text-align: right;\">-0.156632</td><td style = \"text-align: right;\">1.30338</td><td style = \"text-align: right;\">-0.364095</td><td style = \"text-align: right;\">-0.0054099</td></tr><tr><td class = \"rowNumber\" style = \"font-weight: bold; text-align: right;\">14</td><td style = \"text-align: right;\">4</td><td style = \"text-align: right;\">2.00499</td><td style = \"text-align: right;\">0.00428652</td><td style = \"text-align: right;\">-0.104641</td><td style = \"text-align: right;\">1.20298</td><td style = \"text-align: right;\">-0.575469</td><td style = \"text-align: right;\">-0.0049718</td></tr><tr><td class = \"rowNumber\" style = \"font-weight: bold; text-align: right;\">15</td><td style = \"text-align: right;\">4</td><td style = \"text-align: right;\">2.99837</td><td style = \"text-align: right;\">0.000200144</td><td style = \"text-align: right;\">0.210326</td><td style = \"text-align: right;\">-0.417953</td><td style = \"text-align: right;\">0.156679</td><td style = \"text-align: right;\">0.00162029</td></tr><tr><td class = \"rowNumber\" style = \"font-weight: bold; text-align: right;\">16</td><td style = \"text-align: right;\">5</td><td style = \"text-align: right;\">1.00003</td><td style = \"text-align: right;\">2.62533e-6</td><td style = \"text-align: right;\">-0.157889</td><td style = \"text-align: right;\">1.31574</td><td style = \"text-align: right;\">-0.368404</td><td style = \"text-align: right;\">-2.56355e-5</td></tr><tr><td class = \"rowNumber\" style = \"font-weight: bold; text-align: right;\">17</td><td style = \"text-align: right;\">5</td><td style = \"text-align: right;\">2.00002</td><td style = \"text-align: right;\">2.9267e-5</td><td style = \"text-align: right;\">-0.105261</td><td style = \"text-align: right;\">1.2105</td><td style = \"text-align: right;\">-0.578936</td><td style = \"text-align: right;\">-1.55746e-5</td></tr><tr><td class = \"rowNumber\" style = \"font-weight: bold; text-align: right;\">18</td><td style = \"text-align: right;\">5</td><td style = \"text-align: right;\">2.99999</td><td style = \"text-align: right;\">3.38152e-5</td><td style = \"text-align: right;\">0.210526</td><td style = \"text-align: right;\">-0.421041</td><td style = \"text-align: right;\">0.15789</td><td style = \"text-align: right;\">6.43081e-6</td></tr><tr><td class = \"rowNumber\" style = \"font-weight: bold; text-align: right;\">19</td><td style = \"text-align: right;\">6</td><td style = \"text-align: right;\">1.0</td><td style = \"text-align: right;\">4.13536e-11</td><td style = \"text-align: right;\">-0.157895</td><td style = \"text-align: right;\">1.31579</td><td style = \"text-align: right;\">-0.368421</td><td style = \"text-align: right;\">-4.6331e-10</td></tr><tr><td class = \"rowNumber\" style = \"font-weight: bold; text-align: right;\">20</td><td style = \"text-align: right;\">6</td><td style = \"text-align: right;\">2.0</td><td style = \"text-align: right;\">6.57181e-10</td><td style = \"text-align: right;\">-0.105263</td><td style = \"text-align: right;\">1.21053</td><td style = \"text-align: right;\">-0.578947</td><td style = \"text-align: right;\">-1.70669e-10</td></tr><tr><td class = \"rowNumber\" style = \"font-weight: bold; text-align: right;\">21</td><td style = \"text-align: right;\">6</td><td style = \"text-align: right;\">3.0</td><td style = \"text-align: right;\">1.0718e-9</td><td style = \"text-align: right;\">0.210526</td><td style = \"text-align: right;\">-0.421053</td><td style = \"text-align: right;\">0.157895</td><td style = \"text-align: right;\">9.87708e-11</td></tr><tr><td class = \"rowNumber\" style = \"font-weight: bold; text-align: right;\">22</td><td style = \"text-align: right;\">7</td><td style = \"text-align: right;\">1.0</td><td style = \"text-align: right;\">0.0</td><td style = \"text-align: right;\">-0.157895</td><td style = \"text-align: right;\">1.31579</td><td style = \"text-align: right;\">-0.368421</td><td style = \"text-align: right;\">1.11022e-16</td></tr><tr><td class = \"rowNumber\" style = \"font-weight: bold; text-align: right;\">23</td><td style = \"text-align: right;\">7</td><td style = \"text-align: right;\">2.0</td><td style = \"text-align: right;\">-2.22045e-16</td><td style = \"text-align: right;\">-0.105263</td><td style = \"text-align: right;\">1.21053</td><td style = \"text-align: right;\">-0.578947</td><td style = \"text-align: right;\">0.0</td></tr><tr><td class = \"rowNumber\" style = \"font-weight: bold; text-align: right;\">24</td><td style = \"text-align: right;\">7</td><td style = \"text-align: right;\">3.0</td><td style = \"text-align: right;\">-4.44089e-16</td><td style = \"text-align: right;\">0.210526</td><td style = \"text-align: right;\">-0.421053</td><td style = \"text-align: right;\">0.157895</td><td style = \"text-align: right;\">0.0</td></tr></tbody></table></div>"
      ],
      "text/latex": [
       "\\begin{tabular}{r|ccccccc}\n",
       "\t& k & x & f & invDf1 & invDf2 & invDf3 & err\\\\\n",
       "\t\\hline\n",
       "\t& Int64 & Float64 & Float64 & Float64 & Float64 & Float64 & Float64\\\\\n",
       "\t\\hline\n",
       "\t1 & 0 & 1.0 & -9.0 & 0.333333 & -1.66667 & 1.0 & 0.333333 \\\\\n",
       "\t2 & 0 & 1.0 & -1.0 & 0.666667 & -2.33333 & 1.0 & 2.66667 \\\\\n",
       "\t3 & 0 & 1.0 & 1.0 & 0.0 & 2.0 & -1.0 & 3.0 \\\\\n",
       "\t4 & 1 & 1.33333 & 9.0 & -0.0604454 & 0.569459 & -0.0858961 & -0.110993 \\\\\n",
       "\t5 & 1 & 3.66667 & 0.111111 & -0.0254507 & 0.397667 & -0.194062 & -1.152 \\\\\n",
       "\t6 & 1 & 4.0 & -6.88889 & 0.135737 & -0.120891 & 0.0349947 & -0.967126 \\\\\n",
       "\t7 & 2 & 1.22234 & 0.935333 & -0.104801 & 0.819474 & -0.183777 & -0.151433 \\\\\n",
       "\t8 & 2 & 2.51467 & 0.0123195 & -0.0635849 & 0.745371 & -0.359681 & -0.418179 \\\\\n",
       "\t9 & 2 & 3.03287 & -1.30246 & 0.19262 & -0.25798 & 0.0895944 & -0.0602929 \\\\\n",
       "\t10 & 3 & 1.07091 & 0.00363523 & -0.141349 & 1.14779 & -0.307452 & -0.0654716 \\\\\n",
       "\t11 & 3 & 2.09649 & 0.0229319 & -0.0948151 & 1.08311 & -0.519422 & -0.0915036 \\\\\n",
       "\t12 & 3 & 2.97258 & -0.129009 & 0.207928 & -0.375247 & 0.139084 & 0.0257924 \\\\\n",
       "\t13 & 4 & 1.00544 & 0.000665247 & -0.156632 & 1.30338 & -0.364095 & -0.0054099 \\\\\n",
       "\t14 & 4 & 2.00499 & 0.00428652 & -0.104641 & 1.20298 & -0.575469 & -0.0049718 \\\\\n",
       "\t15 & 4 & 2.99837 & 0.000200144 & 0.210326 & -0.417953 & 0.156679 & 0.00162029 \\\\\n",
       "\t16 & 5 & 1.00003 & 2.62533e-6 & -0.157889 & 1.31574 & -0.368404 & -2.56355e-5 \\\\\n",
       "\t17 & 5 & 2.00002 & 2.9267e-5 & -0.105261 & 1.2105 & -0.578936 & -1.55746e-5 \\\\\n",
       "\t18 & 5 & 2.99999 & 3.38152e-5 & 0.210526 & -0.421041 & 0.15789 & 6.43081e-6 \\\\\n",
       "\t19 & 6 & 1.0 & 4.13536e-11 & -0.157895 & 1.31579 & -0.368421 & -4.6331e-10 \\\\\n",
       "\t20 & 6 & 2.0 & 6.57181e-10 & -0.105263 & 1.21053 & -0.578947 & -1.70669e-10 \\\\\n",
       "\t21 & 6 & 3.0 & 1.0718e-9 & 0.210526 & -0.421053 & 0.157895 & 9.87708e-11 \\\\\n",
       "\t22 & 7 & 1.0 & 0.0 & -0.157895 & 1.31579 & -0.368421 & 1.11022e-16 \\\\\n",
       "\t23 & 7 & 2.0 & -2.22045e-16 & -0.105263 & 1.21053 & -0.578947 & 0.0 \\\\\n",
       "\t24 & 7 & 3.0 & -4.44089e-16 & 0.210526 & -0.421053 & 0.157895 & 0.0 \\\\\n",
       "\\end{tabular}\n"
      ],
      "text/plain": [
       "\u001b[1m24×7 DataFrame\u001b[0m\n",
       "\u001b[1m Row \u001b[0m│\u001b[1m k     \u001b[0m\u001b[1m x       \u001b[0m\u001b[1m f            \u001b[0m\u001b[1m invDf1     \u001b[0m\u001b[1m invDf2    \u001b[0m\u001b[1m invDf3     \u001b[0m\u001b[1m err   \u001b[0m ⋯\n",
       "     │\u001b[90m Int64 \u001b[0m\u001b[90m Float64 \u001b[0m\u001b[90m Float64      \u001b[0m\u001b[90m Float64    \u001b[0m\u001b[90m Float64   \u001b[0m\u001b[90m Float64    \u001b[0m\u001b[90m Float6\u001b[0m ⋯\n",
       "─────┼──────────────────────────────────────────────────────────────────────────\n",
       "   1 │     0  1.0      -9.0           0.333333   -1.66667    1.0         0.333 ⋯\n",
       "   2 │     0  1.0      -1.0           0.666667   -2.33333    1.0         2.666\n",
       "   3 │     0  1.0       1.0           0.0         2.0       -1.0         3.0\n",
       "   4 │     1  1.33333   9.0          -0.0604454   0.569459  -0.0858961  -0.110\n",
       "   5 │     1  3.66667   0.111111     -0.0254507   0.397667  -0.194062   -1.152 ⋯\n",
       "   6 │     1  4.0      -6.88889       0.135737   -0.120891   0.0349947  -0.967\n",
       "   7 │     2  1.22234   0.935333     -0.104801    0.819474  -0.183777   -0.151\n",
       "   8 │     2  2.51467   0.0123195    -0.0635849   0.745371  -0.359681   -0.418\n",
       "   9 │     2  3.03287  -1.30246       0.19262    -0.25798    0.0895944  -0.060 ⋯\n",
       "  10 │     3  1.07091   0.00363523   -0.141349    1.14779   -0.307452   -0.065\n",
       "  11 │     3  2.09649   0.0229319    -0.0948151   1.08311   -0.519422   -0.091\n",
       "  ⋮  │   ⋮       ⋮          ⋮            ⋮           ⋮          ⋮            ⋮ ⋱\n",
       "  15 │     4  2.99837   0.000200144   0.210326   -0.417953   0.156679    0.001\n",
       "  16 │     5  1.00003   2.62533e-6   -0.157889    1.31574   -0.368404   -2.563 ⋯\n",
       "  17 │     5  2.00002   2.9267e-5    -0.105261    1.2105    -0.578936   -1.557\n",
       "  18 │     5  2.99999   3.38152e-5    0.210526   -0.421041   0.15789     6.430\n",
       "  19 │     6  1.0       4.13536e-11  -0.157895    1.31579   -0.368421   -4.633\n",
       "  20 │     6  2.0       6.57181e-10  -0.105263    1.21053   -0.578947   -1.706 ⋯\n",
       "  21 │     6  3.0       1.0718e-9     0.210526   -0.421053   0.157895    9.877\n",
       "  22 │     7  1.0       0.0          -0.157895    1.31579   -0.368421    1.110\n",
       "  23 │     7  2.0      -2.22045e-16  -0.105263    1.21053   -0.578947    0.0\n",
       "  24 │     7  3.0      -4.44089e-16   0.210526   -0.421053   0.157895    0.0   ⋯\n",
       "\u001b[36m                                                     1 column and 3 rows omitted\u001b[0m"
      ]
     },
     "execution_count": 29,
     "metadata": {},
     "output_type": "execute_result"
    }
   ],
   "source": [
    "using DataFrames\n",
    "\n",
    "tol = 10.0^(-10)\n",
    "err = 10.0^5\n",
    "x0 = [1.0; 1.0; 1.0]\n",
    "\n",
    "x = copy(x0)\n",
    "\n",
    "function g1(x)\n",
    "    [x[1]+x[2]+x[3]^2-12; x[1]^2-x[2]+x[3]-2; 2*x[1]^2-x[2]^2+x[3]-1]\n",
    "end\n",
    "\n",
    "function Dg1(x)\n",
    "    [1 1 2*x[3];\n",
    "    2*x[1] -1 1;\n",
    "    4*x[1] -2*x[2] 1]\n",
    "end\n",
    "\n",
    "k = 0\n",
    "resual = DataFrame(k=NaN,x=NaN,f=NaN,invDf1=NaN,invDf2=NaN,invDf3=NaN,inverr=NaN)\n",
    "\n",
    "\n",
    "while err>tol\n",
    "    x = x0 - inv(Dg1(x0))*g1(x0)\n",
    "    err = maximum(abs.(x-x0))\n",
    "    if k==0\n",
    "#        resual = DataFrame(k=[k;k],x=x0,f=g1(x0),invDg1=inv(Dg1(x0))[:,1],invDf2=inv(Dg1(x0))[:,1],err=x-x0)\n",
    "        resual = DataFrame(k=k,x=x0[1,1,1],f=g1(x0)[1,1,1],invDf1=inv(Dg1(x0))[1,1],invDf2=inv(Dg1(x0))[1,2],\n",
    "            invDf3=inv(Dg1(x0))[1,3], err=x[1,1]-x0[1,1])\n",
    "        push!(resual, ([k,x0[2,1],g1(x0)[2,1],inv(Dg1(x0))[2,1],inv(Dg1(x0))[2,2],inv(Dg1(x0))[2,3],x[2,1]-x0[2,1]]))\n",
    "        push!(resual, ([k,x0[3,1],g1(x0)[3,1],inv(Dg1(x0))[3,1],inv(Dg1(x0))[3,2],inv(Dg1(x0))[3,3],x[3,1]-x0[3,1]]))\n",
    "    else\n",
    "#        push!(resual, @data([[k,k] x0 f(x0) inv(Df(x0)) x-x0]))\n",
    "        push!(resual, ([k,x0[1,1],g1(x0)[1,1],inv(Dg1(x0))[1,1],inv(Dg1(x0))[1,2],inv(Dg1(x0))[1,3],x[1,1]-x0[1,1]]))\n",
    "        push!(resual, ([k,x0[2,1],g1(x0)[2,1],inv(Dg1(x0))[2,1],inv(Dg1(x0))[2,2],inv(Dg1(x0))[2,3],x[2,1]-x0[2,1]]))\n",
    "        push!(resual, ([k,x0[3,1],g1(x0)[3,1],inv(Dg1(x0))[3,1],inv(Dg1(x0))[3,2],inv(Dg1(x0))[3,3],x[3,1]-x0[3,1]]))\n",
    "    end\n",
    "    x0 = x\n",
    "    k = k + 1\n",
    "end\n",
    "resual"
   ]
  },
  {
   "attachments": {},
   "cell_type": "markdown",
   "id": "9c5c2f89",
   "metadata": {},
   "source": [
    "### Explanation\n",
    "\n",
    "The Newton-Raphson method is an iterative algorithm that uses the Talor series to find a root, the value of x when f(x) = 0. The Taylor series of f(x) about $ x= x_{0} + \\epsilon$ can be approximated as: \n",
    "$$f(x) \\sim f(x_{0}) + f'(x_{0}) * \\epsilon $$\n",
    "For a very small $\\epsilon$, $-\\frac{f(x_{0})}{f'(x_{0})}$ represents the change in $x_{0}$ or delta needed for $f(x_{0} + \\epsilon) = 0$  \n",
    "<br>\n",
    "The code above starts with intial values of $x_{n}$ and subtracts $\\frac{f(x_{n})}{f'(x_{n})}$ to calculate $x_{n+1}$. The error term is the absolute difference between $x_{n}$ and $x_{n+1}$.  \n",
    "<br>\n",
    "During the next iteration, the intial values are $x_{n+1}$ and we subtract $\\frac{f(x_{n+1})}{f'(x_{n+1})}$ to calculate $x_{n+2}$. We continue to iterate through this process until the x values converge and the error term, the absolute difference between $x_{n}$ and $x_{n+1}$, is smaller than our established threshold, in this case $10^{-10}$.  \n",
    "<br>\n",
    "Our algorithm does converge, and we are left with the solution: \n",
    "$$x_{1} = 1$$\n",
    "$$x_{2} = 2$$\n",
    "$$x_{3} = 3$$\n",
    "<br>\n",
    "Our intial values were close to the root, so our algorithm converged. If initial values are chosen poorly the algorithm may not converge."
   ]
  },
  {
   "cell_type": "markdown",
   "id": "faff2ea4",
   "metadata": {},
   "source": [
    "## Q. 1. Part 1-2\n",
    "\n",
    "Derive the analytical version of the Newton-Raphson algorithm (including  𝑓(𝑥)  and  𝑓′(𝑥) ) for each expression below (separately). For each expression below, implement the Newton-Raphson algorithm, and find at least one root for each non-linear function below. Also plot  𝑓(𝑥)  around the solution(s). Prepare a data table with values for  𝑥 ,  𝑓(𝑥) ,  𝑓′(𝑥) , and  𝑒𝑟𝑟  for each iteration.\n",
    "\n",
    "* $ 3𝑥^2−2𝑥−4=0 $  \n",
    "* $ 𝑥−𝑒^{-x^2}=0 $    \n",
    "* $ 𝑒^𝑥−𝑥^4=0 $"
   ]
  },
  {
   "attachments": {},
   "cell_type": "markdown",
   "id": "72ecb382",
   "metadata": {},
   "source": [
    "#### First equation\n",
    "\n",
    "$ 3𝑥^2−2𝑥−4=0 $  \n",
    "$ f'(x) = 6x -2 $"
   ]
  },
  {
   "cell_type": "code",
   "execution_count": 30,
   "id": "d7a9acf6",
   "metadata": {},
   "outputs": [
    {
     "data": {
      "text/html": [
       "<div><div style = \"float: left;\"><span>6×5 DataFrame</span></div><div style = \"clear: both;\"></div></div><div class = \"data-frame\" style = \"overflow-x: scroll;\"><table class = \"data-frame\" style = \"margin-bottom: 6px;\"><thead><tr class = \"header\"><th class = \"rowNumber\" style = \"font-weight: bold; text-align: right;\">Row</th><th style = \"text-align: left;\">k</th><th style = \"text-align: left;\">x</th><th style = \"text-align: left;\">f</th><th style = \"text-align: left;\">fp</th><th style = \"text-align: left;\">err</th></tr><tr class = \"subheader headerLastRow\"><th class = \"rowNumber\" style = \"font-weight: bold; text-align: right;\"></th><th title = \"Int64\" style = \"text-align: left;\">Int64</th><th title = \"Float64\" style = \"text-align: left;\">Float64</th><th title = \"Float64\" style = \"text-align: left;\">Float64</th><th title = \"Float64\" style = \"text-align: left;\">Float64</th><th title = \"Float64\" style = \"text-align: left;\">Float64</th></tr></thead><tbody><tr><td class = \"rowNumber\" style = \"font-weight: bold; text-align: right;\">1</td><td style = \"text-align: right;\">0</td><td style = \"text-align: right;\">0.1</td><td style = \"text-align: right;\">-4.17</td><td style = \"text-align: right;\">-1.4</td><td style = \"text-align: right;\">2.97857</td></tr><tr><td class = \"rowNumber\" style = \"font-weight: bold; text-align: right;\">2</td><td style = \"text-align: right;\">1</td><td style = \"text-align: right;\">-2.87857</td><td style = \"text-align: right;\">26.6157</td><td style = \"text-align: right;\">-19.2714</td><td style = \"text-align: right;\">1.38109</td></tr><tr><td class = \"rowNumber\" style = \"font-weight: bold; text-align: right;\">3</td><td style = \"text-align: right;\">2</td><td style = \"text-align: right;\">-1.49748</td><td style = \"text-align: right;\">5.72227</td><td style = \"text-align: right;\">-10.9849</td><td style = \"text-align: right;\">0.520923</td></tr><tr><td class = \"rowNumber\" style = \"font-weight: bold; text-align: right;\">4</td><td style = \"text-align: right;\">3</td><td style = \"text-align: right;\">-0.976554</td><td style = \"text-align: right;\">0.814082</td><td style = \"text-align: right;\">-7.85932</td><td style = \"text-align: right;\">0.103582</td></tr><tr><td class = \"rowNumber\" style = \"font-weight: bold; text-align: right;\">5</td><td style = \"text-align: right;\">4</td><td style = \"text-align: right;\">-0.872972</td><td style = \"text-align: right;\">0.0321875</td><td style = \"text-align: right;\">-7.23783</td><td style = \"text-align: right;\">0.00444711</td></tr><tr><td class = \"rowNumber\" style = \"font-weight: bold; text-align: right;\">6</td><td style = \"text-align: right;\">5</td><td style = \"text-align: right;\">-0.868525</td><td style = \"text-align: right;\">5.93305e-5</td><td style = \"text-align: right;\">-7.21115</td><td style = \"text-align: right;\">8.2276e-6</td></tr></tbody></table></div>"
      ],
      "text/latex": [
       "\\begin{tabular}{r|ccccc}\n",
       "\t& k & x & f & fp & err\\\\\n",
       "\t\\hline\n",
       "\t& Int64 & Float64 & Float64 & Float64 & Float64\\\\\n",
       "\t\\hline\n",
       "\t1 & 0 & 0.1 & -4.17 & -1.4 & 2.97857 \\\\\n",
       "\t2 & 1 & -2.87857 & 26.6157 & -19.2714 & 1.38109 \\\\\n",
       "\t3 & 2 & -1.49748 & 5.72227 & -10.9849 & 0.520923 \\\\\n",
       "\t4 & 3 & -0.976554 & 0.814082 & -7.85932 & 0.103582 \\\\\n",
       "\t5 & 4 & -0.872972 & 0.0321875 & -7.23783 & 0.00444711 \\\\\n",
       "\t6 & 5 & -0.868525 & 5.93305e-5 & -7.21115 & 8.2276e-6 \\\\\n",
       "\\end{tabular}\n"
      ],
      "text/plain": [
       "\u001b[1m6×5 DataFrame\u001b[0m\n",
       "\u001b[1m Row \u001b[0m│\u001b[1m k     \u001b[0m\u001b[1m x         \u001b[0m\u001b[1m f           \u001b[0m\u001b[1m fp        \u001b[0m\u001b[1m err        \u001b[0m\n",
       "     │\u001b[90m Int64 \u001b[0m\u001b[90m Float64   \u001b[0m\u001b[90m Float64     \u001b[0m\u001b[90m Float64   \u001b[0m\u001b[90m Float64    \u001b[0m\n",
       "─────┼──────────────────────────────────────────────────────\n",
       "   1 │     0   0.1       -4.17         -1.4      2.97857\n",
       "   2 │     1  -2.87857   26.6157      -19.2714   1.38109\n",
       "   3 │     2  -1.49748    5.72227     -10.9849   0.520923\n",
       "   4 │     3  -0.976554   0.814082     -7.85932  0.103582\n",
       "   5 │     4  -0.872972   0.0321875    -7.23783  0.00444711\n",
       "   6 │     5  -0.868525   5.93305e-5   -7.21115  8.2276e-6"
      ]
     },
     "execution_count": 30,
     "metadata": {},
     "output_type": "execute_result"
    }
   ],
   "source": [
    "tol = 10.0^(-5)\n",
    "err = 10.0^5\n",
    "x0 = 0.1\n",
    "\n",
    "function f4(x)\n",
    "    3*x^2 - 2x - 4\n",
    "end\n",
    "\n",
    "function f4p(x)\n",
    "    6*x - 2\n",
    "end\n",
    "\n",
    "k = 0\n",
    "resual = DataFrame(k=NaN,x=NaN,f=NaN,fp=NaN,err=NaN)\n",
    "\n",
    "while err>tol\n",
    "    x = x0 - f4(x0)/f4p(x0)\n",
    "    err = abs(x-x0)\n",
    "    if k==0\n",
    "        resual = DataFrame(k=k,x=x0,f=f4(x0),fp=f4p(x0),err=err)\n",
    "    else\n",
    "        push!(resual, ([k,x0,f4(x0),f4p(x0),err]))\n",
    "    end\n",
    "    x0 = x\n",
    "    k = k + 1\n",
    "end\n",
    "resual"
   ]
  },
  {
   "cell_type": "code",
   "execution_count": 31,
   "id": "a352f25d",
   "metadata": {},
   "outputs": [
    {
     "data": {
      "text/plain": [
       "-0.8685253194524183"
      ]
     },
     "execution_count": 31,
     "metadata": {},
     "output_type": "execute_result"
    }
   ],
   "source": [
    "root = resual[6,2]"
   ]
  },
  {
   "cell_type": "code",
   "execution_count": 32,
   "id": "7c1f9d7c",
   "metadata": {},
   "outputs": [
    {
     "data": {
      "image/png": "[encoded data removed]",
      "text/plain": [
       "Figure(PyObject <Figure size 640x480 with 1 Axes>)"
      ]
     },
     "metadata": {},
     "output_type": "display_data"
    }
   ],
   "source": [
    "x = collect(-2 : 0.01 : 1)\n",
    "p4 = 3 .* (x.^2) .- 2x .- 4\n",
    "\n",
    "fig, ax = subplots()\n",
    "\n",
    "ax.plot(x,p4,color=\"blue\",linewidth=2,label=L\"f(x) = 3x^2 - 2x -4\",alpha=0.4)\n",
    "ax.plot(x,zeros(length(x)),color=\"black\",linewidth=2,alpha=1)\n",
    "ax.plot(root,0,\"-ro\", alpha=1, label=\"($root, 0)\")\n",
    "ax.legend(loc=\"upper left\");\n",
    "ax.grid(\"on\");"
   ]
  },
  {
   "attachments": {},
   "cell_type": "markdown",
   "id": "ef5b6371",
   "metadata": {},
   "source": [
    "The graph confirms that the Newton-Raphson method successfully found a root. It looks like there is another root that could be found if we chose a different starting point. The Newton Raphson method will not always find the same solution across different starting values."
   ]
  },
  {
   "attachments": {},
   "cell_type": "markdown",
   "id": "234673ed",
   "metadata": {},
   "source": [
    "#### Second equation\n",
    "\n",
    "$ 𝑥−𝑒^{-x^2}=0 $  \n",
    "$ f'(x) = 2x\\mathrm{e}^{-x^2}+1 $"
   ]
  },
  {
   "cell_type": "code",
   "execution_count": 33,
   "id": "560d2d10",
   "metadata": {},
   "outputs": [
    {
     "data": {
      "text/html": [
       "<div><div style = \"float: left;\"><span>4×5 DataFrame</span></div><div style = \"clear: both;\"></div></div><div class = \"data-frame\" style = \"overflow-x: scroll;\"><table class = \"data-frame\" style = \"margin-bottom: 6px;\"><thead><tr class = \"header\"><th class = \"rowNumber\" style = \"font-weight: bold; text-align: right;\">Row</th><th style = \"text-align: left;\">k</th><th style = \"text-align: left;\">x</th><th style = \"text-align: left;\">f</th><th style = \"text-align: left;\">fp</th><th style = \"text-align: left;\">err</th></tr><tr class = \"subheader headerLastRow\"><th class = \"rowNumber\" style = \"font-weight: bold; text-align: right;\"></th><th title = \"Int64\" style = \"text-align: left;\">Int64</th><th title = \"Float64\" style = \"text-align: left;\">Float64</th><th title = \"Float64\" style = \"text-align: left;\">Float64</th><th title = \"Float64\" style = \"text-align: left;\">Float64</th><th title = \"Float64\" style = \"text-align: left;\">Float64</th></tr></thead><tbody><tr><td class = \"rowNumber\" style = \"font-weight: bold; text-align: right;\">1</td><td style = \"text-align: right;\">0</td><td style = \"text-align: right;\">0.1</td><td style = \"text-align: right;\">-0.89005</td><td style = \"text-align: right;\">1.19801</td><td style = \"text-align: right;\">0.74294</td></tr><tr><td class = \"rowNumber\" style = \"font-weight: bold; text-align: right;\">2</td><td style = \"text-align: right;\">1</td><td style = \"text-align: right;\">0.84294</td><td style = \"text-align: right;\">0.351566</td><td style = \"text-align: right;\">1.8284</td><td style = \"text-align: right;\">0.192281</td></tr><tr><td class = \"rowNumber\" style = \"font-weight: bold; text-align: right;\">3</td><td style = \"text-align: right;\">2</td><td style = \"text-align: right;\">0.65066</td><td style = \"text-align: right;\">-0.00418438</td><td style = \"text-align: right;\">1.85216</td><td style = \"text-align: right;\">0.00225919</td></tr><tr><td class = \"rowNumber\" style = \"font-weight: bold; text-align: right;\">4</td><td style = \"text-align: right;\">3</td><td style = \"text-align: right;\">0.652919</td><td style = \"text-align: right;\">5.05268e-7</td><td style = \"text-align: right;\">1.85261</td><td style = \"text-align: right;\">2.72734e-7</td></tr></tbody></table></div>"
      ],
      "text/latex": [
       "\\begin{tabular}{r|ccccc}\n",
       "\t& k & x & f & fp & err\\\\\n",
       "\t\\hline\n",
       "\t& Int64 & Float64 & Float64 & Float64 & Float64\\\\\n",
       "\t\\hline\n",
       "\t1 & 0 & 0.1 & -0.89005 & 1.19801 & 0.74294 \\\\\n",
       "\t2 & 1 & 0.84294 & 0.351566 & 1.8284 & 0.192281 \\\\\n",
       "\t3 & 2 & 0.65066 & -0.00418438 & 1.85216 & 0.00225919 \\\\\n",
       "\t4 & 3 & 0.652919 & 5.05268e-7 & 1.85261 & 2.72734e-7 \\\\\n",
       "\\end{tabular}\n"
      ],
      "text/plain": [
       "\u001b[1m4×5 DataFrame\u001b[0m\n",
       "\u001b[1m Row \u001b[0m│\u001b[1m k     \u001b[0m\u001b[1m x        \u001b[0m\u001b[1m f           \u001b[0m\u001b[1m fp      \u001b[0m\u001b[1m err        \u001b[0m\n",
       "     │\u001b[90m Int64 \u001b[0m\u001b[90m Float64  \u001b[0m\u001b[90m Float64     \u001b[0m\u001b[90m Float64 \u001b[0m\u001b[90m Float64    \u001b[0m\n",
       "─────┼───────────────────────────────────────────────────\n",
       "   1 │     0  0.1       -0.89005     1.19801  0.74294\n",
       "   2 │     1  0.84294    0.351566    1.8284   0.192281\n",
       "   3 │     2  0.65066   -0.00418438  1.85216  0.00225919\n",
       "   4 │     3  0.652919   5.05268e-7  1.85261  2.72734e-7"
      ]
     },
     "execution_count": 33,
     "metadata": {},
     "output_type": "execute_result"
    }
   ],
   "source": [
    "tol = 10.0^(-5)\n",
    "err = 10.0^5\n",
    "x0 = 0.1\n",
    "\n",
    "function f5(x)\n",
    "    x - exp((-x^2))\n",
    "end\n",
    "\n",
    "function f5p(x)\n",
    "    2*x*exp((-x^2))+1\n",
    "end\n",
    "\n",
    "k = 0\n",
    "resual = DataFrame(k=NaN,x=NaN,f=NaN,fp=NaN,err=NaN)\n",
    "\n",
    "while err>tol\n",
    "    x = x0 - f5(x0)/f5p(x0)\n",
    "    err = abs(x-x0)\n",
    "    if k==0\n",
    "        resual = DataFrame(k=k,x=x0,f=f5(x0),fp=f5p(x0),err=err)\n",
    "    else\n",
    "        push!(resual, ([k,x0,f5(x0),f5p(x0),err]))\n",
    "    end\n",
    "    x0 = x\n",
    "    k = k + 1\n",
    "end\n",
    "resual"
   ]
  },
  {
   "cell_type": "code",
   "execution_count": 34,
   "id": "261389f5",
   "metadata": {},
   "outputs": [
    {
     "data": {
      "text/plain": [
       "0.6529189131531786"
      ]
     },
     "execution_count": 34,
     "metadata": {},
     "output_type": "execute_result"
    }
   ],
   "source": [
    "root = resual[4,2]"
   ]
  },
  {
   "cell_type": "code",
   "execution_count": 35,
   "id": "b5635ad8",
   "metadata": {},
   "outputs": [
    {
     "data": {
      "image/png": "[encoded data removed]",
      "text/plain": [
       "Figure(PyObject <Figure size 640x480 with 1 Axes>)"
      ]
     },
     "metadata": {},
     "output_type": "display_data"
    }
   ],
   "source": [
    "x = collect(-1 : 0.01 : 2)\n",
    "p5 = x .- exp.((-x.^2))\n",
    "\n",
    "fig, ax = subplots()\n",
    "\n",
    "ax.plot(x,p5,color=\"blue\",linewidth=2,label=L\"f(x) = x - e^{-x^2}\",alpha=0.4)\n",
    "ax.plot(x,zeros(length(x)),color=\"black\",linewidth=2,alpha=1)\n",
    "ax.plot(root,0,\"-ro\", alpha=1, label=\"($root, 0)\")\n",
    "ax.legend(loc=\"upper left\");\n",
    "ax.grid(\"on\");"
   ]
  },
  {
   "attachments": {},
   "cell_type": "markdown",
   "id": "9622cf5b",
   "metadata": {},
   "source": [
    "The graph confirms that the Newton-Raphson method successfully found a root."
   ]
  },
  {
   "attachments": {},
   "cell_type": "markdown",
   "id": "cdd4154f",
   "metadata": {},
   "source": [
    "#### Third equation\n",
    "\n",
    "$ 𝑒^𝑥−𝑥^4=0 $  \n",
    "$ f'(x) = \\mathrm{e}^x-4x^3 $"
   ]
  },
  {
   "cell_type": "code",
   "execution_count": 36,
   "id": "496523f7",
   "metadata": {},
   "outputs": [
    {
     "data": {
      "text/html": [
       "<div><div style = \"float: left;\"><span>5×5 DataFrame</span></div><div style = \"clear: both;\"></div></div><div class = \"data-frame\" style = \"overflow-x: scroll;\"><table class = \"data-frame\" style = \"margin-bottom: 6px;\"><thead><tr class = \"header\"><th class = \"rowNumber\" style = \"font-weight: bold; text-align: right;\">Row</th><th style = \"text-align: left;\">k</th><th style = \"text-align: left;\">x</th><th style = \"text-align: left;\">f</th><th style = \"text-align: left;\">fp</th><th style = \"text-align: left;\">err</th></tr><tr class = \"subheader headerLastRow\"><th class = \"rowNumber\" style = \"font-weight: bold; text-align: right;\"></th><th title = \"Int64\" style = \"text-align: left;\">Int64</th><th title = \"Float64\" style = \"text-align: left;\">Float64</th><th title = \"Float64\" style = \"text-align: left;\">Float64</th><th title = \"Float64\" style = \"text-align: left;\">Float64</th><th title = \"Float64\" style = \"text-align: left;\">Float64</th></tr></thead><tbody><tr><td class = \"rowNumber\" style = \"font-weight: bold; text-align: right;\">1</td><td style = \"text-align: right;\">0</td><td style = \"text-align: right;\">0.1</td><td style = \"text-align: right;\">1.10507</td><td style = \"text-align: right;\">1.10117</td><td style = \"text-align: right;\">1.00354</td></tr><tr><td class = \"rowNumber\" style = \"font-weight: bold; text-align: right;\">2</td><td style = \"text-align: right;\">1</td><td style = \"text-align: right;\">-0.903542</td><td style = \"text-align: right;\">-0.261356</td><td style = \"text-align: right;\">3.35569</td><td style = \"text-align: right;\">0.0778845</td></tr><tr><td class = \"rowNumber\" style = \"font-weight: bold; text-align: right;\">3</td><td style = \"text-align: right;\">2</td><td style = \"text-align: right;\">-0.825657</td><td style = \"text-align: right;\">-0.0267812</td><td style = \"text-align: right;\">2.68938</td><td style = \"text-align: right;\">0.00995813</td></tr><tr><td class = \"rowNumber\" style = \"font-weight: bold; text-align: right;\">4</td><td style = \"text-align: right;\">3</td><td style = \"text-align: right;\">-0.815699</td><td style = \"text-align: right;\">-0.00038057</td><td style = \"text-align: right;\">2.61328</td><td style = \"text-align: right;\">0.000145629</td></tr><tr><td class = \"rowNumber\" style = \"font-weight: bold; text-align: right;\">5</td><td style = \"text-align: right;\">4</td><td style = \"text-align: right;\">-0.815553</td><td style = \"text-align: right;\">-7.99649e-8</td><td style = \"text-align: right;\">2.61218</td><td style = \"text-align: right;\">3.06123e-8</td></tr></tbody></table></div>"
      ],
      "text/latex": [
       "\\begin{tabular}{r|ccccc}\n",
       "\t& k & x & f & fp & err\\\\\n",
       "\t\\hline\n",
       "\t& Int64 & Float64 & Float64 & Float64 & Float64\\\\\n",
       "\t\\hline\n",
       "\t1 & 0 & 0.1 & 1.10507 & 1.10117 & 1.00354 \\\\\n",
       "\t2 & 1 & -0.903542 & -0.261356 & 3.35569 & 0.0778845 \\\\\n",
       "\t3 & 2 & -0.825657 & -0.0267812 & 2.68938 & 0.00995813 \\\\\n",
       "\t4 & 3 & -0.815699 & -0.00038057 & 2.61328 & 0.000145629 \\\\\n",
       "\t5 & 4 & -0.815553 & -7.99649e-8 & 2.61218 & 3.06123e-8 \\\\\n",
       "\\end{tabular}\n"
      ],
      "text/plain": [
       "\u001b[1m5×5 DataFrame\u001b[0m\n",
       "\u001b[1m Row \u001b[0m│\u001b[1m k     \u001b[0m\u001b[1m x         \u001b[0m\u001b[1m f           \u001b[0m\u001b[1m fp      \u001b[0m\u001b[1m err         \u001b[0m\n",
       "     │\u001b[90m Int64 \u001b[0m\u001b[90m Float64   \u001b[0m\u001b[90m Float64     \u001b[0m\u001b[90m Float64 \u001b[0m\u001b[90m Float64     \u001b[0m\n",
       "─────┼─────────────────────────────────────────────────────\n",
       "   1 │     0   0.1        1.10507     1.10117  1.00354\n",
       "   2 │     1  -0.903542  -0.261356    3.35569  0.0778845\n",
       "   3 │     2  -0.825657  -0.0267812   2.68938  0.00995813\n",
       "   4 │     3  -0.815699  -0.00038057  2.61328  0.000145629\n",
       "   5 │     4  -0.815553  -7.99649e-8  2.61218  3.06123e-8"
      ]
     },
     "execution_count": 36,
     "metadata": {},
     "output_type": "execute_result"
    }
   ],
   "source": [
    "tol = 10.0^(-5)\n",
    "err = 10.0^5\n",
    "x0 = 0.1\n",
    "\n",
    "function f6(x)\n",
    "    exp(x) - x^4\n",
    "end\n",
    "\n",
    "function f6p(x)\n",
    "    exp(x) - 4 * (x^3)\n",
    "end\n",
    "\n",
    "k = 0\n",
    "resual = DataFrame(k=NaN,x=NaN,f=NaN,fp=NaN,err=NaN)\n",
    "\n",
    "while err>tol\n",
    "    x = x0 - f6(x0)/f6p(x0)\n",
    "    err = abs(x-x0)\n",
    "    if k==0\n",
    "        resual = DataFrame(k=k,x=x0,f=f6(x0),fp=f6p(x0),err=err)\n",
    "    else\n",
    "        push!(resual, ([k,x0,f6(x0),f6p(x0),err]))\n",
    "    end\n",
    "    x0 = x\n",
    "    k = k + 1\n",
    "end\n",
    "resual"
   ]
  },
  {
   "cell_type": "code",
   "execution_count": 37,
   "id": "f381e506",
   "metadata": {},
   "outputs": [
    {
     "data": {
      "text/plain": [
       "-0.8155534494212614"
      ]
     },
     "execution_count": 37,
     "metadata": {},
     "output_type": "execute_result"
    }
   ],
   "source": [
    "root = resual[5,2]"
   ]
  },
  {
   "cell_type": "code",
   "execution_count": 38,
   "id": "f7fd2567",
   "metadata": {},
   "outputs": [
    {
     "data": {
      "image/png": "[encoded data removed]",
      "text/plain": [
       "Figure(PyObject <Figure size 640x480 with 1 Axes>)"
      ]
     },
     "metadata": {},
     "output_type": "display_data"
    }
   ],
   "source": [
    "x = collect(-1.5 : 0.01 : 1.5)\n",
    "p6 = exp.(x) .- (x.^4)\n",
    "\n",
    "fig, ax = subplots()\n",
    "\n",
    "ax.plot(x,p6,color=\"blue\",linewidth=2,label=L\"f(x) = e^x - x^4\",alpha=0.4)\n",
    "ax.plot(x,zeros(length(x)),color=\"black\",linewidth=2,alpha=1)\n",
    "ax.plot(root,0,\"-ro\", alpha=1, label=\"($root, 0)\")\n",
    "ax.legend(loc=\"upper left\");\n",
    "ax.grid(\"on\");"
   ]
  },
  {
   "attachments": {},
   "cell_type": "markdown",
   "id": "45b5e69c",
   "metadata": {},
   "source": [
    "The graph confirms that the Newton-Raphson method successfully found a root. There is another root that could be found if we chose a different starting point. The Newton Raphson method will not always find the same solution across different starting values."
   ]
  },
  {
   "cell_type": "markdown",
   "id": "a0bc83b3",
   "metadata": {},
   "source": [
    "### Traveling Salesperson Problem"
   ]
  },
  {
   "cell_type": "code",
   "execution_count": 39,
   "id": "cd0216d3",
   "metadata": {},
   "outputs": [
    {
     "data": {
      "text/latex": [
       "$$ 2451 x_{1,2} + 713 x_{1,3} + 1018 x_{1,4} + 1631 x_{1,5} + 1374 x_{1,6} + 2408 x_{1,7} + 213 x_{1,8} + 2571 x_{1,9} + 875 x_{1,10} + 1420 x_{1,11} + 2145 x_{1,12} + 1972 x_{1,13} + 2451 x_{2,1} + 1745 x_{2,3} + 1524 x_{2,4} + 831 x_{2,5} + 1240 x_{2,6} + 959 x_{2,7} + 2596 x_{2,8} + 403 x_{2,9} + 1589 x_{2,10} + 1374 x_{2,11} + 357 x_{2,12} + 579 x_{2,13} + 713 x_{3,1} + 1745 x_{3,2} + 355 x_{3,4} + 920 x_{3,5} + 803 x_{3,6} + 1737 x_{3,7} + 851 x_{3,8} + 1858 x_{3,9} + 262 x_{3,10} + 940 x_{3,11} + 1453 x_{3,12} + 1260 x_{3,13} + 1018 x_{4,1} + 1524 x_{4,2} + 355 x_{4,3} + 700 x_{4,5} + 862 x_{4,6} + 1395 x_{4,7} + 1123 x_{4,8} + 1584 x_{4,9} + 466 x_{4,10} + 1056 x_{4,11} + 1280 x_{4,12} + 987 x_{4,13} + 1631 x_{5,1} + 831 x_{5,2} + 920 x_{5,3} + 700 x_{5,4} + 663 x_{5,6} + 1021 x_{5,7} + 1769 x_{5,8} + 949 x_{5,9} + 796 x_{5,10} + 879 x_{5,11} + 586 x_{5,12} + 371 x_{5,13} + 1374 x_{6,1} + 1240 x_{6,2} + 803 x_{6,3} + 862 x_{6,4} + 663 x_{6,5} + 1681 x_{6,7} + 1551 x_{6,8} + 1765 x_{6,9} + 547 x_{6,10} + 225 x_{6,11} + 887 x_{6,12} + 999 x_{6,13} + 2408 x_{7,1} + 959 x_{7,2} + 1737 x_{7,3} + 1395 x_{7,4} + 1021 x_{7,5} + 1681 x_{7,6} + 2493 x_{7,8} + 678 x_{7,9} + 1724 x_{7,10} + 1891 x_{7,11} + 1114 x_{7,12} + 701 x_{7,13} + 213 x_{8,1} + 2596 x_{8,2} + 851 x_{8,3} + 1123 x_{8,4} + 1769 x_{8,5} + 1551 x_{8,6} + 2493 x_{8,7} + 2699 x_{8,9} + 1038 x_{8,10} + 1605 x_{8,11} + 2300 x_{8,12} + 2099 x_{8,13} + 2571 x_{9,1} + 403 x_{9,2} + 1858 x_{9,3} + 1584 x_{9,4} + 949 x_{9,5} + 1765 x_{9,6} + 678 x_{9,7} + 2699 x_{9,8} + 1744 x_{9,10} + 1645 x_{9,11} + 653 x_{9,12} + 600 x_{9,13} + 875 x_{10,1} + 1589 x_{10,2} + 262 x_{10,3} + 466 x_{10,4} + 796 x_{10,5} + 547 x_{10,6} + 1724 x_{10,7} + 1038 x_{10,8} + 1744 x_{10,9} + 679 x_{10,11} + 1272 x_{10,12} + 1162 x_{10,13} + 1420 x_{11,1} + 1374 x_{11,2} + 940 x_{11,3} + 1056 x_{11,4} + 879 x_{11,5} + 225 x_{11,6} + 1891 x_{11,7} + 1605 x_{11,8} + 1645 x_{11,9} + 679 x_{11,10} + 1017 x_{11,12} + 1200 x_{11,13} + 2145 x_{12,1} + 357 x_{12,2} + 1453 x_{12,3} + 1280 x_{12,4} + 586 x_{12,5} + 887 x_{12,6} + 1114 x_{12,7} + 2300 x_{12,8} + 653 x_{12,9} + 1272 x_{12,10} + 1017 x_{12,11} + 504 x_{12,13} + 1972 x_{13,1} + 579 x_{13,2} + 1260 x_{13,3} + 987 x_{13,4} + 371 x_{13,5} + 999 x_{13,6} + 701 x_{13,7} + 2099 x_{13,8} + 600 x_{13,9} + 1162 x_{13,10} + 1200 x_{13,11} + 504 x_{13,12} $$"
      ],
      "text/plain": [
       "2451 x[1,2] + 713 x[1,3] + 1018 x[1,4] + 1631 x[1,5] + 1374 x[1,6] + 2408 x[1,7] + 213 x[1,8] + 2571 x[1,9] + 875 x[1,10] + 1420 x[1,11] + 2145 x[1,12] + 1972 x[1,13] + 2451 x[2,1] + 1745 x[2,3] + 1524 x[2,4] + 831 x[2,5] + 1240 x[2,6] + 959 x[2,7] + 2596 x[2,8] + 403 x[2,9] + 1589 x[2,10] + 1374 x[2,11] + 357 x[2,12] + 579 x[2,13] + 713 x[3,1] + 1745 x[3,2] + 355 x[3,4] + 920 x[3,5] + 803 x[3,6] + 1737 x[3,7] + 851 x[3,8] + 1858 x[3,9] + 262 x[3,10] + 940 x[3,11] + 1453 x[3,12] + 1260 x[3,13] + 1018 x[4,1] + 1524 x[4,2] + 355 x[4,3] + 700 x[4,5] + 862 x[4,6] + 1395 x[4,7] + 1123 x[4,8] + 1584 x[4,9] + 466 x[4,10] + 1056 x[4,11] + 1280 x[4,12] + 987 x[4,13] + 1631 x[5,1] + 831 x[5,2] + 920 x[5,3] + 700 x[5,4] + 663 x[5,6] + 1021 x[5,7] + 1769 x[5,8] + 949 x[5,9] + 796 x[5,10] + 879 x[5,11] + 586 x[5,12] + 371 x[5,13] + 1374 x[6,1] + 1240 x[6,2] + 803 x[6,3] + 862 x[6,4] + 663 x[6,5] + 1681 x[6,7] + 1551 x[6,8] + 1765 x[6,9] + 547 x[6,10] + 225 x[6,11] + 887 x[6,12] + 999 x[6,13] + 2408 x[7,1] + 959 x[7,2] + 1737 x[7,3] + 1395 x[7,4] + 1021 x[7,5] + 1681 x[7,6] + 2493 x[7,8] + 678 x[7,9] + 1724 x[7,10] + 1891 x[7,11] + 1114 x[7,12] + 701 x[7,13] + 213 x[8,1] + 2596 x[8,2] + 851 x[8,3] + 1123 x[8,4] + 1769 x[8,5] + 1551 x[8,6] + 2493 x[8,7] + 2699 x[8,9] + 1038 x[8,10] + 1605 x[8,11] + 2300 x[8,12] + 2099 x[8,13] + 2571 x[9,1] + 403 x[9,2] + 1858 x[9,3] + 1584 x[9,4] + 949 x[9,5] + 1765 x[9,6] + 678 x[9,7] + 2699 x[9,8] + 1744 x[9,10] + 1645 x[9,11] + 653 x[9,12] + 600 x[9,13] + 875 x[10,1] + 1589 x[10,2] + 262 x[10,3] + 466 x[10,4] + 796 x[10,5] + 547 x[10,6] + 1724 x[10,7] + 1038 x[10,8] + 1744 x[10,9] + 679 x[10,11] + 1272 x[10,12] + 1162 x[10,13] + 1420 x[11,1] + 1374 x[11,2] + 940 x[11,3] + 1056 x[11,4] + 879 x[11,5] + 225 x[11,6] + 1891 x[11,7] + 1605 x[11,8] + 1645 x[11,9] + 679 x[11,10] + 1017 x[11,12] + 1200 x[11,13] + 2145 x[12,1] + 357 x[12,2] + 1453 x[12,3] + 1280 x[12,4] + 586 x[12,5] + 887 x[12,6] + 1114 x[12,7] + 2300 x[12,8] + 653 x[12,9] + 1272 x[12,10] + 1017 x[12,11] + 504 x[12,13] + 1972 x[13,1] + 579 x[13,2] + 1260 x[13,3] + 987 x[13,4] + 371 x[13,5] + 999 x[13,6] + 701 x[13,7] + 2099 x[13,8] + 600 x[13,9] + 1162 x[13,10] + 1200 x[13,11] + 504 x[13,12]"
      ]
     },
     "execution_count": 39,
     "metadata": {},
     "output_type": "execute_result"
    }
   ],
   "source": [
    "using JuMP, GLPK\n",
    "\n",
    "cities = Dict(\n",
    "    1 => \"New York\",\n",
    "    2 => \"Los Angeles\",\n",
    "    3 => \"Chicago\",\n",
    "    4 => \"Minneapolis\",\n",
    "    5 => \"Denver\",\n",
    "    6 => \"Dallas\",\n",
    "    7 => \"Seattle\",\n",
    "    8 => \"Boston\",\n",
    "    9 => \"San Francisco\", \n",
    "    10 => \"St. Louis\",\n",
    "    11 => \"Houston\",\n",
    "    12 => \"Phoenix\",\n",
    "    13 => \"Salt Lake City\"\n",
    ")\n",
    "\n",
    "c = reshape(\n",
    "    [\n",
    "        0, 2451, 713, 1018, 1631, 1374, 2408, 213, 2571, 875, 1420, 2145, 1972,\n",
    "        2451, 0, 1745, 1524, 831, 1240, 959, 2596, 403, 1589, 1374, 357, 579,\n",
    "        713, 1745, 0, 355, 920, 803, 1737, 851, 1858, 262, 940, 1453, 1260,\n",
    "        1018, 1524, 355, 0, 700, 862, 1395, 1123, 1584, 466, 1056, 1280, 987,\n",
    "        1631, 831, 920, 700, 0, 663, 1021, 1769, 949, 796, 879, 586, 371,\n",
    "        1374, 1240, 803, 862, 663, 0, 1681, 1551, 1765, 547, 225, 887, 999,\n",
    "        2408, 959, 1737, 1395, 1021, 1681, 0, 2493, 678, 1724, 1891, 1114, 701,\n",
    "        213, 2596, 851, 1123, 1769, 1551, 2493, 0, 2699, 1038, 1605, 2300, 2099,\n",
    "        2571, 403, 1858, 1584, 949, 1765, 678, 2699, 0, 1744, 1645, 653, 600,\n",
    "        875, 1589, 262, 466, 796, 547, 1724, 1038, 1744, 0, 679, 1272, 1162,\n",
    "        1420, 1374, 940, 1056, 879, 225, 1891, 1605, 1645, 679, 0, 1017, 1200,\n",
    "        2145, 357, 1453, 1280, 586, 887, 1114, 2300, 653, 1272, 1017, 0, 504,\n",
    "        1972, 579, 1260, 987, 371, 999, 701, 2099, 600, 1162, 1200, 504, 0\n",
    "    ],\n",
    "    (13, 13)\n",
    ")\n",
    "\n",
    "m = Model(GLPK.Optimizer)\n",
    "\n",
    "N = length(cities)\n",
    "\n",
    "#add decision variables\n",
    "@variable(m, x[1:N, 1:N], Bin)\n",
    "\n",
    "#add auxiliary variables\n",
    "@variable(m, u[1:N], Int)\n",
    "\n",
    "for i=1:N \n",
    "    @constraint(m, x[i,i] == 0) #can't stay in city\n",
    "end\n",
    "\n",
    "for i=1:N \n",
    "    @constraint(m, sum(x[i,1:N]) == 1) #can only leave city once\n",
    "end\n",
    "\n",
    "for j=1:N\n",
    "    @constraint(m, sum(x[1:N,j]) == 1) #can only arrive in city once\n",
    "end\n",
    "\n",
    "\n",
    "@constraint(m, [i in 1:N, j in 2:N], u[j] + (N-2) >= u[i] + (N-1) * x[i,j]) # no subtours\n",
    "\n",
    "for i in 1:N\n",
    "    @constraint(m, u[i] >= 1)\n",
    "end\n",
    "\n",
    "@objective(m, Min, sum(c[i,j]*x[i,j] for i=1:N,j=1:N))\n",
    "\n"
   ]
  },
  {
   "cell_type": "code",
   "execution_count": 40,
   "id": "4991ad8f",
   "metadata": {},
   "outputs": [],
   "source": [
    "optimize!(m)"
   ]
  },
  {
   "cell_type": "code",
   "execution_count": 41,
   "id": "0c1eecb5",
   "metadata": {},
   "outputs": [
    {
     "name": "stdout",
     "output_type": "stream",
     "text": [
      "Objective value: 7293.0\n",
      "x[8,1] = 1.0\n",
      "x[12,2] = 1.0\n",
      "x[4,3] = 1.0\n",
      "x[5,4] = 1.0\n",
      "x[13,5] = 1.0\n",
      "x[10,6] = 1.0\n",
      "x[9,7] = 1.0\n",
      "x[3,8] = 1.0\n",
      "x[2,9] = 1.0\n",
      "x[1,10] = 1.0\n",
      "x[6,11] = 1.0\n",
      "x[11,12] = 1.0\n",
      "x[7,13] = 1.0\n",
      "u[1] = 1.0\n",
      "u[2] = 6.0\n",
      "u[3] = 12.0\n",
      "u[4] = 11.0\n",
      "u[5] = 10.0\n",
      "u[6] = 3.0\n",
      "u[7] = 8.0\n",
      "u[8] = 13.0\n",
      "u[9] = 7.0\n",
      "u[10] = 2.0\n",
      "u[11] = 4.0\n",
      "u[12] = 5.0\n",
      "u[13] = 9.0\n"
     ]
    }
   ],
   "source": [
    "obj = JuMP.objective_value(m)\n",
    "\n",
    "println(\"Objective value: \", obj)\n",
    "for variable in all_variables(m)\n",
    "    if value(variable) != 0\n",
    "        println(\"$(name(variable)) = $(value(variable))\")\n",
    "    end\n",
    "end\n",
    "\n"
   ]
  },
  {
   "cell_type": "code",
   "execution_count": 42,
   "id": "797fec02",
   "metadata": {},
   "outputs": [
    {
     "name": "stdout",
     "output_type": "stream",
     "text": [
      "from New York to St. Louis\n",
      "from St. Louis to Dallas\n",
      "from Dallas to Houston\n",
      "from Houston to Phoenix\n",
      "from Phoenix to Los Angeles\n",
      "from Los Angeles to San Francisco\n",
      "from San Francisco to Seattle\n",
      "from Seattle to Salt Lake City\n",
      "from Salt Lake City to Denver\n",
      "from Denver to Minneapolis\n",
      "from Minneapolis to Chicago\n",
      "from Chicago to Boston\n",
      "from Boston to New York\n"
     ]
    }
   ],
   "source": [
    "counter = 1\n",
    "i = 1\n",
    "while counter <= 13\n",
    "    println(\"from $(cities[i]) to $(cities[argmax(JuMP.value.(x)[i,:])])\")\n",
    "    i = argmax(JuMP.value.(x)[i,:])\n",
    "    counter += 1\n",
    "end"
   ]
  }
 ],
 "metadata": {
  "kernelspec": {
   "display_name": "Julia 1.8.4",
   "language": "julia",
   "name": "julia-1.8"
  },
  "language_info": {
   "file_extension": ".jl",
   "mimetype": "application/julia",
   "name": "julia",
   "version": "1.8.4"
  }
 },
 "nbformat": 4,
 "nbformat_minor": 5
}

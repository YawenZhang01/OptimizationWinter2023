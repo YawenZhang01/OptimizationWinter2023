{
 "cells": [
  {
   "cell_type": "code",
   "execution_count": 6,
   "metadata": {},
   "outputs": [
    {
     "data": {
      "text/html": [
       "<div><div style = \"float: left;\"><span>9×4 DataFrame</span></div><div style = \"clear: both;\"></div></div><div class = \"data-frame\" style = \"overflow-x: scroll;\"><table class = \"data-frame\" style = \"margin-bottom: 6px;\"><thead><tr class = \"header\"><th class = \"rowNumber\" style = \"font-weight: bold; text-align: right;\">Row</th><th style = \"text-align: left;\">Column1</th><th style = \"text-align: left;\">Column2</th><th style = \"text-align: left;\">Column3</th><th style = \"text-align: left;\">Column4</th></tr><tr class = \"subheader headerLastRow\"><th class = \"rowNumber\" style = \"font-weight: bold; text-align: right;\"></th><th title = \"String15\" style = \"text-align: left;\">String15</th><th title = \"String15\" style = \"text-align: left;\">String15</th><th title = \"String7\" style = \"text-align: left;\">String7</th><th title = \"String7\" style = \"text-align: left;\">String7</th></tr></thead><tbody><tr><td class = \"rowNumber\" style = \"font-weight: bold; text-align: right;\">1</td><td style = \"text-align: left;\">start_node_i</td><td style = \"text-align: left;\">end_node_j</td><td style = \"text-align: left;\">c_ij</td><td style = \"text-align: left;\">u_ij</td></tr><tr><td class = \"rowNumber\" style = \"font-weight: bold; text-align: right;\">2</td><td style = \"text-align: left;\">1</td><td style = \"text-align: left;\">2</td><td style = \"text-align: left;\">2</td><td style = \"text-align: left;\">Inf</td></tr><tr><td class = \"rowNumber\" style = \"font-weight: bold; text-align: right;\">3</td><td style = \"text-align: left;\">1</td><td style = \"text-align: left;\">3</td><td style = \"text-align: left;\">5</td><td style = \"text-align: left;\">Inf</td></tr><tr><td class = \"rowNumber\" style = \"font-weight: bold; text-align: right;\">4</td><td style = \"text-align: left;\">2</td><td style = \"text-align: left;\">3</td><td style = \"text-align: left;\">3</td><td style = \"text-align: left;\">Inf</td></tr><tr><td class = \"rowNumber\" style = \"font-weight: bold; text-align: right;\">5</td><td style = \"text-align: left;\">3</td><td style = \"text-align: left;\">4</td><td style = \"text-align: left;\">1</td><td style = \"text-align: left;\">Inf</td></tr><tr><td class = \"rowNumber\" style = \"font-weight: bold; text-align: right;\">6</td><td style = \"text-align: left;\">3</td><td style = \"text-align: left;\">5</td><td style = \"text-align: left;\">2</td><td style = \"text-align: left;\">1</td></tr><tr><td class = \"rowNumber\" style = \"font-weight: bold; text-align: right;\">7</td><td style = \"text-align: left;\">4</td><td style = \"text-align: left;\">1</td><td style = \"text-align: left;\">0</td><td style = \"text-align: left;\">Inf</td></tr><tr><td class = \"rowNumber\" style = \"font-weight: bold; text-align: right;\">8</td><td style = \"text-align: left;\">4</td><td style = \"text-align: left;\">5</td><td style = \"text-align: left;\">2</td><td style = \"text-align: left;\">Inf</td></tr><tr><td class = \"rowNumber\" style = \"font-weight: bold; text-align: right;\">9</td><td style = \"text-align: left;\">5</td><td style = \"text-align: left;\">2</td><td style = \"text-align: left;\">4</td><td style = \"text-align: left;\">Inf</td></tr></tbody></table></div>"
      ],
      "text/latex": [
       "\\begin{tabular}{r|cccc}\n",
       "\t& Column1 & Column2 & Column3 & Column4\\\\\n",
       "\t\\hline\n",
       "\t& String15 & String15 & String7 & String7\\\\\n",
       "\t\\hline\n",
       "\t1 & start\\_node\\_i & end\\_node\\_j & c\\_ij & u\\_ij \\\\\n",
       "\t2 & 1 & 2 & 2 & Inf \\\\\n",
       "\t3 & 1 & 3 & 5 & Inf \\\\\n",
       "\t4 & 2 & 3 & 3 & Inf \\\\\n",
       "\t5 & 3 & 4 & 1 & Inf \\\\\n",
       "\t6 & 3 & 5 & 2 & 1 \\\\\n",
       "\t7 & 4 & 1 & 0 & Inf \\\\\n",
       "\t8 & 4 & 5 & 2 & Inf \\\\\n",
       "\t9 & 5 & 2 & 4 & Inf \\\\\n",
       "\\end{tabular}\n"
      ],
      "text/plain": [
       "\u001b[1m9×4 DataFrame\u001b[0m\n",
       "\u001b[1m Row \u001b[0m│\u001b[1m Column1      \u001b[0m\u001b[1m Column2    \u001b[0m\u001b[1m Column3 \u001b[0m\u001b[1m Column4 \u001b[0m\n",
       "     │\u001b[90m String15     \u001b[0m\u001b[90m String15   \u001b[0m\u001b[90m String7 \u001b[0m\u001b[90m String7 \u001b[0m\n",
       "─────┼────────────────────────────────────────────\n",
       "   1 │ start_node_i  end_node_j  c_ij     u_ij\n",
       "   2 │ 1             2           2        Inf\n",
       "   3 │ 1             3           5        Inf\n",
       "   4 │ 2             3           3        Inf\n",
       "   5 │ 3             4           1        Inf\n",
       "   6 │ 3             5           2        1\n",
       "   7 │ 4             1           0        Inf\n",
       "   8 │ 4             5           2        Inf\n",
       "   9 │ 5             2           4        Inf"
      ]
     },
     "execution_count": 6,
     "metadata": {},
     "output_type": "execute_result"
    }
   ],
   "source": [
    "using CSV\n",
    "using DataFrames\n",
    "\n",
    "T = CSV.read(\"/Users/pez/Projects/OptimizationWinter2023/data/simple_network.csv\", DataFrame; delim = ',', header=false)\n",
    "# T = Matrix(T)\n",
    "T"
   ]
  },
  {
   "cell_type": "code",
   "execution_count": 5,
   "metadata": {},
   "outputs": [
    {
     "data": {
      "text/plain": [
       "9×4 Matrix{String15}:\n",
       " \"start_node_i\"  …  \"c_ij\"  \"u_ij\"\n",
       " \"1\"                \"2\"     \"Inf\"\n",
       " \"1\"                \"5\"     \"Inf\"\n",
       " \"2\"                \"3\"     \"Inf\"\n",
       " \"3\"                \"1\"     \"Inf\"\n",
       " \"3\"             …  \"2\"     \"1\"\n",
       " \"4\"                \"0\"     \"Inf\"\n",
       " \"4\"                \"2\"     \"Inf\"\n",
       " \"5\"                \"4\"     \"Inf\""
      ]
     },
     "execution_count": 5,
     "metadata": {},
     "output_type": "execute_result"
    }
   ],
   "source": [
    "Tv"
   ]
  },
  {
   "cell_type": "markdown",
   "metadata": {},
   "source": [
    "Network flow problem similar to the arbitrage problem. Flows between nodes.\n",
    "\n",
    "There are five nodes: $ n_1, ..., n_5 $. A node is demanding units when $b_i < 0$; in surplus when $b_i > 0$; otherwise no demand $b_i = 0$. Let $x_{ij}$ be quantity and $c_{ij}$ is the cost to travel from $n_{i}$ to $n_{j}$. Then total cost $C = \\Sigma x_{ij} * c_{ij}$. There is a finite number of paths from $n_i$ to $n_j$, and supply can flow from node to node only in one direction. \n",
    "\n",
    "Objective: minimize the sum of the cost from $n_{ij}$ to $n_{i^*j^*}$ for the network to reach equilibrium. Reach steady state with the lowest cost. \n",
    "\n",
    "Let $c_{ij} = Inf$ when path cannot be traveled, for example $c_14$. \n",
    "\n",
    "Constraints: \n",
    "\n",
    "* Directions you can go\n",
    "* Cost to travel to a node\n",
    "* Demands at each node\n",
    "\n",
    "For $n_1$: $ - 2x_{12} - 5x_{13} + 0x_{41} = b_1 = -5$\n",
    "\n",
    "For $n_2$: $ 2x_{12} + 4x_{52} - 3x_{23} = b_1 = 10$\n",
    "\n",
    "For $n_3$: $ 1x_{13} + 3x_{32} - 2x_{35} - 1x_{34} = b_3 = 0$\n",
    "\n",
    "For $n_4$: $ - 0x_{41} - 2x_{45} + 1x_{34} = b_4 = 4 $ \n",
    "\n",
    "Quantity moved must not be greater than supply\n",
    "\n",
    "\n",
    "One approach: \n",
    "- Combination of every path from max point (most supply) to minimum point (most demand), and find path with lowest cost. Har"
   ]
  },
  {
   "cell_type": "markdown",
   "metadata": {},
   "source": []
  },
  {
   "cell_type": "code",
   "execution_count": 7,
   "metadata": {},
   "outputs": [
    {
     "data": {
      "text/html": [
       "<div><div style = \"float: left;\"><span>9×4 DataFrame</span></div><div style = \"clear: both;\"></div></div><div class = \"data-frame\" style = \"overflow-x: scroll;\"><table class = \"data-frame\" style = \"margin-bottom: 6px;\"><thead><tr class = \"header\"><th class = \"rowNumber\" style = \"font-weight: bold; text-align: right;\">Row</th><th style = \"text-align: left;\">Column1</th><th style = \"text-align: left;\">Column2</th><th style = \"text-align: left;\">Column3</th><th style = \"text-align: left;\">Column4</th></tr><tr class = \"subheader headerLastRow\"><th class = \"rowNumber\" style = \"font-weight: bold; text-align: right;\"></th><th title = \"String15\" style = \"text-align: left;\">String15</th><th title = \"String15\" style = \"text-align: left;\">String15</th><th title = \"String7\" style = \"text-align: left;\">String7</th><th title = \"String7\" style = \"text-align: left;\">String7</th></tr></thead><tbody><tr><td class = \"rowNumber\" style = \"font-weight: bold; text-align: right;\">1</td><td style = \"text-align: left;\">start_node_i</td><td style = \"text-align: left;\">end_node_j</td><td style = \"text-align: left;\">c_ij</td><td style = \"text-align: left;\">u_ij</td></tr><tr><td class = \"rowNumber\" style = \"font-weight: bold; text-align: right;\">2</td><td style = \"text-align: left;\">1</td><td style = \"text-align: left;\">2</td><td style = \"text-align: left;\">2</td><td style = \"text-align: left;\">Inf</td></tr><tr><td class = \"rowNumber\" style = \"font-weight: bold; text-align: right;\">3</td><td style = \"text-align: left;\">1</td><td style = \"text-align: left;\">3</td><td style = \"text-align: left;\">5</td><td style = \"text-align: left;\">Inf</td></tr><tr><td class = \"rowNumber\" style = \"font-weight: bold; text-align: right;\">4</td><td style = \"text-align: left;\">2</td><td style = \"text-align: left;\">3</td><td style = \"text-align: left;\">3</td><td style = \"text-align: left;\">Inf</td></tr><tr><td class = \"rowNumber\" style = \"font-weight: bold; text-align: right;\">5</td><td style = \"text-align: left;\">3</td><td style = \"text-align: left;\">4</td><td style = \"text-align: left;\">1</td><td style = \"text-align: left;\">Inf</td></tr><tr><td class = \"rowNumber\" style = \"font-weight: bold; text-align: right;\">6</td><td style = \"text-align: left;\">3</td><td style = \"text-align: left;\">5</td><td style = \"text-align: left;\">2</td><td style = \"text-align: left;\">1</td></tr><tr><td class = \"rowNumber\" style = \"font-weight: bold; text-align: right;\">7</td><td style = \"text-align: left;\">4</td><td style = \"text-align: left;\">1</td><td style = \"text-align: left;\">0</td><td style = \"text-align: left;\">Inf</td></tr><tr><td class = \"rowNumber\" style = \"font-weight: bold; text-align: right;\">8</td><td style = \"text-align: left;\">4</td><td style = \"text-align: left;\">5</td><td style = \"text-align: left;\">2</td><td style = \"text-align: left;\">Inf</td></tr><tr><td class = \"rowNumber\" style = \"font-weight: bold; text-align: right;\">9</td><td style = \"text-align: left;\">5</td><td style = \"text-align: left;\">2</td><td style = \"text-align: left;\">4</td><td style = \"text-align: left;\">Inf</td></tr></tbody></table></div>"
      ],
      "text/latex": [
       "\\begin{tabular}{r|cccc}\n",
       "\t& Column1 & Column2 & Column3 & Column4\\\\\n",
       "\t\\hline\n",
       "\t& String15 & String15 & String7 & String7\\\\\n",
       "\t\\hline\n",
       "\t1 & start\\_node\\_i & end\\_node\\_j & c\\_ij & u\\_ij \\\\\n",
       "\t2 & 1 & 2 & 2 & Inf \\\\\n",
       "\t3 & 1 & 3 & 5 & Inf \\\\\n",
       "\t4 & 2 & 3 & 3 & Inf \\\\\n",
       "\t5 & 3 & 4 & 1 & Inf \\\\\n",
       "\t6 & 3 & 5 & 2 & 1 \\\\\n",
       "\t7 & 4 & 1 & 0 & Inf \\\\\n",
       "\t8 & 4 & 5 & 2 & Inf \\\\\n",
       "\t9 & 5 & 2 & 4 & Inf \\\\\n",
       "\\end{tabular}\n"
      ],
      "text/plain": [
       "\u001b[1m9×4 DataFrame\u001b[0m\n",
       "\u001b[1m Row \u001b[0m│\u001b[1m Column1      \u001b[0m\u001b[1m Column2    \u001b[0m\u001b[1m Column3 \u001b[0m\u001b[1m Column4 \u001b[0m\n",
       "     │\u001b[90m String15     \u001b[0m\u001b[90m String15   \u001b[0m\u001b[90m String7 \u001b[0m\u001b[90m String7 \u001b[0m\n",
       "─────┼────────────────────────────────────────────\n",
       "   1 │ start_node_i  end_node_j  c_ij     u_ij\n",
       "   2 │ 1             2           2        Inf\n",
       "   3 │ 1             3           5        Inf\n",
       "   4 │ 2             3           3        Inf\n",
       "   5 │ 3             4           1        Inf\n",
       "   6 │ 3             5           2        1\n",
       "   7 │ 4             1           0        Inf\n",
       "   8 │ 4             5           2        Inf\n",
       "   9 │ 5             2           4        Inf"
      ]
     },
     "execution_count": 7,
     "metadata": {},
     "output_type": "execute_result"
    }
   ],
   "source": [
    "using CSV\n",
    "using DataFrames\n",
    "\n",
    "T = CSV.read(\"/Users/pez/Projects/OptimizationWinter2023/data/simple_network.csv\", DataFrame; delim = ',', header=false)\n",
    "T = Matrix(T)"
   ]
  },
  {
   "cell_type": "code",
   "execution_count": 8,
   "metadata": {},
   "outputs": [
    {
     "data": {
      "text/plain": [
       "9×4 Matrix{String15}:\n",
       " \"start_node_i\"  …  \"c_ij\"  \"u_ij\"\n",
       " \"1\"                \"2\"     \"Inf\"\n",
       " \"1\"                \"5\"     \"Inf\"\n",
       " \"2\"                \"3\"     \"Inf\"\n",
       " \"3\"                \"1\"     \"Inf\"\n",
       " \"3\"             …  \"2\"     \"1\"\n",
       " \"4\"                \"0\"     \"Inf\"\n",
       " \"4\"                \"2\"     \"Inf\"\n",
       " \"5\"                \"4\"     \"Inf\""
      ]
     },
     "execution_count": 8,
     "metadata": {},
     "output_type": "execute_result"
    }
   ],
   "source": [
    "T = Matrix(T)"
   ]
  },
  {
   "cell_type": "code",
   "execution_count": 11,
   "metadata": {},
   "outputs": [
    {
     "data": {
      "text/plain": [
       "9"
      ]
     },
     "execution_count": 11,
     "metadata": {},
     "output_type": "execute_result"
    }
   ],
   "source": [
    "size(T, 1)"
   ]
  },
  {
   "cell_type": "code",
   "execution_count": 19,
   "metadata": {},
   "outputs": [
    {
     "data": {
      "text/plain": [
       "\"Inf\""
      ]
     },
     "execution_count": 19,
     "metadata": {},
     "output_type": "execute_result"
    }
   ],
   "source": [
    "T[2,4]"
   ]
  },
  {
   "cell_type": "code",
   "execution_count": null,
   "metadata": {},
   "outputs": [],
   "source": [
    "using JuMP, GLPK\n",
    "\n",
    "m = Model(GLPK.Optimizer)\n",
    "\n",
    "N = 5\n",
    "L = size(T, 1)\n",
    "C = [ \n",
    "\n",
    "]\n",
    "\n",
    "\n",
    "@variable(m, Inf .> x[l=1:L] .>= 0)\n",
    "\n",
    "@constraint(m, )\n",
    "\n",
    "@objective(m, Min, sum(x[l:]))\n",
    "\n",
    "@variable(myModel, x1 >= 0, Int)\n",
    "@variable(myModel, x2 >= 0, Int)\n",
    "@variable(myModel, x3 >= 0, Int)\n",
    "@variable(myModel, x4 >= 0, Int)\n",
    "@variable(myModel, x5 >= 0, Int)\n",
    "@variable(myModel, x6 >= 0, Int)\n",
    "@constraint(myModel, x6   + x1 >=2)\n",
    "@constraint(myModel, x1   + x2 >=7)\n",
    "@constraint(myModel, x2   + x3 >=10)\n",
    "@constraint(myModel, x3   + x4 >=15)\n",
    "@constraint(myModel, x4   + x5 >=5)\n",
    "@constraint(myModel, x5   + x6 >=2)\n",
    "\n",
    "@objective(myModel, Min, x1+x2+x3+x4+x5+x6)\n",
    "print(myModel)\n"
   ]
  },
  {
   "cell_type": "code",
   "execution_count": 23,
   "metadata": {},
   "outputs": [
    {
     "ename": "LoadError",
     "evalue": "UndefVarError: M not defined",
     "output_type": "error",
     "traceback": [
      "UndefVarError: M not defined",
      "",
      "Stacktrace:",
      " [1] top-level scope",
      "   @ In[23]:1"
     ]
    }
   ],
   "source": [
    "M[8,8]"
   ]
  },
  {
   "cell_type": "code",
   "execution_count": null,
   "metadata": {},
   "outputs": [],
   "source": []
  },
  {
   "cell_type": "markdown",
   "metadata": {},
   "source": [
    "A matrix ... node 1... something going into node one, something going out of node one... +1 or -1.. or 0 its not. b is demand/supply. There is cost...? Objective function has objective function. "
   ]
  },
  {
   "cell_type": "markdown",
   "metadata": {},
   "source": [
    "For each node... look at inflow to node, outflow to node; sum has to equal to supply of node.\n",
    "\n"
   ]
  },
  {
   "cell_type": "markdown",
   "metadata": {},
   "source": []
  }
 ],
 "metadata": {
  "kernelspec": {
   "display_name": "Julia 1.8.4",
   "language": "julia",
   "name": "julia-1.8"
  },
  "language_info": {
   "file_extension": ".jl",
   "mimetype": "application/julia",
   "name": "julia",
   "version": "1.8.4"
  },
  "orig_nbformat": 4
 },
 "nbformat": 4,
 "nbformat_minor": 2
}

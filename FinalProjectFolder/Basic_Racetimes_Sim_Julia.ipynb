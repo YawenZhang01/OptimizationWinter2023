{
 "cells": [
  {
   "cell_type": "code",
   "execution_count": 199,
   "metadata": {},
   "outputs": [
    {
     "name": "stderr",
     "output_type": "stream",
     "text": [
      "WARNING: replacing module tire_deg.\n"
     ]
    },
    {
     "data": {
      "text/plain": [
       "calc_racetimes_basic (generic function with 2 methods)"
      ]
     },
     "execution_count": 199,
     "metadata": {},
     "output_type": "execute_result"
    }
   ],
   "source": [
    "include(\"./tire_deg.jl\")\n",
    "\n",
    "function calc_racetimes_basic(;t_base:: Union{Float64,Int},\n",
    "    tot_no_laps:: Union{Float64,Int},\n",
    "    t_lap_sens_mass:: Float64,\n",
    "    t_pitdrive_inlap:: Union{Float64,Int},\n",
    "    t_pitdrive_outlap:: Union{Float64,Int},\n",
    "    t_pit_tirechange:: Union{Float64,Int},\n",
    "    pits_aft_finishline:: Bool,\n",
    "    cold_tire_pen:: Union{Float64,Int},\n",
    "    p_grid:: Int,\n",
    "    t_loss_pergridpos:: Union{Float64,Int},\n",
    "    t_loss_firstlap:: Union{Float64,Int},\n",
    "    strategy:: Vector{Vector{Any}},\n",
    "    m_fuel_init:: Union{Float64,Int},\n",
    "    b_fuel_perlap:: Float64)\n",
    "\n",
    "    # ------------------------------------------------------------------------------------------------------------------\n",
    "    # PREPARATIONS -----------------------------------------------------------------------------------------------------\n",
    "    # ------------------------------------------------------------------------------------------------------------------\n",
    "\n",
    "    length(strategy) == 0 && error(\"Start compound information must be provided\")\n",
    "    length(strategy) == 1 && error(\"There is no pitstop given in the strategy data. Cars must pit at least once\")\n",
    "    0 in [length(x) == 3 for x in strategy] && error(\"Inserted strategy data does not contain [inlap, compound, age] for all pit stops!\")\n",
    "    \n",
    "    #make sure strategy pit stops are in sequential order\n",
    "    pit_order = [x[1] for x in race_strat]\n",
    "    for x in length(pit_order)-1\n",
    "        if pit_order[x] >= pit_order[x+1]\n",
    "            error(\"The given inlaps are not sorted in a rising order!\")\n",
    "        end\n",
    "    end\n",
    "\n",
    "    # ------------------------------------------------------------------------------------------------------------------\n",
    "    # CONSIDER BASE LAP TIME, FUEL MASS LOSS AND RACE START ------------------------------------------------------------\n",
    "    # ------------------------------------------------------------------------------------------------------------------\n",
    "\n",
    "    # set base lap time\n",
    "    t_laps = vec(ones(1, tot_no_laps) .* t_base)\n",
    "\n",
    "    # add fuel mass time loss for every lap (considered with fuel mass at start of respective lap)\n",
    "    t_laps += (m_fuel_init .- b_fuel_perlap .* [0:1:tot_no_laps-1;]) .* t_lap_sens_mass\n",
    "\n",
    "    #add race start losses\n",
    "    t_laps[1] += t_loss_firstlap + (p_grid - 1) * t_loss_pergridpos\n",
    "\n",
    "    # ------------------------------------------------------------------------------------------------------------------\n",
    "    # CONSIDER TIRE DEGRADATION ----------------------------------------------------------------------------------------\n",
    "    # ------------------------------------------------------------------------------------------------------------------\n",
    "\n",
    "    # loop through all the pit stops\n",
    "    for idx in 1:length(strategy)\n",
    "        cur_inlap = strategy[idx][1]\n",
    "    \n",
    "        # get current stint length\n",
    "        if idx  < length(strategy)\n",
    "            len_cur_stint = strategy[idx + 1][1] - cur_inlap\n",
    "        else\n",
    "            len_cur_stint = tot_no_laps - cur_inlap\n",
    "        end\n",
    "\n",
    "        # get compound until current pitstop\n",
    "        comp_cur_stint = strategy[idx][2]\n",
    "\n",
    "        # get tire age at the beginning of this stint\n",
    "        age_cur_stint = strategy[idx][3]\n",
    "\n",
    "        # add tire losses (degradation considered on basis of the tire age at the start of a lap)\n",
    "        t_laps[cur_inlap+1:cur_inlap + len_cur_stint] += tire_deg.calc_tire_degradation(;tire_age_start=age_cur_stint,stint_length=len_cur_stint,compound=comp_cur_stint)\n",
    "\n",
    "        # consider cold tires in the first lap of a stint (if inlap is not the last lap of the race)\n",
    "        if cur_inlap < tot_no_laps\n",
    "            t_laps[cur_inlap+1] += cold_tire_pen\n",
    "        end\n",
    "    end\n",
    "\n",
    "    # ------------------------------------------------------------------------------------------------------------------\n",
    "    # CONSIDER PIT STOPS -----------------------------------------------------------------------------------------------\n",
    "    # ------------------------------------------------------------------------------------------------------------------\n",
    "\n",
    "    # create array which is not affected by FCY phases afterwards\n",
    "    t_laps_pit = vec(zeros(1,tot_no_laps))\n",
    "\n",
    "\n",
    "    # loop through all the pit stops -----------------------------------------------------------------------------------\n",
    "    for idx in 1:length(strategy)\n",
    "        cur_inlap = strategy[idx][1]\n",
    "\n",
    "        # continue if this is the start stint of the strategy list (i.e. no real pit stop)\n",
    "        if cur_inlap == 0\n",
    "            continue\n",
    "        end\n",
    "\n",
    "        # pit losses (inlap) -------------------------------------------------------------------------------------------\n",
    "        t_pit_inlap = 0.0\n",
    "\n",
    "        # consider standstill time\n",
    "        if !pits_aft_finishline\n",
    "            t_pit_inlap += t_pit_tirechange\n",
    "        end\n",
    "        # pit driving (inlap)\n",
    "        t_pit_inlap += t_pitdrive_inlap\n",
    "\n",
    "        # add pit stop loss to t_laps_pit\n",
    "        t_laps_pit[cur_inlap] += t_pit_inlap\n",
    "\n",
    "        # pit losses (outlap) ------------------------------------------------------------------------------------------\n",
    "        # continue if inlap was the last lap of the race and therefore outlap is not driven anymore\n",
    "        if cur_inlap >= tot_no_laps\n",
    "            continue\n",
    "        end\n",
    "\n",
    "        t_pit_outlap = 0.0\n",
    "\n",
    "        # consider standstill time\n",
    "        if pits_aft_finishline\n",
    "            t_pit_outlap += t_pit_tirechange\n",
    "        end\n",
    "\n",
    "        # pit driving (outlap)\n",
    "\n",
    "        t_pit_outlap += t_pitdrive_outlap\n",
    "\n",
    "        # add pit stop loss to t_laps_pit\n",
    "        t_laps_pit[cur_inlap+1] += t_pit_outlap\n",
    "    end\n",
    "\n",
    "    # ------------------------------------------------------------------------------------------------------------------\n",
    "    # CALCULATE LAPWISE RACE TIMES -------------------------------------------------------------------------------------\n",
    "    # ------------------------------------------------------------------------------------------------------------------\n",
    "\n",
    "    t_race_lapwise = cumsum(t_laps + t_laps_pit)\n",
    "\n",
    "    return t_race_lapwise\n",
    "    #return t_race_lapwise[end]\n",
    "end\n"
   ]
  },
  {
   "cell_type": "code",
   "execution_count": 200,
   "metadata": {},
   "outputs": [
    {
     "data": {
      "text/plain": [
       "3-element Vector{Vector{Any}}:\n",
       " [0, \"medium\", 5]\n",
       " [5, \"soft\", 10]\n",
       " [50, \"hard\", 5]"
      ]
     },
     "execution_count": 200,
     "metadata": {},
     "output_type": "execute_result"
    }
   ],
   "source": [
    "race_strat = [[0,\"medium\",5],[5,\"soft\",10],[50,\"hard\",5]]"
   ]
  },
  {
   "cell_type": "code",
   "execution_count": 201,
   "metadata": {},
   "outputs": [
    {
     "data": {
      "text/plain": [
       "70-element Vector{Float64}:\n",
       "  102.89999999999999\n",
       "  186.80329\n",
       "  270.70986999999997\n",
       "  354.61974\n",
       "  441.5329\n",
       "  545.6131027074705\n",
       "  629.7926089612554\n",
       "  714.0820059380364\n",
       "  798.4926484714213\n",
       "  883.0367147133506\n",
       "  967.7272658314138\n",
       " 1052.5783100347069\n",
       " 1137.60487124209\n",
       "    ⋮\n",
       " 5485.813471540033\n",
       " 5567.157581540033\n",
       " 5648.454981540033\n",
       " 5729.705671540033\n",
       " 5810.909651540033\n",
       " 5892.066921540033\n",
       " 5973.177481540033\n",
       " 6054.241331540034\n",
       " 6135.2584715400335\n",
       " 6216.228901540034\n",
       " 6297.152621540034\n",
       " 6378.029631540034"
      ]
     },
     "execution_count": 201,
     "metadata": {},
     "output_type": "execute_result"
    }
   ],
   "source": [
    "test1 = calc_racetimes_basic(;t_base=80, tot_no_laps=70, t_lap_sens_mass=.03, t_pitdrive_inlap=3, t_pitdrive_outlap=16, t_pit_tirechange=3, cold_tire_pen=1.0,\n",
    "pits_aft_finishline= true, p_grid=5, t_loss_firstlap=10, t_loss_pergridpos=2, strategy=race_strat, m_fuel_init=110, b_fuel_perlap=1.557)"
   ]
  }
 ],
 "metadata": {
  "kernelspec": {
   "display_name": "Julia 1.8.4",
   "language": "julia",
   "name": "julia-1.8"
  },
  "language_info": {
   "file_extension": ".jl",
   "mimetype": "application/julia",
   "name": "julia",
   "version": "1.8.4"
  },
  "orig_nbformat": 4,
  "vscode": {
   "interpreter": {
    "hash": "59c8a934bdf8037ca099fa4bd05a14a6bc90455c61c1dd474a27b6f68485c476"
   }
  }
 },
 "nbformat": 4,
 "nbformat_minor": 2
}

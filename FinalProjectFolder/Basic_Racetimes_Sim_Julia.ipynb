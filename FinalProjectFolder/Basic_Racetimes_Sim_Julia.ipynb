{
 "cells": [
  {
   "cell_type": "code",
   "execution_count": 1,
   "metadata": {},
   "outputs": [],
   "source": [
    "using DataFrames"
   ]
  },
  {
   "cell_type": "code",
   "execution_count": 2,
   "metadata": {},
   "outputs": [
    {
     "data": {
      "text/plain": [
       "calc_racetimes_basic (generic function with 1 method)"
      ]
     },
     "execution_count": 2,
     "metadata": {},
     "output_type": "execute_result"
    }
   ],
   "source": [
    "include(\"./tire_deg.jl\")\n",
    "\n",
    "function calc_racetimes_basic(;t_base:: Union{Float64,Int},\n",
    "    tot_no_laps:: Union{Float64,Int},\n",
    "    t_lap_sens_mass:: Float64,\n",
    "    t_pitdrive_inlap:: Union{Float64,Int},\n",
    "    t_pitdrive_outlap:: Union{Float64,Int},\n",
    "    t_pit_tirechange:: Union{Float64,Int},\n",
    "    pits_aft_finishline:: Bool,\n",
    "    cold_tire_pen:: Union{Float64,Int},\n",
    "    p_grid:: Int,\n",
    "    t_loss_pergridpos:: Union{Float64,Int},\n",
    "    t_loss_firstlap:: Union{Float64,Int},\n",
    "    strategy:: Vector{Vector{Any}},\n",
    "    m_fuel_init:: Union{Float64,Int},\n",
    "    b_fuel_perlap:: Float64)\n",
    "\n",
    "    # ------------------------------------------------------------------------------------------------------------------\n",
    "    # PREPARATIONS -----------------------------------------------------------------------------------------------------\n",
    "    # ------------------------------------------------------------------------------------------------------------------\n",
    "\n",
    "    length(strategy) == 0 && error(\"Start compound information must be provided\")\n",
    "    length(strategy) == 1 && error(\"There is no pitstop given in the strategy data. Cars must pit at least once\")\n",
    "    0 in [length(x) == 3 for x in strategy] && error(\"Inserted strategy data does not contain [inlap, compound, age] for all pit stops!\")\n",
    "    \n",
    "    #make sure strategy pit stops are in sequential order\n",
    "    pit_order = [x[1] for x in strategy]\n",
    "    for x in length(pit_order)-1\n",
    "        if pit_order[x] >= pit_order[x+1]\n",
    "            error(\"The given inlaps are not sorted in a rising order!\")\n",
    "        end\n",
    "    end\n",
    "\n",
    "    # ------------------------------------------------------------------------------------------------------------------\n",
    "    # CONSIDER BASE LAP TIME, FUEL MASS LOSS AND RACE START ------------------------------------------------------------\n",
    "    # ------------------------------------------------------------------------------------------------------------------\n",
    "\n",
    "    # set base lap time\n",
    "    t_laps = vec(ones(1, tot_no_laps) .* t_base)\n",
    "\n",
    "    # add fuel mass time loss for every lap (considered with fuel mass at start of respective lap)\n",
    "    t_laps += (m_fuel_init .- b_fuel_perlap .* [0:1:tot_no_laps-1;]) .* t_lap_sens_mass\n",
    "\n",
    "    #add race start losses\n",
    "    t_laps[1] += t_loss_firstlap + (p_grid - 1) * t_loss_pergridpos\n",
    "\n",
    "    # ------------------------------------------------------------------------------------------------------------------\n",
    "    # CONSIDER TIRE DEGRADATION ----------------------------------------------------------------------------------------\n",
    "    # ------------------------------------------------------------------------------------------------------------------\n",
    "\n",
    "    # loop through all the pit stops\n",
    "    for idx in 1:length(strategy)\n",
    "        cur_inlap = strategy[idx][1]\n",
    "    \n",
    "        # get current stint length\n",
    "        if idx  < length(strategy)\n",
    "            len_cur_stint = strategy[idx + 1][1] - cur_inlap\n",
    "        else\n",
    "            len_cur_stint = tot_no_laps - cur_inlap\n",
    "        end\n",
    "\n",
    "        # get compound until current pitstop\n",
    "        comp_cur_stint = strategy[idx][2]\n",
    "\n",
    "        # get tire age at the beginning of this stint\n",
    "        age_cur_stint = strategy[idx][3]\n",
    "\n",
    "        # add tire losses (degradation considered on basis of the tire age at the start of a lap)\n",
    "        t_laps[cur_inlap+1:cur_inlap + len_cur_stint] += tire_deg.calc_tire_degradation(;tire_age_start=age_cur_stint,stint_length=len_cur_stint,compound=comp_cur_stint)\n",
    "\n",
    "        # consider cold tires in the first lap of a stint (if inlap is not the last lap of the race)\n",
    "        if cur_inlap < tot_no_laps\n",
    "            t_laps[cur_inlap+1] += cold_tire_pen\n",
    "        end\n",
    "    end\n",
    "\n",
    "    # ------------------------------------------------------------------------------------------------------------------\n",
    "    # CONSIDER PIT STOPS -----------------------------------------------------------------------------------------------\n",
    "    # ------------------------------------------------------------------------------------------------------------------\n",
    "\n",
    "    # create array which is not affected by FCY phases afterwards\n",
    "    t_laps_pit = vec(zeros(1,tot_no_laps))\n",
    "\n",
    "\n",
    "    # loop through all the pit stops -----------------------------------------------------------------------------------\n",
    "    for idx in 1:length(strategy)\n",
    "        cur_inlap = strategy[idx][1]\n",
    "\n",
    "        # continue if this is the start stint of the strategy list (i.e. no real pit stop)\n",
    "        if cur_inlap == 0\n",
    "            continue\n",
    "        end\n",
    "\n",
    "        # pit losses (inlap) -------------------------------------------------------------------------------------------\n",
    "        t_pit_inlap = 0.0\n",
    "\n",
    "        # consider standstill time\n",
    "        if !pits_aft_finishline\n",
    "            t_pit_inlap += t_pit_tirechange\n",
    "        end\n",
    "        # pit driving (inlap)\n",
    "        t_pit_inlap += t_pitdrive_inlap\n",
    "\n",
    "        # add pit stop loss to t_laps_pit\n",
    "        t_laps_pit[cur_inlap] += t_pit_inlap\n",
    "\n",
    "        # pit losses (outlap) ------------------------------------------------------------------------------------------\n",
    "        # continue if inlap was the last lap of the race and therefore outlap is not driven anymore\n",
    "        if cur_inlap >= tot_no_laps\n",
    "            continue\n",
    "        end\n",
    "\n",
    "        t_pit_outlap = 0.0\n",
    "\n",
    "        # consider standstill time\n",
    "        if pits_aft_finishline\n",
    "            t_pit_outlap += t_pit_tirechange\n",
    "        end\n",
    "\n",
    "        # pit driving (outlap)\n",
    "\n",
    "        t_pit_outlap += t_pitdrive_outlap\n",
    "\n",
    "        # add pit stop loss to t_laps_pit\n",
    "        t_laps_pit[cur_inlap+1] += t_pit_outlap\n",
    "    end\n",
    "\n",
    "    # ------------------------------------------------------------------------------------------------------------------\n",
    "    # CALCULATE LAPWISE RACE TIMES -------------------------------------------------------------------------------------\n",
    "    # ------------------------------------------------------------------------------------------------------------------\n",
    "\n",
    "    t_race_lapwise = cumsum(t_laps + t_laps_pit)\n",
    "\n",
    "    #return t_race_lapwise\n",
    "    return t_race_lapwise[end]\n",
    "end\n"
   ]
  },
  {
   "cell_type": "code",
   "execution_count": 3,
   "metadata": {},
   "outputs": [
    {
     "data": {
      "text/plain": [
       "3-element Vector{Vector{Vector{Any}}}:\n",
       " [[0, \"soft\", 5], [20, \"soft\", 10], [40, \"soft\", 5], [55, \"soft\", 0]]\n",
       " [[0, \"medium\", 5], [5, \"soft\", 10], [60, \"hard\", 5]]\n",
       " [[0, \"hard\", 2], [35, \"medium\", 5]]"
      ]
     },
     "execution_count": 3,
     "metadata": {},
     "output_type": "execute_result"
    }
   ],
   "source": [
    "race_strat = [[[0,\"soft\",5],[20,\"soft\",10],[40,\"soft\",5],[55,\"soft\",0]],[[0,\"medium\",5],[5,\"soft\",10],[60,\"hard\",5]],[[0,\"hard\",2],[35,\"medium\",5]]]"
   ]
  },
  {
   "cell_type": "code",
   "execution_count": 4,
   "metadata": {},
   "outputs": [
    {
     "data": {
      "text/plain": [
       "1.557"
      ]
     },
     "execution_count": 4,
     "metadata": {},
     "output_type": "execute_result"
    }
   ],
   "source": [
    "t_base=80\n",
    "tot_no_laps=70\n",
    "t_lap_sens_mass=.03\n",
    "t_pitdrive_inlap=3\n",
    "t_pitdrive_outlap=16\n",
    "t_pit_tirechange=3\n",
    "cold_tire_pen=1.0\n",
    "pits_aft_finishline= true\n",
    "p_grid=5\n",
    "t_loss_firstlap=10\n",
    "t_loss_pergridpos=2\n",
    "strategy=race_strat\n",
    "m_fuel_init=110\n",
    "b_fuel_perlap=1.557"
   ]
  },
  {
   "cell_type": "code",
   "execution_count": 5,
   "metadata": {},
   "outputs": [
    {
     "data": {
      "text/html": [
       "<div><div style = \"float: left;\"><span>3×2 DataFrame</span></div><div style = \"clear: both;\"></div></div><div class = \"data-frame\" style = \"overflow-x: scroll;\"><table class = \"data-frame\" style = \"margin-bottom: 6px;\"><thead><tr class = \"header\"><th class = \"rowNumber\" style = \"font-weight: bold; text-align: right;\">Row</th><th style = \"text-align: left;\">Race_Strategy</th><th style = \"text-align: left;\">Race_Time</th></tr><tr class = \"subheader headerLastRow\"><th class = \"rowNumber\" style = \"font-weight: bold; text-align: right;\"></th><th title = \"Vector\" style = \"text-align: left;\">Vector</th><th title = \"Float64\" style = \"text-align: left;\">Float64</th></tr></thead><tbody><tr><td class = \"rowNumber\" style = \"font-weight: bold; text-align: right;\">1</td><td style = \"text-align: left;\">Vector{Any}[[0, &quot;hard&quot;, 2], [35, &quot;medium&quot;, 5]]</td><td style = \"text-align: right;\">5838.95</td></tr><tr><td class = \"rowNumber\" style = \"font-weight: bold; text-align: right;\">2</td><td style = \"text-align: left;\">Vector{Any}[[0, &quot;soft&quot;, 5], [20, &quot;soft&quot;, 10], [40, &quot;soft&quot;, 5], [55, &quot;soft&quot;, 0]]</td><td style = \"text-align: right;\">5942.82</td></tr><tr><td class = \"rowNumber\" style = \"font-weight: bold; text-align: right;\">3</td><td style = \"text-align: left;\">Vector{Any}[[0, &quot;medium&quot;, 5], [5, &quot;soft&quot;, 10], [60, &quot;hard&quot;, 5]]</td><td style = \"text-align: right;\">7017.05</td></tr></tbody></table></div>"
      ],
      "text/latex": [
       "\\begin{tabular}{r|cc}\n",
       "\t& Race\\_Strategy & Race\\_Time\\\\\n",
       "\t\\hline\n",
       "\t& Vector & Float64\\\\\n",
       "\t\\hline\n",
       "\t1 & [[0, \"hard\", 2], [35, \"medium\", 5]] & 5838.95 \\\\\n",
       "\t2 & [[0, \"soft\", 5], [20, \"soft\", 10], [40, \"soft\", 5], [55, \"soft\", 0]] & 5942.82 \\\\\n",
       "\t3 & [[0, \"medium\", 5], [5, \"soft\", 10], [60, \"hard\", 5]] & 7017.05 \\\\\n",
       "\\end{tabular}\n"
      ],
      "text/plain": [
       "\u001b[1m3×2 DataFrame\u001b[0m\n",
       "\u001b[1m Row \u001b[0m│\u001b[1m Race_Strategy                     \u001b[0m\u001b[1m Race_Time \u001b[0m\n",
       "     │\u001b[90m Vector                            \u001b[0m\u001b[90m Float64   \u001b[0m\n",
       "─────┼──────────────────────────────────────────────\n",
       "   1 │ Vector{Any}[[0, \"hard\", 2], [35,…    5838.95\n",
       "   2 │ Vector{Any}[[0, \"soft\", 5], [20,…    5942.82\n",
       "   3 │ Vector{Any}[[0, \"medium\", 5], [5…    7017.05"
      ]
     },
     "execution_count": 5,
     "metadata": {},
     "output_type": "execute_result"
    }
   ],
   "source": [
    "df = DataFrame(Race_Strategy = Vector[], Race_Time = Float64[])\n",
    "for i in 1:length(race_strat)\n",
    "    timer = calc_racetimes_basic(;t_base=t_base, \n",
    "                                tot_no_laps=tot_no_laps, \n",
    "                                t_lap_sens_mass=t_lap_sens_mass, \n",
    "                                t_pitdrive_inlap=t_pitdrive_inlap, \n",
    "                                t_pitdrive_outlap=t_pitdrive_outlap, \n",
    "                                t_pit_tirechange=t_pit_tirechange, \n",
    "                                cold_tire_pen=cold_tire_pen,\n",
    "                                pits_aft_finishline= pits_aft_finishline, \n",
    "                                p_grid=p_grid, \n",
    "                                t_loss_firstlap=t_loss_firstlap, \n",
    "                                t_loss_pergridpos=t_loss_pergridpos, \n",
    "                                strategy=race_strat[i], \n",
    "                                m_fuel_init=m_fuel_init, \n",
    "                                b_fuel_perlap=b_fuel_perlap)\n",
    "    push!(df, [race_strat[i], timer])\n",
    "end\n",
    "\n",
    "return sort!(df, :Race_Time)\n"
   ]
  }
 ],
 "metadata": {
  "kernelspec": {
   "display_name": "Julia 1.8.4",
   "language": "julia",
   "name": "julia-1.8"
  },
  "language_info": {
   "file_extension": ".jl",
   "mimetype": "application/julia",
   "name": "julia",
   "version": "1.8.4"
  },
  "orig_nbformat": 4,
  "vscode": {
   "interpreter": {
    "hash": "59c8a934bdf8037ca099fa4bd05a14a6bc90455c61c1dd474a27b6f68485c476"
   }
  }
 },
 "nbformat": 4,
 "nbformat_minor": 2
}
